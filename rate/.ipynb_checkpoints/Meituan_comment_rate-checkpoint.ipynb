{
 "cells": [
  {
   "cell_type": "markdown",
   "metadata": {
    "id": "6nD5S9lyJH9e"
   },
   "source": [
    "# Rate Sentiment Analysis"
   ]
  },
  {
   "cell_type": "markdown",
   "metadata": {
    "id": "Xn4nnhm-JNEW"
   },
   "source": [
    "## Dependencies"
   ]
  },
  {
   "cell_type": "code",
   "execution_count": 1,
   "metadata": {
    "ExecuteTime": {
     "end_time": "2023-03-22T17:59:39.502655Z",
     "start_time": "2023-03-22T17:59:24.681445Z"
    },
    "colab": {
     "base_uri": "https://localhost:8080/"
    },
    "id": "3HxjovET6uiX",
    "outputId": "feca4f86-1d02-4fea-cddc-88ae18af47ed",
    "scrolled": true
   },
   "outputs": [
    {
     "name": "stdout",
     "output_type": "stream",
     "text": [
      "Looking in indexes: https://pypi.tuna.tsinghua.edu.cn/simple\n",
      "Requirement already satisfied: ktrain in c:\\users\\miugrey\\anaconda3\\lib\\site-packages (0.33.2)\n",
      "Requirement already satisfied: matplotlib>=3.0.0 in c:\\users\\miugrey\\anaconda3\\lib\\site-packages (from ktrain) (3.7.1)\n",
      "Requirement already satisfied: scikit-learn in c:\\users\\miugrey\\anaconda3\\lib\\site-packages (from ktrain) (1.0.2)\n",
      "Requirement already satisfied: packaging in c:\\users\\miugrey\\anaconda3\\lib\\site-packages (from ktrain) (23.0)\n",
      "Requirement already satisfied: requests in c:\\users\\miugrey\\anaconda3\\lib\\site-packages (from ktrain) (2.28.1)\n",
      "Requirement already satisfied: syntok>1.3.3 in c:\\users\\miugrey\\anaconda3\\lib\\site-packages (from ktrain) (1.4.4)\n",
      "Requirement already satisfied: sentencepiece in c:\\users\\miugrey\\anaconda3\\lib\\site-packages (from ktrain) (0.1.97)\n",
      "Requirement already satisfied: langdetect in c:\\users\\miugrey\\anaconda3\\lib\\site-packages (from ktrain) (1.0.9)\n",
      "Requirement already satisfied: jieba in c:\\users\\miugrey\\anaconda3\\lib\\site-packages (from ktrain) (0.42.1)\n",
      "Requirement already satisfied: fastprogress>=0.1.21 in c:\\users\\miugrey\\anaconda3\\lib\\site-packages (from ktrain) (1.0.3)\n",
      "Requirement already satisfied: joblib in c:\\users\\miugrey\\anaconda3\\lib\\site-packages (from ktrain) (1.2.0)\n",
      "Requirement already satisfied: cchardet in c:\\users\\miugrey\\anaconda3\\lib\\site-packages (from ktrain) (2.1.7)\n",
      "Requirement already satisfied: pandas>=1.0.1 in c:\\users\\miugrey\\anaconda3\\lib\\site-packages (from ktrain) (1.5.3)\n",
      "Requirement already satisfied: chardet in c:\\users\\miugrey\\anaconda3\\lib\\site-packages (from ktrain) (4.0.0)\n",
      "Requirement already satisfied: transformers>=4.17.0 in c:\\users\\miugrey\\anaconda3\\lib\\site-packages (from ktrain) (4.26.1)\n",
      "Requirement already satisfied: keras-bert>=0.86.0 in c:\\users\\miugrey\\anaconda3\\lib\\site-packages (from ktrain) (0.89.0)\n",
      "Requirement already satisfied: whoosh in c:\\users\\miugrey\\anaconda3\\lib\\site-packages (from ktrain) (2.7.4)\n",
      "Requirement already satisfied: numpy in c:\\users\\miugrey\\anaconda3\\lib\\site-packages (from keras-bert>=0.86.0->ktrain) (1.24.2)\n",
      "Requirement already satisfied: keras-transformer==0.40.0 in c:\\users\\miugrey\\anaconda3\\lib\\site-packages (from keras-bert>=0.86.0->ktrain) (0.40.0)\n",
      "Requirement already satisfied: keras-pos-embd==0.13.0 in c:\\users\\miugrey\\anaconda3\\lib\\site-packages (from keras-transformer==0.40.0->keras-bert>=0.86.0->ktrain) (0.13.0)\n",
      "Requirement already satisfied: keras-layer-normalization==0.16.0 in c:\\users\\miugrey\\anaconda3\\lib\\site-packages (from keras-transformer==0.40.0->keras-bert>=0.86.0->ktrain) (0.16.0)\n",
      "Requirement already satisfied: keras-position-wise-feed-forward==0.8.0 in c:\\users\\miugrey\\anaconda3\\lib\\site-packages (from keras-transformer==0.40.0->keras-bert>=0.86.0->ktrain) (0.8.0)\n",
      "Requirement already satisfied: keras-multi-head==0.29.0 in c:\\users\\miugrey\\anaconda3\\lib\\site-packages (from keras-transformer==0.40.0->keras-bert>=0.86.0->ktrain) (0.29.0)\n",
      "Requirement already satisfied: keras-embed-sim==0.10.0 in c:\\users\\miugrey\\anaconda3\\lib\\site-packages (from keras-transformer==0.40.0->keras-bert>=0.86.0->ktrain) (0.10.0)\n",
      "Requirement already satisfied: keras-self-attention==0.51.0 in c:\\users\\miugrey\\anaconda3\\lib\\site-packages (from keras-multi-head==0.29.0->keras-transformer==0.40.0->keras-bert>=0.86.0->ktrain) (0.51.0)\n",
      "Requirement already satisfied: python-dateutil>=2.7 in c:\\users\\miugrey\\anaconda3\\lib\\site-packages (from matplotlib>=3.0.0->ktrain) (2.8.2)\n",
      "Requirement already satisfied: pyparsing>=2.3.1 in c:\\users\\miugrey\\anaconda3\\lib\\site-packages (from matplotlib>=3.0.0->ktrain) (3.0.9)\n",
      "Requirement already satisfied: cycler>=0.10 in c:\\users\\miugrey\\anaconda3\\lib\\site-packages (from matplotlib>=3.0.0->ktrain) (0.11.0)\n",
      "Requirement already satisfied: contourpy>=1.0.1 in c:\\users\\miugrey\\anaconda3\\lib\\site-packages (from matplotlib>=3.0.0->ktrain) (1.0.5)\n",
      "Requirement already satisfied: kiwisolver>=1.0.1 in c:\\users\\miugrey\\anaconda3\\lib\\site-packages (from matplotlib>=3.0.0->ktrain) (1.4.4)\n",
      "Requirement already satisfied: pillow>=6.2.0 in c:\\users\\miugrey\\anaconda3\\lib\\site-packages (from matplotlib>=3.0.0->ktrain) (9.4.0)\n",
      "Requirement already satisfied: fonttools>=4.22.0 in c:\\users\\miugrey\\anaconda3\\lib\\site-packages (from matplotlib>=3.0.0->ktrain) (4.25.0)\n",
      "Requirement already satisfied: importlib-resources>=3.2.0 in c:\\users\\miugrey\\anaconda3\\lib\\site-packages (from matplotlib>=3.0.0->ktrain) (5.2.0)\n",
      "Requirement already satisfied: pytz>=2020.1 in c:\\users\\miugrey\\anaconda3\\lib\\site-packages (from pandas>=1.0.1->ktrain) (2022.7)\n",
      "Requirement already satisfied: regex>2016 in c:\\users\\miugrey\\anaconda3\\lib\\site-packages (from syntok>1.3.3->ktrain) (2022.7.9)\n",
      "Requirement already satisfied: tokenizers!=0.11.3,<0.14,>=0.11.1 in c:\\users\\miugrey\\anaconda3\\lib\\site-packages (from transformers>=4.17.0->ktrain) (0.13.2)\n",
      "Requirement already satisfied: tqdm>=4.27 in c:\\users\\miugrey\\anaconda3\\lib\\site-packages (from transformers>=4.17.0->ktrain) (4.64.1)\n",
      "Requirement already satisfied: huggingface-hub<1.0,>=0.11.0 in c:\\users\\miugrey\\anaconda3\\lib\\site-packages (from transformers>=4.17.0->ktrain) (0.12.1)\n",
      "Requirement already satisfied: filelock in c:\\users\\miugrey\\anaconda3\\lib\\site-packages (from transformers>=4.17.0->ktrain) (3.9.0)\n",
      "Requirement already satisfied: pyyaml>=5.1 in c:\\users\\miugrey\\anaconda3\\lib\\site-packages (from transformers>=4.17.0->ktrain) (6.0)\n",
      "Requirement already satisfied: six in c:\\users\\miugrey\\anaconda3\\lib\\site-packages (from langdetect->ktrain) (1.16.0)\n",
      "Requirement already satisfied: certifi>=2017.4.17 in c:\\users\\miugrey\\anaconda3\\lib\\site-packages (from requests->ktrain) (2022.12.7)\n",
      "Requirement already satisfied: idna<4,>=2.5 in c:\\users\\miugrey\\anaconda3\\lib\\site-packages (from requests->ktrain) (3.4)\n",
      "Requirement already satisfied: urllib3<1.27,>=1.21.1 in c:\\users\\miugrey\\anaconda3\\lib\\site-packages (from requests->ktrain) (1.26.14)\n",
      "Requirement already satisfied: charset-normalizer<3,>=2 in c:\\users\\miugrey\\anaconda3\\lib\\site-packages (from requests->ktrain) (2.0.4)\n",
      "Requirement already satisfied: threadpoolctl>=2.0.0 in c:\\users\\miugrey\\anaconda3\\lib\\site-packages (from scikit-learn->ktrain) (2.2.0)\n",
      "Requirement already satisfied: scipy>=1.1.0 in c:\\users\\miugrey\\anaconda3\\lib\\site-packages (from scikit-learn->ktrain) (1.10.1)\n",
      "Requirement already satisfied: typing-extensions>=3.7.4.3 in c:\\users\\miugrey\\anaconda3\\lib\\site-packages (from huggingface-hub<1.0,>=0.11.0->transformers>=4.17.0->ktrain) (4.4.0)\n",
      "Requirement already satisfied: zipp>=3.1.0 in c:\\users\\miugrey\\anaconda3\\lib\\site-packages (from importlib-resources>=3.2.0->matplotlib>=3.0.0->ktrain) (3.15.0)\n",
      "Requirement already satisfied: colorama in c:\\users\\miugrey\\anaconda3\\lib\\site-packages (from tqdm>=4.27->transformers>=4.17.0->ktrain) (0.4.6)\n",
      "Looking in indexes: https://pypi.tuna.tsinghua.edu.cn/simple\n",
      "Collecting https://github.com/amaiya/eli5-tf/archive/refs/heads/master.zip\n",
      "  Downloading https://github.com/amaiya/eli5-tf/archive/refs/heads/master.zip\n",
      "     - 0 bytes ? 0:00:00\n",
      "     - 11.7 kB ? 0:00:00\n",
      "     \\ 29.0 kB 344.9 kB/s 0:00:00\n",
      "     \\ 57.8 kB 445.3 kB/s 0:00:00\n",
      "     | 97.4 kB 557.0 kB/s 0:00:00\n",
      "     | 139.1 kB 628.5 kB/s 0:00:00\n",
      "     / 231.2 kB 815.3 kB/s 0:00:00\n",
      "     / 357.7 kB 1.1 MB/s 0:00:00\n",
      "     - 486.2 kB 1.3 MB/s 0:00:00\n",
      "     - 595.4 kB 1.5 MB/s 0:00:00\n",
      "     \\ 706.5 kB 1.5 MB/s 0:00:00\n",
      "     \\ 826.5 kB 1.6 MB/s 0:00:00\n",
      "     | 964.9 kB 1.7 MB/s 0:00:00\n",
      "     / 1.1 MB 1.8 MB/s 0:00:00\n",
      "     / 1.3 MB 1.9 MB/s 0:00:00\n",
      "     - 1.4 MB 2.0 MB/s 0:00:00\n",
      "     - 1.5 MB 2.0 MB/s 0:00:00\n",
      "     \\ 1.7 MB 2.1 MB/s 0:00:00\n",
      "     \\ 1.8 MB 2.2 MB/s 0:00:00\n",
      "     | 2.0 MB 2.2 MB/s 0:00:00\n",
      "     | 2.1 MB 2.2 MB/s 0:00:00\n",
      "     / 2.2 MB 2.2 MB/s 0:00:00\n",
      "     / 2.3 MB 2.2 MB/s 0:00:01\n",
      "     - 2.4 MB 2.2 MB/s 0:00:01\n",
      "     - 2.5 MB 2.2 MB/s 0:00:01\n",
      "     \\ 2.6 MB 2.2 MB/s 0:00:01\n",
      "     | 2.8 MB 2.3 MB/s 0:00:01\n",
      "     | 2.9 MB 2.3 MB/s 0:00:01\n",
      "     / 3.0 MB 2.3 MB/s 0:00:01\n",
      "     / 3.2 MB 2.3 MB/s 0:00:01\n",
      "     - 3.3 MB 2.3 MB/s 0:00:01\n",
      "     - 3.4 MB 2.4 MB/s 0:00:01\n",
      "     \\ 3.5 MB 2.4 MB/s 0:00:01\n",
      "     \\ 3.7 MB 2.4 MB/s 0:00:01\n",
      "     | 3.8 MB 2.4 MB/s 0:00:01\n",
      "     | 4.0 MB 2.4 MB/s 0:00:01\n",
      "     / 4.1 MB 2.4 MB/s 0:00:01\n",
      "     - 4.2 MB 2.4 MB/s 0:00:01\n",
      "     - 4.4 MB 2.4 MB/s 0:00:01\n",
      "     \\ 4.5 MB 2.5 MB/s 0:00:01\n",
      "     \\ 4.6 MB 2.5 MB/s 0:00:01\n",
      "     | 4.8 MB 2.5 MB/s 0:00:01\n",
      "     | 4.9 MB 2.5 MB/s 0:00:01\n",
      "     / 5.0 MB 2.5 MB/s 0:00:02\n",
      "     / 5.2 MB 2.5 MB/s 0:00:02\n",
      "     - 5.3 MB 2.5 MB/s 0:00:02\n",
      "     - 5.4 MB 2.5 MB/s 0:00:02\n",
      "     \\ 5.6 MB 2.5 MB/s 0:00:02\n",
      "     \\ 5.7 MB 2.5 MB/s 0:00:02\n",
      "     | 5.8 MB 2.6 MB/s 0:00:02\n",
      "     / 6.0 MB 2.6 MB/s 0:00:02\n",
      "     / 6.1 MB 2.6 MB/s 0:00:02\n",
      "     - 6.3 MB 2.6 MB/s 0:00:02\n",
      "     - 6.4 MB 2.6 MB/s 0:00:02\n",
      "     \\ 6.6 MB 2.6 MB/s 0:00:02\n",
      "     \\ 6.7 MB 2.6 MB/s 0:00:02\n",
      "     | 6.9 MB 2.6 MB/s 0:00:02\n",
      "     | 6.9 MB 2.6 MB/s 0:00:02\n",
      "  Preparing metadata (setup.py): started\n",
      "  Preparing metadata (setup.py): finished with status 'done'\n",
      "Requirement already satisfied: attrs>17.1.0 in c:\\users\\miugrey\\anaconda3\\lib\\site-packages (from eli5==0.13.0) (22.2.0)\n",
      "Requirement already satisfied: jinja2>=3.0.0 in c:\\users\\miugrey\\anaconda3\\lib\\site-packages (from eli5==0.13.0) (3.1.2)\n",
      "Requirement already satisfied: numpy>=1.9.0 in c:\\users\\miugrey\\anaconda3\\lib\\site-packages (from eli5==0.13.0) (1.24.2)\n",
      "Requirement already satisfied: scipy in c:\\users\\miugrey\\anaconda3\\lib\\site-packages (from eli5==0.13.0) (1.10.1)\n",
      "Requirement already satisfied: six in c:\\users\\miugrey\\anaconda3\\lib\\site-packages (from eli5==0.13.0) (1.16.0)\n",
      "Requirement already satisfied: scikit-learn>=0.20 in c:\\users\\miugrey\\anaconda3\\lib\\site-packages (from eli5==0.13.0) (1.0.2)\n",
      "Requirement already satisfied: graphviz in c:\\users\\miugrey\\anaconda3\\lib\\site-packages (from eli5==0.13.0) (0.20.1)\n",
      "Requirement already satisfied: tabulate>=0.7.7 in c:\\users\\miugrey\\anaconda3\\lib\\site-packages (from eli5==0.13.0) (0.8.10)\n",
      "Requirement already satisfied: MarkupSafe>=2.0 in c:\\users\\miugrey\\anaconda3\\lib\\site-packages (from jinja2>=3.0.0->eli5==0.13.0) (2.1.2)\n",
      "Requirement already satisfied: threadpoolctl>=2.0.0 in c:\\users\\miugrey\\anaconda3\\lib\\site-packages (from scikit-learn>=0.20->eli5==0.13.0) (2.2.0)\n",
      "Requirement already satisfied: joblib>=0.11 in c:\\users\\miugrey\\anaconda3\\lib\\site-packages (from scikit-learn>=0.20->eli5==0.13.0) (1.2.0)\n"
     ]
    }
   ],
   "source": [
    "!pip install ktrain\n",
    "!pip install https://github.com/amaiya/eli5-tf/archive/refs/heads/master.zip"
   ]
  },
  {
   "cell_type": "code",
   "execution_count": 2,
   "metadata": {
    "ExecuteTime": {
     "end_time": "2023-03-22T17:59:43.649977Z",
     "start_time": "2023-03-22T17:59:39.504639Z"
    },
    "id": "X-IAR3sl65Js",
    "scrolled": true
   },
   "outputs": [],
   "source": [
    "import tensorflow as tf\n",
    "import pandas as pd\n",
    "import numpy as np\n",
    "import ktrain\n",
    "import eli5\n",
    "import jieba\n",
    "from ktrain import text\n",
    "import matplotlib.pyplot as plt"
   ]
  },
  {
   "cell_type": "markdown",
   "metadata": {
    "id": "QhsvEQdAJYoW"
   },
   "source": [
    "## Data Preparation"
   ]
  },
  {
   "cell_type": "code",
   "execution_count": 3,
   "metadata": {
    "ExecuteTime": {
     "end_time": "2023-03-22T17:59:44.284867Z",
     "start_time": "2023-03-22T17:59:43.651977Z"
    },
    "id": "s04qHEWErVva"
   },
   "outputs": [],
   "source": [
    "data_train = pd.read_csv('datasets/train.csv')[['review','star']]\n",
    "data_test = pd.read_csv('datasets/test.csv')[['review','star']]\n",
    "data_val = pd.read_csv('datasets/dev.csv')[['review','star']]"
   ]
  },
  {
   "cell_type": "code",
   "execution_count": 4,
   "metadata": {
    "ExecuteTime": {
     "end_time": "2023-03-22T17:59:44.330870Z",
     "start_time": "2023-03-22T17:59:44.287871Z"
    },
    "id": "Tyw_9yKYu1Mz"
   },
   "outputs": [],
   "source": [
    "#构建label值\n",
    "def star2sen(score):\n",
    "    if score > 3:\n",
    "        return '1'\n",
    "    elif score == 3:\n",
    "        return None\n",
    "    elif score < 3:\n",
    "        return '-1'\n",
    "    else:\n",
    "        return None\n",
    "    \n",
    "#特征值转换\n",
    "data_train['sentiment'] = data_train['star'].map(lambda x: star2sen(x))\n",
    "data_train.dropna(inplace = True)\n",
    "data_val['sentiment'] = data_val['star'].map(lambda x: star2sen(x))\n",
    "data_val.dropna(inplace = True)\n",
    "data_test['sentiment'] = data_test['star'].map(lambda x: star2sen(x))\n",
    "data_test.dropna(inplace = True)"
   ]
  },
  {
   "cell_type": "markdown",
   "metadata": {
    "id": "Mjt-f-I0x38c"
   },
   "source": [
    "## LR"
   ]
  },
  {
   "cell_type": "markdown",
   "metadata": {
    "id": "QnHIxr_2x38c"
   },
   "source": [
    "### Tokenization & Vectorization"
   ]
  },
  {
   "cell_type": "code",
   "execution_count": 5,
   "metadata": {
    "ExecuteTime": {
     "end_time": "2023-03-22T17:59:44.345876Z",
     "start_time": "2023-03-22T17:59:44.332886Z"
    },
    "id": "mThbjjOyx38c"
   },
   "outputs": [],
   "source": [
    "#引入停用词\n",
    "infile = open(\"stopwords-zh.txt\",encoding='utf-8')\n",
    "stopwords_lst = infile.readlines()\n",
    "stopwords = [x.strip() for x in stopwords_lst]\n",
    "\n",
    "#中文分词\n",
    "def tokenization_dataset(train_data):\n",
    "    tokenized_df = train_data.apply(lambda x:' '.join(jieba.cut(x)))\n",
    "    return tokenized_df\n",
    "\n",
    "def tokenization_text(text):\n",
    "    tokenized_text = ' '.join(jieba.cut(text))\n",
    "    return tokenized_text"
   ]
  },
  {
   "cell_type": "code",
   "execution_count": 6,
   "metadata": {
    "ExecuteTime": {
     "end_time": "2023-03-22T18:00:32.594626Z",
     "start_time": "2023-03-22T17:59:44.347875Z"
    },
    "id": "AELc5xXLx38d"
   },
   "outputs": [
    {
     "name": "stderr",
     "output_type": "stream",
     "text": [
      "Building prefix dict from the default dictionary ...\n",
      "Loading model from cache C:\\Users\\miuGrey\\AppData\\Local\\Temp\\jieba.cache\n",
      "Loading model cost 0.557 seconds.\n",
      "Prefix dict has been built successfully.\n"
     ]
    }
   ],
   "source": [
    "x_train_lr = tokenization_dataset(data_train[\"review\"])\n",
    "y_train_lr = data_train['sentiment']\n",
    "x_val_lr = tokenization_dataset(data_val[\"review\"])\n",
    "y_val_lr = data_val['sentiment']\n",
    "x_test_lr = tokenization_dataset(data_test[\"review\"])\n",
    "y_test_lr = data_test['sentiment']"
   ]
  },
  {
   "cell_type": "code",
   "execution_count": 7,
   "metadata": {
    "ExecuteTime": {
     "end_time": "2023-03-22T18:00:35.130756Z",
     "start_time": "2023-03-22T18:00:32.596624Z"
    },
    "id": "Hgdk-Sv_x38d",
    "outputId": "cbd835c4-2bd2-48cb-fdf5-b272ee4a2d6c"
   },
   "outputs": [
    {
     "data": {
      "text/plain": [
       "TfidfVectorizer(lowercase=False, max_features=30000,\n",
       "                stop_words=['、', '。', '〈', '〉', '《', '》', '一', '一个', '一些', '一何',\n",
       "                            '一切', '一则', '一方面', '一旦', '一来', '一样', '一种', '一般',\n",
       "                            '一转眼', '七', '万一', '三', '上', '上下', '下', '不', '不仅',\n",
       "                            '不但', '不光', '不单', ...])"
      ]
     },
     "execution_count": 7,
     "metadata": {},
     "output_type": "execute_result"
    }
   ],
   "source": [
    "from sklearn.feature_extraction.text import TfidfVectorizer\n",
    "#使用tf-idf把文本转为向量\n",
    "tv = TfidfVectorizer(stop_words=stopwords, max_features=30000, lowercase = False)\n",
    "tv.fit(x_train_lr)"
   ]
  },
  {
   "cell_type": "markdown",
   "metadata": {
    "id": "KxuXmvY703eT"
   },
   "source": [
    "### Train"
   ]
  },
  {
   "cell_type": "code",
   "execution_count": 8,
   "metadata": {
    "ExecuteTime": {
     "end_time": "2023-03-22T18:00:38.320607Z",
     "start_time": "2023-03-22T18:00:35.132743Z"
    },
    "id": "2cHtw9Wux38d",
    "outputId": "3759cab9-6bf3-4949-862e-d5d605100d30"
   },
   "outputs": [
    {
     "data": {
      "text/plain": [
       "0.956929740134745"
      ]
     },
     "execution_count": 8,
     "metadata": {},
     "output_type": "execute_result"
    }
   ],
   "source": [
    "#LR\n",
    "from sklearn.linear_model import LogisticRegression\n",
    "model_lr = LogisticRegression(max_iter=10000)\n",
    "model_lr.fit(tv.transform(x_train_lr), y_train_lr)\n",
    "model_lr.score(tv.transform(x_val_lr), y_val_lr)"
   ]
  },
  {
   "cell_type": "markdown",
   "metadata": {
    "id": "QanjVbtrUg2k"
   },
   "source": [
    "### Evaluation for LR Model"
   ]
  },
  {
   "cell_type": "code",
   "execution_count": 9,
   "metadata": {
    "ExecuteTime": {
     "end_time": "2023-03-22T18:00:38.652133Z",
     "start_time": "2023-03-22T18:00:38.322603Z"
    },
    "id": "DIxLGlloW4ZY"
   },
   "outputs": [],
   "source": [
    "y_pred_lr = model_lr.predict(tv.transform(x_test_lr))"
   ]
  },
  {
   "cell_type": "code",
   "execution_count": 10,
   "metadata": {
    "ExecuteTime": {
     "end_time": "2023-03-22T18:00:38.731474Z",
     "start_time": "2023-03-22T18:00:38.655716Z"
    },
    "colab": {
     "base_uri": "https://localhost:8080/"
    },
    "id": "amqEeO1sYKIp",
    "outputId": "96fc7307-f883-4deb-a7d7-9ad6e6599f97"
   },
   "outputs": [
    {
     "name": "stdout",
     "output_type": "stream",
     "text": [
      "              precision    recall  f1-score   support\n",
      "\n",
      "          -1       0.98      0.49      0.65       338\n",
      "           1       0.96      1.00      0.98      3885\n",
      "\n",
      "    accuracy                           0.96      4223\n",
      "   macro avg       0.97      0.74      0.81      4223\n",
      "weighted avg       0.96      0.96      0.95      4223\n",
      "\n"
     ]
    }
   ],
   "source": [
    "# classification report\n",
    "from sklearn.metrics import classification_report\n",
    "print(classification_report(y_test_lr, y_pred_lr))"
   ]
  },
  {
   "cell_type": "code",
   "execution_count": 11,
   "metadata": {
    "ExecuteTime": {
     "end_time": "2023-03-22T18:00:38.747460Z",
     "start_time": "2023-03-22T18:00:38.733458Z"
    },
    "id": "PJt3-6h0XgDV",
    "outputId": "8a3c1bcf-8c93-41fa-ae5e-4370a1e60bef"
   },
   "outputs": [
    {
     "data": {
      "text/plain": [
       "array([[ 164,  174],\n",
       "       [   4, 3881]], dtype=int64)"
      ]
     },
     "execution_count": 11,
     "metadata": {},
     "output_type": "execute_result"
    }
   ],
   "source": [
    "# Confusion Matrix\n",
    "from sklearn.metrics import confusion_matrix\n",
    "confusion_matrix(y_test_lr, y_pred_lr)"
   ]
  },
  {
   "cell_type": "code",
   "execution_count": 12,
   "metadata": {
    "ExecuteTime": {
     "end_time": "2023-03-22T18:00:38.763463Z",
     "start_time": "2023-03-22T18:00:38.749461Z"
    },
    "id": "f9UNWfGwx38e",
    "scrolled": false
   },
   "outputs": [],
   "source": [
    "def lr_explain(model, sentence):\n",
    "    return eli5.show_prediction(model, tokenization_text(sentence), vec=tv, feature_names=tv.get_feature_names_out())"
   ]
  },
  {
   "cell_type": "code",
   "execution_count": 13,
   "metadata": {
    "ExecuteTime": {
     "end_time": "2023-03-22T18:00:38.795470Z",
     "start_time": "2023-03-22T18:00:38.765466Z"
    },
    "id": "jdBKbN6xX4Bl",
    "outputId": "7bdf7cd3-b375-40bb-bc10-1fc40365ae06"
   },
   "outputs": [
    {
     "data": {
      "text/plain": [
       "array([0.64822134, 0.97758186])"
      ]
     },
     "execution_count": 13,
     "metadata": {},
     "output_type": "execute_result"
    }
   ],
   "source": [
    "# F1\n",
    "from sklearn.metrics import f1_score\n",
    "f1_score(y_test_lr, y_pred_lr, average=None)"
   ]
  },
  {
   "cell_type": "code",
   "execution_count": 14,
   "metadata": {
    "ExecuteTime": {
     "end_time": "2023-03-22T18:00:38.811473Z",
     "start_time": "2023-03-22T18:00:38.797470Z"
    },
    "id": "JAa1UyGxx38f",
    "outputId": "31031084-620d-4065-c6d8-547a3015df5a"
   },
   "outputs": [
    {
     "data": {
      "text/plain": [
       "review       吃帝王蟹的专门店，门口就挂着巨大无比的螃蟹，同行的盆友们想吃帝王蟹，我们就按着大众点评找过来...\n",
       "star                                                       5.0\n",
       "sentiment                                                    1\n",
       "Name: 606, dtype: object"
      ]
     },
     "execution_count": 14,
     "metadata": {},
     "output_type": "execute_result"
    }
   ],
   "source": [
    "data_test.iloc[536]"
   ]
  },
  {
   "cell_type": "code",
   "execution_count": 15,
   "metadata": {
    "ExecuteTime": {
     "end_time": "2023-03-22T18:00:38.904493Z",
     "start_time": "2023-03-22T18:00:38.812474Z"
    },
    "id": "qNFkhFB1x38f",
    "outputId": "0397b9eb-4f00-46e1-d6fc-2fff549b4220"
   },
   "outputs": [
    {
     "data": {
      "text/html": [
       "\n",
       "    <style>\n",
       "    table.eli5-weights tr:hover {\n",
       "        filter: brightness(85%);\n",
       "    }\n",
       "</style>\n",
       "\n",
       "\n",
       "\n",
       "    \n",
       "\n",
       "    \n",
       "\n",
       "    \n",
       "\n",
       "    \n",
       "\n",
       "    \n",
       "\n",
       "    \n",
       "\n",
       "\n",
       "    \n",
       "\n",
       "    \n",
       "\n",
       "    \n",
       "\n",
       "    \n",
       "        \n",
       "\n",
       "    \n",
       "\n",
       "        \n",
       "\n",
       "        \n",
       "    \n",
       "        \n",
       "        \n",
       "    \n",
       "        <p style=\"margin-bottom: 0.5em; margin-top: 0em\">\n",
       "            <b>\n",
       "    \n",
       "        y=1\n",
       "    \n",
       "</b>\n",
       "\n",
       "    \n",
       "    (probability <b>0.883</b>, score <b>2.023</b>)\n",
       "\n",
       "top features\n",
       "        </p>\n",
       "    \n",
       "    <table class=\"eli5-weights\"\n",
       "           style=\"border-collapse: collapse; border: none; margin-top: 0em; table-layout: auto; margin-bottom: 2em;\">\n",
       "        <thead>\n",
       "        <tr style=\"border: none;\">\n",
       "            \n",
       "                <th style=\"padding: 0 1em 0 0.5em; text-align: right; border: none;\" title=\"Feature contribution already accounts for the feature value (for linear models, contribution = weight * feature value), and the sum of feature contributions is equal to the score or, for some classifiers, to the probability. Feature values are shown if &quot;show_feature_values&quot; is True.\">\n",
       "                    Contribution<sup>?</sup>\n",
       "                </th>\n",
       "            \n",
       "            <th style=\"padding: 0 0.5em 0 0.5em; text-align: left; border: none;\">Feature</th>\n",
       "            \n",
       "        </tr>\n",
       "        </thead>\n",
       "        <tbody>\n",
       "        \n",
       "            <tr style=\"background-color: hsl(120, 100.00%, 80.00%); border: none;\">\n",
       "    <td style=\"padding: 0 1em 0 0.5em; text-align: right; border: none;\">\n",
       "        +2.205\n",
       "    </td>\n",
       "    <td style=\"padding: 0 0.5em 0 0.5em; text-align: left; border: none;\">\n",
       "        &lt;BIAS&gt;\n",
       "    </td>\n",
       "    \n",
       "</tr>\n",
       "        \n",
       "        \n",
       "\n",
       "        \n",
       "        \n",
       "            <tr style=\"background-color: hsl(0, 100.00%, 96.50%); border: none;\">\n",
       "    <td style=\"padding: 0 1em 0 0.5em; text-align: right; border: none;\">\n",
       "        -0.183\n",
       "    </td>\n",
       "    <td style=\"padding: 0 0.5em 0 0.5em; text-align: left; border: none;\">\n",
       "        Highlighted in text (sum)\n",
       "    </td>\n",
       "    \n",
       "</tr>\n",
       "        \n",
       "\n",
       "        </tbody>\n",
       "    </table>\n",
       "\n",
       "    \n",
       "\n",
       "\n",
       "\n",
       "    <p style=\"margin-bottom: 2.5em; margin-top:-0.5em;\">\n",
       "        <span style=\"opacity: 0.80\">吃 </span><span style=\"background-color: hsl(120, 100.00%, 97.99%); opacity: 0.80\" title=\"0.005\">帝王</span><span style=\"opacity: 0.80\"> 蟹 的 </span><span style=\"background-color: hsl(120, 100.00%, 96.69%); opacity: 0.81\" title=\"0.010\">专门店</span><span style=\"opacity: 0.80\"> ， </span><span style=\"background-color: hsl(120, 100.00%, 94.99%); opacity: 0.81\" title=\"0.018\">门口</span><span style=\"opacity: 0.80\"> 就 挂 着 </span><span style=\"background-color: hsl(120, 100.00%, 95.26%); opacity: 0.81\" title=\"0.016\">巨大</span><span style=\"opacity: 0.80\"> </span><span style=\"background-color: hsl(0, 100.00%, 92.04%); opacity: 0.82\" title=\"-0.034\">无比</span><span style=\"opacity: 0.80\"> 的 </span><span style=\"background-color: hsl(120, 100.00%, 86.50%); opacity: 0.84\" title=\"0.073\">螃蟹</span><span style=\"opacity: 0.80\"> ， </span><span style=\"background-color: hsl(0, 100.00%, 97.44%); opacity: 0.80\" title=\"-0.007\">同行</span><span style=\"opacity: 0.80\"> 的 </span><span style=\"background-color: hsl(120, 100.00%, 98.32%); opacity: 0.80\" title=\"0.004\">盆友们</span><span style=\"opacity: 0.80\"> 想 吃 </span><span style=\"background-color: hsl(120, 100.00%, 97.99%); opacity: 0.80\" title=\"0.005\">帝王</span><span style=\"opacity: 0.80\"> 蟹 ， 我们 就 </span><span style=\"background-color: hsl(0, 100.00%, 98.81%); opacity: 0.80\" title=\"-0.002\">按着</span><span style=\"opacity: 0.80\"> </span><span style=\"background-color: hsl(120, 100.00%, 86.73%); opacity: 0.84\" title=\"0.071\">大众</span><span style=\"opacity: 0.80\"> </span><span style=\"background-color: hsl(0, 100.00%, 89.92%); opacity: 0.83\" title=\"-0.048\">点评</span><span style=\"opacity: 0.80\"> 找 </span><span style=\"background-color: hsl(0, 100.00%, 97.46%); opacity: 0.80\" title=\"-0.007\">过来</span><span style=\"opacity: 0.80\"> 的 ， </span><span style=\"background-color: hsl(120, 100.00%, 99.47%); opacity: 0.80\" title=\"0.001\">离住</span><span style=\"opacity: 0.80\"> 的 </span><span style=\"background-color: hsl(120, 100.00%, 92.29%); opacity: 0.82\" title=\"0.033\">酒店</span><span style=\"opacity: 0.80\"> </span><span style=\"background-color: hsl(120, 100.00%, 82.56%); opacity: 0.86\" title=\"0.105\">比较</span><span style=\"opacity: 0.80\"> 近 ， </span><span style=\"background-color: hsl(0, 100.00%, 63.83%); opacity: 0.97\" title=\"-0.297\">居然</span><span style=\"opacity: 0.80\"> </span><span style=\"background-color: hsl(120, 100.00%, 87.18%); opacity: 0.84\" title=\"0.068\">找到</span><span style=\"opacity: 0.80\"> 了 ， 但是 我们 到 的 </span><span style=\"background-color: hsl(120, 100.00%, 82.56%); opacity: 0.86\" title=\"0.105\">比较</span><span style=\"opacity: 0.80\"> 晚 了 ， 我们 </span><span style=\"background-color: hsl(0, 100.00%, 97.52%); opacity: 0.80\" title=\"-0.006\">大概</span><span style=\"opacity: 0.80\"> 九点钟 到 的 ， 被 </span><span style=\"background-color: hsl(0, 100.00%, 73.80%); opacity: 0.91\" title=\"-0.188\">告知</span><span style=\"opacity: 0.80\"> 十点钟 就要 </span><span style=\"background-color: hsl(0, 100.00%, 93.04%); opacity: 0.82\" title=\"-0.028\">打烊</span><span style=\"opacity: 0.80\"> 了 ， 好 吧 ， 都 </span><span style=\"background-color: hsl(120, 100.00%, 98.30%); opacity: 0.80\" title=\"0.004\">收工</span><span style=\"opacity: 0.80\"> 这么 的 早 ， 但是 我们 还是 </span><span style=\"background-color: hsl(120, 100.00%, 98.17%); opacity: 0.80\" title=\"0.004\">毅然</span><span style=\"opacity: 0.80\"> 的 坐 了 </span><span style=\"background-color: hsl(0, 100.00%, 93.06%); opacity: 0.82\" title=\"-0.028\">进去</span><span style=\"opacity: 0.80\"> ， </span><span style=\"background-color: hsl(0, 100.00%, 92.79%); opacity: 0.82\" title=\"-0.030\">可能</span><span style=\"opacity: 0.80\"> </span><span style=\"background-color: hsl(0, 100.00%, 94.57%); opacity: 0.81\" title=\"-0.020\">是因为</span><span style=\"opacity: 0.80\"> 晚 了 ， 也 </span><span style=\"background-color: hsl(0, 100.00%, 92.79%); opacity: 0.82\" title=\"-0.030\">可能</span><span style=\"opacity: 0.80\"> 是 </span><span style=\"background-color: hsl(0, 100.00%, 89.88%); opacity: 0.83\" title=\"-0.048\">价格</span><span style=\"opacity: 0.80\"> </span><span style=\"background-color: hsl(120, 100.00%, 82.56%); opacity: 0.86\" title=\"0.105\">比较</span><span style=\"opacity: 0.80\"> </span><span style=\"background-color: hsl(120, 100.00%, 92.37%); opacity: 0.82\" title=\"0.032\">高端</span><span style=\"opacity: 0.80\"> ， 所以 </span><span style=\"background-color: hsl(120, 100.00%, 87.14%); opacity: 0.84\" title=\"0.068\">人不多</span><span style=\"opacity: 0.80\"> ， 我们 坐 的 </span><span style=\"background-color: hsl(0, 100.00%, 80.03%); opacity: 0.87\" title=\"-0.127\">包房</span><span style=\"opacity: 0.80\"> ， 塌塌米 … … \\ \\ n 点 了 </span><span style=\"background-color: hsl(120, 100.00%, 87.38%); opacity: 0.84\" title=\"0.066\">日本</span><span style=\"opacity: 0.80\"> </span><span style=\"background-color: hsl(0, 100.00%, 99.25%); opacity: 0.80\" title=\"-0.001\">清酒</span><span style=\"opacity: 0.80\"> ， 点 了 </span><span style=\"background-color: hsl(120, 100.00%, 88.52%); opacity: 0.83\" title=\"0.058\">半份</span><span style=\"opacity: 0.80\"> 的 </span><span style=\"background-color: hsl(120, 100.00%, 97.99%); opacity: 0.80\" title=\"0.005\">帝王</span><span style=\"opacity: 0.80\"> 蟹 ， 一个 </span><span style=\"background-color: hsl(120, 100.00%, 96.39%); opacity: 0.81\" title=\"0.011\">三人份</span><span style=\"opacity: 0.80\"> 的 </span><span style=\"background-color: hsl(120, 100.00%, 99.45%); opacity: 0.80\" title=\"0.001\">刺身</span><span style=\"opacity: 0.80\"> </span><span style=\"background-color: hsl(120, 100.00%, 92.91%); opacity: 0.82\" title=\"0.029\">拼盘</span><span style=\"opacity: 0.80\"> ~ \\ \\ n </span><span style=\"background-color: hsl(120, 100.00%, 93.89%); opacity: 0.81\" title=\"0.023\">三个</span><span style=\"opacity: 0.80\"> 吃 </span><span style=\"background-color: hsl(0, 100.00%, 96.98%); opacity: 0.80\" title=\"-0.009\">下来</span><span style=\"opacity: 0.80\"> </span><span style=\"background-color: hsl(0, 100.00%, 97.52%); opacity: 0.80\" title=\"-0.006\">大概</span><span style=\"opacity: 0.80\"> </span><span style=\"background-color: hsl(0, 100.00%, 94.58%); opacity: 0.81\" title=\"-0.020\">人均</span><span style=\"opacity: 0.80\"> </span><span style=\"background-color: hsl(120, 100.00%, 96.48%); opacity: 0.81\" title=\"0.011\">二百多</span><span style=\"opacity: 0.80\"> 吧 ， 如果 我 没 </span><span style=\"background-color: hsl(120, 100.00%, 97.40%); opacity: 0.80\" title=\"0.007\">记错</span><span style=\"opacity: 0.80\"> 的话 ， </span><span style=\"background-color: hsl(120, 100.00%, 88.08%); opacity: 0.84\" title=\"0.061\">其实</span><span style=\"opacity: 0.80\"> </span><span style=\"background-color: hsl(120, 100.00%, 93.00%); opacity: 0.82\" title=\"0.028\">感觉</span><span style=\"opacity: 0.80\"> 还 可以 ， </span><span style=\"background-color: hsl(120, 100.00%, 89.82%); opacity: 0.83\" title=\"0.049\">毕竟</span><span style=\"opacity: 0.80\"> 在 这个 </span><span style=\"background-color: hsl(0, 100.00%, 93.20%); opacity: 0.82\" title=\"-0.027\">地段</span><span style=\"opacity: 0.80\"> ， 而且 </span><span style=\"background-color: hsl(120, 100.00%, 97.49%); opacity: 0.80\" title=\"0.007\">食材</span><span style=\"opacity: 0.80\"> 很 </span><span style=\"background-color: hsl(120, 100.00%, 93.60%); opacity: 0.81\" title=\"0.025\">新鲜</span><span style=\"opacity: 0.80\"> 的 ， 蟹 很 </span><span style=\"background-color: hsl(120, 100.00%, 87.65%); opacity: 0.84\" title=\"0.064\">肥美</span><span style=\"opacity: 0.80\"> ， </span><span style=\"background-color: hsl(120, 100.00%, 94.99%); opacity: 0.81\" title=\"0.018\">门口</span><span style=\"opacity: 0.80\"> 的 大水池 </span><span style=\"background-color: hsl(120, 100.00%, 94.15%); opacity: 0.81\" title=\"0.022\">里面</span><span style=\"opacity: 0.80\"> </span><span style=\"background-color: hsl(120, 100.00%, 95.53%); opacity: 0.81\" title=\"0.015\">有活</span><span style=\"opacity: 0.80\"> 的 </span><span style=\"background-color: hsl(120, 100.00%, 97.99%); opacity: 0.80\" title=\"0.005\">帝王</span><span style=\"opacity: 0.80\"> 蟹 ， 供 </span><span style=\"background-color: hsl(120, 100.00%, 92.74%); opacity: 0.82\" title=\"0.030\">观赏</span><span style=\"opacity: 0.80\"> … … \\ \\ n </span><span style=\"background-color: hsl(0, 100.00%, 76.76%); opacity: 0.89\" title=\"-0.158\">服务员</span><span style=\"opacity: 0.80\"> 都 是 穿 的 </span><span style=\"background-color: hsl(120, 100.00%, 86.42%); opacity: 0.84\" title=\"0.073\">传统</span><span style=\"opacity: 0.80\"> </span><span style=\"background-color: hsl(120, 100.00%, 94.57%); opacity: 0.81\" title=\"0.020\">服饰</span><span style=\"opacity: 0.80\"> ， </span><span style=\"background-color: hsl(0, 100.00%, 60.00%); opacity: 1.00\" title=\"-0.343\">不会</span><span style=\"opacity: 0.80\"> 讲 </span><span style=\"background-color: hsl(120, 100.00%, 91.83%); opacity: 0.82\" title=\"0.035\">英文</span><span style=\"opacity: 0.80\"> 和 </span><span style=\"background-color: hsl(120, 100.00%, 87.04%); opacity: 0.84\" title=\"0.069\">中文</span><span style=\"opacity: 0.80\"> ， 但是 </span><span style=\"background-color: hsl(0, 100.00%, 90.00%); opacity: 0.83\" title=\"-0.047\">菜单</span><span style=\"opacity: 0.80\"> </span><span style=\"background-color: hsl(0, 100.00%, 90.24%); opacity: 0.83\" title=\"-0.046\">上面</span><span style=\"opacity: 0.80\"> 有 </span><span style=\"background-color: hsl(0, 100.00%, 74.62%); opacity: 0.90\" title=\"-0.179\">图片</span><span style=\"opacity: 0.80\"> ， </span><span style=\"background-color: hsl(0, 100.00%, 71.77%); opacity: 0.92\" title=\"-0.209\">完全</span><span style=\"opacity: 0.80\"> 不 </span><span style=\"background-color: hsl(120, 100.00%, 91.66%); opacity: 0.82\" title=\"0.037\">影响</span><span style=\"opacity: 0.80\"> 我们 </span><span style=\"background-color: hsl(0, 100.00%, 96.10%); opacity: 0.81\" title=\"-0.012\">交流</span><span style=\"opacity: 0.80\"> ， 呵呵 ~ ~ 吃 的 </span><span style=\"background-color: hsl(120, 100.00%, 83.04%); opacity: 0.86\" title=\"0.101\">很饱</span><span style=\"opacity: 0.80\"> ， 很 </span><span style=\"background-color: hsl(120, 100.00%, 74.24%); opacity: 0.91\" title=\"0.183\">满足</span><span style=\"opacity: 0.80\"> … … \\ \\ n</span>\n",
       "    </p>\n",
       "\n",
       "\n",
       "    \n",
       "\n",
       "    \n",
       "\n",
       "    \n",
       "\n",
       "    \n",
       "\n",
       "\n",
       "    \n",
       "\n",
       "    \n",
       "\n",
       "    \n",
       "\n",
       "    \n",
       "\n",
       "    \n",
       "\n",
       "    \n",
       "\n",
       "\n",
       "    \n",
       "\n",
       "    \n",
       "\n",
       "    \n",
       "\n",
       "    \n",
       "\n",
       "    \n",
       "\n",
       "    \n",
       "\n",
       "\n",
       "\n"
      ],
      "text/plain": [
       "<IPython.core.display.HTML object>"
      ]
     },
     "execution_count": 15,
     "metadata": {},
     "output_type": "execute_result"
    }
   ],
   "source": [
    "lr_explain(model_lr, data_test.iloc[536]['review'])"
   ]
  },
  {
   "cell_type": "code",
   "execution_count": 16,
   "metadata": {
    "ExecuteTime": {
     "end_time": "2023-03-22T18:00:38.919497Z",
     "start_time": "2023-03-22T18:00:38.906494Z"
    },
    "id": "nbnhrOa-x38f"
   },
   "outputs": [],
   "source": [
    "test1 = '很好吃，环境好，所有员工的态度都很好，上菜快，服务也很好，味道好吃，都是用蒸馏水煮的，推荐，超好吃' #5星好评\n",
    "test2 = '糯米外皮不绵滑，豆沙馅粗躁，没有香甜味。12元一碗不值。' #1星差评\n",
    "# 4星\n",
    "test3 = '昨儿晚上来凯德1818的绿茶吃饭，点了以下10个菜，这里面有好几个都是推荐菜品，咱挨个说啊～  第一张 “客家茄子煲”：一个字：咸、俩字：很咸、仨字：非常咸、四个字：咸（hou)死我了... ... 我很怀疑是不是师傅在放酱油的时候手抖了 然后整锅煲就是一锅酱色。里面的咸鱼粒很显然没有经过任何处理（泡一下水去掉部分盐分等），再加之菜本身很咸根本无法入口，整锅煲基本没动；第二张 “鱼头诱惑 ”：这道菜是翔哥点的 还不错 首先鱼头很新鲜 其次鱼头蒸的火候刚好 既入味还不老，建议除了小米辣再加上点泡椒，这样无论是颜色和口味上都会更棒的！这道菜基本消灭； 第三张：“小锅土豆”：厚片的土豆挂满酱汁，炉子在下面慢慢加热，后来加一片放到嘴里，几乎是入口即化、口感绵软，也是一道不错的下饭菜；第四张：“农家小菜”其实就是少了橄榄菜和肉末的豆角粒，味道还可以，如果把豆角再煸的干一点（表皮起皱）口感会更好；第五张“菜心金钩豆腐” 和没上图的“老乡浓汤”一起说了，两道分不清是汤、羹还是菜的东东，都是推荐菜 分不清也无所谓，重点是上菜的时候都不是热的 都是温的 “菜心”里面有蛋黄、“浓汤”里面有猪肚，这两种食材变冷后都会有腥味且口感不好，加之一碗有淀粉类的羹 温温的很难喝，建议出品后马上传菜到客人面前，口味上冷了就都不美味了；第六张：“麻酱油麦菜”很多地方也叫“麻酱凤尾” 麻酱用的像是麻酱和花生酱混合的甜口的酱料，重点是没有稀释！整个一坨粘在油麦菜上 根本拌不开 相比甜口的麻酱我更喜欢热干面那种咸口的、稀点儿的；第七张“面包诱惑”：这道是敬菜，口味还不错，冰淇淋也很好吃 就是卖相太一般了 既然要推广 至少要给点儿装饰，不用太复杂 拉个巧克力线条、给个蛋卷、水果粒稍稍点缀一下就会好看很多 面包本身口感和冰淇淋都很好吃 比很多外面装饰的那种美美的好吃多了 就差了一点装饰；第八张“绿茶烤鸡”很多人点这道菜，相比前几道的重口，烤鸡显得淡了一些。鸡皮的保护基本没有 所以整个鸡肉又干有柴、也挂不住调味料、下次有机会点个整只的或许会好一点；最后还有未上图的绿茶饼和糖醋里脊，绿茶饼还不错 可以一试 只要火候控制的好不炸过基本没问题，里面糯糯的馅儿很好吃；“糖醋里脊” 这是我吃过最难吃的版本，没有之一！上次有一小哥吐了一通槽 我还想就一个糖醋里脊也不是啥难菜 不至于吧 这次就抱着猎奇的心里点了一个 菜刚上来我就后悔了---老抽色（shai）的、外面一圈淀粉（粉面子）基本没吃着肉，糊哒哒粘成一坨 看起来和那个茄子煲没什么太大区别。建议找一个做糖醋里脊的店吃一次 看一看 就上个浆 过个油 浇个汁儿的事情 没那么难  肉类的菜品价格可以适当调高一些 我宁可多花点儿钱吃肉也不想吃这一坨坨粉面子。 总体而言环境还不错 价格很平民 服务中规中矩 但是菜品质量很是有待提高。看墙上的照片（不知道老板是不是做青旅起家的）菜品不会因为价格低而有销路 只会因为质量好才畅销（相比低价 现在的人们更喜欢质量好而有保障的食品 价格好一点反而是保证） 希望越做越好。地址在凯德1818  5楼手扶梯旁。'"
   ]
  },
  {
   "cell_type": "code",
   "execution_count": 17,
   "metadata": {
    "ExecuteTime": {
     "end_time": "2023-03-22T18:00:38.967509Z",
     "start_time": "2023-03-22T18:00:38.921497Z"
    },
    "id": "QGBg8ayXx38g",
    "outputId": "89424530-71c6-4d9a-95df-e27b08b6abc9",
    "scrolled": true
   },
   "outputs": [
    {
     "data": {
      "text/html": [
       "\n",
       "    <style>\n",
       "    table.eli5-weights tr:hover {\n",
       "        filter: brightness(85%);\n",
       "    }\n",
       "</style>\n",
       "\n",
       "\n",
       "\n",
       "    \n",
       "\n",
       "    \n",
       "\n",
       "    \n",
       "\n",
       "    \n",
       "\n",
       "    \n",
       "\n",
       "    \n",
       "\n",
       "\n",
       "    \n",
       "\n",
       "    \n",
       "\n",
       "    \n",
       "\n",
       "    \n",
       "        \n",
       "\n",
       "    \n",
       "\n",
       "        \n",
       "\n",
       "        \n",
       "    \n",
       "        \n",
       "        \n",
       "    \n",
       "        <p style=\"margin-bottom: 0.5em; margin-top: 0em\">\n",
       "            <b>\n",
       "    \n",
       "        y=1\n",
       "    \n",
       "</b>\n",
       "\n",
       "    \n",
       "    (probability <b>0.975</b>, score <b>3.662</b>)\n",
       "\n",
       "top features\n",
       "        </p>\n",
       "    \n",
       "    <table class=\"eli5-weights\"\n",
       "           style=\"border-collapse: collapse; border: none; margin-top: 0em; table-layout: auto; margin-bottom: 2em;\">\n",
       "        <thead>\n",
       "        <tr style=\"border: none;\">\n",
       "            \n",
       "                <th style=\"padding: 0 1em 0 0.5em; text-align: right; border: none;\" title=\"Feature contribution already accounts for the feature value (for linear models, contribution = weight * feature value), and the sum of feature contributions is equal to the score or, for some classifiers, to the probability. Feature values are shown if &quot;show_feature_values&quot; is True.\">\n",
       "                    Contribution<sup>?</sup>\n",
       "                </th>\n",
       "            \n",
       "            <th style=\"padding: 0 0.5em 0 0.5em; text-align: left; border: none;\">Feature</th>\n",
       "            \n",
       "        </tr>\n",
       "        </thead>\n",
       "        <tbody>\n",
       "        \n",
       "            <tr style=\"background-color: hsl(120, 100.00%, 80.00%); border: none;\">\n",
       "    <td style=\"padding: 0 1em 0 0.5em; text-align: right; border: none;\">\n",
       "        +2.205\n",
       "    </td>\n",
       "    <td style=\"padding: 0 0.5em 0 0.5em; text-align: left; border: none;\">\n",
       "        &lt;BIAS&gt;\n",
       "    </td>\n",
       "    \n",
       "</tr>\n",
       "        \n",
       "            <tr style=\"background-color: hsl(120, 100.00%, 85.04%); border: none;\">\n",
       "    <td style=\"padding: 0 1em 0 0.5em; text-align: right; border: none;\">\n",
       "        +1.457\n",
       "    </td>\n",
       "    <td style=\"padding: 0 0.5em 0 0.5em; text-align: left; border: none;\">\n",
       "        Highlighted in text (sum)\n",
       "    </td>\n",
       "    \n",
       "</tr>\n",
       "        \n",
       "        \n",
       "\n",
       "        \n",
       "        \n",
       "\n",
       "        </tbody>\n",
       "    </table>\n",
       "\n",
       "    \n",
       "\n",
       "\n",
       "\n",
       "    <p style=\"margin-bottom: 2.5em; margin-top:-0.5em;\">\n",
       "        <span style=\"opacity: 0.80\">很 </span><span style=\"background-color: hsl(120, 100.00%, 60.00%); opacity: 1.00\" title=\"0.974\">好吃</span><span style=\"opacity: 0.80\"> ， </span><span style=\"background-color: hsl(120, 100.00%, 90.36%); opacity: 0.83\" title=\"0.128\">环境</span><span style=\"opacity: 0.80\"> 好 ， 所有 </span><span style=\"background-color: hsl(0, 100.00%, 71.04%); opacity: 0.93\" title=\"-0.614\">员工</span><span style=\"opacity: 0.80\"> 的 </span><span style=\"background-color: hsl(0, 100.00%, 72.52%); opacity: 0.92\" title=\"-0.569\">态度</span><span style=\"opacity: 0.80\"> 都 很 好 ， </span><span style=\"background-color: hsl(0, 100.00%, 79.58%); opacity: 0.88\" title=\"-0.373\">上菜</span><span style=\"opacity: 0.80\"> 快 ， </span><span style=\"background-color: hsl(0, 100.00%, 71.92%); opacity: 0.92\" title=\"-0.587\">服务</span><span style=\"opacity: 0.80\"> 也 很 好 ， </span><span style=\"background-color: hsl(120, 100.00%, 99.32%); opacity: 0.80\" title=\"0.003\">味道</span><span style=\"opacity: 0.80\"> </span><span style=\"background-color: hsl(120, 100.00%, 60.00%); opacity: 1.00\" title=\"0.974\">好吃</span><span style=\"opacity: 0.80\"> ， 都 是 用 蒸馏水 煮 的 ， </span><span style=\"background-color: hsl(120, 100.00%, 73.23%); opacity: 0.91\" title=\"0.549\">推荐</span><span style=\"opacity: 0.80\"> ， 超 </span><span style=\"background-color: hsl(120, 100.00%, 60.00%); opacity: 1.00\" title=\"0.974\">好吃</span>\n",
       "    </p>\n",
       "\n",
       "\n",
       "    \n",
       "\n",
       "    \n",
       "\n",
       "    \n",
       "\n",
       "    \n",
       "\n",
       "\n",
       "    \n",
       "\n",
       "    \n",
       "\n",
       "    \n",
       "\n",
       "    \n",
       "\n",
       "    \n",
       "\n",
       "    \n",
       "\n",
       "\n",
       "    \n",
       "\n",
       "    \n",
       "\n",
       "    \n",
       "\n",
       "    \n",
       "\n",
       "    \n",
       "\n",
       "    \n",
       "\n",
       "\n",
       "\n"
      ],
      "text/plain": [
       "<IPython.core.display.HTML object>"
      ]
     },
     "execution_count": 17,
     "metadata": {},
     "output_type": "execute_result"
    }
   ],
   "source": [
    "lr_explain(model_lr, test1)"
   ]
  },
  {
   "cell_type": "code",
   "execution_count": 18,
   "metadata": {
    "ExecuteTime": {
     "end_time": "2023-03-22T18:00:39.015530Z",
     "start_time": "2023-03-22T18:00:38.969509Z"
    },
    "id": "mWKoFuW8x38g",
    "outputId": "f65fd45f-9f6d-49bb-dbdc-a3379fd5b6d2",
    "scrolled": true
   },
   "outputs": [
    {
     "data": {
      "text/html": [
       "\n",
       "    <style>\n",
       "    table.eli5-weights tr:hover {\n",
       "        filter: brightness(85%);\n",
       "    }\n",
       "</style>\n",
       "\n",
       "\n",
       "\n",
       "    \n",
       "\n",
       "    \n",
       "\n",
       "    \n",
       "\n",
       "    \n",
       "\n",
       "    \n",
       "\n",
       "    \n",
       "\n",
       "\n",
       "    \n",
       "\n",
       "    \n",
       "\n",
       "    \n",
       "\n",
       "    \n",
       "        \n",
       "\n",
       "    \n",
       "\n",
       "        \n",
       "\n",
       "        \n",
       "    \n",
       "        \n",
       "        \n",
       "    \n",
       "        <p style=\"margin-bottom: 0.5em; margin-top: 0em\">\n",
       "            <b>\n",
       "    \n",
       "        y=1\n",
       "    \n",
       "</b>\n",
       "\n",
       "    \n",
       "    (probability <b>0.764</b>, score <b>1.176</b>)\n",
       "\n",
       "top features\n",
       "        </p>\n",
       "    \n",
       "    <table class=\"eli5-weights\"\n",
       "           style=\"border-collapse: collapse; border: none; margin-top: 0em; table-layout: auto; margin-bottom: 2em;\">\n",
       "        <thead>\n",
       "        <tr style=\"border: none;\">\n",
       "            \n",
       "                <th style=\"padding: 0 1em 0 0.5em; text-align: right; border: none;\" title=\"Feature contribution already accounts for the feature value (for linear models, contribution = weight * feature value), and the sum of feature contributions is equal to the score or, for some classifiers, to the probability. Feature values are shown if &quot;show_feature_values&quot; is True.\">\n",
       "                    Contribution<sup>?</sup>\n",
       "                </th>\n",
       "            \n",
       "            <th style=\"padding: 0 0.5em 0 0.5em; text-align: left; border: none;\">Feature</th>\n",
       "            \n",
       "        </tr>\n",
       "        </thead>\n",
       "        <tbody>\n",
       "        \n",
       "            <tr style=\"background-color: hsl(120, 100.00%, 80.00%); border: none;\">\n",
       "    <td style=\"padding: 0 1em 0 0.5em; text-align: right; border: none;\">\n",
       "        +2.205\n",
       "    </td>\n",
       "    <td style=\"padding: 0 0.5em 0 0.5em; text-align: left; border: none;\">\n",
       "        &lt;BIAS&gt;\n",
       "    </td>\n",
       "    \n",
       "</tr>\n",
       "        \n",
       "        \n",
       "\n",
       "        \n",
       "        \n",
       "            <tr style=\"background-color: hsl(0, 100.00%, 88.26%); border: none;\">\n",
       "    <td style=\"padding: 0 1em 0 0.5em; text-align: right; border: none;\">\n",
       "        -1.030\n",
       "    </td>\n",
       "    <td style=\"padding: 0 0.5em 0 0.5em; text-align: left; border: none;\">\n",
       "        Highlighted in text (sum)\n",
       "    </td>\n",
       "    \n",
       "</tr>\n",
       "        \n",
       "\n",
       "        </tbody>\n",
       "    </table>\n",
       "\n",
       "    \n",
       "\n",
       "\n",
       "\n",
       "    <p style=\"margin-bottom: 2.5em; margin-top:-0.5em;\">\n",
       "        <span style=\"background-color: hsl(120, 100.00%, 91.72%); opacity: 0.82\" title=\"0.104\">糯米</span><span style=\"opacity: 0.80\"> </span><span style=\"background-color: hsl(120, 100.00%, 83.78%); opacity: 0.86\" title=\"0.272\">外皮</span><span style=\"opacity: 0.80\"> 不绵滑 ， </span><span style=\"background-color: hsl(120, 100.00%, 85.53%); opacity: 0.85\" title=\"0.231\">豆沙</span><span style=\"opacity: 0.80\"> 馅 粗躁 ， </span><span style=\"background-color: hsl(0, 100.00%, 69.57%); opacity: 0.94\" title=\"-0.668\">没有</span><span style=\"opacity: 0.80\"> 香 </span><span style=\"background-color: hsl(120, 100.00%, 88.50%); opacity: 0.83\" title=\"0.166\">甜味</span><span style=\"opacity: 0.80\"> 。 </span><span style=\"background-color: hsl(0, 100.00%, 99.04%); opacity: 0.80\" title=\"-0.005\">12</span><span style=\"opacity: 0.80\"> 元 </span><span style=\"background-color: hsl(0, 100.00%, 89.66%); opacity: 0.83\" title=\"-0.143\">一碗</span><span style=\"opacity: 0.80\"> </span><span style=\"background-color: hsl(0, 100.00%, 60.00%); opacity: 1.00\" title=\"-0.987\">不值</span><span style=\"opacity: 0.80\"> 。</span>\n",
       "    </p>\n",
       "\n",
       "\n",
       "    \n",
       "\n",
       "    \n",
       "\n",
       "    \n",
       "\n",
       "    \n",
       "\n",
       "\n",
       "    \n",
       "\n",
       "    \n",
       "\n",
       "    \n",
       "\n",
       "    \n",
       "\n",
       "    \n",
       "\n",
       "    \n",
       "\n",
       "\n",
       "    \n",
       "\n",
       "    \n",
       "\n",
       "    \n",
       "\n",
       "    \n",
       "\n",
       "    \n",
       "\n",
       "    \n",
       "\n",
       "\n",
       "\n"
      ],
      "text/plain": [
       "<IPython.core.display.HTML object>"
      ]
     },
     "execution_count": 18,
     "metadata": {},
     "output_type": "execute_result"
    }
   ],
   "source": [
    "lr_explain(model_lr, test2)  # 错误分类"
   ]
  },
  {
   "cell_type": "code",
   "execution_count": 19,
   "metadata": {
    "ExecuteTime": {
     "end_time": "2023-03-22T18:00:39.111553Z",
     "start_time": "2023-03-22T18:00:39.017530Z"
    },
    "id": "u3BWfzuvx38g",
    "outputId": "f7b2028b-ef3d-40a4-8e80-54b31903992d",
    "scrolled": true
   },
   "outputs": [
    {
     "data": {
      "text/html": [
       "\n",
       "    <style>\n",
       "    table.eli5-weights tr:hover {\n",
       "        filter: brightness(85%);\n",
       "    }\n",
       "</style>\n",
       "\n",
       "\n",
       "\n",
       "    \n",
       "\n",
       "    \n",
       "\n",
       "    \n",
       "\n",
       "    \n",
       "\n",
       "    \n",
       "\n",
       "    \n",
       "\n",
       "\n",
       "    \n",
       "\n",
       "    \n",
       "\n",
       "    \n",
       "\n",
       "    \n",
       "        \n",
       "\n",
       "    \n",
       "\n",
       "        \n",
       "\n",
       "        \n",
       "    \n",
       "        \n",
       "        \n",
       "    \n",
       "        <p style=\"margin-bottom: 0.5em; margin-top: 0em\">\n",
       "            <b>\n",
       "    \n",
       "        y=1\n",
       "    \n",
       "</b>\n",
       "\n",
       "    \n",
       "    (probability <b>0.926</b>, score <b>2.526</b>)\n",
       "\n",
       "top features\n",
       "        </p>\n",
       "    \n",
       "    <table class=\"eli5-weights\"\n",
       "           style=\"border-collapse: collapse; border: none; margin-top: 0em; table-layout: auto; margin-bottom: 2em;\">\n",
       "        <thead>\n",
       "        <tr style=\"border: none;\">\n",
       "            \n",
       "                <th style=\"padding: 0 1em 0 0.5em; text-align: right; border: none;\" title=\"Feature contribution already accounts for the feature value (for linear models, contribution = weight * feature value), and the sum of feature contributions is equal to the score or, for some classifiers, to the probability. Feature values are shown if &quot;show_feature_values&quot; is True.\">\n",
       "                    Contribution<sup>?</sup>\n",
       "                </th>\n",
       "            \n",
       "            <th style=\"padding: 0 0.5em 0 0.5em; text-align: left; border: none;\">Feature</th>\n",
       "            \n",
       "        </tr>\n",
       "        </thead>\n",
       "        <tbody>\n",
       "        \n",
       "            <tr style=\"background-color: hsl(120, 100.00%, 80.00%); border: none;\">\n",
       "    <td style=\"padding: 0 1em 0 0.5em; text-align: right; border: none;\">\n",
       "        +2.205\n",
       "    </td>\n",
       "    <td style=\"padding: 0 0.5em 0 0.5em; text-align: left; border: none;\">\n",
       "        &lt;BIAS&gt;\n",
       "    </td>\n",
       "    \n",
       "</tr>\n",
       "        \n",
       "            <tr style=\"background-color: hsl(120, 100.00%, 94.82%); border: none;\">\n",
       "    <td style=\"padding: 0 1em 0 0.5em; text-align: right; border: none;\">\n",
       "        +0.320\n",
       "    </td>\n",
       "    <td style=\"padding: 0 0.5em 0 0.5em; text-align: left; border: none;\">\n",
       "        Highlighted in text (sum)\n",
       "    </td>\n",
       "    \n",
       "</tr>\n",
       "        \n",
       "        \n",
       "\n",
       "        \n",
       "        \n",
       "\n",
       "        </tbody>\n",
       "    </table>\n",
       "\n",
       "    \n",
       "\n",
       "\n",
       "\n",
       "    <p style=\"margin-bottom: 2.5em; margin-top:-0.5em;\">\n",
       "        <span style=\"background-color: hsl(120, 100.00%, 98.89%); opacity: 0.80\" title=\"0.002\">昨儿</span><span style=\"opacity: 0.80\"> </span><span style=\"background-color: hsl(120, 100.00%, 95.10%); opacity: 0.81\" title=\"0.015\">晚上</span><span style=\"opacity: 0.80\"> 来 </span><span style=\"background-color: hsl(120, 100.00%, 97.48%); opacity: 0.80\" title=\"0.006\">凯德</span><span style=\"opacity: 0.80\"> </span><span style=\"background-color: hsl(0, 100.00%, 95.38%); opacity: 0.81\" title=\"-0.014\">1818</span><span style=\"opacity: 0.80\"> 的 </span><span style=\"background-color: hsl(0, 100.00%, 93.07%); opacity: 0.82\" title=\"-0.025\">绿茶</span><span style=\"opacity: 0.80\"> </span><span style=\"background-color: hsl(0, 100.00%, 89.87%); opacity: 0.83\" title=\"-0.042\">吃饭</span><span style=\"opacity: 0.80\"> ， 点 了 </span><span style=\"background-color: hsl(0, 100.00%, 99.89%); opacity: 0.80\" title=\"-0.000\">以下</span><span style=\"opacity: 0.80\"> </span><span style=\"background-color: hsl(0, 100.00%, 98.35%); opacity: 0.80\" title=\"-0.003\">10</span><span style=\"opacity: 0.80\"> 个 菜 ， 这 </span><span style=\"background-color: hsl(120, 100.00%, 96.32%); opacity: 0.81\" title=\"0.010\">里面</span><span style=\"opacity: 0.80\"> 有 </span><span style=\"background-color: hsl(0, 100.00%, 96.98%); opacity: 0.81\" title=\"-0.008\">好几个</span><span style=\"opacity: 0.80\"> 都 是 </span><span style=\"background-color: hsl(120, 100.00%, 89.33%); opacity: 0.83\" title=\"0.045\">推荐</span><span style=\"opacity: 0.80\"> </span><span style=\"background-color: hsl(0, 100.00%, 98.02%); opacity: 0.80\" title=\"-0.004\">菜品</span><span style=\"opacity: 0.80\"> ， 咱 </span><span style=\"background-color: hsl(120, 100.00%, 97.38%); opacity: 0.80\" title=\"0.006\">挨个</span><span style=\"opacity: 0.80\"> 说 啊 ～     </span><span style=\"background-color: hsl(0, 100.00%, 98.03%); opacity: 0.80\" title=\"-0.004\">第一张</span><span style=\"opacity: 0.80\">   “ </span><span style=\"background-color: hsl(0, 100.00%, 95.93%); opacity: 0.81\" title=\"-0.011\">客家</span><span style=\"opacity: 0.80\"> </span><span style=\"background-color: hsl(0, 100.00%, 95.76%); opacity: 0.81\" title=\"-0.012\">茄子</span><span style=\"opacity: 0.80\"> 煲 ” ： 一个 字 ： 咸 、 俩 字 ： 很 咸 、 仨 字 ： </span><span style=\"background-color: hsl(120, 100.00%, 87.23%); opacity: 0.84\" title=\"0.059\">非常</span><span style=\"opacity: 0.80\"> 咸 、 </span><span style=\"background-color: hsl(0, 100.00%, 99.52%); opacity: 0.80\" title=\"-0.001\">四个</span><span style=\"opacity: 0.80\"> 字 ： 咸 （ hou ) 死 我 了 ...   ...   我 很 </span><span style=\"background-color: hsl(0, 100.00%, 79.21%); opacity: 0.88\" title=\"-0.118\">怀疑</span><span style=\"opacity: 0.80\"> </span><span style=\"background-color: hsl(0, 100.00%, 86.31%); opacity: 0.84\" title=\"-0.065\">是不是</span><span style=\"opacity: 0.80\"> </span><span style=\"background-color: hsl(120, 100.00%, 99.51%); opacity: 0.80\" title=\"0.001\">师傅</span><span style=\"opacity: 0.80\"> 在 放 </span><span style=\"background-color: hsl(0, 100.00%, 93.25%); opacity: 0.82\" title=\"-0.024\">酱油</span><span style=\"opacity: 0.80\"> 的 时候 </span><span style=\"background-color: hsl(0, 100.00%, 95.48%); opacity: 0.81\" title=\"-0.013\">手抖</span><span style=\"opacity: 0.80\"> 了   然后 </span><span style=\"background-color: hsl(0, 100.00%, 97.58%); opacity: 0.80\" title=\"-0.005\">整锅</span><span style=\"opacity: 0.80\"> 煲 就是 </span><span style=\"background-color: hsl(0, 100.00%, 96.29%); opacity: 0.81\" title=\"-0.010\">一锅</span><span style=\"opacity: 0.80\"> </span><span style=\"background-color: hsl(0, 100.00%, 97.72%); opacity: 0.80\" title=\"-0.005\">酱色</span><span style=\"opacity: 0.80\"> 。 </span><span style=\"background-color: hsl(120, 100.00%, 96.32%); opacity: 0.81\" title=\"0.010\">里面</span><span style=\"opacity: 0.80\"> 的 </span><span style=\"background-color: hsl(120, 100.00%, 97.54%); opacity: 0.80\" title=\"0.006\">咸鱼</span><span style=\"opacity: 0.80\"> 粒 很 </span><span style=\"background-color: hsl(0, 100.00%, 93.48%); opacity: 0.81\" title=\"-0.023\">显然</span><span style=\"opacity: 0.80\"> </span><span style=\"background-color: hsl(0, 100.00%, 84.65%); opacity: 0.85\" title=\"-0.076\">没有</span><span style=\"opacity: 0.80\"> 经过 任何 </span><span style=\"background-color: hsl(120, 100.00%, 99.81%); opacity: 0.80\" title=\"0.000\">处理</span><span style=\"opacity: 0.80\"> （ 泡 </span><span style=\"background-color: hsl(120, 100.00%, 94.44%); opacity: 0.81\" title=\"0.018\">一下</span><span style=\"opacity: 0.80\"> 水 </span><span style=\"background-color: hsl(0, 100.00%, 98.68%); opacity: 0.80\" title=\"-0.002\">去掉</span><span style=\"opacity: 0.80\"> </span><span style=\"background-color: hsl(120, 100.00%, 98.89%); opacity: 0.80\" title=\"0.002\">部分</span><span style=\"opacity: 0.80\"> 盐分 等 ） ， 再加之 菜 本身 很 咸 </span><span style=\"background-color: hsl(0, 100.00%, 97.78%); opacity: 0.80\" title=\"-0.005\">根本无法</span><span style=\"opacity: 0.80\"> </span><span style=\"background-color: hsl(120, 100.00%, 90.02%); opacity: 0.83\" title=\"0.041\">入口</span><span style=\"opacity: 0.80\"> ， </span><span style=\"background-color: hsl(0, 100.00%, 97.58%); opacity: 0.80\" title=\"-0.005\">整锅</span><span style=\"opacity: 0.80\"> 煲 </span><span style=\"background-color: hsl(0, 100.00%, 94.42%); opacity: 0.81\" title=\"-0.018\">基本</span><span style=\"opacity: 0.80\"> 没 动 ； </span><span style=\"background-color: hsl(120, 100.00%, 98.51%); opacity: 0.80\" title=\"0.003\">第二张</span><span style=\"opacity: 0.80\">   “ </span><span style=\"background-color: hsl(0, 100.00%, 92.01%); opacity: 0.82\" title=\"-0.030\">鱼头</span><span style=\"opacity: 0.80\"> </span><span style=\"background-color: hsl(120, 100.00%, 95.24%); opacity: 0.81\" title=\"0.014\">诱惑</span><span style=\"opacity: 0.80\">   ” ： 这 </span><span style=\"background-color: hsl(120, 100.00%, 96.41%); opacity: 0.81\" title=\"0.010\">道菜</span><span style=\"opacity: 0.80\"> 是 翔 哥点 的   还 </span><span style=\"background-color: hsl(120, 100.00%, 80.25%); opacity: 0.87\" title=\"0.110\">不错</span><span style=\"opacity: 0.80\">   首先 </span><span style=\"background-color: hsl(0, 100.00%, 92.01%); opacity: 0.82\" title=\"-0.030\">鱼头</span><span style=\"opacity: 0.80\"> 很 </span><span style=\"background-color: hsl(120, 100.00%, 95.98%); opacity: 0.81\" title=\"0.011\">新鲜</span><span style=\"opacity: 0.80\">   其次 </span><span style=\"background-color: hsl(0, 100.00%, 92.01%); opacity: 0.82\" title=\"-0.030\">鱼头</span><span style=\"opacity: 0.80\"> 蒸 的 </span><span style=\"background-color: hsl(120, 100.00%, 93.74%); opacity: 0.81\" title=\"0.021\">火候</span><span style=\"opacity: 0.80\"> </span><span style=\"background-color: hsl(120, 100.00%, 90.03%); opacity: 0.83\" title=\"0.041\">刚好</span><span style=\"opacity: 0.80\">   既 </span><span style=\"background-color: hsl(120, 100.00%, 89.50%); opacity: 0.83\" title=\"0.044\">入味</span><span style=\"opacity: 0.80\"> 还 不 老 ， </span><span style=\"background-color: hsl(120, 100.00%, 89.97%); opacity: 0.83\" title=\"0.042\">建议</span><span style=\"opacity: 0.80\"> 除了 </span><span style=\"background-color: hsl(120, 100.00%, 96.52%); opacity: 0.81\" title=\"0.009\">小米</span><span style=\"opacity: 0.80\"> 辣 再 </span><span style=\"background-color: hsl(120, 100.00%, 90.87%); opacity: 0.82\" title=\"0.036\">加上</span><span style=\"opacity: 0.80\"> 点泡椒 ， 这样 </span><span style=\"background-color: hsl(120, 100.00%, 97.80%); opacity: 0.80\" title=\"0.005\">无论是</span><span style=\"opacity: 0.80\"> </span><span style=\"background-color: hsl(0, 100.00%, 97.44%); opacity: 0.80\" title=\"-0.006\">颜色</span><span style=\"opacity: 0.80\"> 和 </span><span style=\"background-color: hsl(120, 100.00%, 96.06%); opacity: 0.81\" title=\"0.011\">口味</span><span style=\"opacity: 0.80\"> 上 都 会 更 棒 的 ！ 这 </span><span style=\"background-color: hsl(120, 100.00%, 96.41%); opacity: 0.81\" title=\"0.010\">道菜</span><span style=\"opacity: 0.80\"> </span><span style=\"background-color: hsl(0, 100.00%, 94.42%); opacity: 0.81\" title=\"-0.018\">基本</span><span style=\"opacity: 0.80\"> </span><span style=\"background-color: hsl(120, 100.00%, 93.50%); opacity: 0.81\" title=\"0.022\">消灭</span><span style=\"opacity: 0.80\"> ；   </span><span style=\"background-color: hsl(120, 100.00%, 98.71%); opacity: 0.80\" title=\"0.002\">第三张</span><span style=\"opacity: 0.80\"> ： “ </span><span style=\"background-color: hsl(0, 100.00%, 98.47%); opacity: 0.80\" title=\"-0.003\">小锅</span><span style=\"opacity: 0.80\"> </span><span style=\"background-color: hsl(0, 100.00%, 96.12%); opacity: 0.81\" title=\"-0.011\">土豆</span><span style=\"opacity: 0.80\"> ” ： </span><span style=\"background-color: hsl(120, 100.00%, 98.01%); opacity: 0.80\" title=\"0.004\">厚片</span><span style=\"opacity: 0.80\"> 的 </span><span style=\"background-color: hsl(0, 100.00%, 96.12%); opacity: 0.81\" title=\"-0.011\">土豆</span><span style=\"opacity: 0.80\"> </span><span style=\"background-color: hsl(120, 100.00%, 96.69%); opacity: 0.81\" title=\"0.009\">挂满</span><span style=\"opacity: 0.80\"> </span><span style=\"background-color: hsl(120, 100.00%, 90.73%); opacity: 0.82\" title=\"0.037\">酱汁</span><span style=\"opacity: 0.80\"> ， </span><span style=\"background-color: hsl(0, 100.00%, 98.91%); opacity: 0.80\" title=\"-0.002\">炉子</span><span style=\"opacity: 0.80\"> 在 </span><span style=\"background-color: hsl(120, 100.00%, 95.01%); opacity: 0.81\" title=\"0.015\">下面</span><span style=\"opacity: 0.80\"> </span><span style=\"background-color: hsl(120, 100.00%, 91.82%); opacity: 0.82\" title=\"0.031\">慢慢</span><span style=\"opacity: 0.80\"> </span><span style=\"background-color: hsl(0, 100.00%, 91.64%); opacity: 0.82\" title=\"-0.032\">加热</span><span style=\"opacity: 0.80\"> ， </span><span style=\"background-color: hsl(0, 100.00%, 89.33%); opacity: 0.83\" title=\"-0.045\">后来</span><span style=\"opacity: 0.80\"> 加 </span><span style=\"background-color: hsl(0, 100.00%, 98.48%); opacity: 0.80\" title=\"-0.003\">一片</span><span style=\"opacity: 0.80\"> </span><span style=\"background-color: hsl(0, 100.00%, 98.95%); opacity: 0.80\" title=\"-0.002\">放到</span><span style=\"opacity: 0.80\"> </span><span style=\"background-color: hsl(120, 100.00%, 97.46%); opacity: 0.80\" title=\"0.006\">嘴里</span><span style=\"opacity: 0.80\"> ， </span><span style=\"background-color: hsl(0, 100.00%, 94.63%); opacity: 0.81\" title=\"-0.017\">几乎</span><span style=\"opacity: 0.80\"> 是 </span><span style=\"background-color: hsl(120, 100.00%, 90.02%); opacity: 0.83\" title=\"0.041\">入口</span><span style=\"opacity: 0.80\"> 即 化 、 </span><span style=\"background-color: hsl(120, 100.00%, 90.18%); opacity: 0.83\" title=\"0.040\">口感</span><span style=\"opacity: 0.80\"> </span><span style=\"background-color: hsl(0, 100.00%, 97.10%); opacity: 0.80\" title=\"-0.007\">绵软</span><span style=\"opacity: 0.80\"> ， 也 是 </span><span style=\"background-color: hsl(0, 100.00%, 95.22%); opacity: 0.81\" title=\"-0.014\">一道</span><span style=\"opacity: 0.80\"> </span><span style=\"background-color: hsl(120, 100.00%, 80.25%); opacity: 0.87\" title=\"0.110\">不错</span><span style=\"opacity: 0.80\"> 的 下 </span><span style=\"background-color: hsl(0, 100.00%, 93.79%); opacity: 0.81\" title=\"-0.021\">饭菜</span><span style=\"opacity: 0.80\"> ； 第四张 ： “ </span><span style=\"background-color: hsl(120, 100.00%, 96.81%); opacity: 0.81\" title=\"0.008\">农家</span><span style=\"opacity: 0.80\"> </span><span style=\"background-color: hsl(120, 100.00%, 90.25%); opacity: 0.83\" title=\"0.040\">小菜</span><span style=\"opacity: 0.80\"> ” </span><span style=\"background-color: hsl(120, 100.00%, 92.51%); opacity: 0.82\" title=\"0.027\">其实</span><span style=\"opacity: 0.80\"> 就是 少 了 </span><span style=\"background-color: hsl(0, 100.00%, 94.88%); opacity: 0.81\" title=\"-0.016\">橄榄</span><span style=\"opacity: 0.80\"> 菜 和 </span><span style=\"background-color: hsl(0, 100.00%, 97.22%); opacity: 0.80\" title=\"-0.007\">肉末</span><span style=\"opacity: 0.80\"> 的 </span><span style=\"background-color: hsl(120, 100.00%, 91.07%); opacity: 0.82\" title=\"0.035\">豆角</span><span style=\"opacity: 0.80\"> 粒 ， </span><span style=\"background-color: hsl(120, 100.00%, 99.73%); opacity: 0.80\" title=\"0.000\">味道</span><span style=\"opacity: 0.80\"> 还 可以 ， 如果 把 </span><span style=\"background-color: hsl(120, 100.00%, 91.07%); opacity: 0.82\" title=\"0.035\">豆角</span><span style=\"opacity: 0.80\"> 再 煸 的 干 </span><span style=\"background-color: hsl(0, 100.00%, 92.51%); opacity: 0.82\" title=\"-0.027\">一点</span><span style=\"opacity: 0.80\"> （ </span><span style=\"background-color: hsl(0, 100.00%, 99.65%); opacity: 0.80\" title=\"-0.000\">表皮</span><span style=\"opacity: 0.80\"> 起皱 ） </span><span style=\"background-color: hsl(120, 100.00%, 90.18%); opacity: 0.83\" title=\"0.040\">口感</span><span style=\"opacity: 0.80\"> 会 </span><span style=\"background-color: hsl(120, 100.00%, 88.20%); opacity: 0.83\" title=\"0.052\">更好</span><span style=\"opacity: 0.80\"> ； </span><span style=\"background-color: hsl(120, 100.00%, 98.56%); opacity: 0.80\" title=\"0.003\">第五</span><span style=\"opacity: 0.80\"> 张 “ </span><span style=\"background-color: hsl(0, 100.00%, 98.09%); opacity: 0.80\" title=\"-0.004\">菜心</span><span style=\"opacity: 0.80\"> </span><span style=\"background-color: hsl(120, 100.00%, 98.46%); opacity: 0.80\" title=\"0.003\">金钩</span><span style=\"opacity: 0.80\"> </span><span style=\"background-color: hsl(120, 100.00%, 97.33%); opacity: 0.80\" title=\"0.006\">豆腐</span><span style=\"opacity: 0.80\"> ”   和 没 上 图 的 “ </span><span style=\"background-color: hsl(120, 100.00%, 95.84%); opacity: 0.81\" title=\"0.012\">老乡</span><span style=\"opacity: 0.80\"> </span><span style=\"background-color: hsl(120, 100.00%, 98.06%); opacity: 0.80\" title=\"0.004\">浓汤</span><span style=\"opacity: 0.80\"> ” </span><span style=\"background-color: hsl(120, 100.00%, 90.06%); opacity: 0.83\" title=\"0.041\">一起</span><span style=\"opacity: 0.80\"> 说 了 ， </span><span style=\"background-color: hsl(0, 100.00%, 97.62%); opacity: 0.80\" title=\"-0.005\">两道</span><span style=\"opacity: 0.80\"> </span><span style=\"background-color: hsl(0, 100.00%, 98.50%); opacity: 0.80\" title=\"-0.003\">分不清</span><span style=\"opacity: 0.80\"> 是 汤 、 羹 还是 菜 的 </span><span style=\"background-color: hsl(120, 100.00%, 93.50%); opacity: 0.81\" title=\"0.022\">东东</span><span style=\"opacity: 0.80\"> ， 都 是 </span><span style=\"background-color: hsl(120, 100.00%, 89.33%); opacity: 0.83\" title=\"0.045\">推荐</span><span style=\"opacity: 0.80\"> 菜   </span><span style=\"background-color: hsl(0, 100.00%, 98.50%); opacity: 0.80\" title=\"-0.003\">分不清</span><span style=\"opacity: 0.80\"> 也 </span><span style=\"background-color: hsl(0, 100.00%, 94.13%); opacity: 0.81\" title=\"-0.019\">无所谓</span><span style=\"opacity: 0.80\"> ， </span><span style=\"background-color: hsl(0, 100.00%, 96.53%); opacity: 0.81\" title=\"-0.009\">重点</span><span style=\"opacity: 0.80\"> 是 </span><span style=\"background-color: hsl(0, 100.00%, 91.86%); opacity: 0.82\" title=\"-0.031\">上菜</span><span style=\"opacity: 0.80\"> 的 时候 都 不是 热 的   都 是 温 的   “ </span><span style=\"background-color: hsl(0, 100.00%, 98.09%); opacity: 0.80\" title=\"-0.004\">菜心</span><span style=\"opacity: 0.80\"> ” </span><span style=\"background-color: hsl(120, 100.00%, 96.32%); opacity: 0.81\" title=\"0.010\">里面</span><span style=\"opacity: 0.80\"> 有 </span><span style=\"background-color: hsl(120, 100.00%, 93.89%); opacity: 0.81\" title=\"0.021\">蛋黄</span><span style=\"opacity: 0.80\"> 、 “ </span><span style=\"background-color: hsl(120, 100.00%, 98.06%); opacity: 0.80\" title=\"0.004\">浓汤</span><span style=\"opacity: 0.80\"> ” </span><span style=\"background-color: hsl(120, 100.00%, 96.32%); opacity: 0.81\" title=\"0.010\">里面</span><span style=\"opacity: 0.80\"> 有 </span><span style=\"background-color: hsl(120, 100.00%, 92.28%); opacity: 0.82\" title=\"0.029\">猪肚</span><span style=\"opacity: 0.80\"> ， 这 </span><span style=\"background-color: hsl(120, 100.00%, 95.10%); opacity: 0.81\" title=\"0.015\">两种</span><span style=\"opacity: 0.80\"> </span><span style=\"background-color: hsl(120, 100.00%, 98.42%); opacity: 0.80\" title=\"0.003\">食材</span><span style=\"opacity: 0.80\"> </span><span style=\"background-color: hsl(120, 100.00%, 97.85%); opacity: 0.80\" title=\"0.005\">变冷</span><span style=\"opacity: 0.80\"> 后 都 会 有 </span><span style=\"background-color: hsl(0, 100.00%, 93.31%); opacity: 0.82\" title=\"-0.023\">腥味</span><span style=\"opacity: 0.80\"> 且 </span><span style=\"background-color: hsl(120, 100.00%, 90.18%); opacity: 0.83\" title=\"0.040\">口感</span><span style=\"opacity: 0.80\"> </span><span style=\"background-color: hsl(0, 100.00%, 82.22%); opacity: 0.86\" title=\"-0.094\">不好</span><span style=\"opacity: 0.80\"> ， 加之 </span><span style=\"background-color: hsl(0, 100.00%, 94.78%); opacity: 0.81\" title=\"-0.016\">一碗</span><span style=\"opacity: 0.80\"> 有 淀粉类 的 羹   </span><span style=\"background-color: hsl(0, 100.00%, 98.09%); opacity: 0.80\" title=\"-0.004\">温温的</span><span style=\"opacity: 0.80\"> </span><span style=\"background-color: hsl(0, 100.00%, 92.74%); opacity: 0.82\" title=\"-0.026\">很难</span><span style=\"opacity: 0.80\"> 喝 ， </span><span style=\"background-color: hsl(120, 100.00%, 89.97%); opacity: 0.83\" title=\"0.042\">建议</span><span style=\"opacity: 0.80\"> </span><span style=\"background-color: hsl(0, 100.00%, 89.92%); opacity: 0.83\" title=\"-0.042\">出品</span><span style=\"opacity: 0.80\"> 后 马上传 </span><span style=\"background-color: hsl(0, 100.00%, 98.57%); opacity: 0.80\" title=\"-0.003\">菜到</span><span style=\"opacity: 0.80\"> </span><span style=\"background-color: hsl(0, 100.00%, 86.46%); opacity: 0.84\" title=\"-0.064\">客人</span><span style=\"opacity: 0.80\"> </span><span style=\"background-color: hsl(0, 100.00%, 92.64%); opacity: 0.82\" title=\"-0.027\">面前</span><span style=\"opacity: 0.80\"> ， </span><span style=\"background-color: hsl(120, 100.00%, 96.06%); opacity: 0.81\" title=\"0.011\">口味</span><span style=\"opacity: 0.80\"> 上 冷 了 就 都 不 </span><span style=\"background-color: hsl(120, 100.00%, 85.21%); opacity: 0.85\" title=\"0.073\">美味</span><span style=\"opacity: 0.80\"> 了 ； </span><span style=\"background-color: hsl(0, 100.00%, 99.88%); opacity: 0.80\" title=\"-0.000\">第六</span><span style=\"opacity: 0.80\"> 张 ： “ </span><span style=\"background-color: hsl(120, 100.00%, 90.86%); opacity: 0.82\" title=\"0.036\">麻酱</span><span style=\"opacity: 0.80\"> </span><span style=\"background-color: hsl(120, 100.00%, 95.43%); opacity: 0.81\" title=\"0.014\">油麦</span><span style=\"opacity: 0.80\"> 菜 ” </span><span style=\"background-color: hsl(120, 100.00%, 89.76%); opacity: 0.83\" title=\"0.043\">很多</span><span style=\"opacity: 0.80\"> </span><span style=\"background-color: hsl(120, 100.00%, 94.74%); opacity: 0.81\" title=\"0.017\">地方</span><span style=\"opacity: 0.80\"> 也 叫 “ </span><span style=\"background-color: hsl(120, 100.00%, 90.86%); opacity: 0.82\" title=\"0.036\">麻酱</span><span style=\"opacity: 0.80\"> </span><span style=\"background-color: hsl(0, 100.00%, 94.35%); opacity: 0.81\" title=\"-0.018\">凤尾</span><span style=\"opacity: 0.80\"> ”   </span><span style=\"background-color: hsl(120, 100.00%, 90.86%); opacity: 0.82\" title=\"0.036\">麻酱</span><span style=\"opacity: 0.80\"> 用 的 </span><span style=\"background-color: hsl(0, 100.00%, 87.58%); opacity: 0.84\" title=\"-0.056\">像是</span><span style=\"opacity: 0.80\"> </span><span style=\"background-color: hsl(120, 100.00%, 90.86%); opacity: 0.82\" title=\"0.036\">麻酱</span><span style=\"opacity: 0.80\"> 和 </span><span style=\"background-color: hsl(120, 100.00%, 97.24%); opacity: 0.80\" title=\"0.007\">花生酱</span><span style=\"opacity: 0.80\"> </span><span style=\"background-color: hsl(120, 100.00%, 93.22%); opacity: 0.82\" title=\"0.024\">混合</span><span style=\"opacity: 0.80\"> 的 </span><span style=\"background-color: hsl(120, 100.00%, 97.03%); opacity: 0.80\" title=\"0.007\">甜口</span><span style=\"opacity: 0.80\"> 的 </span><span style=\"background-color: hsl(120, 100.00%, 93.78%); opacity: 0.81\" title=\"0.021\">酱料</span><span style=\"opacity: 0.80\"> ， </span><span style=\"background-color: hsl(0, 100.00%, 96.53%); opacity: 0.81\" title=\"-0.009\">重点</span><span style=\"opacity: 0.80\"> 是 </span><span style=\"background-color: hsl(0, 100.00%, 84.65%); opacity: 0.85\" title=\"-0.076\">没有</span><span style=\"opacity: 0.80\"> </span><span style=\"background-color: hsl(0, 100.00%, 95.96%); opacity: 0.81\" title=\"-0.011\">稀释</span><span style=\"opacity: 0.80\"> ！ </span><span style=\"background-color: hsl(0, 100.00%, 89.85%); opacity: 0.83\" title=\"-0.042\">整个</span><span style=\"opacity: 0.80\"> </span><span style=\"background-color: hsl(0, 100.00%, 91.05%); opacity: 0.82\" title=\"-0.035\">一坨</span><span style=\"opacity: 0.80\"> 粘 在 </span><span style=\"background-color: hsl(120, 100.00%, 95.43%); opacity: 0.81\" title=\"0.014\">油麦</span><span style=\"opacity: 0.80\"> 菜 上   </span><span style=\"background-color: hsl(0, 100.00%, 78.52%); opacity: 0.88\" title=\"-0.124\">根本</span><span style=\"opacity: 0.80\"> 拌 </span><span style=\"background-color: hsl(0, 100.00%, 92.33%); opacity: 0.82\" title=\"-0.028\">不开</span><span style=\"opacity: 0.80\">   </span><span style=\"background-color: hsl(0, 100.00%, 98.04%); opacity: 0.80\" title=\"-0.004\">相比</span><span style=\"opacity: 0.80\"> </span><span style=\"background-color: hsl(120, 100.00%, 97.03%); opacity: 0.80\" title=\"0.007\">甜口</span><span style=\"opacity: 0.80\"> 的 </span><span style=\"background-color: hsl(120, 100.00%, 90.86%); opacity: 0.82\" title=\"0.036\">麻酱</span><span style=\"opacity: 0.80\"> 我 更 </span><span style=\"background-color: hsl(120, 100.00%, 81.12%); opacity: 0.87\" title=\"0.103\">喜欢</span><span style=\"opacity: 0.80\"> </span><span style=\"background-color: hsl(120, 100.00%, 95.29%); opacity: 0.81\" title=\"0.014\">热干面</span><span style=\"opacity: 0.80\"> </span><span style=\"background-color: hsl(0, 100.00%, 97.12%); opacity: 0.80\" title=\"-0.007\">那种</span><span style=\"opacity: 0.80\"> </span><span style=\"background-color: hsl(120, 100.00%, 95.85%); opacity: 0.81\" title=\"0.012\">咸口</span><span style=\"opacity: 0.80\"> 的 、 稀 </span><span style=\"background-color: hsl(0, 100.00%, 98.01%); opacity: 0.80\" title=\"-0.004\">点儿</span><span style=\"opacity: 0.80\"> 的 ； 第七 张 “ </span><span style=\"background-color: hsl(120, 100.00%, 90.39%); opacity: 0.83\" title=\"0.039\">面包</span><span style=\"opacity: 0.80\"> </span><span style=\"background-color: hsl(120, 100.00%, 95.24%); opacity: 0.81\" title=\"0.014\">诱惑</span><span style=\"opacity: 0.80\"> ” ： </span><span style=\"background-color: hsl(120, 100.00%, 94.32%); opacity: 0.81\" title=\"0.018\">这道</span><span style=\"opacity: 0.80\"> 是 敬菜 ， </span><span style=\"background-color: hsl(120, 100.00%, 96.06%); opacity: 0.81\" title=\"0.011\">口味</span><span style=\"opacity: 0.80\"> 还 </span><span style=\"background-color: hsl(120, 100.00%, 80.25%); opacity: 0.87\" title=\"0.110\">不错</span><span style=\"opacity: 0.80\"> ， </span><span style=\"background-color: hsl(120, 100.00%, 96.41%); opacity: 0.81\" title=\"0.010\">冰淇淋</span><span style=\"opacity: 0.80\"> 也 很 </span><span style=\"background-color: hsl(120, 100.00%, 84.05%); opacity: 0.85\" title=\"0.081\">好吃</span><span style=\"opacity: 0.80\">   就是 </span><span style=\"background-color: hsl(0, 100.00%, 90.86%); opacity: 0.82\" title=\"-0.036\">卖相</span><span style=\"opacity: 0.80\"> 太 一般 了   既然 要 </span><span style=\"background-color: hsl(0, 100.00%, 93.67%); opacity: 0.81\" title=\"-0.022\">推广</span><span style=\"opacity: 0.80\">   </span><span style=\"background-color: hsl(0, 100.00%, 94.59%); opacity: 0.81\" title=\"-0.017\">至少</span><span style=\"opacity: 0.80\"> 要 给 </span><span style=\"background-color: hsl(0, 100.00%, 98.01%); opacity: 0.80\" title=\"-0.004\">点儿</span><span style=\"opacity: 0.80\"> </span><span style=\"background-color: hsl(120, 100.00%, 93.50%); opacity: 0.81\" title=\"0.022\">装饰</span><span style=\"opacity: 0.80\"> ， </span><span style=\"background-color: hsl(120, 100.00%, 91.10%); opacity: 0.82\" title=\"0.035\">不用</span><span style=\"opacity: 0.80\"> 太 </span><span style=\"background-color: hsl(0, 100.00%, 97.51%); opacity: 0.80\" title=\"-0.006\">复杂</span><span style=\"opacity: 0.80\">   拉个 </span><span style=\"background-color: hsl(120, 100.00%, 87.55%); opacity: 0.84\" title=\"0.057\">巧克力</span><span style=\"opacity: 0.80\"> 线条 、 给 个 </span><span style=\"background-color: hsl(120, 100.00%, 96.62%); opacity: 0.81\" title=\"0.009\">蛋卷</span><span style=\"opacity: 0.80\"> 、 </span><span style=\"background-color: hsl(120, 100.00%, 93.78%); opacity: 0.81\" title=\"0.021\">水果</span><span style=\"opacity: 0.80\"> 粒 </span><span style=\"background-color: hsl(120, 100.00%, 93.43%); opacity: 0.82\" title=\"0.023\">稍稍</span><span style=\"opacity: 0.80\"> </span><span style=\"background-color: hsl(120, 100.00%, 97.36%); opacity: 0.80\" title=\"0.006\">点缀</span><span style=\"opacity: 0.80\"> </span><span style=\"background-color: hsl(120, 100.00%, 94.44%); opacity: 0.81\" title=\"0.018\">一下</span><span style=\"opacity: 0.80\"> 就 会 </span><span style=\"background-color: hsl(120, 100.00%, 94.35%); opacity: 0.81\" title=\"0.018\">好看</span><span style=\"opacity: 0.80\"> </span><span style=\"background-color: hsl(120, 100.00%, 89.76%); opacity: 0.83\" title=\"0.043\">很多</span><span style=\"opacity: 0.80\">   </span><span style=\"background-color: hsl(120, 100.00%, 90.39%); opacity: 0.83\" title=\"0.039\">面包</span><span style=\"opacity: 0.80\"> 本身 </span><span style=\"background-color: hsl(120, 100.00%, 90.18%); opacity: 0.83\" title=\"0.040\">口感</span><span style=\"opacity: 0.80\"> 和 </span><span style=\"background-color: hsl(120, 100.00%, 96.41%); opacity: 0.81\" title=\"0.010\">冰淇淋</span><span style=\"opacity: 0.80\"> 都 很 </span><span style=\"background-color: hsl(120, 100.00%, 84.05%); opacity: 0.85\" title=\"0.081\">好吃</span><span style=\"opacity: 0.80\">   比 </span><span style=\"background-color: hsl(120, 100.00%, 89.76%); opacity: 0.83\" title=\"0.043\">很多</span><span style=\"opacity: 0.80\"> </span><span style=\"background-color: hsl(120, 100.00%, 98.62%); opacity: 0.80\" title=\"0.002\">外面</span><span style=\"opacity: 0.80\"> </span><span style=\"background-color: hsl(120, 100.00%, 93.50%); opacity: 0.81\" title=\"0.022\">装饰</span><span style=\"opacity: 0.80\"> 的 </span><span style=\"background-color: hsl(0, 100.00%, 97.12%); opacity: 0.80\" title=\"-0.007\">那种</span><span style=\"opacity: 0.80\"> </span><span style=\"background-color: hsl(120, 100.00%, 94.73%); opacity: 0.81\" title=\"0.017\">美美</span><span style=\"opacity: 0.80\"> 的 </span><span style=\"background-color: hsl(120, 100.00%, 84.05%); opacity: 0.85\" title=\"0.081\">好吃</span><span style=\"opacity: 0.80\"> 多 了   就 差 了 </span><span style=\"background-color: hsl(0, 100.00%, 92.51%); opacity: 0.82\" title=\"-0.027\">一点</span><span style=\"opacity: 0.80\"> </span><span style=\"background-color: hsl(120, 100.00%, 93.50%); opacity: 0.81\" title=\"0.022\">装饰</span><span style=\"opacity: 0.80\"> ； 第八 张 “ </span><span style=\"background-color: hsl(0, 100.00%, 93.07%); opacity: 0.82\" title=\"-0.025\">绿茶</span><span style=\"opacity: 0.80\"> </span><span style=\"background-color: hsl(0, 100.00%, 96.55%); opacity: 0.81\" title=\"-0.009\">烤鸡</span><span style=\"opacity: 0.80\"> ” </span><span style=\"background-color: hsl(120, 100.00%, 89.76%); opacity: 0.83\" title=\"0.043\">很多</span><span style=\"opacity: 0.80\"> </span><span style=\"background-color: hsl(120, 100.00%, 92.32%); opacity: 0.82\" title=\"0.028\">人点</span><span style=\"opacity: 0.80\"> 这 </span><span style=\"background-color: hsl(120, 100.00%, 96.41%); opacity: 0.81\" title=\"0.010\">道菜</span><span style=\"opacity: 0.80\"> ， </span><span style=\"background-color: hsl(0, 100.00%, 98.04%); opacity: 0.80\" title=\"-0.004\">相比</span><span style=\"opacity: 0.80\"> 前 </span><span style=\"background-color: hsl(120, 100.00%, 94.96%); opacity: 0.81\" title=\"0.016\">几道</span><span style=\"opacity: 0.80\"> 的 </span><span style=\"background-color: hsl(120, 100.00%, 94.40%); opacity: 0.81\" title=\"0.018\">重口</span><span style=\"opacity: 0.80\"> ， </span><span style=\"background-color: hsl(0, 100.00%, 96.55%); opacity: 0.81\" title=\"-0.009\">烤鸡</span><span style=\"opacity: 0.80\"> </span><span style=\"background-color: hsl(120, 100.00%, 96.48%); opacity: 0.81\" title=\"0.009\">显得</span><span style=\"opacity: 0.80\"> 淡 了 一些 。 </span><span style=\"background-color: hsl(120, 100.00%, 99.05%); opacity: 0.80\" title=\"0.001\">鸡皮</span><span style=\"opacity: 0.80\"> 的 </span><span style=\"background-color: hsl(120, 100.00%, 97.60%); opacity: 0.80\" title=\"0.005\">保护</span><span style=\"opacity: 0.80\"> </span><span style=\"background-color: hsl(0, 100.00%, 94.42%); opacity: 0.81\" title=\"-0.018\">基本</span><span style=\"opacity: 0.80\"> </span><span style=\"background-color: hsl(0, 100.00%, 84.65%); opacity: 0.85\" title=\"-0.076\">没有</span><span style=\"opacity: 0.80\">   所以 </span><span style=\"background-color: hsl(0, 100.00%, 89.85%); opacity: 0.83\" title=\"-0.042\">整个</span><span style=\"opacity: 0.80\"> </span><span style=\"background-color: hsl(120, 100.00%, 96.26%); opacity: 0.81\" title=\"0.010\">鸡肉</span><span style=\"opacity: 0.80\"> 又 干 有 柴 、 也 挂不住 </span><span style=\"background-color: hsl(120, 100.00%, 92.26%); opacity: 0.82\" title=\"0.029\">调味料</span><span style=\"opacity: 0.80\"> 、 </span><span style=\"background-color: hsl(120, 100.00%, 85.33%); opacity: 0.85\" title=\"0.072\">下次</span><span style=\"opacity: 0.80\"> 有 </span><span style=\"background-color: hsl(120, 100.00%, 86.83%); opacity: 0.84\" title=\"0.061\">机会</span><span style=\"opacity: 0.80\"> </span><span style=\"background-color: hsl(120, 100.00%, 98.22%); opacity: 0.80\" title=\"0.004\">点个</span><span style=\"opacity: 0.80\"> </span><span style=\"background-color: hsl(120, 100.00%, 95.05%); opacity: 0.81\" title=\"0.015\">整只</span><span style=\"opacity: 0.80\"> 的 </span><span style=\"background-color: hsl(0, 100.00%, 94.87%); opacity: 0.81\" title=\"-0.016\">或许</span><span style=\"opacity: 0.80\"> 会 好 </span><span style=\"background-color: hsl(0, 100.00%, 92.51%); opacity: 0.82\" title=\"-0.027\">一点</span><span style=\"opacity: 0.80\"> ； </span><span style=\"background-color: hsl(0, 100.00%, 94.67%); opacity: 0.81\" title=\"-0.017\">最后</span><span style=\"opacity: 0.80\"> 还有 未上 图 的 </span><span style=\"background-color: hsl(0, 100.00%, 93.07%); opacity: 0.82\" title=\"-0.025\">绿茶</span><span style=\"opacity: 0.80\"> 饼 和 </span><span style=\"background-color: hsl(120, 100.00%, 95.14%); opacity: 0.81\" title=\"0.015\">糖醋</span><span style=\"opacity: 0.80\"> </span><span style=\"background-color: hsl(120, 100.00%, 94.12%); opacity: 0.81\" title=\"0.019\">里脊</span><span style=\"opacity: 0.80\"> ， </span><span style=\"background-color: hsl(0, 100.00%, 93.07%); opacity: 0.82\" title=\"-0.025\">绿茶</span><span style=\"opacity: 0.80\"> 饼 还 </span><span style=\"background-color: hsl(120, 100.00%, 80.25%); opacity: 0.87\" title=\"0.110\">不错</span><span style=\"opacity: 0.80\">   可以 </span><span style=\"background-color: hsl(120, 100.00%, 93.55%); opacity: 0.81\" title=\"0.022\">一试</span><span style=\"opacity: 0.80\">   只要 </span><span style=\"background-color: hsl(120, 100.00%, 93.74%); opacity: 0.81\" title=\"0.021\">火候</span><span style=\"opacity: 0.80\"> </span><span style=\"background-color: hsl(120, 100.00%, 94.72%); opacity: 0.81\" title=\"0.017\">控制</span><span style=\"opacity: 0.80\"> 的 好 不炸过 </span><span style=\"background-color: hsl(0, 100.00%, 94.42%); opacity: 0.81\" title=\"-0.018\">基本</span><span style=\"opacity: 0.80\"> 没 </span><span style=\"background-color: hsl(0, 100.00%, 82.26%); opacity: 0.86\" title=\"-0.094\">问题</span><span style=\"opacity: 0.80\"> ， </span><span style=\"background-color: hsl(120, 100.00%, 96.32%); opacity: 0.81\" title=\"0.010\">里面</span><span style=\"opacity: 0.80\"> 糯 糯 的 </span><span style=\"background-color: hsl(120, 100.00%, 96.06%); opacity: 0.81\" title=\"0.011\">馅儿</span><span style=\"opacity: 0.80\"> 很 </span><span style=\"background-color: hsl(120, 100.00%, 84.05%); opacity: 0.85\" title=\"0.081\">好吃</span><span style=\"opacity: 0.80\"> ； “ </span><span style=\"background-color: hsl(120, 100.00%, 95.14%); opacity: 0.81\" title=\"0.015\">糖醋</span><span style=\"opacity: 0.80\"> </span><span style=\"background-color: hsl(120, 100.00%, 94.12%); opacity: 0.81\" title=\"0.019\">里脊</span><span style=\"opacity: 0.80\"> ”   这 是 我 吃 过 最 </span><span style=\"background-color: hsl(0, 100.00%, 60.00%); opacity: 1.00\" title=\"-0.300\">难吃</span><span style=\"opacity: 0.80\"> 的 </span><span style=\"background-color: hsl(0, 100.00%, 98.84%); opacity: 0.80\" title=\"-0.002\">版本</span><span style=\"opacity: 0.80\"> ， </span><span style=\"background-color: hsl(0, 100.00%, 84.65%); opacity: 0.85\" title=\"-0.076\">没有</span><span style=\"opacity: 0.80\"> 之一 ！ </span><span style=\"background-color: hsl(120, 100.00%, 93.20%); opacity: 0.82\" title=\"0.024\">上次</span><span style=\"opacity: 0.80\"> 有 </span><span style=\"background-color: hsl(120, 100.00%, 96.28%); opacity: 0.81\" title=\"0.010\">一小</span><span style=\"opacity: 0.80\"> 哥吐 了 </span><span style=\"background-color: hsl(120, 100.00%, 98.38%); opacity: 0.80\" title=\"0.003\">一通</span><span style=\"opacity: 0.80\"> 槽   我 还 想 就 一个 </span><span style=\"background-color: hsl(120, 100.00%, 95.14%); opacity: 0.81\" title=\"0.015\">糖醋</span><span style=\"opacity: 0.80\"> </span><span style=\"background-color: hsl(120, 100.00%, 94.12%); opacity: 0.81\" title=\"0.019\">里脊</span><span style=\"opacity: 0.80\"> 也 不是 啥 难菜   不至于 吧   这次 就 抱 着 </span><span style=\"background-color: hsl(0, 100.00%, 98.92%); opacity: 0.80\" title=\"-0.002\">猎奇</span><span style=\"opacity: 0.80\"> 的 </span><span style=\"background-color: hsl(0, 100.00%, 96.64%); opacity: 0.81\" title=\"-0.009\">心里</span><span style=\"opacity: 0.80\"> 点 了 一个   </span><span style=\"background-color: hsl(120, 100.00%, 97.92%); opacity: 0.80\" title=\"0.004\">菜刚</span><span style=\"opacity: 0.80\"> </span><span style=\"background-color: hsl(0, 100.00%, 84.01%); opacity: 0.85\" title=\"-0.081\">上来</span><span style=\"opacity: 0.80\"> 我 就 </span><span style=\"background-color: hsl(0, 100.00%, 91.68%); opacity: 0.82\" title=\"-0.032\">后悔</span><span style=\"opacity: 0.80\"> 了 --- </span><span style=\"background-color: hsl(0, 100.00%, 98.82%); opacity: 0.80\" title=\"-0.002\">老抽</span><span style=\"opacity: 0.80\"> 色 （ shai ） 的 、 </span><span style=\"background-color: hsl(120, 100.00%, 98.62%); opacity: 0.80\" title=\"0.002\">外面</span><span style=\"opacity: 0.80\"> </span><span style=\"background-color: hsl(0, 100.00%, 96.57%); opacity: 0.81\" title=\"-0.009\">一圈</span><span style=\"opacity: 0.80\"> </span><span style=\"background-color: hsl(0, 100.00%, 89.78%); opacity: 0.83\" title=\"-0.043\">淀粉</span><span style=\"opacity: 0.80\"> （ 粉 </span><span style=\"background-color: hsl(0, 100.00%, 97.89%); opacity: 0.80\" title=\"-0.004\">面子</span><span style=\"opacity: 0.80\"> ） </span><span style=\"background-color: hsl(0, 100.00%, 94.42%); opacity: 0.81\" title=\"-0.018\">基本</span><span style=\"opacity: 0.80\"> 没 吃 着 肉 ， 糊哒 哒 粘成 一 坨   </span><span style=\"background-color: hsl(0, 100.00%, 97.39%); opacity: 0.80\" title=\"-0.006\">看起来</span><span style=\"opacity: 0.80\"> 和 那个 </span><span style=\"background-color: hsl(0, 100.00%, 95.76%); opacity: 0.81\" title=\"-0.012\">茄子</span><span style=\"opacity: 0.80\"> 煲 </span><span style=\"background-color: hsl(0, 100.00%, 85.39%); opacity: 0.85\" title=\"-0.071\">没什么</span><span style=\"opacity: 0.80\"> 太 大 </span><span style=\"background-color: hsl(0, 100.00%, 96.94%); opacity: 0.81\" title=\"-0.008\">区别</span><span style=\"opacity: 0.80\"> 。 </span><span style=\"background-color: hsl(120, 100.00%, 89.97%); opacity: 0.83\" title=\"0.042\">建议</span><span style=\"opacity: 0.80\"> 找 一个 做 </span><span style=\"background-color: hsl(120, 100.00%, 95.14%); opacity: 0.81\" title=\"0.015\">糖醋</span><span style=\"opacity: 0.80\"> </span><span style=\"background-color: hsl(120, 100.00%, 94.12%); opacity: 0.81\" title=\"0.019\">里脊</span><span style=\"opacity: 0.80\"> 的 店 吃 </span><span style=\"background-color: hsl(0, 100.00%, 89.40%); opacity: 0.83\" title=\"-0.045\">一次</span><span style=\"opacity: 0.80\">   </span><span style=\"background-color: hsl(120, 100.00%, 98.44%); opacity: 0.80\" title=\"0.003\">看一看</span><span style=\"opacity: 0.80\">   就 上 个 浆   </span><span style=\"background-color: hsl(0, 100.00%, 96.63%); opacity: 0.81\" title=\"-0.009\">过个</span><span style=\"opacity: 0.80\"> 油   浇个 </span><span style=\"background-color: hsl(120, 100.00%, 96.60%); opacity: 0.81\" title=\"0.009\">汁儿</span><span style=\"opacity: 0.80\"> 的 </span><span style=\"background-color: hsl(0, 100.00%, 89.60%); opacity: 0.83\" title=\"-0.044\">事情</span><span style=\"opacity: 0.80\">   没 那么 难     </span><span style=\"background-color: hsl(0, 100.00%, 98.14%); opacity: 0.80\" title=\"-0.004\">肉类</span><span style=\"opacity: 0.80\"> 的 </span><span style=\"background-color: hsl(0, 100.00%, 98.02%); opacity: 0.80\" title=\"-0.004\">菜品</span><span style=\"opacity: 0.80\"> </span><span style=\"background-color: hsl(0, 100.00%, 93.64%); opacity: 0.81\" title=\"-0.022\">价格</span><span style=\"opacity: 0.80\"> 可以 </span><span style=\"background-color: hsl(120, 100.00%, 95.56%); opacity: 0.81\" title=\"0.013\">适当</span><span style=\"opacity: 0.80\"> 调 高 一些   我 宁可 多 花点儿钱 吃 肉 也 </span><span style=\"background-color: hsl(0, 100.00%, 75.37%); opacity: 0.90\" title=\"-0.150\">不想</span><span style=\"opacity: 0.80\"> 吃 这 一 坨 坨 粉 </span><span style=\"background-color: hsl(0, 100.00%, 97.89%); opacity: 0.80\" title=\"-0.004\">面子</span><span style=\"opacity: 0.80\"> 。   </span><span style=\"background-color: hsl(0, 100.00%, 99.02%); opacity: 0.80\" title=\"-0.002\">总体而言</span><span style=\"opacity: 0.80\"> </span><span style=\"background-color: hsl(120, 100.00%, 96.15%); opacity: 0.81\" title=\"0.011\">环境</span><span style=\"opacity: 0.80\"> 还 </span><span style=\"background-color: hsl(120, 100.00%, 80.25%); opacity: 0.87\" title=\"0.110\">不错</span><span style=\"opacity: 0.80\">   </span><span style=\"background-color: hsl(0, 100.00%, 93.64%); opacity: 0.81\" title=\"-0.022\">价格</span><span style=\"opacity: 0.80\"> 很 </span><span style=\"background-color: hsl(120, 100.00%, 93.59%); opacity: 0.81\" title=\"0.022\">平民</span><span style=\"opacity: 0.80\">   </span><span style=\"background-color: hsl(0, 100.00%, 88.80%); opacity: 0.83\" title=\"-0.049\">服务</span><span style=\"opacity: 0.80\"> </span><span style=\"background-color: hsl(120, 100.00%, 94.65%); opacity: 0.81\" title=\"0.017\">中规中矩</span><span style=\"opacity: 0.80\">   但是 </span><span style=\"background-color: hsl(0, 100.00%, 98.02%); opacity: 0.80\" title=\"-0.004\">菜品</span><span style=\"opacity: 0.80\"> </span><span style=\"background-color: hsl(0, 100.00%, 87.07%); opacity: 0.84\" title=\"-0.060\">质量</span><span style=\"opacity: 0.80\"> 很 是 </span><span style=\"background-color: hsl(120, 100.00%, 95.32%); opacity: 0.81\" title=\"0.014\">有待</span><span style=\"opacity: 0.80\"> </span><span style=\"background-color: hsl(0, 100.00%, 97.31%); opacity: 0.80\" title=\"-0.006\">提高</span><span style=\"opacity: 0.80\"> 。 看 </span><span style=\"background-color: hsl(0, 100.00%, 97.81%); opacity: 0.80\" title=\"-0.005\">墙上</span><span style=\"opacity: 0.80\"> 的 </span><span style=\"background-color: hsl(120, 100.00%, 93.02%); opacity: 0.82\" title=\"0.025\">照片</span><span style=\"opacity: 0.80\"> （ 不 </span><span style=\"background-color: hsl(0, 100.00%, 83.53%); opacity: 0.86\" title=\"-0.085\">知道</span><span style=\"opacity: 0.80\"> </span><span style=\"background-color: hsl(120, 100.00%, 99.48%); opacity: 0.80\" title=\"0.001\">老板</span><span style=\"opacity: 0.80\"> </span><span style=\"background-color: hsl(0, 100.00%, 86.31%); opacity: 0.84\" title=\"-0.065\">是不是</span><span style=\"opacity: 0.80\"> 做 </span><span style=\"background-color: hsl(120, 100.00%, 96.91%); opacity: 0.81\" title=\"0.008\">青旅</span><span style=\"opacity: 0.80\"> </span><span style=\"background-color: hsl(120, 100.00%, 97.94%); opacity: 0.80\" title=\"0.004\">起家</span><span style=\"opacity: 0.80\"> 的 ） </span><span style=\"background-color: hsl(0, 100.00%, 98.02%); opacity: 0.80\" title=\"-0.004\">菜品</span><span style=\"opacity: 0.80\"> </span><span style=\"background-color: hsl(0, 100.00%, 74.86%); opacity: 0.90\" title=\"-0.155\">不会</span><span style=\"opacity: 0.80\"> 因为 </span><span style=\"background-color: hsl(0, 100.00%, 98.49%); opacity: 0.80\" title=\"-0.003\">价格低</span><span style=\"opacity: 0.80\"> 而 有销路   </span><span style=\"background-color: hsl(0, 100.00%, 88.93%); opacity: 0.83\" title=\"-0.048\">只会</span><span style=\"opacity: 0.80\"> 因为 </span><span style=\"background-color: hsl(0, 100.00%, 87.07%); opacity: 0.84\" title=\"-0.060\">质量</span><span style=\"opacity: 0.80\"> 好 才 </span><span style=\"background-color: hsl(0, 100.00%, 98.10%); opacity: 0.80\" title=\"-0.004\">畅销</span><span style=\"opacity: 0.80\"> （ </span><span style=\"background-color: hsl(0, 100.00%, 98.04%); opacity: 0.80\" title=\"-0.004\">相比</span><span style=\"opacity: 0.80\"> </span><span style=\"background-color: hsl(120, 100.00%, 97.94%); opacity: 0.80\" title=\"0.004\">低价</span><span style=\"opacity: 0.80\">   </span><span style=\"background-color: hsl(0, 100.00%, 97.66%); opacity: 0.80\" title=\"-0.005\">现在</span><span style=\"opacity: 0.80\"> 的 人们 更 </span><span style=\"background-color: hsl(120, 100.00%, 81.12%); opacity: 0.87\" title=\"0.103\">喜欢</span><span style=\"opacity: 0.80\"> </span><span style=\"background-color: hsl(0, 100.00%, 87.07%); opacity: 0.84\" title=\"-0.060\">质量</span><span style=\"opacity: 0.80\"> 好 而 有 </span><span style=\"background-color: hsl(120, 100.00%, 96.55%); opacity: 0.81\" title=\"0.009\">保障</span><span style=\"opacity: 0.80\"> 的 </span><span style=\"background-color: hsl(120, 100.00%, 92.38%); opacity: 0.82\" title=\"0.028\">食品</span><span style=\"opacity: 0.80\">   </span><span style=\"background-color: hsl(0, 100.00%, 93.64%); opacity: 0.81\" title=\"-0.022\">价格</span><span style=\"opacity: 0.80\"> 好 </span><span style=\"background-color: hsl(0, 100.00%, 92.51%); opacity: 0.82\" title=\"-0.027\">一点</span><span style=\"opacity: 0.80\"> 反而 是 </span><span style=\"background-color: hsl(0, 100.00%, 93.90%); opacity: 0.81\" title=\"-0.020\">保证</span><span style=\"opacity: 0.80\"> ）   </span><span style=\"background-color: hsl(120, 100.00%, 92.59%); opacity: 0.82\" title=\"0.027\">希望</span><span style=\"opacity: 0.80\"> </span><span style=\"background-color: hsl(0, 100.00%, 95.61%); opacity: 0.81\" title=\"-0.013\">越做越</span><span style=\"opacity: 0.80\"> 好 。 </span><span style=\"background-color: hsl(120, 100.00%, 95.60%); opacity: 0.81\" title=\"0.013\">地址</span><span style=\"opacity: 0.80\"> 在 </span><span style=\"background-color: hsl(120, 100.00%, 97.48%); opacity: 0.80\" title=\"0.006\">凯德</span><span style=\"opacity: 0.80\"> </span><span style=\"background-color: hsl(0, 100.00%, 95.38%); opacity: 0.81\" title=\"-0.014\">1818</span><span style=\"opacity: 0.80\">     5 楼手 </span><span style=\"background-color: hsl(120, 100.00%, 94.24%); opacity: 0.81\" title=\"0.019\">扶梯</span><span style=\"opacity: 0.80\"> 旁 。</span>\n",
       "    </p>\n",
       "\n",
       "\n",
       "    \n",
       "\n",
       "    \n",
       "\n",
       "    \n",
       "\n",
       "    \n",
       "\n",
       "\n",
       "    \n",
       "\n",
       "    \n",
       "\n",
       "    \n",
       "\n",
       "    \n",
       "\n",
       "    \n",
       "\n",
       "    \n",
       "\n",
       "\n",
       "    \n",
       "\n",
       "    \n",
       "\n",
       "    \n",
       "\n",
       "    \n",
       "\n",
       "    \n",
       "\n",
       "    \n",
       "\n",
       "\n",
       "\n"
      ],
      "text/plain": [
       "<IPython.core.display.HTML object>"
      ]
     },
     "execution_count": 19,
     "metadata": {},
     "output_type": "execute_result"
    }
   ],
   "source": [
    "lr_explain(model_lr, test3)  # 这都能给4星"
   ]
  },
  {
   "cell_type": "markdown",
   "metadata": {
    "id": "g1Vzxw-nx38g"
   },
   "source": [
    "## LR Oversampling"
   ]
  },
  {
   "cell_type": "markdown",
   "metadata": {
    "id": "iBviS2qg09mx"
   },
   "source": [
    "### Dataset Oversampling"
   ]
  },
  {
   "cell_type": "code",
   "execution_count": 20,
   "metadata": {
    "ExecuteTime": {
     "end_time": "2023-03-22T18:00:39.127557Z",
     "start_time": "2023-03-22T18:00:39.113554Z"
    },
    "id": "mrfNGRKCx38g",
    "outputId": "16159cea-381c-4f3c-c494-294b46ab58a7",
    "scrolled": false
   },
   "outputs": [
    {
     "data": {
      "text/plain": [
       "1     29132\n",
       "-1     2477\n",
       "Name: sentiment, dtype: int64"
      ]
     },
     "execution_count": 20,
     "metadata": {},
     "output_type": "execute_result"
    }
   ],
   "source": [
    "data_train[\"sentiment\"].value_counts()"
   ]
  },
  {
   "cell_type": "code",
   "execution_count": 21,
   "metadata": {
    "ExecuteTime": {
     "end_time": "2023-03-22T18:00:39.159564Z",
     "start_time": "2023-03-22T18:00:39.130557Z"
    }
   },
   "outputs": [
    {
     "data": {
      "text/plain": [
       "-1    29724\n",
       "1     29132\n",
       "Name: sentiment, dtype: int64"
      ]
     },
     "execution_count": 21,
     "metadata": {},
     "output_type": "execute_result"
    }
   ],
   "source": [
    "mask_neg = data_train[\"sentiment\"] == '-1'\n",
    "mask_pos = data_train[\"sentiment\"] == '1'\n",
    "\n",
    "data_train_neg = data_train[mask_neg]\n",
    "data_train_pos = data_train[mask_pos]\n",
    "\n",
    "data_train_neg_oversamp = pd.concat([data_train_neg,data_train_neg,data_train_neg,data_train_neg,data_train_neg,data_train_neg,data_train_neg,data_train_neg,data_train_neg,data_train_neg,data_train_neg,data_train_neg])\n",
    "data_train_oversamp = pd.concat([data_train_pos,data_train_neg_oversamp],axis=0,ignore_index=True)\n",
    "data_train_oversamp[\"sentiment\"].value_counts()"
   ]
  },
  {
   "cell_type": "code",
   "execution_count": 22,
   "metadata": {
    "ExecuteTime": {
     "end_time": "2023-03-22T18:01:51.592567Z",
     "start_time": "2023-03-22T18:00:39.162564Z"
    }
   },
   "outputs": [],
   "source": [
    "x_train_lr_oversamp = tokenization_dataset(data_train_oversamp[\"review\"])\n",
    "y_train_lr_oversamp = data_train_oversamp['sentiment']"
   ]
  },
  {
   "cell_type": "code",
   "execution_count": 23,
   "metadata": {
    "ExecuteTime": {
     "end_time": "2023-03-22T18:01:56.191855Z",
     "start_time": "2023-03-22T18:01:51.595548Z"
    }
   },
   "outputs": [
    {
     "data": {
      "text/plain": [
       "TfidfVectorizer(lowercase=False, max_features=30000,\n",
       "                stop_words=['、', '。', '〈', '〉', '《', '》', '一', '一个', '一些', '一何',\n",
       "                            '一切', '一则', '一方面', '一旦', '一来', '一样', '一种', '一般',\n",
       "                            '一转眼', '七', '万一', '三', '上', '上下', '下', '不', '不仅',\n",
       "                            '不但', '不光', '不单', ...])"
      ]
     },
     "execution_count": 23,
     "metadata": {},
     "output_type": "execute_result"
    }
   ],
   "source": [
    "tv_oversamp = TfidfVectorizer(stop_words=stopwords, max_features=30000, lowercase = False)\n",
    "tv_oversamp.fit(x_train_lr_oversamp)"
   ]
  },
  {
   "cell_type": "markdown",
   "metadata": {
    "id": "dWfgpYBax38h"
   },
   "source": [
    "### Train Oversampled Dataset"
   ]
  },
  {
   "cell_type": "code",
   "execution_count": 24,
   "metadata": {
    "ExecuteTime": {
     "end_time": "2023-03-22T18:02:01.488436Z",
     "start_time": "2023-03-22T18:01:56.194857Z"
    },
    "id": "PoNJTqhHx38h",
    "outputId": "651ff30b-a0bd-4ca7-ad5c-ed7474d9b9d7"
   },
   "outputs": [
    {
     "data": {
      "text/plain": [
       "0.9461020211742059"
      ]
     },
     "execution_count": 24,
     "metadata": {},
     "output_type": "execute_result"
    }
   ],
   "source": [
    "#LR\n",
    "model_lr_oversamp = LogisticRegression(max_iter=10000)\n",
    "model_lr_oversamp.fit(tv_oversamp.transform(x_train_lr_oversamp), y_train_lr_oversamp)\n",
    "model_lr_oversamp.score(tv_oversamp.transform(x_val_lr), y_val_lr)"
   ]
  },
  {
   "cell_type": "markdown",
   "metadata": {
    "id": "752VcIqDx38h"
   },
   "source": [
    "### Evaluation for Oversampled LR Model"
   ]
  },
  {
   "cell_type": "code",
   "execution_count": 25,
   "metadata": {
    "ExecuteTime": {
     "end_time": "2023-03-22T18:02:01.820100Z",
     "start_time": "2023-03-22T18:02:01.490421Z"
    },
    "id": "x8hf2cNZx38i"
   },
   "outputs": [],
   "source": [
    "y_pred_lr = model_lr_oversamp.predict(tv_oversamp.transform(x_test_lr))"
   ]
  },
  {
   "cell_type": "code",
   "execution_count": 26,
   "metadata": {
    "ExecuteTime": {
     "end_time": "2023-03-22T18:02:01.899114Z",
     "start_time": "2023-03-22T18:02:01.822095Z"
    },
    "id": "LiDkv-Utx38i",
    "outputId": "d3931981-93e2-4257-8e93-cd858be9f6e9",
    "scrolled": true
   },
   "outputs": [
    {
     "name": "stdout",
     "output_type": "stream",
     "text": [
      "              precision    recall  f1-score   support\n",
      "\n",
      "          -1       0.60      0.85      0.70       338\n",
      "           1       0.99      0.95      0.97      3885\n",
      "\n",
      "    accuracy                           0.94      4223\n",
      "   macro avg       0.79      0.90      0.84      4223\n",
      "weighted avg       0.96      0.94      0.95      4223\n",
      "\n"
     ]
    }
   ],
   "source": [
    "# classification report\n",
    "from sklearn.metrics import classification_report\n",
    "print(classification_report(y_test_lr, y_pred_lr))"
   ]
  },
  {
   "cell_type": "code",
   "execution_count": 27,
   "metadata": {
    "ExecuteTime": {
     "end_time": "2023-03-22T18:02:01.915119Z",
     "start_time": "2023-03-22T18:02:01.901122Z"
    }
   },
   "outputs": [
    {
     "data": {
      "text/plain": [
       "array([[ 288,   50],\n",
       "       [ 193, 3692]], dtype=int64)"
      ]
     },
     "execution_count": 27,
     "metadata": {},
     "output_type": "execute_result"
    }
   ],
   "source": [
    "# Confusion Matrix\n",
    "from sklearn.metrics import confusion_matrix\n",
    "confusion_matrix(y_test_lr, y_pred_lr)"
   ]
  },
  {
   "cell_type": "code",
   "execution_count": 28,
   "metadata": {
    "ExecuteTime": {
     "end_time": "2023-03-22T18:02:01.931127Z",
     "start_time": "2023-03-22T18:02:01.921111Z"
    }
   },
   "outputs": [
    {
     "data": {
      "text/plain": [
       "review       吃帝王蟹的专门店，门口就挂着巨大无比的螃蟹，同行的盆友们想吃帝王蟹，我们就按着大众点评找过来...\n",
       "star                                                       5.0\n",
       "sentiment                                                    1\n",
       "Name: 606, dtype: object"
      ]
     },
     "execution_count": 28,
     "metadata": {},
     "output_type": "execute_result"
    }
   ],
   "source": [
    "data_test.iloc[536]"
   ]
  },
  {
   "cell_type": "code",
   "execution_count": 29,
   "metadata": {
    "ExecuteTime": {
     "end_time": "2023-03-22T18:02:01.995126Z",
     "start_time": "2023-03-22T18:02:01.933129Z"
    },
    "id": "E_Qif6-kx38i",
    "outputId": "e6ab0bec-58ca-41de-88ff-ad865ca7e780"
   },
   "outputs": [
    {
     "data": {
      "text/html": [
       "\n",
       "    <style>\n",
       "    table.eli5-weights tr:hover {\n",
       "        filter: brightness(85%);\n",
       "    }\n",
       "</style>\n",
       "\n",
       "\n",
       "\n",
       "    \n",
       "\n",
       "    \n",
       "\n",
       "    \n",
       "\n",
       "    \n",
       "\n",
       "    \n",
       "\n",
       "    \n",
       "\n",
       "\n",
       "    \n",
       "\n",
       "    \n",
       "\n",
       "    \n",
       "\n",
       "    \n",
       "        \n",
       "\n",
       "    \n",
       "\n",
       "        \n",
       "\n",
       "        \n",
       "    \n",
       "        \n",
       "        \n",
       "    \n",
       "        <p style=\"margin-bottom: 0.5em; margin-top: 0em\">\n",
       "            <b>\n",
       "    \n",
       "        y=-1\n",
       "    \n",
       "</b>\n",
       "\n",
       "    \n",
       "    (probability <b>0.591</b>, score <b>-0.367</b>)\n",
       "\n",
       "top features\n",
       "        </p>\n",
       "    \n",
       "    <table class=\"eli5-weights\"\n",
       "           style=\"border-collapse: collapse; border: none; margin-top: 0em; table-layout: auto; margin-bottom: 2em;\">\n",
       "        <thead>\n",
       "        <tr style=\"border: none;\">\n",
       "            \n",
       "                <th style=\"padding: 0 1em 0 0.5em; text-align: right; border: none;\" title=\"Feature contribution already accounts for the feature value (for linear models, contribution = weight * feature value), and the sum of feature contributions is equal to the score or, for some classifiers, to the probability. Feature values are shown if &quot;show_feature_values&quot; is True.\">\n",
       "                    Contribution<sup>?</sup>\n",
       "                </th>\n",
       "            \n",
       "            <th style=\"padding: 0 0.5em 0 0.5em; text-align: left; border: none;\">Feature</th>\n",
       "            \n",
       "        </tr>\n",
       "        </thead>\n",
       "        <tbody>\n",
       "        \n",
       "            <tr style=\"background-color: hsl(120, 100.00%, 80.00%); border: none;\">\n",
       "    <td style=\"padding: 0 1em 0 0.5em; text-align: right; border: none;\">\n",
       "        +0.446\n",
       "    </td>\n",
       "    <td style=\"padding: 0 0.5em 0 0.5em; text-align: left; border: none;\">\n",
       "        &lt;BIAS&gt;\n",
       "    </td>\n",
       "    \n",
       "</tr>\n",
       "        \n",
       "        \n",
       "\n",
       "        \n",
       "        \n",
       "            <tr style=\"background-color: hsl(0, 100.00%, 94.08%); border: none;\">\n",
       "    <td style=\"padding: 0 1em 0 0.5em; text-align: right; border: none;\">\n",
       "        -0.078\n",
       "    </td>\n",
       "    <td style=\"padding: 0 0.5em 0 0.5em; text-align: left; border: none;\">\n",
       "        Highlighted in text (sum)\n",
       "    </td>\n",
       "    \n",
       "</tr>\n",
       "        \n",
       "\n",
       "        </tbody>\n",
       "    </table>\n",
       "\n",
       "    \n",
       "\n",
       "\n",
       "\n",
       "    <p style=\"margin-bottom: 2.5em; margin-top:-0.5em;\">\n",
       "        <span style=\"opacity: 0.80\">吃 </span><span style=\"background-color: hsl(0, 100.00%, 65.39%); opacity: 0.96\" title=\"-0.072\">帝王</span><span style=\"opacity: 0.80\"> 蟹 的 </span><span style=\"background-color: hsl(120, 100.00%, 66.47%); opacity: 0.96\" title=\"0.069\">专门店</span><span style=\"opacity: 0.80\"> ， </span><span style=\"background-color: hsl(0, 100.00%, 82.03%); opacity: 0.86\" title=\"-0.028\">门口</span><span style=\"opacity: 0.80\"> 就 挂 着 </span><span style=\"background-color: hsl(120, 100.00%, 97.31%); opacity: 0.80\" title=\"0.002\">巨大</span><span style=\"opacity: 0.80\"> </span><span style=\"background-color: hsl(120, 100.00%, 92.61%); opacity: 0.82\" title=\"0.008\">无比</span><span style=\"opacity: 0.80\"> 的 </span><span style=\"background-color: hsl(120, 100.00%, 74.79%); opacity: 0.90\" title=\"0.046\">螃蟹</span><span style=\"opacity: 0.80\"> ， </span><span style=\"background-color: hsl(120, 100.00%, 92.12%); opacity: 0.82\" title=\"0.009\">同行</span><span style=\"opacity: 0.80\"> 的 </span><span style=\"background-color: hsl(120, 100.00%, 60.00%); opacity: 1.00\" title=\"0.089\">盆友们</span><span style=\"opacity: 0.80\"> 想 吃 </span><span style=\"background-color: hsl(0, 100.00%, 65.39%); opacity: 0.96\" title=\"-0.072\">帝王</span><span style=\"opacity: 0.80\"> 蟹 ， 我们 就 </span><span style=\"background-color: hsl(0, 100.00%, 85.47%); opacity: 0.85\" title=\"-0.021\">按着</span><span style=\"opacity: 0.80\"> </span><span style=\"background-color: hsl(120, 100.00%, 89.96%); opacity: 0.83\" title=\"0.012\">大众</span><span style=\"opacity: 0.80\"> </span><span style=\"background-color: hsl(0, 100.00%, 95.71%); opacity: 0.81\" title=\"-0.004\">点评</span><span style=\"opacity: 0.80\"> 找 </span><span style=\"background-color: hsl(120, 100.00%, 82.88%); opacity: 0.86\" title=\"0.026\">过来</span><span style=\"opacity: 0.80\"> 的 ， </span><span style=\"background-color: hsl(120, 100.00%, 79.12%); opacity: 0.88\" title=\"0.035\">离住</span><span style=\"opacity: 0.80\"> 的 </span><span style=\"background-color: hsl(120, 100.00%, 82.63%); opacity: 0.86\" title=\"0.027\">酒店</span><span style=\"opacity: 0.80\"> </span><span style=\"background-color: hsl(120, 100.00%, 91.02%); opacity: 0.82\" title=\"0.011\">比较</span><span style=\"opacity: 0.80\"> 近 ， </span><span style=\"background-color: hsl(120, 100.00%, 79.50%); opacity: 0.88\" title=\"0.034\">居然</span><span style=\"opacity: 0.80\"> </span><span style=\"background-color: hsl(0, 100.00%, 91.42%); opacity: 0.82\" title=\"-0.010\">找到</span><span style=\"opacity: 0.80\"> 了 ， 但是 我们 到 的 </span><span style=\"background-color: hsl(120, 100.00%, 91.02%); opacity: 0.82\" title=\"0.011\">比较</span><span style=\"opacity: 0.80\"> 晚 了 ， 我们 </span><span style=\"background-color: hsl(0, 100.00%, 88.02%); opacity: 0.84\" title=\"-0.016\">大概</span><span style=\"opacity: 0.80\"> 九点钟 到 的 ， 被 </span><span style=\"background-color: hsl(120, 100.00%, 90.90%); opacity: 0.82\" title=\"0.011\">告知</span><span style=\"opacity: 0.80\"> 十点钟 就要 </span><span style=\"background-color: hsl(120, 100.00%, 76.12%); opacity: 0.90\" title=\"0.042\">打烊</span><span style=\"opacity: 0.80\"> 了 ， 好 吧 ， 都 </span><span style=\"background-color: hsl(0, 100.00%, 94.70%); opacity: 0.81\" title=\"-0.005\">收工</span><span style=\"opacity: 0.80\"> 这么 的 早 ， 但是 我们 还是 </span><span style=\"background-color: hsl(0, 100.00%, 70.17%); opacity: 0.93\" title=\"-0.058\">毅然</span><span style=\"opacity: 0.80\"> 的 坐 了 </span><span style=\"background-color: hsl(120, 100.00%, 97.09%); opacity: 0.80\" title=\"0.002\">进去</span><span style=\"opacity: 0.80\"> ， </span><span style=\"background-color: hsl(120, 100.00%, 69.31%); opacity: 0.94\" title=\"0.061\">可能</span><span style=\"opacity: 0.80\"> </span><span style=\"background-color: hsl(120, 100.00%, 94.73%); opacity: 0.81\" title=\"0.005\">是因为</span><span style=\"opacity: 0.80\"> 晚 了 ， 也 </span><span style=\"background-color: hsl(120, 100.00%, 69.31%); opacity: 0.94\" title=\"0.061\">可能</span><span style=\"opacity: 0.80\"> 是 </span><span style=\"background-color: hsl(120, 100.00%, 96.77%); opacity: 0.81\" title=\"0.002\">价格</span><span style=\"opacity: 0.80\"> </span><span style=\"background-color: hsl(120, 100.00%, 91.02%); opacity: 0.82\" title=\"0.011\">比较</span><span style=\"opacity: 0.80\"> </span><span style=\"background-color: hsl(120, 100.00%, 87.93%); opacity: 0.84\" title=\"0.016\">高端</span><span style=\"opacity: 0.80\"> ， 所以 </span><span style=\"background-color: hsl(120, 100.00%, 95.35%); opacity: 0.81\" title=\"0.004\">人不多</span><span style=\"opacity: 0.80\"> ， 我们 坐 的 </span><span style=\"background-color: hsl(120, 100.00%, 87.45%); opacity: 0.84\" title=\"0.017\">包房</span><span style=\"opacity: 0.80\"> ， 塌塌米 … … \\ \\ n 点 了 </span><span style=\"background-color: hsl(0, 100.00%, 87.37%); opacity: 0.84\" title=\"-0.017\">日本</span><span style=\"opacity: 0.80\"> </span><span style=\"background-color: hsl(0, 100.00%, 60.74%); opacity: 0.99\" title=\"-0.086\">清酒</span><span style=\"opacity: 0.80\"> ， 点 了 </span><span style=\"background-color: hsl(120, 100.00%, 83.00%); opacity: 0.86\" title=\"0.026\">半份</span><span style=\"opacity: 0.80\"> 的 </span><span style=\"background-color: hsl(0, 100.00%, 65.39%); opacity: 0.96\" title=\"-0.072\">帝王</span><span style=\"opacity: 0.80\"> 蟹 ， 一个 </span><span style=\"background-color: hsl(120, 100.00%, 88.42%); opacity: 0.83\" title=\"0.015\">三人份</span><span style=\"opacity: 0.80\"> 的 </span><span style=\"background-color: hsl(0, 100.00%, 66.63%); opacity: 0.95\" title=\"-0.069\">刺身</span><span style=\"opacity: 0.80\"> </span><span style=\"background-color: hsl(120, 100.00%, 87.66%); opacity: 0.84\" title=\"0.017\">拼盘</span><span style=\"opacity: 0.80\"> ~ \\ \\ n </span><span style=\"background-color: hsl(0, 100.00%, 85.87%); opacity: 0.85\" title=\"-0.020\">三个</span><span style=\"opacity: 0.80\"> 吃 </span><span style=\"background-color: hsl(120, 100.00%, 85.50%); opacity: 0.85\" title=\"0.021\">下来</span><span style=\"opacity: 0.80\"> </span><span style=\"background-color: hsl(0, 100.00%, 88.02%); opacity: 0.84\" title=\"-0.016\">大概</span><span style=\"opacity: 0.80\"> </span><span style=\"background-color: hsl(120, 100.00%, 97.76%); opacity: 0.80\" title=\"0.001\">人均</span><span style=\"opacity: 0.80\"> </span><span style=\"background-color: hsl(120, 100.00%, 70.60%); opacity: 0.93\" title=\"0.057\">二百多</span><span style=\"opacity: 0.80\"> 吧 ， 如果 我 没 </span><span style=\"background-color: hsl(120, 100.00%, 86.03%); opacity: 0.84\" title=\"0.020\">记错</span><span style=\"opacity: 0.80\"> 的话 ， </span><span style=\"background-color: hsl(0, 100.00%, 92.48%); opacity: 0.82\" title=\"-0.008\">其实</span><span style=\"opacity: 0.80\"> </span><span style=\"background-color: hsl(120, 100.00%, 94.99%); opacity: 0.81\" title=\"0.005\">感觉</span><span style=\"opacity: 0.80\"> 还 可以 ， </span><span style=\"background-color: hsl(120, 100.00%, 92.35%); opacity: 0.82\" title=\"0.008\">毕竟</span><span style=\"opacity: 0.80\"> 在 这个 </span><span style=\"background-color: hsl(0, 100.00%, 72.40%); opacity: 0.92\" title=\"-0.052\">地段</span><span style=\"opacity: 0.80\"> ， 而且 </span><span style=\"background-color: hsl(120, 100.00%, 95.74%); opacity: 0.81\" title=\"0.004\">食材</span><span style=\"opacity: 0.80\"> 很 </span><span style=\"background-color: hsl(0, 100.00%, 77.65%); opacity: 0.89\" title=\"-0.039\">新鲜</span><span style=\"opacity: 0.80\"> 的 ， 蟹 很 </span><span style=\"background-color: hsl(120, 100.00%, 86.08%); opacity: 0.84\" title=\"0.020\">肥美</span><span style=\"opacity: 0.80\"> ， </span><span style=\"background-color: hsl(0, 100.00%, 82.03%); opacity: 0.86\" title=\"-0.028\">门口</span><span style=\"opacity: 0.80\"> 的 大水池 </span><span style=\"background-color: hsl(120, 100.00%, 84.18%); opacity: 0.85\" title=\"0.024\">里面</span><span style=\"opacity: 0.80\"> </span><span style=\"background-color: hsl(0, 100.00%, 62.98%); opacity: 0.98\" title=\"-0.080\">有活</span><span style=\"opacity: 0.80\"> 的 </span><span style=\"background-color: hsl(0, 100.00%, 65.39%); opacity: 0.96\" title=\"-0.072\">帝王</span><span style=\"opacity: 0.80\"> 蟹 ， 供 </span><span style=\"background-color: hsl(0, 100.00%, 81.40%); opacity: 0.87\" title=\"-0.030\">观赏</span><span style=\"opacity: 0.80\"> … … \\ \\ n </span><span style=\"background-color: hsl(120, 100.00%, 95.01%); opacity: 0.81\" title=\"0.005\">服务员</span><span style=\"opacity: 0.80\"> 都 是 穿 的 </span><span style=\"background-color: hsl(120, 100.00%, 83.33%); opacity: 0.86\" title=\"0.025\">传统</span><span style=\"opacity: 0.80\"> </span><span style=\"background-color: hsl(0, 100.00%, 79.38%); opacity: 0.88\" title=\"-0.034\">服饰</span><span style=\"opacity: 0.80\"> ， </span><span style=\"background-color: hsl(120, 100.00%, 90.62%); opacity: 0.83\" title=\"0.011\">不会</span><span style=\"opacity: 0.80\"> 讲 </span><span style=\"background-color: hsl(0, 100.00%, 69.78%); opacity: 0.93\" title=\"-0.059\">英文</span><span style=\"opacity: 0.80\"> 和 </span><span style=\"background-color: hsl(0, 100.00%, 75.70%); opacity: 0.90\" title=\"-0.044\">中文</span><span style=\"opacity: 0.80\"> ， 但是 </span><span style=\"background-color: hsl(120, 100.00%, 82.98%); opacity: 0.86\" title=\"0.026\">菜单</span><span style=\"opacity: 0.80\"> </span><span style=\"background-color: hsl(0, 100.00%, 98.28%); opacity: 0.80\" title=\"-0.001\">上面</span><span style=\"opacity: 0.80\"> 有 </span><span style=\"background-color: hsl(120, 100.00%, 82.29%); opacity: 0.86\" title=\"0.028\">图片</span><span style=\"opacity: 0.80\"> ， </span><span style=\"background-color: hsl(0, 100.00%, 96.85%); opacity: 0.81\" title=\"-0.002\">完全</span><span style=\"opacity: 0.80\"> 不 </span><span style=\"background-color: hsl(0, 100.00%, 82.44%); opacity: 0.86\" title=\"-0.027\">影响</span><span style=\"opacity: 0.80\"> 我们 </span><span style=\"background-color: hsl(0, 100.00%, 94.38%); opacity: 0.81\" title=\"-0.005\">交流</span><span style=\"opacity: 0.80\"> ， 呵呵 ~ ~ 吃 的 </span><span style=\"background-color: hsl(120, 100.00%, 86.40%); opacity: 0.84\" title=\"0.019\">很饱</span><span style=\"opacity: 0.80\"> ， 很 </span><span style=\"background-color: hsl(120, 100.00%, 81.42%); opacity: 0.87\" title=\"0.030\">满足</span><span style=\"opacity: 0.80\"> … … \\ \\ n</span>\n",
       "    </p>\n",
       "\n",
       "\n",
       "    \n",
       "\n",
       "    \n",
       "\n",
       "    \n",
       "\n",
       "    \n",
       "\n",
       "\n",
       "    \n",
       "\n",
       "    \n",
       "\n",
       "    \n",
       "\n",
       "    \n",
       "\n",
       "    \n",
       "\n",
       "    \n",
       "\n",
       "\n",
       "    \n",
       "\n",
       "    \n",
       "\n",
       "    \n",
       "\n",
       "    \n",
       "\n",
       "    \n",
       "\n",
       "    \n",
       "\n",
       "\n",
       "\n"
      ],
      "text/plain": [
       "<IPython.core.display.HTML object>"
      ]
     },
     "execution_count": 29,
     "metadata": {},
     "output_type": "execute_result"
    }
   ],
   "source": [
    "lr_explain(model_lr_oversamp, data_test.iloc[536]['review'])"
   ]
  },
  {
   "cell_type": "code",
   "execution_count": 30,
   "metadata": {
    "ExecuteTime": {
     "end_time": "2023-03-22T18:02:02.043139Z",
     "start_time": "2023-03-22T18:02:01.997127Z"
    },
    "id": "xWFSNhDlx38i",
    "outputId": "9be5b9cf-e35e-486c-aa66-001e72384dbc",
    "scrolled": true
   },
   "outputs": [
    {
     "data": {
      "text/html": [
       "\n",
       "    <style>\n",
       "    table.eli5-weights tr:hover {\n",
       "        filter: brightness(85%);\n",
       "    }\n",
       "</style>\n",
       "\n",
       "\n",
       "\n",
       "    \n",
       "\n",
       "    \n",
       "\n",
       "    \n",
       "\n",
       "    \n",
       "\n",
       "    \n",
       "\n",
       "    \n",
       "\n",
       "\n",
       "    \n",
       "\n",
       "    \n",
       "\n",
       "    \n",
       "\n",
       "    \n",
       "        \n",
       "\n",
       "    \n",
       "\n",
       "        \n",
       "\n",
       "        \n",
       "    \n",
       "        \n",
       "        \n",
       "    \n",
       "        <p style=\"margin-bottom: 0.5em; margin-top: 0em\">\n",
       "            <b>\n",
       "    \n",
       "        y=-1\n",
       "    \n",
       "</b>\n",
       "\n",
       "    \n",
       "    (probability <b>0.615</b>, score <b>-0.467</b>)\n",
       "\n",
       "top features\n",
       "        </p>\n",
       "    \n",
       "    <table class=\"eli5-weights\"\n",
       "           style=\"border-collapse: collapse; border: none; margin-top: 0em; table-layout: auto; margin-bottom: 2em;\">\n",
       "        <thead>\n",
       "        <tr style=\"border: none;\">\n",
       "            \n",
       "                <th style=\"padding: 0 1em 0 0.5em; text-align: right; border: none;\" title=\"Feature contribution already accounts for the feature value (for linear models, contribution = weight * feature value), and the sum of feature contributions is equal to the score or, for some classifiers, to the probability. Feature values are shown if &quot;show_feature_values&quot; is True.\">\n",
       "                    Contribution<sup>?</sup>\n",
       "                </th>\n",
       "            \n",
       "            <th style=\"padding: 0 0.5em 0 0.5em; text-align: left; border: none;\">Feature</th>\n",
       "            \n",
       "        </tr>\n",
       "        </thead>\n",
       "        <tbody>\n",
       "        \n",
       "            <tr style=\"background-color: hsl(120, 100.00%, 80.00%); border: none;\">\n",
       "    <td style=\"padding: 0 1em 0 0.5em; text-align: right; border: none;\">\n",
       "        +0.446\n",
       "    </td>\n",
       "    <td style=\"padding: 0 0.5em 0 0.5em; text-align: left; border: none;\">\n",
       "        &lt;BIAS&gt;\n",
       "    </td>\n",
       "    \n",
       "</tr>\n",
       "        \n",
       "            <tr style=\"background-color: hsl(120, 100.00%, 97.63%); border: none;\">\n",
       "    <td style=\"padding: 0 1em 0 0.5em; text-align: right; border: none;\">\n",
       "        +0.021\n",
       "    </td>\n",
       "    <td style=\"padding: 0 0.5em 0 0.5em; text-align: left; border: none;\">\n",
       "        Highlighted in text (sum)\n",
       "    </td>\n",
       "    \n",
       "</tr>\n",
       "        \n",
       "        \n",
       "\n",
       "        \n",
       "        \n",
       "\n",
       "        </tbody>\n",
       "    </table>\n",
       "\n",
       "    \n",
       "\n",
       "\n",
       "\n",
       "    <p style=\"margin-bottom: 2.5em; margin-top:-0.5em;\">\n",
       "        <span style=\"opacity: 0.80\">很 </span><span style=\"background-color: hsl(120, 100.00%, 98.50%); opacity: 0.80\" title=\"0.003\">好吃</span><span style=\"opacity: 0.80\"> ， </span><span style=\"background-color: hsl(0, 100.00%, 88.07%); opacity: 0.84\" title=\"-0.055\">环境</span><span style=\"opacity: 0.80\"> 好 ， 所有 </span><span style=\"background-color: hsl(120, 100.00%, 60.00%); opacity: 1.00\" title=\"0.313\">员工</span><span style=\"opacity: 0.80\"> 的 </span><span style=\"background-color: hsl(0, 100.00%, 71.66%); opacity: 0.92\" title=\"-0.191\">态度</span><span style=\"opacity: 0.80\"> 都 很 好 ， </span><span style=\"background-color: hsl(0, 100.00%, 78.49%); opacity: 0.88\" title=\"-0.129\">上菜</span><span style=\"opacity: 0.80\"> 快 ， </span><span style=\"background-color: hsl(0, 100.00%, 88.57%); opacity: 0.83\" title=\"-0.052\">服务</span><span style=\"opacity: 0.80\"> 也 很 好 ， </span><span style=\"background-color: hsl(120, 100.00%, 83.96%); opacity: 0.85\" title=\"0.085\">味道</span><span style=\"opacity: 0.80\"> </span><span style=\"background-color: hsl(120, 100.00%, 98.50%); opacity: 0.80\" title=\"0.003\">好吃</span><span style=\"opacity: 0.80\"> ， 都 是 用 蒸馏水 煮 的 ， </span><span style=\"background-color: hsl(120, 100.00%, 90.04%); opacity: 0.83\" title=\"0.043\">推荐</span><span style=\"opacity: 0.80\"> ， 超 </span><span style=\"background-color: hsl(120, 100.00%, 98.50%); opacity: 0.80\" title=\"0.003\">好吃</span>\n",
       "    </p>\n",
       "\n",
       "\n",
       "    \n",
       "\n",
       "    \n",
       "\n",
       "    \n",
       "\n",
       "    \n",
       "\n",
       "\n",
       "    \n",
       "\n",
       "    \n",
       "\n",
       "    \n",
       "\n",
       "    \n",
       "\n",
       "    \n",
       "\n",
       "    \n",
       "\n",
       "\n",
       "    \n",
       "\n",
       "    \n",
       "\n",
       "    \n",
       "\n",
       "    \n",
       "\n",
       "    \n",
       "\n",
       "    \n",
       "\n",
       "\n",
       "\n"
      ],
      "text/plain": [
       "<IPython.core.display.HTML object>"
      ]
     },
     "execution_count": 30,
     "metadata": {},
     "output_type": "execute_result"
    }
   ],
   "source": [
    "lr_explain(model_lr_oversamp, test1) "
   ]
  },
  {
   "cell_type": "code",
   "execution_count": 31,
   "metadata": {
    "ExecuteTime": {
     "end_time": "2023-03-22T18:02:02.091148Z",
     "start_time": "2023-03-22T18:02:02.045138Z"
    },
    "id": "2N4BmEZex38i",
    "outputId": "a253dbdf-aa72-4262-9b63-82d9ac16835f",
    "scrolled": true
   },
   "outputs": [
    {
     "data": {
      "text/html": [
       "\n",
       "    <style>\n",
       "    table.eli5-weights tr:hover {\n",
       "        filter: brightness(85%);\n",
       "    }\n",
       "</style>\n",
       "\n",
       "\n",
       "\n",
       "    \n",
       "\n",
       "    \n",
       "\n",
       "    \n",
       "\n",
       "    \n",
       "\n",
       "    \n",
       "\n",
       "    \n",
       "\n",
       "\n",
       "    \n",
       "\n",
       "    \n",
       "\n",
       "    \n",
       "\n",
       "    \n",
       "        \n",
       "\n",
       "    \n",
       "\n",
       "        \n",
       "\n",
       "        \n",
       "    \n",
       "        \n",
       "        \n",
       "    \n",
       "        <p style=\"margin-bottom: 0.5em; margin-top: 0em\">\n",
       "            <b>\n",
       "    \n",
       "        y=-1\n",
       "    \n",
       "</b>\n",
       "\n",
       "    \n",
       "    (probability <b>0.827</b>, score <b>-1.564</b>)\n",
       "\n",
       "top features\n",
       "        </p>\n",
       "    \n",
       "    <table class=\"eli5-weights\"\n",
       "           style=\"border-collapse: collapse; border: none; margin-top: 0em; table-layout: auto; margin-bottom: 2em;\">\n",
       "        <thead>\n",
       "        <tr style=\"border: none;\">\n",
       "            \n",
       "                <th style=\"padding: 0 1em 0 0.5em; text-align: right; border: none;\" title=\"Feature contribution already accounts for the feature value (for linear models, contribution = weight * feature value), and the sum of feature contributions is equal to the score or, for some classifiers, to the probability. Feature values are shown if &quot;show_feature_values&quot; is True.\">\n",
       "                    Contribution<sup>?</sup>\n",
       "                </th>\n",
       "            \n",
       "            <th style=\"padding: 0 0.5em 0 0.5em; text-align: left; border: none;\">Feature</th>\n",
       "            \n",
       "        </tr>\n",
       "        </thead>\n",
       "        <tbody>\n",
       "        \n",
       "            <tr style=\"background-color: hsl(120, 100.00%, 80.00%); border: none;\">\n",
       "    <td style=\"padding: 0 1em 0 0.5em; text-align: right; border: none;\">\n",
       "        +1.118\n",
       "    </td>\n",
       "    <td style=\"padding: 0 0.5em 0 0.5em; text-align: left; border: none;\">\n",
       "        Highlighted in text (sum)\n",
       "    </td>\n",
       "    \n",
       "</tr>\n",
       "        \n",
       "            <tr style=\"background-color: hsl(120, 100.00%, 89.49%); border: none;\">\n",
       "    <td style=\"padding: 0 1em 0 0.5em; text-align: right; border: none;\">\n",
       "        +0.446\n",
       "    </td>\n",
       "    <td style=\"padding: 0 0.5em 0 0.5em; text-align: left; border: none;\">\n",
       "        &lt;BIAS&gt;\n",
       "    </td>\n",
       "    \n",
       "</tr>\n",
       "        \n",
       "        \n",
       "\n",
       "        \n",
       "        \n",
       "\n",
       "        </tbody>\n",
       "    </table>\n",
       "\n",
       "    \n",
       "\n",
       "\n",
       "\n",
       "    <p style=\"margin-bottom: 2.5em; margin-top:-0.5em;\">\n",
       "        <span style=\"background-color: hsl(0, 100.00%, 96.45%); opacity: 0.81\" title=\"-0.045\">糯米</span><span style=\"opacity: 0.80\"> </span><span style=\"background-color: hsl(0, 100.00%, 82.10%); opacity: 0.86\" title=\"-0.457\">外皮</span><span style=\"opacity: 0.80\"> 不绵滑 ， </span><span style=\"background-color: hsl(120, 100.00%, 97.98%); opacity: 0.80\" title=\"0.020\">豆沙</span><span style=\"opacity: 0.80\"> 馅 粗躁 ， </span><span style=\"background-color: hsl(120, 100.00%, 98.26%); opacity: 0.80\" title=\"0.016\">没有</span><span style=\"opacity: 0.80\"> 香 </span><span style=\"background-color: hsl(0, 100.00%, 94.66%); opacity: 0.81\" title=\"-0.081\">甜味</span><span style=\"opacity: 0.80\"> 。 </span><span style=\"background-color: hsl(120, 100.00%, 97.77%); opacity: 0.80\" title=\"0.023\">12</span><span style=\"opacity: 0.80\"> 元 </span><span style=\"background-color: hsl(120, 100.00%, 89.97%); opacity: 0.83\" title=\"0.200\">一碗</span><span style=\"opacity: 0.80\"> </span><span style=\"background-color: hsl(120, 100.00%, 60.00%); opacity: 1.00\" title=\"1.442\">不值</span><span style=\"opacity: 0.80\"> 。</span>\n",
       "    </p>\n",
       "\n",
       "\n",
       "    \n",
       "\n",
       "    \n",
       "\n",
       "    \n",
       "\n",
       "    \n",
       "\n",
       "\n",
       "    \n",
       "\n",
       "    \n",
       "\n",
       "    \n",
       "\n",
       "    \n",
       "\n",
       "    \n",
       "\n",
       "    \n",
       "\n",
       "\n",
       "    \n",
       "\n",
       "    \n",
       "\n",
       "    \n",
       "\n",
       "    \n",
       "\n",
       "    \n",
       "\n",
       "    \n",
       "\n",
       "\n",
       "\n"
      ],
      "text/plain": [
       "<IPython.core.display.HTML object>"
      ]
     },
     "execution_count": 31,
     "metadata": {},
     "output_type": "execute_result"
    }
   ],
   "source": [
    "lr_explain(model_lr_oversamp, test2)"
   ]
  },
  {
   "cell_type": "code",
   "execution_count": 32,
   "metadata": {
    "ExecuteTime": {
     "end_time": "2023-03-22T18:02:02.185169Z",
     "start_time": "2023-03-22T18:02:02.094149Z"
    },
    "id": "yv08anJNx38j",
    "outputId": "565f1eff-dc3e-4abc-e94c-9f253f558801",
    "scrolled": true
   },
   "outputs": [
    {
     "data": {
      "text/html": [
       "\n",
       "    <style>\n",
       "    table.eli5-weights tr:hover {\n",
       "        filter: brightness(85%);\n",
       "    }\n",
       "</style>\n",
       "\n",
       "\n",
       "\n",
       "    \n",
       "\n",
       "    \n",
       "\n",
       "    \n",
       "\n",
       "    \n",
       "\n",
       "    \n",
       "\n",
       "    \n",
       "\n",
       "\n",
       "    \n",
       "\n",
       "    \n",
       "\n",
       "    \n",
       "\n",
       "    \n",
       "        \n",
       "\n",
       "    \n",
       "\n",
       "        \n",
       "\n",
       "        \n",
       "    \n",
       "        \n",
       "        \n",
       "    \n",
       "        <p style=\"margin-bottom: 0.5em; margin-top: 0em\">\n",
       "            <b>\n",
       "    \n",
       "        y=-1\n",
       "    \n",
       "</b>\n",
       "\n",
       "    \n",
       "    (probability <b>0.778</b>, score <b>-1.252</b>)\n",
       "\n",
       "top features\n",
       "        </p>\n",
       "    \n",
       "    <table class=\"eli5-weights\"\n",
       "           style=\"border-collapse: collapse; border: none; margin-top: 0em; table-layout: auto; margin-bottom: 2em;\">\n",
       "        <thead>\n",
       "        <tr style=\"border: none;\">\n",
       "            \n",
       "                <th style=\"padding: 0 1em 0 0.5em; text-align: right; border: none;\" title=\"Feature contribution already accounts for the feature value (for linear models, contribution = weight * feature value), and the sum of feature contributions is equal to the score or, for some classifiers, to the probability. Feature values are shown if &quot;show_feature_values&quot; is True.\">\n",
       "                    Contribution<sup>?</sup>\n",
       "                </th>\n",
       "            \n",
       "            <th style=\"padding: 0 0.5em 0 0.5em; text-align: left; border: none;\">Feature</th>\n",
       "            \n",
       "        </tr>\n",
       "        </thead>\n",
       "        <tbody>\n",
       "        \n",
       "            <tr style=\"background-color: hsl(120, 100.00%, 80.00%); border: none;\">\n",
       "    <td style=\"padding: 0 1em 0 0.5em; text-align: right; border: none;\">\n",
       "        +0.806\n",
       "    </td>\n",
       "    <td style=\"padding: 0 0.5em 0 0.5em; text-align: left; border: none;\">\n",
       "        Highlighted in text (sum)\n",
       "    </td>\n",
       "    \n",
       "</tr>\n",
       "        \n",
       "            <tr style=\"background-color: hsl(120, 100.00%, 86.79%); border: none;\">\n",
       "    <td style=\"padding: 0 1em 0 0.5em; text-align: right; border: none;\">\n",
       "        +0.446\n",
       "    </td>\n",
       "    <td style=\"padding: 0 0.5em 0 0.5em; text-align: left; border: none;\">\n",
       "        &lt;BIAS&gt;\n",
       "    </td>\n",
       "    \n",
       "</tr>\n",
       "        \n",
       "        \n",
       "\n",
       "        \n",
       "        \n",
       "\n",
       "        </tbody>\n",
       "    </table>\n",
       "\n",
       "    \n",
       "\n",
       "\n",
       "\n",
       "    <p style=\"margin-bottom: 2.5em; margin-top:-0.5em;\">\n",
       "        <span style=\"background-color: hsl(120, 100.00%, 84.09%); opacity: 0.85\" title=\"0.032\">昨儿</span><span style=\"opacity: 0.80\"> </span><span style=\"background-color: hsl(120, 100.00%, 89.13%); opacity: 0.83\" title=\"0.019\">晚上</span><span style=\"opacity: 0.80\"> 来 </span><span style=\"background-color: hsl(120, 100.00%, 79.65%); opacity: 0.88\" title=\"0.046\">凯德</span><span style=\"opacity: 0.80\"> </span><span style=\"background-color: hsl(0, 100.00%, 86.05%); opacity: 0.84\" title=\"-0.027\">1818</span><span style=\"opacity: 0.80\"> 的 </span><span style=\"background-color: hsl(0, 100.00%, 99.10%); opacity: 0.80\" title=\"-0.001\">绿茶</span><span style=\"opacity: 0.80\"> </span><span style=\"background-color: hsl(120, 100.00%, 96.49%); opacity: 0.81\" title=\"0.004\">吃饭</span><span style=\"opacity: 0.80\"> ， 点 了 </span><span style=\"background-color: hsl(120, 100.00%, 94.87%); opacity: 0.81\" title=\"0.006\">以下</span><span style=\"opacity: 0.80\"> </span><span style=\"background-color: hsl(0, 100.00%, 91.42%); opacity: 0.82\" title=\"-0.013\">10</span><span style=\"opacity: 0.80\"> 个 菜 ， 这 </span><span style=\"background-color: hsl(120, 100.00%, 92.69%); opacity: 0.82\" title=\"0.011\">里面</span><span style=\"opacity: 0.80\"> 有 </span><span style=\"background-color: hsl(120, 100.00%, 96.46%); opacity: 0.81\" title=\"0.004\">好几个</span><span style=\"opacity: 0.80\"> 都 是 </span><span style=\"background-color: hsl(120, 100.00%, 96.60%); opacity: 0.81\" title=\"0.004\">推荐</span><span style=\"opacity: 0.80\"> </span><span style=\"background-color: hsl(120, 100.00%, 95.21%); opacity: 0.81\" title=\"0.006\">菜品</span><span style=\"opacity: 0.80\"> ， 咱 </span><span style=\"background-color: hsl(120, 100.00%, 90.66%); opacity: 0.83\" title=\"0.015\">挨个</span><span style=\"opacity: 0.80\"> 说 啊 ～     </span><span style=\"background-color: hsl(120, 100.00%, 96.74%); opacity: 0.81\" title=\"0.003\">第一张</span><span style=\"opacity: 0.80\">   “ </span><span style=\"background-color: hsl(120, 100.00%, 93.22%); opacity: 0.82\" title=\"0.010\">客家</span><span style=\"opacity: 0.80\"> </span><span style=\"background-color: hsl(120, 100.00%, 82.55%); opacity: 0.86\" title=\"0.037\">茄子</span><span style=\"opacity: 0.80\"> 煲 ” ： 一个 字 ： 咸 、 俩 字 ： 很 咸 、 仨 字 ： </span><span style=\"background-color: hsl(120, 100.00%, 96.24%); opacity: 0.81\" title=\"0.004\">非常</span><span style=\"opacity: 0.80\"> 咸 、 </span><span style=\"background-color: hsl(0, 100.00%, 91.08%); opacity: 0.82\" title=\"-0.014\">四个</span><span style=\"opacity: 0.80\"> 字 ： 咸 （ hou ) 死 我 了 ...   ...   我 很 </span><span style=\"background-color: hsl(0, 100.00%, 95.56%); opacity: 0.81\" title=\"-0.005\">怀疑</span><span style=\"opacity: 0.80\"> </span><span style=\"background-color: hsl(120, 100.00%, 98.88%); opacity: 0.80\" title=\"0.001\">是不是</span><span style=\"opacity: 0.80\"> </span><span style=\"background-color: hsl(120, 100.00%, 88.13%); opacity: 0.84\" title=\"0.021\">师傅</span><span style=\"opacity: 0.80\"> 在 放 </span><span style=\"background-color: hsl(0, 100.00%, 82.19%); opacity: 0.86\" title=\"-0.038\">酱油</span><span style=\"opacity: 0.80\"> 的 时候 </span><span style=\"background-color: hsl(120, 100.00%, 96.40%); opacity: 0.81\" title=\"0.004\">手抖</span><span style=\"opacity: 0.80\"> 了   然后 </span><span style=\"background-color: hsl(120, 100.00%, 92.69%); opacity: 0.82\" title=\"0.011\">整锅</span><span style=\"opacity: 0.80\"> 煲 就是 </span><span style=\"background-color: hsl(0, 100.00%, 60.00%); opacity: 1.00\" title=\"-0.120\">一锅</span><span style=\"opacity: 0.80\"> </span><span style=\"background-color: hsl(120, 100.00%, 80.31%); opacity: 0.87\" title=\"0.044\">酱色</span><span style=\"opacity: 0.80\"> 。 </span><span style=\"background-color: hsl(120, 100.00%, 92.69%); opacity: 0.82\" title=\"0.011\">里面</span><span style=\"opacity: 0.80\"> 的 </span><span style=\"background-color: hsl(120, 100.00%, 84.83%); opacity: 0.85\" title=\"0.030\">咸鱼</span><span style=\"opacity: 0.80\"> 粒 很 </span><span style=\"background-color: hsl(120, 100.00%, 99.03%); opacity: 0.80\" title=\"0.001\">显然</span><span style=\"opacity: 0.80\"> </span><span style=\"background-color: hsl(120, 100.00%, 97.83%); opacity: 0.80\" title=\"0.002\">没有</span><span style=\"opacity: 0.80\"> 经过 任何 </span><span style=\"background-color: hsl(120, 100.00%, 96.85%); opacity: 0.81\" title=\"0.003\">处理</span><span style=\"opacity: 0.80\"> （ 泡 </span><span style=\"background-color: hsl(120, 100.00%, 99.50%); opacity: 0.80\" title=\"0.000\">一下</span><span style=\"opacity: 0.80\"> 水 </span><span style=\"background-color: hsl(0, 100.00%, 90.32%); opacity: 0.83\" title=\"-0.016\">去掉</span><span style=\"opacity: 0.80\"> </span><span style=\"background-color: hsl(120, 100.00%, 89.76%); opacity: 0.83\" title=\"0.017\">部分</span><span style=\"opacity: 0.80\"> 盐分 等 ） ， 再加之 菜 本身 很 咸 </span><span style=\"background-color: hsl(0, 100.00%, 94.42%); opacity: 0.81\" title=\"-0.007\">根本无法</span><span style=\"opacity: 0.80\"> </span><span style=\"background-color: hsl(120, 100.00%, 89.61%); opacity: 0.83\" title=\"0.018\">入口</span><span style=\"opacity: 0.80\"> ， </span><span style=\"background-color: hsl(120, 100.00%, 92.69%); opacity: 0.82\" title=\"0.011\">整锅</span><span style=\"opacity: 0.80\"> 煲 </span><span style=\"background-color: hsl(0, 100.00%, 97.20%); opacity: 0.80\" title=\"-0.003\">基本</span><span style=\"opacity: 0.80\"> 没 动 ； </span><span style=\"background-color: hsl(120, 100.00%, 73.87%); opacity: 0.91\" title=\"0.066\">第二张</span><span style=\"opacity: 0.80\">   “ </span><span style=\"background-color: hsl(120, 100.00%, 96.88%); opacity: 0.81\" title=\"0.003\">鱼头</span><span style=\"opacity: 0.80\"> </span><span style=\"background-color: hsl(120, 100.00%, 68.19%); opacity: 0.94\" title=\"0.087\">诱惑</span><span style=\"opacity: 0.80\">   ” ： 这 </span><span style=\"background-color: hsl(120, 100.00%, 96.08%); opacity: 0.81\" title=\"0.004\">道菜</span><span style=\"opacity: 0.80\"> 是 翔 哥点 的   还 </span><span style=\"background-color: hsl(0, 100.00%, 94.12%); opacity: 0.81\" title=\"-0.008\">不错</span><span style=\"opacity: 0.80\">   首先 </span><span style=\"background-color: hsl(120, 100.00%, 96.88%); opacity: 0.81\" title=\"0.003\">鱼头</span><span style=\"opacity: 0.80\"> 很 </span><span style=\"background-color: hsl(0, 100.00%, 89.66%); opacity: 0.83\" title=\"-0.017\">新鲜</span><span style=\"opacity: 0.80\">   其次 </span><span style=\"background-color: hsl(120, 100.00%, 96.88%); opacity: 0.81\" title=\"0.003\">鱼头</span><span style=\"opacity: 0.80\"> 蒸 的 </span><span style=\"background-color: hsl(0, 100.00%, 83.45%); opacity: 0.86\" title=\"-0.034\">火候</span><span style=\"opacity: 0.80\"> </span><span style=\"background-color: hsl(0, 100.00%, 92.41%); opacity: 0.82\" title=\"-0.011\">刚好</span><span style=\"opacity: 0.80\">   既 </span><span style=\"background-color: hsl(120, 100.00%, 93.80%); opacity: 0.81\" title=\"0.008\">入味</span><span style=\"opacity: 0.80\"> 还 不 老 ， </span><span style=\"background-color: hsl(0, 100.00%, 94.87%); opacity: 0.81\" title=\"-0.006\">建议</span><span style=\"opacity: 0.80\"> 除了 </span><span style=\"background-color: hsl(120, 100.00%, 96.92%); opacity: 0.81\" title=\"0.003\">小米</span><span style=\"opacity: 0.80\"> 辣 再 </span><span style=\"background-color: hsl(0, 100.00%, 99.98%); opacity: 0.80\" title=\"-0.000\">加上</span><span style=\"opacity: 0.80\"> 点泡椒 ， 这样 </span><span style=\"background-color: hsl(120, 100.00%, 97.19%); opacity: 0.80\" title=\"0.003\">无论是</span><span style=\"opacity: 0.80\"> </span><span style=\"background-color: hsl(120, 100.00%, 96.33%); opacity: 0.81\" title=\"0.004\">颜色</span><span style=\"opacity: 0.80\"> 和 </span><span style=\"background-color: hsl(120, 100.00%, 95.15%); opacity: 0.81\" title=\"0.006\">口味</span><span style=\"opacity: 0.80\"> 上 都 会 更 棒 的 ！ 这 </span><span style=\"background-color: hsl(120, 100.00%, 96.08%); opacity: 0.81\" title=\"0.004\">道菜</span><span style=\"opacity: 0.80\"> </span><span style=\"background-color: hsl(0, 100.00%, 97.20%); opacity: 0.80\" title=\"-0.003\">基本</span><span style=\"opacity: 0.80\"> </span><span style=\"background-color: hsl(120, 100.00%, 93.29%); opacity: 0.82\" title=\"0.009\">消灭</span><span style=\"opacity: 0.80\"> ；   </span><span style=\"background-color: hsl(120, 100.00%, 95.10%); opacity: 0.81\" title=\"0.006\">第三张</span><span style=\"opacity: 0.80\"> ： “ </span><span style=\"background-color: hsl(0, 100.00%, 96.41%); opacity: 0.81\" title=\"-0.004\">小锅</span><span style=\"opacity: 0.80\"> </span><span style=\"background-color: hsl(0, 100.00%, 95.28%); opacity: 0.81\" title=\"-0.006\">土豆</span><span style=\"opacity: 0.80\"> ” ： </span><span style=\"background-color: hsl(120, 100.00%, 96.51%); opacity: 0.81\" title=\"0.004\">厚片</span><span style=\"opacity: 0.80\"> 的 </span><span style=\"background-color: hsl(0, 100.00%, 95.28%); opacity: 0.81\" title=\"-0.006\">土豆</span><span style=\"opacity: 0.80\"> </span><span style=\"background-color: hsl(120, 100.00%, 95.96%); opacity: 0.81\" title=\"0.005\">挂满</span><span style=\"opacity: 0.80\"> </span><span style=\"background-color: hsl(120, 100.00%, 87.51%); opacity: 0.84\" title=\"0.023\">酱汁</span><span style=\"opacity: 0.80\"> ， </span><span style=\"background-color: hsl(120, 100.00%, 94.51%); opacity: 0.81\" title=\"0.007\">炉子</span><span style=\"opacity: 0.80\"> 在 </span><span style=\"background-color: hsl(120, 100.00%, 83.28%); opacity: 0.86\" title=\"0.035\">下面</span><span style=\"opacity: 0.80\"> </span><span style=\"background-color: hsl(120, 100.00%, 94.25%); opacity: 0.81\" title=\"0.008\">慢慢</span><span style=\"opacity: 0.80\"> </span><span style=\"background-color: hsl(0, 100.00%, 88.57%); opacity: 0.83\" title=\"-0.020\">加热</span><span style=\"opacity: 0.80\"> ， </span><span style=\"background-color: hsl(120, 100.00%, 95.93%); opacity: 0.81\" title=\"0.005\">后来</span><span style=\"opacity: 0.80\"> 加 </span><span style=\"background-color: hsl(120, 100.00%, 98.49%); opacity: 0.80\" title=\"0.001\">一片</span><span style=\"opacity: 0.80\"> </span><span style=\"background-color: hsl(120, 100.00%, 93.96%); opacity: 0.81\" title=\"0.008\">放到</span><span style=\"opacity: 0.80\"> </span><span style=\"background-color: hsl(120, 100.00%, 93.42%); opacity: 0.82\" title=\"0.009\">嘴里</span><span style=\"opacity: 0.80\"> ， </span><span style=\"background-color: hsl(120, 100.00%, 94.65%); opacity: 0.81\" title=\"0.007\">几乎</span><span style=\"opacity: 0.80\"> 是 </span><span style=\"background-color: hsl(120, 100.00%, 89.61%); opacity: 0.83\" title=\"0.018\">入口</span><span style=\"opacity: 0.80\"> 即 化 、 </span><span style=\"background-color: hsl(120, 100.00%, 89.59%); opacity: 0.83\" title=\"0.018\">口感</span><span style=\"opacity: 0.80\"> </span><span style=\"background-color: hsl(120, 100.00%, 95.02%); opacity: 0.81\" title=\"0.006\">绵软</span><span style=\"opacity: 0.80\"> ， 也 是 </span><span style=\"background-color: hsl(120, 100.00%, 93.46%); opacity: 0.82\" title=\"0.009\">一道</span><span style=\"opacity: 0.80\"> </span><span style=\"background-color: hsl(0, 100.00%, 94.12%); opacity: 0.81\" title=\"-0.008\">不错</span><span style=\"opacity: 0.80\"> 的 下 </span><span style=\"background-color: hsl(120, 100.00%, 97.94%); opacity: 0.80\" title=\"0.002\">饭菜</span><span style=\"opacity: 0.80\"> ； 第四张 ： “ </span><span style=\"background-color: hsl(120, 100.00%, 96.88%); opacity: 0.81\" title=\"0.003\">农家</span><span style=\"opacity: 0.80\"> </span><span style=\"background-color: hsl(0, 100.00%, 89.78%); opacity: 0.83\" title=\"-0.017\">小菜</span><span style=\"opacity: 0.80\"> ” </span><span style=\"background-color: hsl(0, 100.00%, 96.52%); opacity: 0.81\" title=\"-0.004\">其实</span><span style=\"opacity: 0.80\"> 就是 少 了 </span><span style=\"background-color: hsl(120, 100.00%, 86.06%); opacity: 0.84\" title=\"0.027\">橄榄</span><span style=\"opacity: 0.80\"> 菜 和 </span><span style=\"background-color: hsl(120, 100.00%, 92.02%); opacity: 0.82\" title=\"0.012\">肉末</span><span style=\"opacity: 0.80\"> 的 </span><span style=\"background-color: hsl(120, 100.00%, 96.05%); opacity: 0.81\" title=\"0.004\">豆角</span><span style=\"opacity: 0.80\"> 粒 ， </span><span style=\"background-color: hsl(120, 100.00%, 94.53%); opacity: 0.81\" title=\"0.007\">味道</span><span style=\"opacity: 0.80\"> 还 可以 ， 如果 把 </span><span style=\"background-color: hsl(120, 100.00%, 96.05%); opacity: 0.81\" title=\"0.004\">豆角</span><span style=\"opacity: 0.80\"> 再 煸 的 干 </span><span style=\"background-color: hsl(0, 100.00%, 92.22%); opacity: 0.82\" title=\"-0.012\">一点</span><span style=\"opacity: 0.80\"> （ </span><span style=\"background-color: hsl(0, 100.00%, 73.57%); opacity: 0.91\" title=\"-0.067\">表皮</span><span style=\"opacity: 0.80\"> 起皱 ） </span><span style=\"background-color: hsl(120, 100.00%, 89.59%); opacity: 0.83\" title=\"0.018\">口感</span><span style=\"opacity: 0.80\"> 会 </span><span style=\"background-color: hsl(0, 100.00%, 94.18%); opacity: 0.81\" title=\"-0.008\">更好</span><span style=\"opacity: 0.80\"> ； </span><span style=\"background-color: hsl(120, 100.00%, 92.64%); opacity: 0.82\" title=\"0.011\">第五</span><span style=\"opacity: 0.80\"> 张 “ </span><span style=\"background-color: hsl(0, 100.00%, 94.59%); opacity: 0.81\" title=\"-0.007\">菜心</span><span style=\"opacity: 0.80\"> </span><span style=\"background-color: hsl(0, 100.00%, 87.35%); opacity: 0.84\" title=\"-0.023\">金钩</span><span style=\"opacity: 0.80\"> </span><span style=\"background-color: hsl(120, 100.00%, 89.49%); opacity: 0.83\" title=\"0.018\">豆腐</span><span style=\"opacity: 0.80\"> ”   和 没 上 图 的 “ </span><span style=\"background-color: hsl(120, 100.00%, 84.24%); opacity: 0.85\" title=\"0.032\">老乡</span><span style=\"opacity: 0.80\"> </span><span style=\"background-color: hsl(120, 100.00%, 96.59%); opacity: 0.81\" title=\"0.004\">浓汤</span><span style=\"opacity: 0.80\"> ” </span><span style=\"background-color: hsl(120, 100.00%, 98.55%); opacity: 0.80\" title=\"0.001\">一起</span><span style=\"opacity: 0.80\"> 说 了 ， </span><span style=\"background-color: hsl(120, 100.00%, 95.98%); opacity: 0.81\" title=\"0.005\">两道</span><span style=\"opacity: 0.80\"> </span><span style=\"background-color: hsl(120, 100.00%, 95.07%); opacity: 0.81\" title=\"0.006\">分不清</span><span style=\"opacity: 0.80\"> 是 汤 、 羹 还是 菜 的 </span><span style=\"background-color: hsl(120, 100.00%, 95.64%); opacity: 0.81\" title=\"0.005\">东东</span><span style=\"opacity: 0.80\"> ， 都 是 </span><span style=\"background-color: hsl(120, 100.00%, 96.60%); opacity: 0.81\" title=\"0.004\">推荐</span><span style=\"opacity: 0.80\"> 菜   </span><span style=\"background-color: hsl(120, 100.00%, 95.07%); opacity: 0.81\" title=\"0.006\">分不清</span><span style=\"opacity: 0.80\"> 也 </span><span style=\"background-color: hsl(0, 100.00%, 78.30%); opacity: 0.88\" title=\"-0.050\">无所谓</span><span style=\"opacity: 0.80\"> ， </span><span style=\"background-color: hsl(120, 100.00%, 95.05%); opacity: 0.81\" title=\"0.006\">重点</span><span style=\"opacity: 0.80\"> 是 </span><span style=\"background-color: hsl(0, 100.00%, 92.66%); opacity: 0.82\" title=\"-0.011\">上菜</span><span style=\"opacity: 0.80\"> 的 时候 都 不是 热 的   都 是 温 的   “ </span><span style=\"background-color: hsl(0, 100.00%, 94.59%); opacity: 0.81\" title=\"-0.007\">菜心</span><span style=\"opacity: 0.80\"> ” </span><span style=\"background-color: hsl(120, 100.00%, 92.69%); opacity: 0.82\" title=\"0.011\">里面</span><span style=\"opacity: 0.80\"> 有 </span><span style=\"background-color: hsl(120, 100.00%, 94.06%); opacity: 0.81\" title=\"0.008\">蛋黄</span><span style=\"opacity: 0.80\"> 、 “ </span><span style=\"background-color: hsl(120, 100.00%, 96.59%); opacity: 0.81\" title=\"0.004\">浓汤</span><span style=\"opacity: 0.80\"> ” </span><span style=\"background-color: hsl(120, 100.00%, 92.69%); opacity: 0.82\" title=\"0.011\">里面</span><span style=\"opacity: 0.80\"> 有 </span><span style=\"background-color: hsl(0, 100.00%, 95.36%); opacity: 0.81\" title=\"-0.006\">猪肚</span><span style=\"opacity: 0.80\"> ， 这 </span><span style=\"background-color: hsl(120, 100.00%, 92.95%); opacity: 0.82\" title=\"0.010\">两种</span><span style=\"opacity: 0.80\"> </span><span style=\"background-color: hsl(120, 100.00%, 98.03%); opacity: 0.80\" title=\"0.002\">食材</span><span style=\"opacity: 0.80\"> </span><span style=\"background-color: hsl(0, 100.00%, 89.58%); opacity: 0.83\" title=\"-0.018\">变冷</span><span style=\"opacity: 0.80\"> 后 都 会 有 </span><span style=\"background-color: hsl(0, 100.00%, 99.90%); opacity: 0.80\" title=\"-0.000\">腥味</span><span style=\"opacity: 0.80\"> 且 </span><span style=\"background-color: hsl(120, 100.00%, 89.59%); opacity: 0.83\" title=\"0.018\">口感</span><span style=\"opacity: 0.80\"> </span><span style=\"background-color: hsl(120, 100.00%, 92.08%); opacity: 0.82\" title=\"0.012\">不好</span><span style=\"opacity: 0.80\"> ， 加之 </span><span style=\"background-color: hsl(120, 100.00%, 87.50%); opacity: 0.84\" title=\"0.023\">一碗</span><span style=\"opacity: 0.80\"> 有 淀粉类 的 羹   </span><span style=\"background-color: hsl(0, 100.00%, 79.20%); opacity: 0.88\" title=\"-0.047\">温温的</span><span style=\"opacity: 0.80\"> </span><span style=\"background-color: hsl(120, 100.00%, 94.46%); opacity: 0.81\" title=\"0.007\">很难</span><span style=\"opacity: 0.80\"> 喝 ， </span><span style=\"background-color: hsl(0, 100.00%, 94.87%); opacity: 0.81\" title=\"-0.006\">建议</span><span style=\"opacity: 0.80\"> </span><span style=\"background-color: hsl(120, 100.00%, 96.03%); opacity: 0.81\" title=\"0.004\">出品</span><span style=\"opacity: 0.80\"> 后 马上传 </span><span style=\"background-color: hsl(120, 100.00%, 83.57%); opacity: 0.86\" title=\"0.034\">菜到</span><span style=\"opacity: 0.80\"> </span><span style=\"background-color: hsl(120, 100.00%, 96.26%); opacity: 0.81\" title=\"0.004\">客人</span><span style=\"opacity: 0.80\"> </span><span style=\"background-color: hsl(120, 100.00%, 98.17%); opacity: 0.80\" title=\"0.001\">面前</span><span style=\"opacity: 0.80\"> ， </span><span style=\"background-color: hsl(120, 100.00%, 95.15%); opacity: 0.81\" title=\"0.006\">口味</span><span style=\"opacity: 0.80\"> 上 冷 了 就 都 不 </span><span style=\"background-color: hsl(120, 100.00%, 98.17%); opacity: 0.80\" title=\"0.001\">美味</span><span style=\"opacity: 0.80\"> 了 ； </span><span style=\"background-color: hsl(120, 100.00%, 86.96%); opacity: 0.84\" title=\"0.024\">第六</span><span style=\"opacity: 0.80\"> 张 ： “ </span><span style=\"background-color: hsl(120, 100.00%, 93.83%); opacity: 0.81\" title=\"0.008\">麻酱</span><span style=\"opacity: 0.80\"> </span><span style=\"background-color: hsl(0, 100.00%, 82.22%); opacity: 0.86\" title=\"-0.038\">油麦</span><span style=\"opacity: 0.80\"> 菜 ” </span><span style=\"background-color: hsl(120, 100.00%, 98.77%); opacity: 0.80\" title=\"0.001\">很多</span><span style=\"opacity: 0.80\"> </span><span style=\"background-color: hsl(0, 100.00%, 95.63%); opacity: 0.81\" title=\"-0.005\">地方</span><span style=\"opacity: 0.80\"> 也 叫 “ </span><span style=\"background-color: hsl(120, 100.00%, 93.83%); opacity: 0.81\" title=\"0.008\">麻酱</span><span style=\"opacity: 0.80\"> </span><span style=\"background-color: hsl(120, 100.00%, 78.95%); opacity: 0.88\" title=\"0.048\">凤尾</span><span style=\"opacity: 0.80\"> ”   </span><span style=\"background-color: hsl(120, 100.00%, 93.83%); opacity: 0.81\" title=\"0.008\">麻酱</span><span style=\"opacity: 0.80\"> 用 的 </span><span style=\"background-color: hsl(120, 100.00%, 92.03%); opacity: 0.82\" title=\"0.012\">像是</span><span style=\"opacity: 0.80\"> </span><span style=\"background-color: hsl(120, 100.00%, 93.83%); opacity: 0.81\" title=\"0.008\">麻酱</span><span style=\"opacity: 0.80\"> 和 </span><span style=\"background-color: hsl(120, 100.00%, 90.49%); opacity: 0.83\" title=\"0.015\">花生酱</span><span style=\"opacity: 0.80\"> </span><span style=\"background-color: hsl(0, 100.00%, 86.21%); opacity: 0.84\" title=\"-0.026\">混合</span><span style=\"opacity: 0.80\"> 的 </span><span style=\"background-color: hsl(0, 100.00%, 83.68%); opacity: 0.86\" title=\"-0.033\">甜口</span><span style=\"opacity: 0.80\"> 的 </span><span style=\"background-color: hsl(120, 100.00%, 96.48%); opacity: 0.81\" title=\"0.004\">酱料</span><span style=\"opacity: 0.80\"> ， </span><span style=\"background-color: hsl(120, 100.00%, 95.05%); opacity: 0.81\" title=\"0.006\">重点</span><span style=\"opacity: 0.80\"> 是 </span><span style=\"background-color: hsl(120, 100.00%, 97.83%); opacity: 0.80\" title=\"0.002\">没有</span><span style=\"opacity: 0.80\"> </span><span style=\"background-color: hsl(120, 100.00%, 85.73%); opacity: 0.85\" title=\"0.028\">稀释</span><span style=\"opacity: 0.80\"> ！ </span><span style=\"background-color: hsl(0, 100.00%, 93.85%); opacity: 0.81\" title=\"-0.008\">整个</span><span style=\"opacity: 0.80\"> </span><span style=\"background-color: hsl(0, 100.00%, 92.92%); opacity: 0.82\" title=\"-0.010\">一坨</span><span style=\"opacity: 0.80\"> 粘 在 </span><span style=\"background-color: hsl(0, 100.00%, 82.22%); opacity: 0.86\" title=\"-0.038\">油麦</span><span style=\"opacity: 0.80\"> 菜 上   </span><span style=\"background-color: hsl(120, 100.00%, 98.37%); opacity: 0.80\" title=\"0.001\">根本</span><span style=\"opacity: 0.80\"> 拌 </span><span style=\"background-color: hsl(120, 100.00%, 81.72%); opacity: 0.87\" title=\"0.039\">不开</span><span style=\"opacity: 0.80\">   </span><span style=\"background-color: hsl(120, 100.00%, 92.75%); opacity: 0.82\" title=\"0.010\">相比</span><span style=\"opacity: 0.80\"> </span><span style=\"background-color: hsl(0, 100.00%, 83.68%); opacity: 0.86\" title=\"-0.033\">甜口</span><span style=\"opacity: 0.80\"> 的 </span><span style=\"background-color: hsl(120, 100.00%, 93.83%); opacity: 0.81\" title=\"0.008\">麻酱</span><span style=\"opacity: 0.80\"> 我 更 </span><span style=\"background-color: hsl(120, 100.00%, 96.26%); opacity: 0.81\" title=\"0.004\">喜欢</span><span style=\"opacity: 0.80\"> </span><span style=\"background-color: hsl(120, 100.00%, 91.57%); opacity: 0.82\" title=\"0.013\">热干面</span><span style=\"opacity: 0.80\"> </span><span style=\"background-color: hsl(120, 100.00%, 96.06%); opacity: 0.81\" title=\"0.004\">那种</span><span style=\"opacity: 0.80\"> </span><span style=\"background-color: hsl(0, 100.00%, 70.26%); opacity: 0.93\" title=\"-0.079\">咸口</span><span style=\"opacity: 0.80\"> 的 、 稀 </span><span style=\"background-color: hsl(120, 100.00%, 91.71%); opacity: 0.82\" title=\"0.013\">点儿</span><span style=\"opacity: 0.80\"> 的 ； 第七 张 “ </span><span style=\"background-color: hsl(120, 100.00%, 99.50%); opacity: 0.80\" title=\"0.000\">面包</span><span style=\"opacity: 0.80\"> </span><span style=\"background-color: hsl(120, 100.00%, 68.19%); opacity: 0.94\" title=\"0.087\">诱惑</span><span style=\"opacity: 0.80\"> ” ： </span><span style=\"background-color: hsl(120, 100.00%, 95.51%); opacity: 0.81\" title=\"0.005\">这道</span><span style=\"opacity: 0.80\"> 是 敬菜 ， </span><span style=\"background-color: hsl(120, 100.00%, 95.15%); opacity: 0.81\" title=\"0.006\">口味</span><span style=\"opacity: 0.80\"> 还 </span><span style=\"background-color: hsl(0, 100.00%, 94.12%); opacity: 0.81\" title=\"-0.008\">不错</span><span style=\"opacity: 0.80\"> ， </span><span style=\"background-color: hsl(0, 100.00%, 91.61%); opacity: 0.82\" title=\"-0.013\">冰淇淋</span><span style=\"opacity: 0.80\"> 也 很 </span><span style=\"background-color: hsl(120, 100.00%, 99.49%); opacity: 0.80\" title=\"0.000\">好吃</span><span style=\"opacity: 0.80\">   就是 </span><span style=\"background-color: hsl(120, 100.00%, 96.61%); opacity: 0.81\" title=\"0.004\">卖相</span><span style=\"opacity: 0.80\"> 太 一般 了   既然 要 </span><span style=\"background-color: hsl(120, 100.00%, 77.92%); opacity: 0.89\" title=\"0.052\">推广</span><span style=\"opacity: 0.80\">   </span><span style=\"background-color: hsl(0, 100.00%, 72.79%); opacity: 0.92\" title=\"-0.069\">至少</span><span style=\"opacity: 0.80\"> 要 给 </span><span style=\"background-color: hsl(120, 100.00%, 91.71%); opacity: 0.82\" title=\"0.013\">点儿</span><span style=\"opacity: 0.80\"> </span><span style=\"background-color: hsl(120, 100.00%, 85.47%); opacity: 0.85\" title=\"0.028\">装饰</span><span style=\"opacity: 0.80\"> ， </span><span style=\"background-color: hsl(120, 100.00%, 94.91%); opacity: 0.81\" title=\"0.006\">不用</span><span style=\"opacity: 0.80\"> 太 </span><span style=\"background-color: hsl(0, 100.00%, 99.78%); opacity: 0.80\" title=\"-0.000\">复杂</span><span style=\"opacity: 0.80\">   拉个 </span><span style=\"background-color: hsl(120, 100.00%, 85.82%); opacity: 0.85\" title=\"0.027\">巧克力</span><span style=\"opacity: 0.80\"> 线条 、 给 个 </span><span style=\"background-color: hsl(0, 100.00%, 94.97%); opacity: 0.81\" title=\"-0.006\">蛋卷</span><span style=\"opacity: 0.80\"> 、 </span><span style=\"background-color: hsl(0, 100.00%, 95.15%); opacity: 0.81\" title=\"-0.006\">水果</span><span style=\"opacity: 0.80\"> 粒 </span><span style=\"background-color: hsl(0, 100.00%, 92.47%); opacity: 0.82\" title=\"-0.011\">稍稍</span><span style=\"opacity: 0.80\"> </span><span style=\"background-color: hsl(120, 100.00%, 96.62%); opacity: 0.81\" title=\"0.004\">点缀</span><span style=\"opacity: 0.80\"> </span><span style=\"background-color: hsl(120, 100.00%, 99.50%); opacity: 0.80\" title=\"0.000\">一下</span><span style=\"opacity: 0.80\"> 就 会 </span><span style=\"background-color: hsl(0, 100.00%, 97.94%); opacity: 0.80\" title=\"-0.002\">好看</span><span style=\"opacity: 0.80\"> </span><span style=\"background-color: hsl(120, 100.00%, 98.77%); opacity: 0.80\" title=\"0.001\">很多</span><span style=\"opacity: 0.80\">   </span><span style=\"background-color: hsl(120, 100.00%, 99.50%); opacity: 0.80\" title=\"0.000\">面包</span><span style=\"opacity: 0.80\"> 本身 </span><span style=\"background-color: hsl(120, 100.00%, 89.59%); opacity: 0.83\" title=\"0.018\">口感</span><span style=\"opacity: 0.80\"> 和 </span><span style=\"background-color: hsl(0, 100.00%, 91.61%); opacity: 0.82\" title=\"-0.013\">冰淇淋</span><span style=\"opacity: 0.80\"> 都 很 </span><span style=\"background-color: hsl(120, 100.00%, 99.49%); opacity: 0.80\" title=\"0.000\">好吃</span><span style=\"opacity: 0.80\">   比 </span><span style=\"background-color: hsl(120, 100.00%, 98.77%); opacity: 0.80\" title=\"0.001\">很多</span><span style=\"opacity: 0.80\"> </span><span style=\"background-color: hsl(120, 100.00%, 97.24%); opacity: 0.80\" title=\"0.003\">外面</span><span style=\"opacity: 0.80\"> </span><span style=\"background-color: hsl(120, 100.00%, 85.47%); opacity: 0.85\" title=\"0.028\">装饰</span><span style=\"opacity: 0.80\"> 的 </span><span style=\"background-color: hsl(120, 100.00%, 96.06%); opacity: 0.81\" title=\"0.004\">那种</span><span style=\"opacity: 0.80\"> </span><span style=\"background-color: hsl(120, 100.00%, 93.28%); opacity: 0.82\" title=\"0.009\">美美</span><span style=\"opacity: 0.80\"> 的 </span><span style=\"background-color: hsl(120, 100.00%, 99.49%); opacity: 0.80\" title=\"0.000\">好吃</span><span style=\"opacity: 0.80\"> 多 了   就 差 了 </span><span style=\"background-color: hsl(0, 100.00%, 92.22%); opacity: 0.82\" title=\"-0.012\">一点</span><span style=\"opacity: 0.80\"> </span><span style=\"background-color: hsl(120, 100.00%, 85.47%); opacity: 0.85\" title=\"0.028\">装饰</span><span style=\"opacity: 0.80\"> ； 第八 张 “ </span><span style=\"background-color: hsl(0, 100.00%, 99.10%); opacity: 0.80\" title=\"-0.001\">绿茶</span><span style=\"opacity: 0.80\"> </span><span style=\"background-color: hsl(120, 100.00%, 92.93%); opacity: 0.82\" title=\"0.010\">烤鸡</span><span style=\"opacity: 0.80\"> ” </span><span style=\"background-color: hsl(120, 100.00%, 98.77%); opacity: 0.80\" title=\"0.001\">很多</span><span style=\"opacity: 0.80\"> </span><span style=\"background-color: hsl(0, 100.00%, 71.48%); opacity: 0.92\" title=\"-0.074\">人点</span><span style=\"opacity: 0.80\"> 这 </span><span style=\"background-color: hsl(120, 100.00%, 96.08%); opacity: 0.81\" title=\"0.004\">道菜</span><span style=\"opacity: 0.80\"> ， </span><span style=\"background-color: hsl(120, 100.00%, 92.75%); opacity: 0.82\" title=\"0.010\">相比</span><span style=\"opacity: 0.80\"> 前 </span><span style=\"background-color: hsl(120, 100.00%, 98.37%); opacity: 0.80\" title=\"0.001\">几道</span><span style=\"opacity: 0.80\"> 的 </span><span style=\"background-color: hsl(120, 100.00%, 81.89%); opacity: 0.86\" title=\"0.039\">重口</span><span style=\"opacity: 0.80\"> ， </span><span style=\"background-color: hsl(120, 100.00%, 92.93%); opacity: 0.82\" title=\"0.010\">烤鸡</span><span style=\"opacity: 0.80\"> </span><span style=\"background-color: hsl(120, 100.00%, 81.35%); opacity: 0.87\" title=\"0.041\">显得</span><span style=\"opacity: 0.80\"> 淡 了 一些 。 </span><span style=\"background-color: hsl(0, 100.00%, 90.97%); opacity: 0.82\" title=\"-0.014\">鸡皮</span><span style=\"opacity: 0.80\"> 的 </span><span style=\"background-color: hsl(120, 100.00%, 87.74%); opacity: 0.84\" title=\"0.022\">保护</span><span style=\"opacity: 0.80\"> </span><span style=\"background-color: hsl(0, 100.00%, 97.20%); opacity: 0.80\" title=\"-0.003\">基本</span><span style=\"opacity: 0.80\"> </span><span style=\"background-color: hsl(120, 100.00%, 97.83%); opacity: 0.80\" title=\"0.002\">没有</span><span style=\"opacity: 0.80\">   所以 </span><span style=\"background-color: hsl(0, 100.00%, 93.85%); opacity: 0.81\" title=\"-0.008\">整个</span><span style=\"opacity: 0.80\"> </span><span style=\"background-color: hsl(120, 100.00%, 93.26%); opacity: 0.82\" title=\"0.009\">鸡肉</span><span style=\"opacity: 0.80\"> 又 干 有 柴 、 也 挂不住 </span><span style=\"background-color: hsl(0, 100.00%, 98.99%); opacity: 0.80\" title=\"-0.001\">调味料</span><span style=\"opacity: 0.80\"> 、 </span><span style=\"background-color: hsl(120, 100.00%, 87.22%); opacity: 0.84\" title=\"0.024\">下次</span><span style=\"opacity: 0.80\"> 有 </span><span style=\"background-color: hsl(120, 100.00%, 90.16%); opacity: 0.83\" title=\"0.016\">机会</span><span style=\"opacity: 0.80\"> </span><span style=\"background-color: hsl(120, 100.00%, 90.11%); opacity: 0.83\" title=\"0.016\">点个</span><span style=\"opacity: 0.80\"> </span><span style=\"background-color: hsl(0, 100.00%, 92.36%); opacity: 0.82\" title=\"-0.011\">整只</span><span style=\"opacity: 0.80\"> 的 </span><span style=\"background-color: hsl(0, 100.00%, 90.49%); opacity: 0.83\" title=\"-0.015\">或许</span><span style=\"opacity: 0.80\"> 会 好 </span><span style=\"background-color: hsl(0, 100.00%, 92.22%); opacity: 0.82\" title=\"-0.012\">一点</span><span style=\"opacity: 0.80\"> ； </span><span style=\"background-color: hsl(0, 100.00%, 89.96%); opacity: 0.83\" title=\"-0.017\">最后</span><span style=\"opacity: 0.80\"> 还有 未上 图 的 </span><span style=\"background-color: hsl(0, 100.00%, 99.10%); opacity: 0.80\" title=\"-0.001\">绿茶</span><span style=\"opacity: 0.80\"> 饼 和 </span><span style=\"background-color: hsl(0, 100.00%, 98.80%); opacity: 0.80\" title=\"-0.001\">糖醋</span><span style=\"opacity: 0.80\"> </span><span style=\"background-color: hsl(0, 100.00%, 91.34%); opacity: 0.82\" title=\"-0.014\">里脊</span><span style=\"opacity: 0.80\"> ， </span><span style=\"background-color: hsl(0, 100.00%, 99.10%); opacity: 0.80\" title=\"-0.001\">绿茶</span><span style=\"opacity: 0.80\"> 饼 还 </span><span style=\"background-color: hsl(0, 100.00%, 94.12%); opacity: 0.81\" title=\"-0.008\">不错</span><span style=\"opacity: 0.80\">   可以 </span><span style=\"background-color: hsl(120, 100.00%, 84.59%); opacity: 0.85\" title=\"0.031\">一试</span><span style=\"opacity: 0.80\">   只要 </span><span style=\"background-color: hsl(0, 100.00%, 83.45%); opacity: 0.86\" title=\"-0.034\">火候</span><span style=\"opacity: 0.80\"> </span><span style=\"background-color: hsl(120, 100.00%, 98.81%); opacity: 0.80\" title=\"0.001\">控制</span><span style=\"opacity: 0.80\"> 的 好 不炸过 </span><span style=\"background-color: hsl(0, 100.00%, 97.20%); opacity: 0.80\" title=\"-0.003\">基本</span><span style=\"opacity: 0.80\"> 没 </span><span style=\"background-color: hsl(0, 100.00%, 95.78%); opacity: 0.81\" title=\"-0.005\">问题</span><span style=\"opacity: 0.80\"> ， </span><span style=\"background-color: hsl(120, 100.00%, 92.69%); opacity: 0.82\" title=\"0.011\">里面</span><span style=\"opacity: 0.80\"> 糯 糯 的 </span><span style=\"background-color: hsl(0, 100.00%, 93.95%); opacity: 0.81\" title=\"-0.008\">馅儿</span><span style=\"opacity: 0.80\"> 很 </span><span style=\"background-color: hsl(120, 100.00%, 99.49%); opacity: 0.80\" title=\"0.000\">好吃</span><span style=\"opacity: 0.80\"> ； “ </span><span style=\"background-color: hsl(0, 100.00%, 98.80%); opacity: 0.80\" title=\"-0.001\">糖醋</span><span style=\"opacity: 0.80\"> </span><span style=\"background-color: hsl(0, 100.00%, 91.34%); opacity: 0.82\" title=\"-0.014\">里脊</span><span style=\"opacity: 0.80\"> ”   这 是 我 吃 过 最 </span><span style=\"background-color: hsl(120, 100.00%, 98.97%); opacity: 0.80\" title=\"0.001\">难吃</span><span style=\"opacity: 0.80\"> 的 </span><span style=\"background-color: hsl(120, 100.00%, 99.17%); opacity: 0.80\" title=\"0.000\">版本</span><span style=\"opacity: 0.80\"> ， </span><span style=\"background-color: hsl(120, 100.00%, 97.83%); opacity: 0.80\" title=\"0.002\">没有</span><span style=\"opacity: 0.80\"> 之一 ！ </span><span style=\"background-color: hsl(120, 100.00%, 88.29%); opacity: 0.83\" title=\"0.021\">上次</span><span style=\"opacity: 0.80\"> 有 </span><span style=\"background-color: hsl(120, 100.00%, 93.32%); opacity: 0.82\" title=\"0.009\">一小</span><span style=\"opacity: 0.80\"> 哥吐 了 </span><span style=\"background-color: hsl(120, 100.00%, 96.21%); opacity: 0.81\" title=\"0.004\">一通</span><span style=\"opacity: 0.80\"> 槽   我 还 想 就 一个 </span><span style=\"background-color: hsl(0, 100.00%, 98.80%); opacity: 0.80\" title=\"-0.001\">糖醋</span><span style=\"opacity: 0.80\"> </span><span style=\"background-color: hsl(0, 100.00%, 91.34%); opacity: 0.82\" title=\"-0.014\">里脊</span><span style=\"opacity: 0.80\"> 也 不是 啥 难菜   不至于 吧   这次 就 抱 着 </span><span style=\"background-color: hsl(0, 100.00%, 67.27%); opacity: 0.95\" title=\"-0.090\">猎奇</span><span style=\"opacity: 0.80\"> 的 </span><span style=\"background-color: hsl(120, 100.00%, 96.04%); opacity: 0.81\" title=\"0.004\">心里</span><span style=\"opacity: 0.80\"> 点 了 一个   </span><span style=\"background-color: hsl(120, 100.00%, 99.27%); opacity: 0.80\" title=\"0.000\">菜刚</span><span style=\"opacity: 0.80\"> </span><span style=\"background-color: hsl(120, 100.00%, 98.60%); opacity: 0.80\" title=\"0.001\">上来</span><span style=\"opacity: 0.80\"> 我 就 </span><span style=\"background-color: hsl(0, 100.00%, 93.90%); opacity: 0.81\" title=\"-0.008\">后悔</span><span style=\"opacity: 0.80\"> 了 --- </span><span style=\"background-color: hsl(120, 100.00%, 75.97%); opacity: 0.90\" title=\"0.058\">老抽</span><span style=\"opacity: 0.80\"> 色 （ shai ） 的 、 </span><span style=\"background-color: hsl(120, 100.00%, 97.24%); opacity: 0.80\" title=\"0.003\">外面</span><span style=\"opacity: 0.80\"> </span><span style=\"background-color: hsl(0, 100.00%, 96.62%); opacity: 0.81\" title=\"-0.004\">一圈</span><span style=\"opacity: 0.80\"> </span><span style=\"background-color: hsl(120, 100.00%, 73.68%); opacity: 0.91\" title=\"0.066\">淀粉</span><span style=\"opacity: 0.80\"> （ 粉 </span><span style=\"background-color: hsl(0, 100.00%, 87.98%); opacity: 0.84\" title=\"-0.022\">面子</span><span style=\"opacity: 0.80\"> ） </span><span style=\"background-color: hsl(0, 100.00%, 97.20%); opacity: 0.80\" title=\"-0.003\">基本</span><span style=\"opacity: 0.80\"> 没 吃 着 肉 ， 糊哒 哒 粘成 一 坨   </span><span style=\"background-color: hsl(120, 100.00%, 89.66%); opacity: 0.83\" title=\"0.017\">看起来</span><span style=\"opacity: 0.80\"> 和 那个 </span><span style=\"background-color: hsl(120, 100.00%, 82.55%); opacity: 0.86\" title=\"0.037\">茄子</span><span style=\"opacity: 0.80\"> 煲 </span><span style=\"background-color: hsl(0, 100.00%, 92.22%); opacity: 0.82\" title=\"-0.012\">没什么</span><span style=\"opacity: 0.80\"> 太 大 </span><span style=\"background-color: hsl(0, 100.00%, 84.98%); opacity: 0.85\" title=\"-0.030\">区别</span><span style=\"opacity: 0.80\"> 。 </span><span style=\"background-color: hsl(0, 100.00%, 94.87%); opacity: 0.81\" title=\"-0.006\">建议</span><span style=\"opacity: 0.80\"> 找 一个 做 </span><span style=\"background-color: hsl(0, 100.00%, 98.80%); opacity: 0.80\" title=\"-0.001\">糖醋</span><span style=\"opacity: 0.80\"> </span><span style=\"background-color: hsl(0, 100.00%, 91.34%); opacity: 0.82\" title=\"-0.014\">里脊</span><span style=\"opacity: 0.80\"> 的 店 吃 </span><span style=\"background-color: hsl(0, 100.00%, 95.68%); opacity: 0.81\" title=\"-0.005\">一次</span><span style=\"opacity: 0.80\">   </span><span style=\"background-color: hsl(0, 100.00%, 93.17%); opacity: 0.82\" title=\"-0.010\">看一看</span><span style=\"opacity: 0.80\">   就 上 个 浆   </span><span style=\"background-color: hsl(120, 100.00%, 80.19%); opacity: 0.87\" title=\"0.044\">过个</span><span style=\"opacity: 0.80\"> 油   浇个 </span><span style=\"background-color: hsl(120, 100.00%, 95.34%); opacity: 0.81\" title=\"0.006\">汁儿</span><span style=\"opacity: 0.80\"> 的 </span><span style=\"background-color: hsl(0, 100.00%, 97.25%); opacity: 0.80\" title=\"-0.003\">事情</span><span style=\"opacity: 0.80\">   没 那么 难     </span><span style=\"background-color: hsl(0, 100.00%, 92.35%); opacity: 0.82\" title=\"-0.011\">肉类</span><span style=\"opacity: 0.80\"> 的 </span><span style=\"background-color: hsl(120, 100.00%, 95.21%); opacity: 0.81\" title=\"0.006\">菜品</span><span style=\"opacity: 0.80\"> </span><span style=\"background-color: hsl(120, 100.00%, 98.51%); opacity: 0.80\" title=\"0.001\">价格</span><span style=\"opacity: 0.80\"> 可以 </span><span style=\"background-color: hsl(120, 100.00%, 85.84%); opacity: 0.85\" title=\"0.027\">适当</span><span style=\"opacity: 0.80\"> 调 高 一些   我 宁可 多 花点儿钱 吃 肉 也 </span><span style=\"background-color: hsl(0, 100.00%, 98.19%); opacity: 0.80\" title=\"-0.001\">不想</span><span style=\"opacity: 0.80\"> 吃 这 一 坨 坨 粉 </span><span style=\"background-color: hsl(0, 100.00%, 87.98%); opacity: 0.84\" title=\"-0.022\">面子</span><span style=\"opacity: 0.80\"> 。   </span><span style=\"background-color: hsl(120, 100.00%, 94.38%); opacity: 0.81\" title=\"0.007\">总体而言</span><span style=\"opacity: 0.80\"> </span><span style=\"background-color: hsl(0, 100.00%, 95.93%); opacity: 0.81\" title=\"-0.005\">环境</span><span style=\"opacity: 0.80\"> 还 </span><span style=\"background-color: hsl(0, 100.00%, 94.12%); opacity: 0.81\" title=\"-0.008\">不错</span><span style=\"opacity: 0.80\">   </span><span style=\"background-color: hsl(120, 100.00%, 98.51%); opacity: 0.80\" title=\"0.001\">价格</span><span style=\"opacity: 0.80\"> 很 </span><span style=\"background-color: hsl(0, 100.00%, 94.76%); opacity: 0.81\" title=\"-0.007\">平民</span><span style=\"opacity: 0.80\">   </span><span style=\"background-color: hsl(0, 100.00%, 96.10%); opacity: 0.81\" title=\"-0.004\">服务</span><span style=\"opacity: 0.80\"> </span><span style=\"background-color: hsl(120, 100.00%, 89.91%); opacity: 0.83\" title=\"0.017\">中规中矩</span><span style=\"opacity: 0.80\">   但是 </span><span style=\"background-color: hsl(120, 100.00%, 95.21%); opacity: 0.81\" title=\"0.006\">菜品</span><span style=\"opacity: 0.80\"> </span><span style=\"background-color: hsl(0, 100.00%, 90.56%); opacity: 0.83\" title=\"-0.015\">质量</span><span style=\"opacity: 0.80\"> 很 是 </span><span style=\"background-color: hsl(120, 100.00%, 95.52%); opacity: 0.81\" title=\"0.005\">有待</span><span style=\"opacity: 0.80\"> </span><span style=\"background-color: hsl(120, 100.00%, 94.44%); opacity: 0.81\" title=\"0.007\">提高</span><span style=\"opacity: 0.80\"> 。 看 </span><span style=\"background-color: hsl(120, 100.00%, 82.27%); opacity: 0.86\" title=\"0.038\">墙上</span><span style=\"opacity: 0.80\"> 的 </span><span style=\"background-color: hsl(120, 100.00%, 97.52%); opacity: 0.80\" title=\"0.002\">照片</span><span style=\"opacity: 0.80\"> （ 不 </span><span style=\"background-color: hsl(120, 100.00%, 96.68%); opacity: 0.81\" title=\"0.003\">知道</span><span style=\"opacity: 0.80\"> </span><span style=\"background-color: hsl(0, 100.00%, 98.12%); opacity: 0.80\" title=\"-0.002\">老板</span><span style=\"opacity: 0.80\"> </span><span style=\"background-color: hsl(120, 100.00%, 98.88%); opacity: 0.80\" title=\"0.001\">是不是</span><span style=\"opacity: 0.80\"> 做 </span><span style=\"background-color: hsl(120, 100.00%, 84.72%); opacity: 0.85\" title=\"0.030\">青旅</span><span style=\"opacity: 0.80\"> </span><span style=\"background-color: hsl(120, 100.00%, 96.70%); opacity: 0.81\" title=\"0.003\">起家</span><span style=\"opacity: 0.80\"> 的 ） </span><span style=\"background-color: hsl(120, 100.00%, 95.21%); opacity: 0.81\" title=\"0.006\">菜品</span><span style=\"opacity: 0.80\"> </span><span style=\"background-color: hsl(120, 100.00%, 95.66%); opacity: 0.81\" title=\"0.005\">不会</span><span style=\"opacity: 0.80\"> 因为 </span><span style=\"background-color: hsl(120, 100.00%, 91.92%); opacity: 0.82\" title=\"0.012\">价格低</span><span style=\"opacity: 0.80\"> 而 有销路   </span><span style=\"background-color: hsl(120, 100.00%, 92.77%); opacity: 0.82\" title=\"0.010\">只会</span><span style=\"opacity: 0.80\"> 因为 </span><span style=\"background-color: hsl(0, 100.00%, 90.56%); opacity: 0.83\" title=\"-0.015\">质量</span><span style=\"opacity: 0.80\"> 好 才 </span><span style=\"background-color: hsl(0, 100.00%, 96.45%); opacity: 0.81\" title=\"-0.004\">畅销</span><span style=\"opacity: 0.80\"> （ </span><span style=\"background-color: hsl(120, 100.00%, 92.75%); opacity: 0.82\" title=\"0.010\">相比</span><span style=\"opacity: 0.80\"> </span><span style=\"background-color: hsl(120, 100.00%, 97.20%); opacity: 0.80\" title=\"0.003\">低价</span><span style=\"opacity: 0.80\">   </span><span style=\"background-color: hsl(0, 100.00%, 94.11%); opacity: 0.81\" title=\"-0.008\">现在</span><span style=\"opacity: 0.80\"> 的 人们 更 </span><span style=\"background-color: hsl(120, 100.00%, 96.26%); opacity: 0.81\" title=\"0.004\">喜欢</span><span style=\"opacity: 0.80\"> </span><span style=\"background-color: hsl(0, 100.00%, 90.56%); opacity: 0.83\" title=\"-0.015\">质量</span><span style=\"opacity: 0.80\"> 好 而 有 </span><span style=\"background-color: hsl(120, 100.00%, 91.15%); opacity: 0.82\" title=\"0.014\">保障</span><span style=\"opacity: 0.80\"> 的 </span><span style=\"background-color: hsl(120, 100.00%, 97.69%); opacity: 0.80\" title=\"0.002\">食品</span><span style=\"opacity: 0.80\">   </span><span style=\"background-color: hsl(120, 100.00%, 98.51%); opacity: 0.80\" title=\"0.001\">价格</span><span style=\"opacity: 0.80\"> 好 </span><span style=\"background-color: hsl(0, 100.00%, 92.22%); opacity: 0.82\" title=\"-0.012\">一点</span><span style=\"opacity: 0.80\"> 反而 是 </span><span style=\"background-color: hsl(120, 100.00%, 94.25%); opacity: 0.81\" title=\"0.008\">保证</span><span style=\"opacity: 0.80\"> ）   </span><span style=\"background-color: hsl(0, 100.00%, 90.31%); opacity: 0.83\" title=\"-0.016\">希望</span><span style=\"opacity: 0.80\"> </span><span style=\"background-color: hsl(120, 100.00%, 96.83%); opacity: 0.81\" title=\"0.003\">越做越</span><span style=\"opacity: 0.80\"> 好 。 </span><span style=\"background-color: hsl(120, 100.00%, 87.82%); opacity: 0.84\" title=\"0.022\">地址</span><span style=\"opacity: 0.80\"> 在 </span><span style=\"background-color: hsl(120, 100.00%, 79.65%); opacity: 0.88\" title=\"0.046\">凯德</span><span style=\"opacity: 0.80\"> </span><span style=\"background-color: hsl(0, 100.00%, 86.05%); opacity: 0.84\" title=\"-0.027\">1818</span><span style=\"opacity: 0.80\">     5 楼手 </span><span style=\"background-color: hsl(120, 100.00%, 92.21%); opacity: 0.82\" title=\"0.012\">扶梯</span><span style=\"opacity: 0.80\"> 旁 。</span>\n",
       "    </p>\n",
       "\n",
       "\n",
       "    \n",
       "\n",
       "    \n",
       "\n",
       "    \n",
       "\n",
       "    \n",
       "\n",
       "\n",
       "    \n",
       "\n",
       "    \n",
       "\n",
       "    \n",
       "\n",
       "    \n",
       "\n",
       "    \n",
       "\n",
       "    \n",
       "\n",
       "\n",
       "    \n",
       "\n",
       "    \n",
       "\n",
       "    \n",
       "\n",
       "    \n",
       "\n",
       "    \n",
       "\n",
       "    \n",
       "\n",
       "\n",
       "\n"
      ],
      "text/plain": [
       "<IPython.core.display.HTML object>"
      ]
     },
     "execution_count": 32,
     "metadata": {},
     "output_type": "execute_result"
    }
   ],
   "source": [
    "lr_explain(model_lr_oversamp, test3)  # 这都能给4星"
   ]
  },
  {
   "cell_type": "markdown",
   "metadata": {
    "id": "Mtv7SuHT376_"
   },
   "source": [
    "## FastText"
   ]
  },
  {
   "cell_type": "markdown",
   "metadata": {
    "id": "zwNPEf6Ox38j"
   },
   "source": [
    "For a GPU with 12GB of RAM, the following maxima apply:\n",
    "\n",
    "        sequence len=64, max_batch_size=64\n",
    "        sequence len=128, max_batch_size=32\n",
    "        sequence len=256, max_batch_size=16\n",
    "        sequence len=320, max_batch_size=14\n",
    "        sequence len=384, max_batch_size=12\n",
    "        sequence len=512, max_batch_size=6"
   ]
  },
  {
   "cell_type": "markdown",
   "metadata": {
    "id": "VqEPU0RF0Wpr"
   },
   "source": [
    "### Sentences length"
   ]
  },
  {
   "cell_type": "code",
   "execution_count": 33,
   "metadata": {
    "ExecuteTime": {
     "end_time": "2023-03-22T18:02:04.640845Z",
     "start_time": "2023-03-22T18:02:02.187170Z"
    },
    "colab": {
     "base_uri": "https://localhost:8080/",
     "height": 747
    },
    "id": "UyZgCpK0ys8d",
    "outputId": "0ae8c818-0843-4063-e55b-ea350b2ed8e6"
   },
   "outputs": [
    {
     "data": {
      "text/plain": [
       "<function matplotlib.pyplot.show(close=None, block=None)>"
      ]
     },
     "execution_count": 33,
     "metadata": {},
     "output_type": "execute_result"
    },
    {
     "data": {
      "image/png": "[encoded data removed]",
      "text/plain": [
       "<Figure size 640x480 with 1 Axes>"
      ]
     },
     "metadata": {},
     "output_type": "display_data"
    }
   ],
   "source": [
    "data_train['length'] = data_train['review'].apply(lambda x: len(x))\n",
    "len_train = data_train.groupby('length').count()\n",
    "\n",
    "data_val['length'] = data_val['review'].apply(lambda x: len(x))\n",
    "len_val = data_val.groupby('length').count()\n",
    "\n",
    "data_test['length'] = data_test['review'].apply(lambda x: len(x))\n",
    "len_test = data_test.groupby('length').count()\n",
    "\n",
    "sent_length = len_train.index.tolist() + len_val.index.tolist() + len_test.index.tolist()\n",
    "sent_freq = len_train['review'].tolist() + len_val['review'].tolist() + len_test['review'].tolist()\n",
    "\n",
    "# 绘制句子长度及出现频数统计图\n",
    "plt.bar(sent_length, sent_freq,2)\n",
    "plt.title(\"Frequency of Sentence Length\")\n",
    "plt.xlabel(\"Length\")\n",
    "plt.ylabel(\"Frequency\")\n",
    "plt.savefig(\"sentence_length.png\")\n",
    "plt.show"
   ]
  },
  {
   "cell_type": "markdown",
   "metadata": {
    "id": "Vu3p9CpR0hlb"
   },
   "source": [
    "### Data Preparation, Tokenization & Vectorization"
   ]
  },
  {
   "cell_type": "code",
   "execution_count": 34,
   "metadata": {
    "ExecuteTime": {
     "end_time": "2023-03-22T18:02:57.658581Z",
     "start_time": "2023-03-22T18:02:04.642832Z"
    },
    "colab": {
     "base_uri": "https://localhost:8080/",
     "height": 520
    },
    "id": "b3_1ddo2377O",
    "outputId": "ce21a817-bcb2-4099-bd97-ff3ee78e261b",
    "scrolled": true
   },
   "outputs": [
    {
     "name": "stdout",
     "output_type": "stream",
     "text": [
      "['-1', '1']\n",
      "    -1    1\n",
      "0  0.0  1.0\n",
      "1  0.0  1.0\n",
      "2  0.0  1.0\n",
      "3  0.0  1.0\n",
      "4  0.0  1.0\n",
      "['-1', '1']\n",
      "    -1    1\n",
      "0  0.0  1.0\n",
      "2  0.0  1.0\n",
      "3  0.0  1.0\n",
      "4  0.0  1.0\n",
      "6  0.0  1.0\n",
      "language: zh-cn\n",
      "Word Counts: 114182\n",
      "Nrows: 31609\n",
      "31609 train sequences\n",
      "x_train shape: (31609,512)\n",
      "y_train shape: (31609, 2)\n",
      "Is Multi-Label? False\n",
      "4156 test sequences\n",
      "x_test shape: (4156,512)\n",
      "y_test shape: (4156, 2)\n"
     ]
    }
   ],
   "source": [
    "(X_train_ft, y_train_ft), (X_val_ft, y_val_ft), preproc_ft = text.texts_from_df(train_df=data_train,\n",
    "                                                                   text_column = 'review',\n",
    "                                                                   label_columns = 'sentiment',\n",
    "                                                                   val_df = data_val,\n",
    "                                                                   maxlen = 512,\n",
    "                                                                   max_features=30000,\n",
    "                                                                   preprocess_mode = 'standard')"
   ]
  },
  {
   "cell_type": "markdown",
   "metadata": {
    "id": "e78OxtWH0urK"
   },
   "source": [
    "### Train"
   ]
  },
  {
   "cell_type": "code",
   "execution_count": 35,
   "metadata": {
    "ExecuteTime": {
     "end_time": "2023-03-22T18:03:00.573634Z",
     "start_time": "2023-03-22T18:02:57.660585Z"
    },
    "colab": {
     "base_uri": "https://localhost:8080/"
    },
    "id": "Zhh6GxJW377c",
    "outputId": "afb9372b-fb2c-4eb6-8ecb-e3381eaf3454"
   },
   "outputs": [
    {
     "name": "stdout",
     "output_type": "stream",
     "text": [
      "Is Multi-Label? False\n",
      "compiling word ID features...\n",
      "maxlen is 512\n",
      "done.\n"
     ]
    }
   ],
   "source": [
    "model_ft = text.text_classifier(name = 'fasttext',\n",
    "                             train_data = (X_train_ft, y_train_ft),\n",
    "                             preproc = preproc_ft)"
   ]
  },
  {
   "cell_type": "code",
   "execution_count": 36,
   "metadata": {
    "ExecuteTime": {
     "end_time": "2023-03-22T18:03:00.589640Z",
     "start_time": "2023-03-22T18:03:00.575639Z"
    },
    "id": "M7tzxRgr377f"
   },
   "outputs": [
    {
     "data": {
      "text/plain": [
       "\"\\nmodel_bert.load_weights('bert/bert-meituan-rate/tmp/weights-02.hdf5')\\nlearner_bert = ktrain.get_learner(model=model_bert, train_data=(X_train_bert, y_train_bert),\\n                   val_data = (X_val_bert, y_val_bert),\\n                   batch_size = 12)\\npredictor_bert = ktrain.get_predictor(learner_bert.model, preproc_bert)\\n\""
      ]
     },
     "execution_count": 36,
     "metadata": {},
     "output_type": "execute_result"
    }
   ],
   "source": [
    "# load weights if needed\n",
    "'''\n",
    "model_bert.load_weights('bert/bert-meituan-rate/tmp/weights-02.hdf5')\n",
    "learner_bert = ktrain.get_learner(model=model_bert, train_data=(X_train_bert, y_train_bert),\n",
    "                   val_data = (X_val_bert, y_val_bert),\n",
    "                   batch_size = 12)\n",
    "predictor_bert = ktrain.get_predictor(learner_bert.model, preproc_bert)\n",
    "'''"
   ]
  },
  {
   "cell_type": "code",
   "execution_count": 37,
   "metadata": {
    "ExecuteTime": {
     "end_time": "2023-03-22T18:03:00.635643Z",
     "start_time": "2023-03-22T18:03:00.592636Z"
    },
    "id": "iYpJ_Dw4377i"
   },
   "outputs": [],
   "source": [
    "learner_ft = ktrain.get_learner(model=model_ft, train_data=(X_train_ft, y_train_ft),\n",
    "                   val_data = (X_val_ft, y_val_ft),\n",
    "                   batch_size = 10)"
   ]
  },
  {
   "cell_type": "code",
   "execution_count": 38,
   "metadata": {
    "ExecuteTime": {
     "end_time": "2023-03-22T18:03:42.895108Z",
     "start_time": "2023-03-22T18:03:00.637646Z"
    },
    "colab": {
     "base_uri": "https://localhost:8080/",
     "height": 509
    },
    "id": "zZTddAu7377m",
    "outputId": "83e4d701-1c2f-4089-82fa-e4497065db35",
    "scrolled": true
   },
   "outputs": [
    {
     "name": "stdout",
     "output_type": "stream",
     "text": [
      "simulating training for different learning rates... this may take a few moments...\n",
      "Epoch 1/2\n",
      "3161/3161 [==============================] - 19s 6ms/step - loss: 0.6380 - accuracy: 0.6763\n",
      "Epoch 2/2\n",
      "3161/3161 [==============================] - 18s 6ms/step - loss: 0.3222 - accuracy: 0.9154\n",
      "\n",
      "\n",
      "done.\n",
      "Visually inspect loss plot and select learning rate associated with falling loss\n",
      "Three possible suggestions for LR from plot:\n",
      "\tLongest valley (red): 3.29E-03\n",
      "\tMin numerical gradient (purple): 9.46E-04\n",
      "\tMin loss divided by 10 (omitted from plot): 3.83E-03\n"
     ]
    },
    {
     "data": {
      "image/png": "[encoded data removed]",
      "text/plain": [
       "<Figure size 640x480 with 1 Axes>"
      ]
     },
     "metadata": {},
     "output_type": "display_data"
    }
   ],
   "source": [
    "# 自动寻找lr\n",
    "# https://www.pyimagesearch.com/2019/08/05/keras-learning-rate-finder/\n",
    "learner_ft.lr_find(show_plot=True, suggest=True, max_epochs = 2)"
   ]
  },
  {
   "cell_type": "code",
   "execution_count": 39,
   "metadata": {
    "ExecuteTime": {
     "end_time": "2023-03-22T18:10:46.068854Z",
     "start_time": "2023-03-22T18:03:42.897109Z"
    },
    "id": "b4IWxvTc377o",
    "scrolled": true
   },
   "outputs": [
    {
     "name": "stdout",
     "output_type": "stream",
     "text": [
      "early_stopping automatically enabled at patience=5\n",
      "reduce_on_plateau automatically enabled at patience=2\n",
      "\n",
      "\n",
      "begin training using triangular learning rate policy with max lr of 0.00052...\n",
      "Epoch 1/1024\n",
      "3161/3161 [==============================] - 22s 7ms/step - loss: 0.3286 - accuracy: 0.8850 - val_loss: 0.2245 - val_accuracy: 0.9386\n",
      "Epoch 2/1024\n",
      "3161/3161 [==============================] - 21s 7ms/step - loss: 0.2171 - accuracy: 0.9252 - val_loss: 0.1725 - val_accuracy: 0.9548\n",
      "Epoch 3/1024\n",
      "3161/3161 [==============================] - 21s 7ms/step - loss: 0.1846 - accuracy: 0.9362 - val_loss: 0.1520 - val_accuracy: 0.9526\n",
      "Epoch 4/1024\n",
      "3161/3161 [==============================] - 21s 7ms/step - loss: 0.1630 - accuracy: 0.9420 - val_loss: 0.1295 - val_accuracy: 0.9564\n",
      "Epoch 5/1024\n",
      "3161/3161 [==============================] - 22s 7ms/step - loss: 0.1467 - accuracy: 0.9498 - val_loss: 0.1212 - val_accuracy: 0.9601\n",
      "Epoch 6/1024\n",
      "3161/3161 [==============================] - 22s 7ms/step - loss: 0.1356 - accuracy: 0.9529 - val_loss: 0.1153 - val_accuracy: 0.9608\n",
      "Epoch 7/1024\n",
      "3161/3161 [==============================] - 22s 7ms/step - loss: 0.1276 - accuracy: 0.9556 - val_loss: 0.1131 - val_accuracy: 0.9610\n",
      "Epoch 8/1024\n",
      "3161/3161 [==============================] - 22s 7ms/step - loss: 0.1186 - accuracy: 0.9590 - val_loss: 0.1107 - val_accuracy: 0.9605\n",
      "Epoch 9/1024\n",
      "3161/3161 [==============================] - 22s 7ms/step - loss: 0.1097 - accuracy: 0.9627 - val_loss: 0.1073 - val_accuracy: 0.9625\n",
      "Epoch 10/1024\n",
      "3161/3161 [==============================] - 22s 7ms/step - loss: 0.0998 - accuracy: 0.9659 - val_loss: 0.1038 - val_accuracy: 0.9639\n",
      "Epoch 11/1024\n",
      "3161/3161 [==============================] - 23s 7ms/step - loss: 0.1014 - accuracy: 0.9644 - val_loss: 0.1033 - val_accuracy: 0.9644\n",
      "Epoch 12/1024\n",
      "3161/3161 [==============================] - 22s 7ms/step - loss: 0.0923 - accuracy: 0.9676 - val_loss: 0.1060 - val_accuracy: 0.9639\n",
      "Epoch 13/1024\n",
      "3161/3161 [==============================] - 23s 7ms/step - loss: 0.0867 - accuracy: 0.9700 - val_loss: 0.1015 - val_accuracy: 0.9658\n",
      "Epoch 14/1024\n",
      "3161/3161 [==============================] - 23s 7ms/step - loss: 0.0832 - accuracy: 0.9710 - val_loss: 0.1005 - val_accuracy: 0.9670\n",
      "Epoch 15/1024\n",
      "3161/3161 [==============================] - 23s 7ms/step - loss: 0.0798 - accuracy: 0.9726 - val_loss: 0.1013 - val_accuracy: 0.9658\n",
      "Epoch 16/1024\n",
      "3159/3161 [============================>.] - ETA: 0s - loss: 0.0784 - accuracy: 0.9736\n",
      "Epoch 00016: Reducing Max LR on Plateau: new max lr will be 0.00026 (if not early_stopping).\n",
      "3161/3161 [==============================] - 23s 7ms/step - loss: 0.0784 - accuracy: 0.9736 - val_loss: 0.1043 - val_accuracy: 0.9637\n",
      "Epoch 17/1024\n",
      "3161/3161 [==============================] - 23s 7ms/step - loss: 0.0726 - accuracy: 0.9751 - val_loss: 0.1039 - val_accuracy: 0.9646\n",
      "Epoch 18/1024\n",
      "3156/3161 [============================>.] - ETA: 0s - loss: 0.0683 - accuracy: 0.9769\n",
      "Epoch 00018: Reducing Max LR on Plateau: new max lr will be 0.00013 (if not early_stopping).\n",
      "3161/3161 [==============================] - 23s 7ms/step - loss: 0.0684 - accuracy: 0.9768 - val_loss: 0.1050 - val_accuracy: 0.9649\n",
      "Epoch 19/1024\n",
      "3156/3161 [============================>.] - ETA: 0s - loss: 0.0654 - accuracy: 0.9768Restoring model weights from the end of the best epoch: 14.\n",
      "3161/3161 [==============================] - 23s 7ms/step - loss: 0.0654 - accuracy: 0.9768 - val_loss: 0.1054 - val_accuracy: 0.9639\n",
      "Epoch 00019: early stopping\n",
      "Weights from best epoch have been loaded into model.\n"
     ]
    }
   ],
   "source": [
    "learner_ft.autofit(lr = 5.20E-04, checkpoint_folder='ft-meituan-rate/tmp')\n",
    "predictor_ft = ktrain.get_predictor(learner_ft.model, preproc_ft)\n",
    "predictor_ft.save('ft-meituan-rate')"
   ]
  },
  {
   "cell_type": "markdown",
   "metadata": {
    "id": "wSE0geHEx38l"
   },
   "source": [
    "### Evaluation for Bert Model"
   ]
  },
  {
   "cell_type": "code",
   "execution_count": 40,
   "metadata": {
    "ExecuteTime": {
     "end_time": "2023-03-22T18:10:53.526866Z",
     "start_time": "2023-03-22T18:10:46.070859Z"
    },
    "id": "8U7bRpaKx38l"
   },
   "outputs": [],
   "source": [
    "X_test_ft = data_test['review']\n",
    "y_test_ft = data_test['sentiment']\n",
    "y_pred_ft=predictor_ft.predict(X_test_ft.values)"
   ]
  },
  {
   "cell_type": "code",
   "execution_count": 41,
   "metadata": {
    "ExecuteTime": {
     "end_time": "2023-03-22T18:10:53.618772Z",
     "start_time": "2023-03-22T18:10:53.528846Z"
    },
    "id": "6M7w55lDx38l"
   },
   "outputs": [
    {
     "name": "stdout",
     "output_type": "stream",
     "text": [
      "              precision    recall  f1-score   support\n",
      "\n",
      "          -1       0.82      0.72      0.77       338\n",
      "           1       0.98      0.99      0.98      3885\n",
      "\n",
      "    accuracy                           0.97      4223\n",
      "   macro avg       0.90      0.85      0.87      4223\n",
      "weighted avg       0.96      0.97      0.96      4223\n",
      "\n"
     ]
    }
   ],
   "source": [
    "# classification report\n",
    "from sklearn.metrics import classification_report\n",
    "print(classification_report(y_test_ft, y_pred_ft))"
   ]
  },
  {
   "cell_type": "code",
   "execution_count": 42,
   "metadata": {
    "ExecuteTime": {
     "end_time": "2023-03-22T18:10:53.650309Z",
     "start_time": "2023-03-22T18:10:53.621772Z"
    },
    "id": "L1TPCFN2x38l"
   },
   "outputs": [
    {
     "data": {
      "text/plain": [
       "array([[ 244,   94],\n",
       "       [  53, 3832]], dtype=int64)"
      ]
     },
     "execution_count": 42,
     "metadata": {},
     "output_type": "execute_result"
    }
   ],
   "source": [
    "# Confusion Matrix\n",
    "from sklearn.metrics import confusion_matrix\n",
    "confusion_matrix(y_test_ft, y_pred_ft)"
   ]
  },
  {
   "cell_type": "code",
   "execution_count": 43,
   "metadata": {
    "ExecuteTime": {
     "end_time": "2023-03-22T18:10:53.666300Z",
     "start_time": "2023-03-22T18:10:53.653299Z"
    },
    "id": "-wjwGcnrx38m",
    "outputId": "86fe96ca-0dcb-4812-c968-2f71d004e55f"
   },
   "outputs": [
    {
     "data": {
      "text/plain": [
       "review       吃帝王蟹的专门店，门口就挂着巨大无比的螃蟹，同行的盆友们想吃帝王蟹，我们就按着大众点评找过来...\n",
       "star                                                       5.0\n",
       "sentiment                                                    1\n",
       "length                                                     325\n",
       "Name: 606, dtype: object"
      ]
     },
     "execution_count": 43,
     "metadata": {},
     "output_type": "execute_result"
    }
   ],
   "source": [
    "data_test.iloc[536]"
   ]
  },
  {
   "cell_type": "code",
   "execution_count": 44,
   "metadata": {
    "ExecuteTime": {
     "end_time": "2023-03-22T18:10:58.781693Z",
     "start_time": "2023-03-22T18:10:53.668301Z"
    },
    "id": "vD6FTl7Hx38m"
   },
   "outputs": [
    {
     "data": {
      "text/html": [
       "\n",
       "    <style>\n",
       "    table.eli5-weights tr:hover {\n",
       "        filter: brightness(85%);\n",
       "    }\n",
       "</style>\n",
       "\n",
       "\n",
       "\n",
       "    \n",
       "\n",
       "    \n",
       "\n",
       "    \n",
       "\n",
       "    \n",
       "\n",
       "    \n",
       "\n",
       "    \n",
       "\n",
       "\n",
       "    \n",
       "\n",
       "    \n",
       "\n",
       "    \n",
       "\n",
       "    \n",
       "        \n",
       "\n",
       "    \n",
       "\n",
       "        \n",
       "\n",
       "        \n",
       "    \n",
       "        \n",
       "        \n",
       "    \n",
       "        <p style=\"margin-bottom: 0.5em; margin-top: 0em\">\n",
       "            <b>\n",
       "    \n",
       "        y=1\n",
       "    \n",
       "</b>\n",
       "\n",
       "    \n",
       "    (probability <b>0.992</b>, score <b>4.847</b>)\n",
       "\n",
       "top features\n",
       "        </p>\n",
       "    \n",
       "    <table class=\"eli5-weights\"\n",
       "           style=\"border-collapse: collapse; border: none; margin-top: 0em; table-layout: auto; margin-bottom: 2em;\">\n",
       "        <thead>\n",
       "        <tr style=\"border: none;\">\n",
       "            \n",
       "                <th style=\"padding: 0 1em 0 0.5em; text-align: right; border: none;\" title=\"Feature contribution already accounts for the feature value (for linear models, contribution = weight * feature value), and the sum of feature contributions is equal to the score or, for some classifiers, to the probability. Feature values are shown if &quot;show_feature_values&quot; is True.\">\n",
       "                    Contribution<sup>?</sup>\n",
       "                </th>\n",
       "            \n",
       "            <th style=\"padding: 0 0.5em 0 0.5em; text-align: left; border: none;\">Feature</th>\n",
       "            \n",
       "        </tr>\n",
       "        </thead>\n",
       "        <tbody>\n",
       "        \n",
       "            <tr style=\"background-color: hsl(120, 100.00%, 80.00%); border: none;\">\n",
       "    <td style=\"padding: 0 1em 0 0.5em; text-align: right; border: none;\">\n",
       "        +4.752\n",
       "    </td>\n",
       "    <td style=\"padding: 0 0.5em 0 0.5em; text-align: left; border: none;\">\n",
       "        Highlighted in text (sum)\n",
       "    </td>\n",
       "    \n",
       "</tr>\n",
       "        \n",
       "            <tr style=\"background-color: hsl(120, 100.00%, 98.71%); border: none;\">\n",
       "    <td style=\"padding: 0 1em 0 0.5em; text-align: right; border: none;\">\n",
       "        +0.095\n",
       "    </td>\n",
       "    <td style=\"padding: 0 0.5em 0 0.5em; text-align: left; border: none;\">\n",
       "        &lt;BIAS&gt;\n",
       "    </td>\n",
       "    \n",
       "</tr>\n",
       "        \n",
       "        \n",
       "\n",
       "        \n",
       "        \n",
       "\n",
       "        </tbody>\n",
       "    </table>\n",
       "\n",
       "    \n",
       "\n",
       "\n",
       "\n",
       "    <p style=\"margin-bottom: 2.5em; margin-top:-0.5em;\">\n",
       "        <span style=\"opacity: 0.80\">吃 </span><span style=\"background-color: hsl(0, 100.00%, 96.31%); opacity: 0.81\" title=\"-0.053\">帝王</span><span style=\"opacity: 0.80\"> </span><span style=\"background-color: hsl(120, 100.00%, 96.59%); opacity: 0.81\" title=\"0.047\">蟹</span><span style=\"opacity: 0.80\"> </span><span style=\"background-color: hsl(120, 100.00%, 96.89%); opacity: 0.81\" title=\"0.041\">的</span><span style=\"opacity: 0.80\"> </span><span style=\"background-color: hsl(0, 100.00%, 89.09%); opacity: 0.83\" title=\"-0.247\">专门店</span><span style=\"opacity: 0.80\"> ， </span><span style=\"background-color: hsl(120, 100.00%, 97.13%); opacity: 0.80\" title=\"0.037\">门口</span><span style=\"opacity: 0.80\"> </span><span style=\"background-color: hsl(120, 100.00%, 96.93%); opacity: 0.81\" title=\"0.040\">就</span><span style=\"opacity: 0.80\"> </span><span style=\"background-color: hsl(0, 100.00%, 88.71%); opacity: 0.83\" title=\"-0.259\">挂</span><span style=\"opacity: 0.80\"> </span><span style=\"background-color: hsl(0, 100.00%, 95.43%); opacity: 0.81\" title=\"-0.071\">着</span><span style=\"opacity: 0.80\"> </span><span style=\"background-color: hsl(120, 100.00%, 90.78%); opacity: 0.82\" title=\"0.194\">巨大</span><span style=\"opacity: 0.80\"> </span><span style=\"background-color: hsl(0, 100.00%, 93.33%); opacity: 0.82\" title=\"-0.122\">无比</span><span style=\"opacity: 0.80\"> </span><span style=\"background-color: hsl(120, 100.00%, 93.96%); opacity: 0.81\" title=\"0.106\">的</span><span style=\"opacity: 0.80\"> </span><span style=\"background-color: hsl(120, 100.00%, 79.20%); opacity: 0.88\" title=\"0.621\">螃蟹</span><span style=\"opacity: 0.80\"> ， </span><span style=\"background-color: hsl(120, 100.00%, 93.39%); opacity: 0.82\" title=\"0.121\">同行</span><span style=\"opacity: 0.80\"> </span><span style=\"background-color: hsl(120, 100.00%, 92.98%); opacity: 0.82\" title=\"0.131\">的</span><span style=\"opacity: 0.80\"> </span><span style=\"background-color: hsl(0, 100.00%, 86.75%); opacity: 0.84\" title=\"-0.326\">盆友们</span><span style=\"opacity: 0.80\"> </span><span style=\"background-color: hsl(120, 100.00%, 98.53%); opacity: 0.80\" title=\"0.014\">想</span><span style=\"opacity: 0.80\"> 吃 </span><span style=\"background-color: hsl(0, 100.00%, 96.31%); opacity: 0.81\" title=\"-0.053\">帝王</span><span style=\"opacity: 0.80\"> </span><span style=\"background-color: hsl(120, 100.00%, 96.14%); opacity: 0.81\" title=\"0.056\">蟹</span><span style=\"opacity: 0.80\"> ， </span><span style=\"background-color: hsl(120, 100.00%, 90.89%); opacity: 0.82\" title=\"0.191\">我们</span><span style=\"opacity: 0.80\"> </span><span style=\"background-color: hsl(0, 100.00%, 97.69%); opacity: 0.80\" title=\"-0.027\">就</span><span style=\"opacity: 0.80\"> </span><span style=\"background-color: hsl(0, 100.00%, 95.22%); opacity: 0.81\" title=\"-0.076\">按着</span><span style=\"opacity: 0.80\"> </span><span style=\"background-color: hsl(0, 100.00%, 92.79%); opacity: 0.82\" title=\"-0.137\">大众</span><span style=\"opacity: 0.80\"> </span><span style=\"background-color: hsl(0, 100.00%, 94.21%); opacity: 0.81\" title=\"-0.100\">点评</span><span style=\"opacity: 0.80\"> </span><span style=\"background-color: hsl(0, 100.00%, 96.07%); opacity: 0.81\" title=\"-0.057\">找</span><span style=\"opacity: 0.80\"> </span><span style=\"background-color: hsl(0, 100.00%, 98.09%); opacity: 0.80\" title=\"-0.021\">过来</span><span style=\"opacity: 0.80\"> </span><span style=\"background-color: hsl(0, 100.00%, 94.01%); opacity: 0.81\" title=\"-0.105\">的</span><span style=\"opacity: 0.80\"> ， </span><span style=\"background-color: hsl(0, 100.00%, 93.32%); opacity: 0.82\" title=\"-0.122\">离住</span><span style=\"opacity: 0.80\"> </span><span style=\"background-color: hsl(120, 100.00%, 96.89%); opacity: 0.81\" title=\"0.041\">的</span><span style=\"opacity: 0.80\"> </span><span style=\"background-color: hsl(120, 100.00%, 92.56%); opacity: 0.82\" title=\"0.143\">酒店</span><span style=\"opacity: 0.80\"> </span><span style=\"background-color: hsl(0, 100.00%, 95.81%); opacity: 0.81\" title=\"-0.063\">比较</span><span style=\"opacity: 0.80\"> </span><span style=\"background-color: hsl(0, 100.00%, 91.93%); opacity: 0.82\" title=\"-0.160\">近</span><span style=\"opacity: 0.80\"> ， </span><span style=\"background-color: hsl(0, 100.00%, 79.88%); opacity: 0.87\" title=\"-0.592\">居然</span><span style=\"opacity: 0.80\"> </span><span style=\"background-color: hsl(120, 100.00%, 98.96%); opacity: 0.80\" title=\"0.009\">找到</span><span style=\"opacity: 0.80\"> </span><span style=\"background-color: hsl(120, 100.00%, 91.68%); opacity: 0.82\" title=\"0.168\">了</span><span style=\"opacity: 0.80\"> ， </span><span style=\"background-color: hsl(120, 100.00%, 95.29%); opacity: 0.81\" title=\"0.074\">但是</span><span style=\"opacity: 0.80\"> </span><span style=\"background-color: hsl(0, 100.00%, 95.93%); opacity: 0.81\" title=\"-0.060\">我们</span><span style=\"opacity: 0.80\"> </span><span style=\"background-color: hsl(0, 100.00%, 98.15%); opacity: 0.80\" title=\"-0.020\">到</span><span style=\"opacity: 0.80\"> </span><span style=\"background-color: hsl(120, 100.00%, 98.14%); opacity: 0.80\" title=\"0.020\">的</span><span style=\"opacity: 0.80\"> </span><span style=\"background-color: hsl(0, 100.00%, 89.95%); opacity: 0.83\" title=\"-0.220\">比较</span><span style=\"opacity: 0.80\"> </span><span style=\"background-color: hsl(0, 100.00%, 91.01%); opacity: 0.82\" title=\"-0.187\">晚</span><span style=\"opacity: 0.80\"> </span><span style=\"background-color: hsl(120, 100.00%, 99.50%); opacity: 0.80\" title=\"0.003\">了</span><span style=\"opacity: 0.80\"> ， </span><span style=\"background-color: hsl(0, 100.00%, 95.50%); opacity: 0.81\" title=\"-0.070\">我们</span><span style=\"opacity: 0.80\"> </span><span style=\"background-color: hsl(0, 100.00%, 95.39%); opacity: 0.81\" title=\"-0.072\">大概</span><span style=\"opacity: 0.80\"> </span><span style=\"background-color: hsl(0, 100.00%, 96.13%); opacity: 0.81\" title=\"-0.056\">九点钟</span><span style=\"opacity: 0.80\"> </span><span style=\"background-color: hsl(0, 100.00%, 97.54%); opacity: 0.80\" title=\"-0.029\">到</span><span style=\"opacity: 0.80\"> </span><span style=\"background-color: hsl(120, 100.00%, 98.14%); opacity: 0.80\" title=\"0.020\">的</span><span style=\"opacity: 0.80\"> ， </span><span style=\"background-color: hsl(0, 100.00%, 90.33%); opacity: 0.83\" title=\"-0.208\">被</span><span style=\"opacity: 0.80\"> </span><span style=\"background-color: hsl(0, 100.00%, 81.16%); opacity: 0.87\" title=\"-0.539\">告知</span><span style=\"opacity: 0.80\"> </span><span style=\"background-color: hsl(120, 100.00%, 94.37%); opacity: 0.81\" title=\"0.096\">十点钟</span><span style=\"opacity: 0.80\"> </span><span style=\"background-color: hsl(120, 100.00%, 90.16%); opacity: 0.83\" title=\"0.213\">就要</span><span style=\"opacity: 0.80\"> </span><span style=\"background-color: hsl(120, 100.00%, 88.37%); opacity: 0.83\" title=\"0.271\">打烊</span><span style=\"opacity: 0.80\"> </span><span style=\"background-color: hsl(0, 100.00%, 94.83%); opacity: 0.81\" title=\"-0.085\">了</span><span style=\"opacity: 0.80\"> ， </span><span style=\"background-color: hsl(0, 100.00%, 96.49%); opacity: 0.81\" title=\"-0.049\">好</span><span style=\"opacity: 0.80\"> </span><span style=\"background-color: hsl(120, 100.00%, 97.40%); opacity: 0.80\" title=\"0.032\">吧</span><span style=\"opacity: 0.80\"> ， </span><span style=\"background-color: hsl(0, 100.00%, 98.66%); opacity: 0.80\" title=\"-0.012\">都</span><span style=\"opacity: 0.80\"> </span><span style=\"background-color: hsl(0, 100.00%, 94.70%); opacity: 0.81\" title=\"-0.088\">收工</span><span style=\"opacity: 0.80\"> 这么 </span><span style=\"background-color: hsl(120, 100.00%, 96.89%); opacity: 0.81\" title=\"0.041\">的</span><span style=\"opacity: 0.80\"> </span><span style=\"background-color: hsl(0, 100.00%, 95.50%); opacity: 0.81\" title=\"-0.070\">早</span><span style=\"opacity: 0.80\"> ， </span><span style=\"background-color: hsl(0, 100.00%, 88.33%); opacity: 0.83\" title=\"-0.272\">但是</span><span style=\"opacity: 0.80\"> </span><span style=\"background-color: hsl(0, 100.00%, 98.52%); opacity: 0.80\" title=\"-0.014\">我们</span><span style=\"opacity: 0.80\"> </span><span style=\"background-color: hsl(120, 100.00%, 93.27%); opacity: 0.82\" title=\"0.124\">还是</span><span style=\"opacity: 0.80\"> </span><span style=\"background-color: hsl(120, 100.00%, 95.23%); opacity: 0.81\" title=\"0.076\">毅然</span><span style=\"opacity: 0.80\"> </span><span style=\"background-color: hsl(120, 100.00%, 96.89%); opacity: 0.81\" title=\"0.041\">的</span><span style=\"opacity: 0.80\"> 坐 </span><span style=\"background-color: hsl(120, 100.00%, 96.20%); opacity: 0.81\" title=\"0.055\">了</span><span style=\"opacity: 0.80\"> </span><span style=\"background-color: hsl(0, 100.00%, 94.69%); opacity: 0.81\" title=\"-0.088\">进去</span><span style=\"opacity: 0.80\"> ， </span><span style=\"background-color: hsl(0, 100.00%, 93.62%); opacity: 0.81\" title=\"-0.115\">可能</span><span style=\"opacity: 0.80\"> </span><span style=\"background-color: hsl(0, 100.00%, 98.83%); opacity: 0.80\" title=\"-0.010\">是因为</span><span style=\"opacity: 0.80\"> </span><span style=\"background-color: hsl(120, 100.00%, 98.24%); opacity: 0.80\" title=\"0.018\">晚</span><span style=\"opacity: 0.80\"> </span><span style=\"background-color: hsl(0, 100.00%, 96.63%); opacity: 0.81\" title=\"-0.046\">了</span><span style=\"opacity: 0.80\"> ， </span><span style=\"background-color: hsl(0, 100.00%, 95.19%); opacity: 0.81\" title=\"-0.077\">也</span><span style=\"opacity: 0.80\"> </span><span style=\"background-color: hsl(120, 100.00%, 97.37%); opacity: 0.80\" title=\"0.032\">可能</span><span style=\"opacity: 0.80\"> </span><span style=\"background-color: hsl(120, 100.00%, 90.96%); opacity: 0.82\" title=\"0.189\">是</span><span style=\"opacity: 0.80\"> </span><span style=\"background-color: hsl(120, 100.00%, 92.59%); opacity: 0.82\" title=\"0.142\">价格</span><span style=\"opacity: 0.80\"> </span><span style=\"background-color: hsl(0, 100.00%, 94.63%); opacity: 0.81\" title=\"-0.090\">比较</span><span style=\"opacity: 0.80\"> </span><span style=\"background-color: hsl(120, 100.00%, 90.96%); opacity: 0.82\" title=\"0.189\">高端</span><span style=\"opacity: 0.80\"> ， </span><span style=\"background-color: hsl(120, 100.00%, 92.11%); opacity: 0.82\" title=\"0.155\">所以</span><span style=\"opacity: 0.80\"> </span><span style=\"background-color: hsl(120, 100.00%, 87.06%); opacity: 0.84\" title=\"0.315\">人不多</span><span style=\"opacity: 0.80\"> ， </span><span style=\"background-color: hsl(0, 100.00%, 93.68%); opacity: 0.81\" title=\"-0.113\">我们</span><span style=\"opacity: 0.80\"> </span><span style=\"background-color: hsl(0, 100.00%, 92.55%); opacity: 0.82\" title=\"-0.143\">坐</span><span style=\"opacity: 0.80\"> </span><span style=\"background-color: hsl(0, 100.00%, 92.68%); opacity: 0.82\" title=\"-0.140\">的</span><span style=\"opacity: 0.80\"> </span><span style=\"background-color: hsl(0, 100.00%, 85.42%); opacity: 0.85\" title=\"-0.374\">包房</span><span style=\"opacity: 0.80\"> ， </span><span style=\"background-color: hsl(0, 100.00%, 92.54%); opacity: 0.82\" title=\"-0.144\">塌塌米</span><span style=\"opacity: 0.80\"> … … \\ \\ </span><span style=\"background-color: hsl(0, 100.00%, 95.50%); opacity: 0.81\" title=\"-0.070\">n</span><span style=\"opacity: 0.80\"> </span><span style=\"background-color: hsl(120, 100.00%, 95.95%); opacity: 0.81\" title=\"0.060\">点</span><span style=\"opacity: 0.80\"> </span><span style=\"background-color: hsl(120, 100.00%, 96.85%); opacity: 0.81\" title=\"0.042\">了</span><span style=\"opacity: 0.80\"> </span><span style=\"background-color: hsl(0, 100.00%, 99.57%); opacity: 0.80\" title=\"-0.002\">日本</span><span style=\"opacity: 0.80\"> </span><span style=\"background-color: hsl(0, 100.00%, 98.04%); opacity: 0.80\" title=\"-0.021\">清酒</span><span style=\"opacity: 0.80\"> ， </span><span style=\"background-color: hsl(120, 100.00%, 93.63%); opacity: 0.81\" title=\"0.115\">点</span><span style=\"opacity: 0.80\"> </span><span style=\"background-color: hsl(0, 100.00%, 99.09%); opacity: 0.80\" title=\"-0.007\">了</span><span style=\"opacity: 0.80\"> </span><span style=\"background-color: hsl(120, 100.00%, 97.16%); opacity: 0.80\" title=\"0.036\">半份</span><span style=\"opacity: 0.80\"> </span><span style=\"background-color: hsl(0, 100.00%, 98.14%); opacity: 0.80\" title=\"-0.020\">的</span><span style=\"opacity: 0.80\"> </span><span style=\"background-color: hsl(0, 100.00%, 96.31%); opacity: 0.81\" title=\"-0.053\">帝王</span><span style=\"opacity: 0.80\"> </span><span style=\"background-color: hsl(120, 100.00%, 96.59%); opacity: 0.81\" title=\"0.047\">蟹</span><span style=\"opacity: 0.80\"> ， </span><span style=\"background-color: hsl(0, 100.00%, 94.93%); opacity: 0.81\" title=\"-0.083\">一个</span><span style=\"opacity: 0.80\"> </span><span style=\"background-color: hsl(0, 100.00%, 80.44%); opacity: 0.87\" title=\"-0.569\">三人份</span><span style=\"opacity: 0.80\"> </span><span style=\"background-color: hsl(120, 100.00%, 93.15%); opacity: 0.82\" title=\"0.127\">的</span><span style=\"opacity: 0.80\"> </span><span style=\"background-color: hsl(120, 100.00%, 94.80%); opacity: 0.81\" title=\"0.086\">刺身</span><span style=\"opacity: 0.80\"> </span><span style=\"background-color: hsl(120, 100.00%, 89.68%); opacity: 0.83\" title=\"0.228\">拼盘</span><span style=\"opacity: 0.80\"> ~ \\ \\ </span><span style=\"background-color: hsl(0, 100.00%, 92.12%); opacity: 0.82\" title=\"-0.155\">n</span><span style=\"opacity: 0.80\"> </span><span style=\"background-color: hsl(120, 100.00%, 96.39%); opacity: 0.81\" title=\"0.051\">三个</span><span style=\"opacity: 0.80\"> </span><span style=\"background-color: hsl(120, 100.00%, 98.91%); opacity: 0.80\" title=\"0.009\">吃</span><span style=\"opacity: 0.80\"> </span><span style=\"background-color: hsl(120, 100.00%, 94.90%); opacity: 0.81\" title=\"0.083\">下来</span><span style=\"opacity: 0.80\"> </span><span style=\"background-color: hsl(0, 100.00%, 91.07%); opacity: 0.82\" title=\"-0.185\">大概</span><span style=\"opacity: 0.80\"> </span><span style=\"background-color: hsl(0, 100.00%, 95.00%); opacity: 0.81\" title=\"-0.081\">人均</span><span style=\"opacity: 0.80\"> </span><span style=\"background-color: hsl(120, 100.00%, 92.61%); opacity: 0.82\" title=\"0.141\">二百多</span><span style=\"opacity: 0.80\"> </span><span style=\"background-color: hsl(120, 100.00%, 95.43%); opacity: 0.81\" title=\"0.071\">吧</span><span style=\"opacity: 0.80\"> ， </span><span style=\"background-color: hsl(0, 100.00%, 97.31%); opacity: 0.80\" title=\"-0.033\">如果</span><span style=\"opacity: 0.80\"> </span><span style=\"background-color: hsl(0, 100.00%, 93.64%); opacity: 0.81\" title=\"-0.114\">我</span><span style=\"opacity: 0.80\"> </span><span style=\"background-color: hsl(120, 100.00%, 97.50%); opacity: 0.80\" title=\"0.030\">没</span><span style=\"opacity: 0.80\"> </span><span style=\"background-color: hsl(120, 100.00%, 97.03%); opacity: 0.80\" title=\"0.038\">记错</span><span style=\"opacity: 0.80\"> </span><span style=\"background-color: hsl(0, 100.00%, 94.07%); opacity: 0.81\" title=\"-0.103\">的话</span><span style=\"opacity: 0.80\"> ， </span><span style=\"background-color: hsl(120, 100.00%, 91.65%); opacity: 0.82\" title=\"0.169\">其实</span><span style=\"opacity: 0.80\"> </span><span style=\"background-color: hsl(0, 100.00%, 94.33%); opacity: 0.81\" title=\"-0.097\">感觉</span><span style=\"opacity: 0.80\"> </span><span style=\"background-color: hsl(0, 100.00%, 94.33%); opacity: 0.81\" title=\"-0.097\">还</span><span style=\"opacity: 0.80\"> 可以 ， </span><span style=\"background-color: hsl(0, 100.00%, 96.59%); opacity: 0.81\" title=\"-0.047\">毕竟</span><span style=\"opacity: 0.80\"> </span><span style=\"background-color: hsl(0, 100.00%, 98.67%); opacity: 0.80\" title=\"-0.012\">在</span><span style=\"opacity: 0.80\"> </span><span style=\"background-color: hsl(0, 100.00%, 94.51%); opacity: 0.81\" title=\"-0.093\">这个</span><span style=\"opacity: 0.80\"> </span><span style=\"background-color: hsl(0, 100.00%, 83.96%); opacity: 0.85\" title=\"-0.428\">地段</span><span style=\"opacity: 0.80\"> ， </span><span style=\"background-color: hsl(120, 100.00%, 97.99%); opacity: 0.80\" title=\"0.022\">而且</span><span style=\"opacity: 0.80\"> </span><span style=\"background-color: hsl(0, 100.00%, 95.24%); opacity: 0.81\" title=\"-0.076\">食材</span><span style=\"opacity: 0.80\"> </span><span style=\"background-color: hsl(0, 100.00%, 98.39%); opacity: 0.80\" title=\"-0.016\">很</span><span style=\"opacity: 0.80\"> </span><span style=\"background-color: hsl(0, 100.00%, 94.86%); opacity: 0.81\" title=\"-0.084\">新鲜</span><span style=\"opacity: 0.80\"> </span><span style=\"background-color: hsl(120, 100.00%, 97.45%); opacity: 0.80\" title=\"0.031\">的</span><span style=\"opacity: 0.80\"> ， </span><span style=\"background-color: hsl(0, 100.00%, 95.46%); opacity: 0.81\" title=\"-0.071\">蟹</span><span style=\"opacity: 0.80\"> </span><span style=\"background-color: hsl(120, 100.00%, 97.66%); opacity: 0.80\" title=\"0.027\">很</span><span style=\"opacity: 0.80\"> </span><span style=\"background-color: hsl(120, 100.00%, 73.15%); opacity: 0.91\" title=\"0.894\">肥美</span><span style=\"opacity: 0.80\"> ， </span><span style=\"background-color: hsl(120, 100.00%, 93.64%); opacity: 0.81\" title=\"0.114\">门口</span><span style=\"opacity: 0.80\"> </span><span style=\"background-color: hsl(0, 100.00%, 97.44%); opacity: 0.80\" title=\"-0.031\">的</span><span style=\"opacity: 0.80\"> </span><span style=\"background-color: hsl(0, 100.00%, 96.41%); opacity: 0.81\" title=\"-0.051\">大水池</span><span style=\"opacity: 0.80\"> 里面 </span><span style=\"background-color: hsl(120, 100.00%, 96.74%); opacity: 0.81\" title=\"0.044\">有活</span><span style=\"opacity: 0.80\"> </span><span style=\"background-color: hsl(120, 100.00%, 96.89%); opacity: 0.81\" title=\"0.041\">的</span><span style=\"opacity: 0.80\"> </span><span style=\"background-color: hsl(0, 100.00%, 96.31%); opacity: 0.81\" title=\"-0.053\">帝王</span><span style=\"opacity: 0.80\"> </span><span style=\"background-color: hsl(120, 100.00%, 95.38%); opacity: 0.81\" title=\"0.072\">蟹</span><span style=\"opacity: 0.80\"> ， </span><span style=\"background-color: hsl(120, 100.00%, 77.43%); opacity: 0.89\" title=\"0.697\">供</span><span style=\"opacity: 0.80\"> </span><span style=\"background-color: hsl(0, 100.00%, 97.78%); opacity: 0.80\" title=\"-0.025\">观赏</span><span style=\"opacity: 0.80\"> … … \\ \\ </span><span style=\"background-color: hsl(0, 100.00%, 88.45%); opacity: 0.83\" title=\"-0.268\">n</span><span style=\"opacity: 0.80\"> </span><span style=\"background-color: hsl(0, 100.00%, 92.63%); opacity: 0.82\" title=\"-0.141\">服务员</span><span style=\"opacity: 0.80\"> 都 </span><span style=\"background-color: hsl(120, 100.00%, 98.12%); opacity: 0.80\" title=\"0.020\">是</span><span style=\"opacity: 0.80\"> </span><span style=\"background-color: hsl(120, 100.00%, 94.04%); opacity: 0.81\" title=\"0.104\">穿</span><span style=\"opacity: 0.80\"> </span><span style=\"background-color: hsl(120, 100.00%, 95.86%); opacity: 0.81\" title=\"0.062\">的</span><span style=\"opacity: 0.80\"> </span><span style=\"background-color: hsl(120, 100.00%, 84.50%); opacity: 0.85\" title=\"0.408\">传统</span><span style=\"opacity: 0.80\"> </span><span style=\"background-color: hsl(0, 100.00%, 92.37%); opacity: 0.82\" title=\"-0.148\">服饰</span><span style=\"opacity: 0.80\"> ， </span><span style=\"background-color: hsl(0, 100.00%, 71.74%); opacity: 0.92\" title=\"-0.961\">不会</span><span style=\"opacity: 0.80\"> </span><span style=\"background-color: hsl(0, 100.00%, 95.80%); opacity: 0.81\" title=\"-0.063\">讲</span><span style=\"opacity: 0.80\"> </span><span style=\"background-color: hsl(120, 100.00%, 85.98%); opacity: 0.84\" title=\"0.353\">英文</span><span style=\"opacity: 0.80\"> </span><span style=\"background-color: hsl(120, 100.00%, 87.97%); opacity: 0.84\" title=\"0.284\">和</span><span style=\"opacity: 0.80\"> </span><span style=\"background-color: hsl(120, 100.00%, 60.00%); opacity: 1.00\" title=\"1.580\">中文</span><span style=\"opacity: 0.80\"> ， </span><span style=\"background-color: hsl(120, 100.00%, 96.43%); opacity: 0.81\" title=\"0.050\">但是</span><span style=\"opacity: 0.80\"> </span><span style=\"background-color: hsl(120, 100.00%, 97.90%); opacity: 0.80\" title=\"0.023\">菜单</span><span style=\"opacity: 0.80\"> 上面 有 图片 ， </span><span style=\"background-color: hsl(0, 100.00%, 86.73%); opacity: 0.84\" title=\"-0.326\">完全</span><span style=\"opacity: 0.80\"> </span><span style=\"background-color: hsl(120, 100.00%, 94.48%); opacity: 0.81\" title=\"0.093\">不</span><span style=\"opacity: 0.80\"> 影响 </span><span style=\"background-color: hsl(120, 100.00%, 90.30%); opacity: 0.83\" title=\"0.209\">我们</span><span style=\"opacity: 0.80\"> </span><span style=\"background-color: hsl(120, 100.00%, 88.64%); opacity: 0.83\" title=\"0.262\">交流</span><span style=\"opacity: 0.80\"> ， </span><span style=\"background-color: hsl(0, 100.00%, 80.47%); opacity: 0.87\" title=\"-0.567\">呵呵</span><span style=\"opacity: 0.80\"> ~ ~ </span><span style=\"background-color: hsl(0, 100.00%, 90.59%); opacity: 0.83\" title=\"-0.200\">吃</span><span style=\"opacity: 0.80\"> </span><span style=\"background-color: hsl(0, 100.00%, 98.95%); opacity: 0.80\" title=\"-0.009\">的</span><span style=\"opacity: 0.80\"> </span><span style=\"background-color: hsl(120, 100.00%, 82.01%); opacity: 0.86\" title=\"0.504\">很饱</span><span style=\"opacity: 0.80\"> ， </span><span style=\"background-color: hsl(120, 100.00%, 92.52%); opacity: 0.82\" title=\"0.144\">很</span><span style=\"opacity: 0.80\"> </span><span style=\"background-color: hsl(120, 100.00%, 69.89%); opacity: 0.93\" title=\"1.053\">满足</span><span style=\"opacity: 0.80\"> … … \\ \\ </span><span style=\"background-color: hsl(120, 100.00%, 98.58%); opacity: 0.80\" title=\"0.013\">n</span>\n",
       "    </p>\n",
       "\n",
       "\n",
       "    \n",
       "\n",
       "    \n",
       "\n",
       "    \n",
       "\n",
       "    \n",
       "\n",
       "\n",
       "    \n",
       "\n",
       "    \n",
       "\n",
       "    \n",
       "\n",
       "    \n",
       "\n",
       "    \n",
       "\n",
       "    \n",
       "\n",
       "\n",
       "    \n",
       "\n",
       "    \n",
       "\n",
       "    \n",
       "\n",
       "    \n",
       "\n",
       "    \n",
       "\n",
       "    \n",
       "\n",
       "\n",
       "\n"
      ],
      "text/plain": [
       "<IPython.core.display.HTML object>"
      ]
     },
     "execution_count": 44,
     "metadata": {},
     "output_type": "execute_result"
    }
   ],
   "source": [
    "predictor_ft.explain(data_test.iloc[536]['review'])"
   ]
  },
  {
   "cell_type": "code",
   "execution_count": 45,
   "metadata": {
    "ExecuteTime": {
     "end_time": "2023-03-22T18:10:58.797701Z",
     "start_time": "2023-03-22T18:10:58.783678Z"
    },
    "id": "fn0f5xuzx38m"
   },
   "outputs": [],
   "source": [
    "#从大众点评网找两条评论来测试一下\n",
    "test1 = '很好吃，环境好，所有员工的态度都很好，上菜快，服务也很好，味道好吃，都是用蒸馏水煮的，推荐，超好吃' #5星好评\n",
    "test2 = '糯米外皮不绵滑，豆沙馅粗躁，没有香甜味。12元一碗不值。' #1星差评\n",
    "# 4星，搅屎棍\n",
    "test3 = '昨儿晚上来凯德1818的绿茶吃饭，点了以下10个菜，这里面有好几个都是推荐菜品，咱挨个说啊～  第一张 “客家茄子煲”：一个字：咸、俩字：很咸、仨字：非常咸、四个字：咸（hou)死我了... ... 我很怀疑是不是师傅在放酱油的时候手抖了 然后整锅煲就是一锅酱色。里面的咸鱼粒很显然没有经过任何处理（泡一下水去掉部分盐分等），再加之菜本身很咸根本无法入口，整锅煲基本没动；第二张 “鱼头诱惑 ”：这道菜是翔哥点的 还不错 首先鱼头很新鲜 其次鱼头蒸的火候刚好 既入味还不老，建议除了小米辣再加上点泡椒，这样无论是颜色和口味上都会更棒的！这道菜基本消灭； 第三张：“小锅土豆”：厚片的土豆挂满酱汁，炉子在下面慢慢加热，后来加一片放到嘴里，几乎是入口即化、口感绵软，也是一道不错的下饭菜；第四张：“农家小菜”其实就是少了橄榄菜和肉末的豆角粒，味道还可以，如果把豆角再煸的干一点（表皮起皱）口感会更好；第五张“菜心金钩豆腐” 和没上图的“老乡浓汤”一起说了，两道分不清是汤、羹还是菜的东东，都是推荐菜 分不清也无所谓，重点是上菜的时候都不是热的 都是温的 “菜心”里面有蛋黄、“浓汤”里面有猪肚，这两种食材变冷后都会有腥味且口感不好，加之一碗有淀粉类的羹 温温的很难喝，建议出品后马上传菜到客人面前，口味上冷了就都不美味了；第六张：“麻酱油麦菜”很多地方也叫“麻酱凤尾” 麻酱用的像是麻酱和花生酱混合的甜口的酱料，重点是没有稀释！整个一坨粘在油麦菜上 根本拌不开 相比甜口的麻酱我更喜欢热干面那种咸口的、稀点儿的；第七张“面包诱惑”：这道是敬菜，口味还不错，冰淇淋也很好吃 就是卖相太一般了 既然要推广 至少要给点儿装饰，不用太复杂 拉个巧克力线条、给个蛋卷、水果粒稍稍点缀一下就会好看很多 面包本身口感和冰淇淋都很好吃 比很多外面装饰的那种美美的好吃多了 就差了一点装饰；第八张“绿茶烤鸡”很多人点这道菜，相比前几道的重口，烤鸡显得淡了一些。鸡皮的保护基本没有 所以整个鸡肉又干有柴、也挂不住调味料、下次有机会点个整只的或许会好一点；最后还有未上图的绿茶饼和糖醋里脊，绿茶饼还不错 可以一试 只要火候控制的好不炸过基本没问题，里面糯糯的馅儿很好吃；“糖醋里脊” 这是我吃过最难吃的版本，没有之一！上次有一小哥吐了一通槽 我还想就一个糖醋里脊也不是啥难菜 不至于吧 这次就抱着猎奇的心里点了一个 菜刚上来我就后悔了---老抽色（shai）的、外面一圈淀粉（粉面子）基本没吃着肉，糊哒哒粘成一坨 看起来和那个茄子煲没什么太大区别。建议找一个做糖醋里脊的店吃一次 看一看 就上个浆 过个油 浇个汁儿的事情 没那么难  肉类的菜品价格可以适当调高一些 我宁可多花点儿钱吃肉也不想吃这一坨坨粉面子。 总体而言环境还不错 价格很平民 服务中规中矩 但是菜品质量很是有待提高。看墙上的照片（不知道老板是不是做青旅起家的）菜品不会因为价格低而有销路 只会因为质量好才畅销（相比低价 现在的人们更喜欢质量好而有保障的食品 价格好一点反而是保证） 希望越做越好。地址在凯德1818  5楼手扶梯旁。'"
   ]
  },
  {
   "cell_type": "code",
   "execution_count": 46,
   "metadata": {
    "ExecuteTime": {
     "end_time": "2023-03-22T18:11:00.401289Z",
     "start_time": "2023-03-22T18:10:58.799680Z"
    },
    "id": "A5qSS5Bxx38n",
    "scrolled": true
   },
   "outputs": [
    {
     "data": {
      "text/html": [
       "\n",
       "    <style>\n",
       "    table.eli5-weights tr:hover {\n",
       "        filter: brightness(85%);\n",
       "    }\n",
       "</style>\n",
       "\n",
       "\n",
       "\n",
       "    \n",
       "\n",
       "    \n",
       "\n",
       "    \n",
       "\n",
       "    \n",
       "\n",
       "    \n",
       "\n",
       "    \n",
       "\n",
       "\n",
       "    \n",
       "\n",
       "    \n",
       "\n",
       "    \n",
       "\n",
       "    \n",
       "        \n",
       "\n",
       "    \n",
       "\n",
       "        \n",
       "\n",
       "        \n",
       "    \n",
       "        \n",
       "        \n",
       "    \n",
       "        <p style=\"margin-bottom: 0.5em; margin-top: 0em\">\n",
       "            <b>\n",
       "    \n",
       "        y=1\n",
       "    \n",
       "</b>\n",
       "\n",
       "    \n",
       "    (probability <b>0.946</b>, score <b>2.866</b>)\n",
       "\n",
       "top features\n",
       "        </p>\n",
       "    \n",
       "    <table class=\"eli5-weights\"\n",
       "           style=\"border-collapse: collapse; border: none; margin-top: 0em; table-layout: auto; margin-bottom: 2em;\">\n",
       "        <thead>\n",
       "        <tr style=\"border: none;\">\n",
       "            \n",
       "                <th style=\"padding: 0 1em 0 0.5em; text-align: right; border: none;\" title=\"Feature contribution already accounts for the feature value (for linear models, contribution = weight * feature value), and the sum of feature contributions is equal to the score or, for some classifiers, to the probability. Feature values are shown if &quot;show_feature_values&quot; is True.\">\n",
       "                    Contribution<sup>?</sup>\n",
       "                </th>\n",
       "            \n",
       "            <th style=\"padding: 0 0.5em 0 0.5em; text-align: left; border: none;\">Feature</th>\n",
       "            \n",
       "        </tr>\n",
       "        </thead>\n",
       "        <tbody>\n",
       "        \n",
       "            <tr style=\"background-color: hsl(120, 100.00%, 80.00%); border: none;\">\n",
       "    <td style=\"padding: 0 1em 0 0.5em; text-align: right; border: none;\">\n",
       "        +2.420\n",
       "    </td>\n",
       "    <td style=\"padding: 0 0.5em 0 0.5em; text-align: left; border: none;\">\n",
       "        Highlighted in text (sum)\n",
       "    </td>\n",
       "    \n",
       "</tr>\n",
       "        \n",
       "            <tr style=\"background-color: hsl(120, 100.00%, 93.88%); border: none;\">\n",
       "    <td style=\"padding: 0 1em 0 0.5em; text-align: right; border: none;\">\n",
       "        +0.446\n",
       "    </td>\n",
       "    <td style=\"padding: 0 0.5em 0 0.5em; text-align: left; border: none;\">\n",
       "        &lt;BIAS&gt;\n",
       "    </td>\n",
       "    \n",
       "</tr>\n",
       "        \n",
       "        \n",
       "\n",
       "        \n",
       "        \n",
       "\n",
       "        </tbody>\n",
       "    </table>\n",
       "\n",
       "    \n",
       "\n",
       "\n",
       "\n",
       "    <p style=\"margin-bottom: 2.5em; margin-top:-0.5em;\">\n",
       "        <span style=\"background-color: hsl(120, 100.00%, 77.42%); opacity: 0.89\" title=\"0.273\">很</span><span style=\"opacity: 0.80\"> </span><span style=\"background-color: hsl(120, 100.00%, 87.81%); opacity: 0.84\" title=\"0.113\">好吃</span><span style=\"opacity: 0.80\"> ， </span><span style=\"background-color: hsl(0, 100.00%, 80.96%); opacity: 0.87\" title=\"-0.214\">环境</span><span style=\"opacity: 0.80\"> </span><span style=\"background-color: hsl(0, 100.00%, 96.64%); opacity: 0.81\" title=\"-0.018\">好</span><span style=\"opacity: 0.80\"> ， </span><span style=\"background-color: hsl(0, 100.00%, 89.61%); opacity: 0.83\" title=\"-0.090\">所有</span><span style=\"opacity: 0.80\"> </span><span style=\"background-color: hsl(0, 100.00%, 85.05%); opacity: 0.85\" title=\"-0.152\">员工</span><span style=\"opacity: 0.80\"> </span><span style=\"background-color: hsl(0, 100.00%, 91.69%); opacity: 0.82\" title=\"-0.066\">的</span><span style=\"opacity: 0.80\"> </span><span style=\"background-color: hsl(0, 100.00%, 91.55%); opacity: 0.82\" title=\"-0.067\">态度</span><span style=\"opacity: 0.80\"> </span><span style=\"background-color: hsl(0, 100.00%, 78.81%); opacity: 0.88\" title=\"-0.250\">都</span><span style=\"opacity: 0.80\"> </span><span style=\"background-color: hsl(0, 100.00%, 84.86%); opacity: 0.85\" title=\"-0.154\">很</span><span style=\"opacity: 0.80\"> </span><span style=\"background-color: hsl(120, 100.00%, 93.75%); opacity: 0.81\" title=\"0.044\">好</span><span style=\"opacity: 0.80\"> ， </span><span style=\"background-color: hsl(0, 100.00%, 90.01%); opacity: 0.83\" title=\"-0.085\">上菜</span><span style=\"opacity: 0.80\"> </span><span style=\"background-color: hsl(0, 100.00%, 87.06%); opacity: 0.84\" title=\"-0.123\">快</span><span style=\"opacity: 0.80\"> ， </span><span style=\"background-color: hsl(0, 100.00%, 83.72%); opacity: 0.86\" title=\"-0.171\">服务</span><span style=\"opacity: 0.80\"> </span><span style=\"background-color: hsl(120, 100.00%, 93.83%); opacity: 0.81\" title=\"0.043\">也</span><span style=\"opacity: 0.80\"> </span><span style=\"background-color: hsl(120, 100.00%, 88.17%); opacity: 0.84\" title=\"0.109\">很</span><span style=\"opacity: 0.80\"> </span><span style=\"background-color: hsl(0, 100.00%, 91.48%); opacity: 0.82\" title=\"-0.068\">好</span><span style=\"opacity: 0.80\"> ， </span><span style=\"background-color: hsl(0, 100.00%, 87.21%); opacity: 0.84\" title=\"-0.121\">味道</span><span style=\"opacity: 0.80\"> </span><span style=\"background-color: hsl(120, 100.00%, 90.57%); opacity: 0.83\" title=\"0.079\">好吃</span><span style=\"opacity: 0.80\"> ， </span><span style=\"background-color: hsl(0, 100.00%, 82.09%); opacity: 0.86\" title=\"-0.196\">都</span><span style=\"opacity: 0.80\"> </span><span style=\"background-color: hsl(0, 100.00%, 77.93%); opacity: 0.89\" title=\"-0.265\">是</span><span style=\"opacity: 0.80\"> </span><span style=\"background-color: hsl(0, 100.00%, 82.71%); opacity: 0.86\" title=\"-0.187\">用</span><span style=\"opacity: 0.80\"> </span><span style=\"background-color: hsl(0, 100.00%, 80.08%); opacity: 0.87\" title=\"-0.229\">蒸馏水</span><span style=\"opacity: 0.80\"> </span><span style=\"background-color: hsl(0, 100.00%, 80.70%); opacity: 0.87\" title=\"-0.218\">煮</span><span style=\"opacity: 0.80\"> </span><span style=\"background-color: hsl(0, 100.00%, 83.42%); opacity: 0.86\" title=\"-0.176\">的</span><span style=\"opacity: 0.80\"> ， </span><span style=\"background-color: hsl(120, 100.00%, 68.89%); opacity: 0.94\" title=\"0.432\">推荐</span><span style=\"opacity: 0.80\"> ， </span><span style=\"background-color: hsl(120, 100.00%, 60.00%); opacity: 1.00\" title=\"0.619\">超</span><span style=\"opacity: 0.80\"> </span><span style=\"background-color: hsl(120, 100.00%, 79.40%); opacity: 0.88\" title=\"0.240\">好吃</span>\n",
       "    </p>\n",
       "\n",
       "\n",
       "    \n",
       "\n",
       "    \n",
       "\n",
       "    \n",
       "\n",
       "    \n",
       "\n",
       "\n",
       "    \n",
       "\n",
       "    \n",
       "\n",
       "    \n",
       "\n",
       "    \n",
       "\n",
       "    \n",
       "\n",
       "    \n",
       "\n",
       "\n",
       "    \n",
       "\n",
       "    \n",
       "\n",
       "    \n",
       "\n",
       "    \n",
       "\n",
       "    \n",
       "\n",
       "    \n",
       "\n",
       "\n",
       "\n"
      ],
      "text/plain": [
       "<IPython.core.display.HTML object>"
      ]
     },
     "execution_count": 46,
     "metadata": {},
     "output_type": "execute_result"
    }
   ],
   "source": [
    "predictor_ft.explain(test1)"
   ]
  },
  {
   "cell_type": "code",
   "execution_count": 47,
   "metadata": {
    "ExecuteTime": {
     "end_time": "2023-03-22T18:11:01.496665Z",
     "start_time": "2023-03-22T18:11:00.403290Z"
    },
    "id": "gCemPOHTx38n"
   },
   "outputs": [
    {
     "data": {
      "text/html": [
       "\n",
       "    <style>\n",
       "    table.eli5-weights tr:hover {\n",
       "        filter: brightness(85%);\n",
       "    }\n",
       "</style>\n",
       "\n",
       "\n",
       "\n",
       "    \n",
       "\n",
       "    \n",
       "\n",
       "    \n",
       "\n",
       "    \n",
       "\n",
       "    \n",
       "\n",
       "    \n",
       "\n",
       "\n",
       "    \n",
       "\n",
       "    \n",
       "\n",
       "    \n",
       "\n",
       "    \n",
       "        \n",
       "\n",
       "    \n",
       "\n",
       "        \n",
       "\n",
       "        \n",
       "    \n",
       "        \n",
       "        \n",
       "    \n",
       "        <p style=\"margin-bottom: 0.5em; margin-top: 0em\">\n",
       "            <b>\n",
       "    \n",
       "        y=1\n",
       "    \n",
       "</b>\n",
       "\n",
       "    \n",
       "    (probability <b>0.983</b>, score <b>4.062</b>)\n",
       "\n",
       "top features\n",
       "        </p>\n",
       "    \n",
       "    <table class=\"eli5-weights\"\n",
       "           style=\"border-collapse: collapse; border: none; margin-top: 0em; table-layout: auto; margin-bottom: 2em;\">\n",
       "        <thead>\n",
       "        <tr style=\"border: none;\">\n",
       "            \n",
       "                <th style=\"padding: 0 1em 0 0.5em; text-align: right; border: none;\" title=\"Feature contribution already accounts for the feature value (for linear models, contribution = weight * feature value), and the sum of feature contributions is equal to the score or, for some classifiers, to the probability. Feature values are shown if &quot;show_feature_values&quot; is True.\">\n",
       "                    Contribution<sup>?</sup>\n",
       "                </th>\n",
       "            \n",
       "            <th style=\"padding: 0 0.5em 0 0.5em; text-align: left; border: none;\">Feature</th>\n",
       "            \n",
       "        </tr>\n",
       "        </thead>\n",
       "        <tbody>\n",
       "        \n",
       "            <tr style=\"background-color: hsl(120, 100.00%, 80.00%); border: none;\">\n",
       "    <td style=\"padding: 0 1em 0 0.5em; text-align: right; border: none;\">\n",
       "        +3.595\n",
       "    </td>\n",
       "    <td style=\"padding: 0 0.5em 0 0.5em; text-align: left; border: none;\">\n",
       "        Highlighted in text (sum)\n",
       "    </td>\n",
       "    \n",
       "</tr>\n",
       "        \n",
       "            <tr style=\"background-color: hsl(120, 100.00%, 95.21%); border: none;\">\n",
       "    <td style=\"padding: 0 1em 0 0.5em; text-align: right; border: none;\">\n",
       "        +0.467\n",
       "    </td>\n",
       "    <td style=\"padding: 0 0.5em 0 0.5em; text-align: left; border: none;\">\n",
       "        &lt;BIAS&gt;\n",
       "    </td>\n",
       "    \n",
       "</tr>\n",
       "        \n",
       "        \n",
       "\n",
       "        \n",
       "        \n",
       "\n",
       "        </tbody>\n",
       "    </table>\n",
       "\n",
       "    \n",
       "\n",
       "\n",
       "\n",
       "    <p style=\"margin-bottom: 2.5em; margin-top:-0.5em;\">\n",
       "        <span style=\"background-color: hsl(120, 100.00%, 72.98%); opacity: 0.91\" title=\"1.216\">糯米</span><span style=\"opacity: 0.80\"> </span><span style=\"background-color: hsl(120, 100.00%, 79.94%); opacity: 0.87\" title=\"0.794\">外皮</span><span style=\"opacity: 0.80\"> </span><span style=\"background-color: hsl(0, 100.00%, 97.17%); opacity: 0.80\" title=\"-0.048\">不绵滑</span><span style=\"opacity: 0.80\"> ， </span><span style=\"background-color: hsl(120, 100.00%, 82.65%); opacity: 0.86\" title=\"0.646\">豆沙</span><span style=\"opacity: 0.80\"> </span><span style=\"background-color: hsl(120, 100.00%, 98.73%); opacity: 0.80\" title=\"0.015\">馅</span><span style=\"opacity: 0.80\"> </span><span style=\"background-color: hsl(120, 100.00%, 94.74%); opacity: 0.81\" title=\"0.117\">粗躁</span><span style=\"opacity: 0.80\"> ， </span><span style=\"background-color: hsl(120, 100.00%, 96.41%); opacity: 0.81\" title=\"0.068\">没有</span><span style=\"opacity: 0.80\"> </span><span style=\"background-color: hsl(120, 100.00%, 71.97%); opacity: 0.92\" title=\"1.282\">香</span><span style=\"opacity: 0.80\"> </span><span style=\"background-color: hsl(120, 100.00%, 82.63%); opacity: 0.86\" title=\"0.647\">甜味</span><span style=\"opacity: 0.80\"> 。 </span><span style=\"background-color: hsl(0, 100.00%, 99.11%); opacity: 0.80\" title=\"-0.009\">12</span><span style=\"opacity: 0.80\"> </span><span style=\"background-color: hsl(120, 100.00%, 99.51%); opacity: 0.80\" title=\"0.004\">元</span><span style=\"opacity: 0.80\"> </span><span style=\"background-color: hsl(0, 100.00%, 97.93%); opacity: 0.80\" title=\"-0.031\">一碗</span><span style=\"opacity: 0.80\"> </span><span style=\"background-color: hsl(0, 100.00%, 60.00%); opacity: 1.00\" title=\"-2.130\">不值</span><span style=\"opacity: 0.80\"> 。</span>\n",
       "    </p>\n",
       "\n",
       "\n",
       "    \n",
       "\n",
       "    \n",
       "\n",
       "    \n",
       "\n",
       "    \n",
       "\n",
       "\n",
       "    \n",
       "\n",
       "    \n",
       "\n",
       "    \n",
       "\n",
       "    \n",
       "\n",
       "    \n",
       "\n",
       "    \n",
       "\n",
       "\n",
       "    \n",
       "\n",
       "    \n",
       "\n",
       "    \n",
       "\n",
       "    \n",
       "\n",
       "    \n",
       "\n",
       "    \n",
       "\n",
       "\n",
       "\n"
      ],
      "text/plain": [
       "<IPython.core.display.HTML object>"
      ]
     },
     "execution_count": 47,
     "metadata": {},
     "output_type": "execute_result"
    }
   ],
   "source": [
    "predictor_ft.explain(test2)"
   ]
  },
  {
   "cell_type": "code",
   "execution_count": 48,
   "metadata": {
    "ExecuteTime": {
     "end_time": "2023-03-22T18:11:13.182813Z",
     "start_time": "2023-03-22T18:11:01.498666Z"
    },
    "id": "rWAXw5hm7kR1"
   },
   "outputs": [
    {
     "data": {
      "text/html": [
       "\n",
       "    <style>\n",
       "    table.eli5-weights tr:hover {\n",
       "        filter: brightness(85%);\n",
       "    }\n",
       "</style>\n",
       "\n",
       "\n",
       "\n",
       "    \n",
       "\n",
       "    \n",
       "\n",
       "    \n",
       "\n",
       "    \n",
       "\n",
       "    \n",
       "\n",
       "    \n",
       "\n",
       "\n",
       "    \n",
       "\n",
       "    \n",
       "\n",
       "    \n",
       "\n",
       "    \n",
       "        \n",
       "\n",
       "    \n",
       "\n",
       "        \n",
       "\n",
       "        \n",
       "    \n",
       "        \n",
       "        \n",
       "    \n",
       "        <p style=\"margin-bottom: 0.5em; margin-top: 0em\">\n",
       "            <b>\n",
       "    \n",
       "        y=1\n",
       "    \n",
       "</b>\n",
       "\n",
       "    \n",
       "    (probability <b>0.973</b>, score <b>3.573</b>)\n",
       "\n",
       "top features\n",
       "        </p>\n",
       "    \n",
       "    <table class=\"eli5-weights\"\n",
       "           style=\"border-collapse: collapse; border: none; margin-top: 0em; table-layout: auto; margin-bottom: 2em;\">\n",
       "        <thead>\n",
       "        <tr style=\"border: none;\">\n",
       "            \n",
       "                <th style=\"padding: 0 1em 0 0.5em; text-align: right; border: none;\" title=\"Feature contribution already accounts for the feature value (for linear models, contribution = weight * feature value), and the sum of feature contributions is equal to the score or, for some classifiers, to the probability. Feature values are shown if &quot;show_feature_values&quot; is True.\">\n",
       "                    Contribution<sup>?</sup>\n",
       "                </th>\n",
       "            \n",
       "            <th style=\"padding: 0 0.5em 0 0.5em; text-align: left; border: none;\">Feature</th>\n",
       "            \n",
       "        </tr>\n",
       "        </thead>\n",
       "        <tbody>\n",
       "        \n",
       "            <tr style=\"background-color: hsl(120, 100.00%, 80.00%); border: none;\">\n",
       "    <td style=\"padding: 0 1em 0 0.5em; text-align: right; border: none;\">\n",
       "        +3.304\n",
       "    </td>\n",
       "    <td style=\"padding: 0 0.5em 0 0.5em; text-align: left; border: none;\">\n",
       "        Highlighted in text (sum)\n",
       "    </td>\n",
       "    \n",
       "</tr>\n",
       "        \n",
       "            <tr style=\"background-color: hsl(120, 100.00%, 96.54%); border: none;\">\n",
       "    <td style=\"padding: 0 1em 0 0.5em; text-align: right; border: none;\">\n",
       "        +0.269\n",
       "    </td>\n",
       "    <td style=\"padding: 0 0.5em 0 0.5em; text-align: left; border: none;\">\n",
       "        &lt;BIAS&gt;\n",
       "    </td>\n",
       "    \n",
       "</tr>\n",
       "        \n",
       "        \n",
       "\n",
       "        \n",
       "        \n",
       "\n",
       "        </tbody>\n",
       "    </table>\n",
       "\n",
       "    \n",
       "\n",
       "\n",
       "\n",
       "    <p style=\"margin-bottom: 2.5em; margin-top:-0.5em;\">\n",
       "        <span style=\"opacity: 0.80\">昨儿 </span><span style=\"background-color: hsl(120, 100.00%, 97.41%); opacity: 0.80\" title=\"0.028\">晚上</span><span style=\"opacity: 0.80\"> 来 </span><span style=\"background-color: hsl(120, 100.00%, 95.64%); opacity: 0.81\" title=\"0.059\">凯德</span><span style=\"opacity: 0.80\"> </span><span style=\"background-color: hsl(0, 100.00%, 83.49%); opacity: 0.86\" title=\"-0.392\">1818</span><span style=\"opacity: 0.80\"> </span><span style=\"background-color: hsl(120, 100.00%, 93.75%); opacity: 0.81\" title=\"0.098\">的</span><span style=\"opacity: 0.80\"> </span><span style=\"background-color: hsl(120, 100.00%, 98.66%); opacity: 0.80\" title=\"0.011\">绿茶</span><span style=\"opacity: 0.80\"> </span><span style=\"background-color: hsl(120, 100.00%, 95.04%); opacity: 0.81\" title=\"0.070\">吃饭</span><span style=\"opacity: 0.80\"> ， </span><span style=\"background-color: hsl(0, 100.00%, 94.27%); opacity: 0.81\" title=\"-0.086\">点</span><span style=\"opacity: 0.80\"> </span><span style=\"background-color: hsl(0, 100.00%, 97.59%); opacity: 0.80\" title=\"-0.025\">了</span><span style=\"opacity: 0.80\"> 以下 </span><span style=\"background-color: hsl(0, 100.00%, 96.27%); opacity: 0.81\" title=\"-0.047\">10</span><span style=\"opacity: 0.80\"> </span><span style=\"background-color: hsl(0, 100.00%, 99.58%); opacity: 0.80\" title=\"-0.002\">个</span><span style=\"opacity: 0.80\"> </span><span style=\"background-color: hsl(120, 100.00%, 98.41%); opacity: 0.80\" title=\"0.014\">菜</span><span style=\"opacity: 0.80\"> ， </span><span style=\"background-color: hsl(0, 100.00%, 97.64%); opacity: 0.80\" title=\"-0.024\">这</span><span style=\"opacity: 0.80\"> </span><span style=\"background-color: hsl(0, 100.00%, 96.24%); opacity: 0.81\" title=\"-0.047\">里面</span><span style=\"opacity: 0.80\"> </span><span style=\"background-color: hsl(0, 100.00%, 91.95%); opacity: 0.82\" title=\"-0.140\">有</span><span style=\"opacity: 0.80\"> </span><span style=\"background-color: hsl(0, 100.00%, 91.09%); opacity: 0.82\" title=\"-0.162\">好几个</span><span style=\"opacity: 0.80\"> </span><span style=\"background-color: hsl(120, 100.00%, 96.78%); opacity: 0.81\" title=\"0.038\">都</span><span style=\"opacity: 0.80\"> 是 </span><span style=\"background-color: hsl(120, 100.00%, 94.02%); opacity: 0.81\" title=\"0.092\">推荐</span><span style=\"opacity: 0.80\"> 菜品 ， 咱 </span><span style=\"background-color: hsl(0, 100.00%, 92.99%); opacity: 0.82\" title=\"-0.115\">挨个</span><span style=\"opacity: 0.80\"> </span><span style=\"background-color: hsl(0, 100.00%, 87.71%); opacity: 0.84\" title=\"-0.257\">说</span><span style=\"opacity: 0.80\"> 啊 ～ 第一张 “ 客家 </span><span style=\"background-color: hsl(120, 100.00%, 95.59%); opacity: 0.81\" title=\"0.059\">茄子</span><span style=\"opacity: 0.80\"> </span><span style=\"background-color: hsl(0, 100.00%, 97.75%); opacity: 0.80\" title=\"-0.023\">煲</span><span style=\"opacity: 0.80\"> ” ： 一个 </span><span style=\"background-color: hsl(0, 100.00%, 95.29%); opacity: 0.81\" title=\"-0.065\">字</span><span style=\"opacity: 0.80\"> ： </span><span style=\"background-color: hsl(0, 100.00%, 98.65%); opacity: 0.80\" title=\"-0.011\">咸</span><span style=\"opacity: 0.80\"> 、 </span><span style=\"background-color: hsl(120, 100.00%, 94.43%); opacity: 0.81\" title=\"0.083\">俩</span><span style=\"opacity: 0.80\"> </span><span style=\"background-color: hsl(120, 100.00%, 98.11%); opacity: 0.80\" title=\"0.018\">字</span><span style=\"opacity: 0.80\"> ： </span><span style=\"background-color: hsl(120, 100.00%, 89.67%); opacity: 0.83\" title=\"0.201\">很</span><span style=\"opacity: 0.80\"> </span><span style=\"background-color: hsl(120, 100.00%, 96.17%); opacity: 0.81\" title=\"0.049\">咸</span><span style=\"opacity: 0.80\"> 、 </span><span style=\"background-color: hsl(120, 100.00%, 93.94%); opacity: 0.81\" title=\"0.094\">仨</span><span style=\"opacity: 0.80\"> </span><span style=\"background-color: hsl(0, 100.00%, 95.29%); opacity: 0.81\" title=\"-0.065\">字</span><span style=\"opacity: 0.80\"> ： </span><span style=\"background-color: hsl(120, 100.00%, 89.05%); opacity: 0.83\" title=\"0.218\">非常</span><span style=\"opacity: 0.80\"> </span><span style=\"background-color: hsl(120, 100.00%, 96.12%); opacity: 0.81\" title=\"0.049\">咸</span><span style=\"opacity: 0.80\"> 、 </span><span style=\"background-color: hsl(120, 100.00%, 93.30%); opacity: 0.82\" title=\"0.108\">四个</span><span style=\"opacity: 0.80\"> </span><span style=\"background-color: hsl(0, 100.00%, 95.29%); opacity: 0.81\" title=\"-0.065\">字</span><span style=\"opacity: 0.80\"> ： </span><span style=\"background-color: hsl(0, 100.00%, 92.19%); opacity: 0.82\" title=\"-0.134\">咸</span><span style=\"opacity: 0.80\"> （ </span><span style=\"background-color: hsl(0, 100.00%, 87.52%); opacity: 0.84\" title=\"-0.263\">hou</span><span style=\"opacity: 0.80\"> ) </span><span style=\"background-color: hsl(0, 100.00%, 87.09%); opacity: 0.84\" title=\"-0.275\">死</span><span style=\"opacity: 0.80\"> 我 </span><span style=\"background-color: hsl(0, 100.00%, 94.63%); opacity: 0.81\" title=\"-0.079\">了</span><span style=\"opacity: 0.80\"> ... ... </span><span style=\"background-color: hsl(0, 100.00%, 91.96%); opacity: 0.82\" title=\"-0.140\">我</span><span style=\"opacity: 0.80\"> </span><span style=\"background-color: hsl(0, 100.00%, 91.85%); opacity: 0.82\" title=\"-0.143\">很</span><span style=\"opacity: 0.80\"> </span><span style=\"background-color: hsl(0, 100.00%, 81.65%); opacity: 0.87\" title=\"-0.456\">怀疑</span><span style=\"opacity: 0.80\"> </span><span style=\"background-color: hsl(0, 100.00%, 96.48%); opacity: 0.81\" title=\"-0.043\">是不是</span><span style=\"opacity: 0.80\"> </span><span style=\"background-color: hsl(0, 100.00%, 96.48%); opacity: 0.81\" title=\"-0.043\">师傅</span><span style=\"opacity: 0.80\"> </span><span style=\"background-color: hsl(0, 100.00%, 95.38%); opacity: 0.81\" title=\"-0.063\">在</span><span style=\"opacity: 0.80\"> </span><span style=\"background-color: hsl(0, 100.00%, 95.38%); opacity: 0.81\" title=\"-0.063\">放</span><span style=\"opacity: 0.80\"> 酱油 </span><span style=\"background-color: hsl(0, 100.00%, 94.06%); opacity: 0.81\" title=\"-0.091\">的</span><span style=\"opacity: 0.80\"> </span><span style=\"background-color: hsl(0, 100.00%, 95.65%); opacity: 0.81\" title=\"-0.058\">时候</span><span style=\"opacity: 0.80\"> </span><span style=\"background-color: hsl(120, 100.00%, 92.82%); opacity: 0.82\" title=\"0.119\">手抖</span><span style=\"opacity: 0.80\"> </span><span style=\"background-color: hsl(120, 100.00%, 91.60%); opacity: 0.82\" title=\"0.149\">了</span><span style=\"opacity: 0.80\"> 然后 </span><span style=\"background-color: hsl(0, 100.00%, 95.99%); opacity: 0.81\" title=\"-0.052\">整锅</span><span style=\"opacity: 0.80\"> </span><span style=\"background-color: hsl(0, 100.00%, 97.75%); opacity: 0.80\" title=\"-0.023\">煲</span><span style=\"opacity: 0.80\"> </span><span style=\"background-color: hsl(120, 100.00%, 99.09%); opacity: 0.80\" title=\"0.006\">就是</span><span style=\"opacity: 0.80\"> </span><span style=\"background-color: hsl(0, 100.00%, 87.10%); opacity: 0.84\" title=\"-0.275\">一锅</span><span style=\"opacity: 0.80\"> </span><span style=\"background-color: hsl(0, 100.00%, 86.88%); opacity: 0.84\" title=\"-0.282\">酱色</span><span style=\"opacity: 0.80\"> 。 </span><span style=\"background-color: hsl(0, 100.00%, 91.16%); opacity: 0.82\" title=\"-0.160\">里面</span><span style=\"opacity: 0.80\"> </span><span style=\"background-color: hsl(0, 100.00%, 93.84%); opacity: 0.81\" title=\"-0.096\">的</span><span style=\"opacity: 0.80\"> </span><span style=\"background-color: hsl(0, 100.00%, 92.73%); opacity: 0.82\" title=\"-0.121\">咸鱼</span><span style=\"opacity: 0.80\"> 粒 </span><span style=\"background-color: hsl(120, 100.00%, 92.91%); opacity: 0.82\" title=\"0.117\">很</span><span style=\"opacity: 0.80\"> </span><span style=\"background-color: hsl(0, 100.00%, 84.70%); opacity: 0.85\" title=\"-0.351\">显然</span><span style=\"opacity: 0.80\"> </span><span style=\"background-color: hsl(0, 100.00%, 83.66%); opacity: 0.86\" title=\"-0.386\">没有</span><span style=\"opacity: 0.80\"> </span><span style=\"background-color: hsl(0, 100.00%, 91.15%); opacity: 0.82\" title=\"-0.161\">经过</span><span style=\"opacity: 0.80\"> </span><span style=\"background-color: hsl(0, 100.00%, 94.08%); opacity: 0.81\" title=\"-0.090\">任何</span><span style=\"opacity: 0.80\"> </span><span style=\"background-color: hsl(0, 100.00%, 94.08%); opacity: 0.81\" title=\"-0.090\">处理</span><span style=\"opacity: 0.80\"> （ </span><span style=\"background-color: hsl(0, 100.00%, 96.60%); opacity: 0.81\" title=\"-0.041\">泡</span><span style=\"opacity: 0.80\"> 一下 </span><span style=\"background-color: hsl(120, 100.00%, 97.08%); opacity: 0.80\" title=\"0.033\">水</span><span style=\"opacity: 0.80\"> </span><span style=\"background-color: hsl(120, 100.00%, 97.08%); opacity: 0.80\" title=\"0.033\">去掉</span><span style=\"opacity: 0.80\"> </span><span style=\"background-color: hsl(0, 100.00%, 95.84%); opacity: 0.81\" title=\"-0.055\">部分</span><span style=\"opacity: 0.80\"> </span><span style=\"background-color: hsl(0, 100.00%, 92.84%); opacity: 0.82\" title=\"-0.119\">盐分</span><span style=\"opacity: 0.80\"> </span><span style=\"background-color: hsl(120, 100.00%, 94.45%); opacity: 0.81\" title=\"0.082\">等</span><span style=\"opacity: 0.80\"> ） ， 再加之 </span><span style=\"background-color: hsl(120, 100.00%, 96.36%); opacity: 0.81\" title=\"0.045\">菜</span><span style=\"opacity: 0.80\"> </span><span style=\"background-color: hsl(120, 100.00%, 95.65%); opacity: 0.81\" title=\"0.058\">本身</span><span style=\"opacity: 0.80\"> </span><span style=\"background-color: hsl(120, 100.00%, 89.67%); opacity: 0.83\" title=\"0.201\">很</span><span style=\"opacity: 0.80\"> </span><span style=\"background-color: hsl(120, 100.00%, 97.90%); opacity: 0.80\" title=\"0.021\">咸</span><span style=\"opacity: 0.80\"> </span><span style=\"background-color: hsl(0, 100.00%, 84.52%); opacity: 0.85\" title=\"-0.357\">根本无法</span><span style=\"opacity: 0.80\"> </span><span style=\"background-color: hsl(0, 100.00%, 94.72%); opacity: 0.81\" title=\"-0.077\">入口</span><span style=\"opacity: 0.80\"> ， </span><span style=\"background-color: hsl(0, 100.00%, 95.99%); opacity: 0.81\" title=\"-0.052\">整锅</span><span style=\"opacity: 0.80\"> </span><span style=\"background-color: hsl(0, 100.00%, 93.95%); opacity: 0.81\" title=\"-0.093\">煲</span><span style=\"opacity: 0.80\"> </span><span style=\"background-color: hsl(0, 100.00%, 95.03%); opacity: 0.81\" title=\"-0.070\">基本</span><span style=\"opacity: 0.80\"> </span><span style=\"background-color: hsl(120, 100.00%, 93.89%); opacity: 0.81\" title=\"0.095\">没</span><span style=\"opacity: 0.80\"> 动 ； 第二张 “ </span><span style=\"background-color: hsl(120, 100.00%, 97.19%); opacity: 0.80\" title=\"0.031\">鱼头</span><span style=\"opacity: 0.80\"> </span><span style=\"background-color: hsl(120, 100.00%, 95.32%); opacity: 0.81\" title=\"0.065\">诱惑</span><span style=\"opacity: 0.80\"> ” ： </span><span style=\"background-color: hsl(120, 100.00%, 95.62%); opacity: 0.81\" title=\"0.059\">这</span><span style=\"opacity: 0.80\"> </span><span style=\"background-color: hsl(120, 100.00%, 93.07%); opacity: 0.82\" title=\"0.113\">道菜</span><span style=\"opacity: 0.80\"> 是 翔 </span><span style=\"background-color: hsl(0, 100.00%, 95.72%); opacity: 0.81\" title=\"-0.057\">哥点</span><span style=\"opacity: 0.80\"> </span><span style=\"background-color: hsl(120, 100.00%, 89.37%); opacity: 0.83\" title=\"0.209\">的</span><span style=\"opacity: 0.80\"> </span><span style=\"background-color: hsl(120, 100.00%, 91.66%); opacity: 0.82\" title=\"0.148\">还</span><span style=\"opacity: 0.80\"> </span><span style=\"background-color: hsl(120, 100.00%, 91.94%); opacity: 0.82\" title=\"0.141\">不错</span><span style=\"opacity: 0.80\"> </span><span style=\"background-color: hsl(0, 100.00%, 95.82%); opacity: 0.81\" title=\"-0.055\">首先</span><span style=\"opacity: 0.80\"> </span><span style=\"background-color: hsl(120, 100.00%, 95.72%); opacity: 0.81\" title=\"0.057\">鱼头</span><span style=\"opacity: 0.80\"> </span><span style=\"background-color: hsl(120, 100.00%, 94.71%); opacity: 0.81\" title=\"0.077\">很</span><span style=\"opacity: 0.80\"> </span><span style=\"background-color: hsl(0, 100.00%, 93.66%); opacity: 0.81\" title=\"-0.100\">新鲜</span><span style=\"opacity: 0.80\"> </span><span style=\"background-color: hsl(120, 100.00%, 95.30%); opacity: 0.81\" title=\"0.065\">其次</span><span style=\"opacity: 0.80\"> </span><span style=\"background-color: hsl(0, 100.00%, 97.89%); opacity: 0.80\" title=\"-0.021\">鱼头</span><span style=\"opacity: 0.80\"> </span><span style=\"background-color: hsl(120, 100.00%, 95.82%); opacity: 0.81\" title=\"0.055\">蒸</span><span style=\"opacity: 0.80\"> </span><span style=\"background-color: hsl(120, 100.00%, 95.18%); opacity: 0.81\" title=\"0.067\">的</span><span style=\"opacity: 0.80\"> </span><span style=\"background-color: hsl(0, 100.00%, 95.84%); opacity: 0.81\" title=\"-0.055\">火候</span><span style=\"opacity: 0.80\"> </span><span style=\"background-color: hsl(120, 100.00%, 99.93%); opacity: 0.80\" title=\"0.000\">刚好</span><span style=\"opacity: 0.80\"> </span><span style=\"background-color: hsl(0, 100.00%, 93.28%); opacity: 0.82\" title=\"-0.109\">既</span><span style=\"opacity: 0.80\"> </span><span style=\"background-color: hsl(120, 100.00%, 94.40%); opacity: 0.81\" title=\"0.084\">入味</span><span style=\"opacity: 0.80\"> </span><span style=\"background-color: hsl(120, 100.00%, 88.39%); opacity: 0.83\" title=\"0.237\">还</span><span style=\"opacity: 0.80\"> </span><span style=\"background-color: hsl(120, 100.00%, 95.10%); opacity: 0.81\" title=\"0.069\">不</span><span style=\"opacity: 0.80\"> </span><span style=\"background-color: hsl(0, 100.00%, 91.79%); opacity: 0.82\" title=\"-0.144\">老</span><span style=\"opacity: 0.80\"> ， </span><span style=\"background-color: hsl(0, 100.00%, 99.22%); opacity: 0.80\" title=\"-0.005\">建议</span><span style=\"opacity: 0.80\"> </span><span style=\"background-color: hsl(0, 100.00%, 91.90%); opacity: 0.82\" title=\"-0.142\">除了</span><span style=\"opacity: 0.80\"> </span><span style=\"background-color: hsl(0, 100.00%, 94.94%); opacity: 0.81\" title=\"-0.072\">小米</span><span style=\"opacity: 0.80\"> </span><span style=\"background-color: hsl(120, 100.00%, 90.75%); opacity: 0.82\" title=\"0.171\">辣</span><span style=\"opacity: 0.80\"> </span><span style=\"background-color: hsl(120, 100.00%, 99.10%); opacity: 0.80\" title=\"0.006\">再</span><span style=\"opacity: 0.80\"> </span><span style=\"background-color: hsl(0, 100.00%, 93.52%); opacity: 0.81\" title=\"-0.103\">加上</span><span style=\"opacity: 0.80\"> </span><span style=\"background-color: hsl(0, 100.00%, 93.51%); opacity: 0.81\" title=\"-0.103\">点泡椒</span><span style=\"opacity: 0.80\"> ， 这样 </span><span style=\"background-color: hsl(120, 100.00%, 95.31%); opacity: 0.81\" title=\"0.065\">无论是</span><span style=\"opacity: 0.80\"> </span><span style=\"background-color: hsl(120, 100.00%, 88.21%); opacity: 0.83\" title=\"0.242\">颜色</span><span style=\"opacity: 0.80\"> </span><span style=\"background-color: hsl(120, 100.00%, 97.76%); opacity: 0.80\" title=\"0.023\">和</span><span style=\"opacity: 0.80\"> </span><span style=\"background-color: hsl(0, 100.00%, 98.04%); opacity: 0.80\" title=\"-0.019\">口味</span><span style=\"opacity: 0.80\"> </span><span style=\"background-color: hsl(0, 100.00%, 93.07%); opacity: 0.82\" title=\"-0.113\">上</span><span style=\"opacity: 0.80\"> </span><span style=\"background-color: hsl(0, 100.00%, 93.75%); opacity: 0.81\" title=\"-0.098\">都</span><span style=\"opacity: 0.80\"> 会 更 </span><span style=\"background-color: hsl(120, 100.00%, 80.26%); opacity: 0.87\" title=\"0.505\">棒</span><span style=\"opacity: 0.80\"> </span><span style=\"background-color: hsl(0, 100.00%, 95.72%); opacity: 0.81\" title=\"-0.057\">的</span><span style=\"opacity: 0.80\"> ！ </span><span style=\"background-color: hsl(0, 100.00%, 97.67%); opacity: 0.80\" title=\"-0.024\">这</span><span style=\"opacity: 0.80\"> </span><span style=\"background-color: hsl(120, 100.00%, 93.07%); opacity: 0.82\" title=\"0.113\">道菜</span><span style=\"opacity: 0.80\"> 基本 消灭 ； </span><span style=\"background-color: hsl(0, 100.00%, 93.53%); opacity: 0.81\" title=\"-0.103\">第三张</span><span style=\"opacity: 0.80\"> ： “ </span><span style=\"background-color: hsl(0, 100.00%, 93.41%); opacity: 0.82\" title=\"-0.106\">小锅</span><span style=\"opacity: 0.80\"> </span><span style=\"background-color: hsl(0, 100.00%, 90.03%); opacity: 0.83\" title=\"-0.191\">土豆</span><span style=\"opacity: 0.80\"> ” ： </span><span style=\"background-color: hsl(0, 100.00%, 98.09%); opacity: 0.80\" title=\"-0.018\">厚片</span><span style=\"opacity: 0.80\"> </span><span style=\"background-color: hsl(120, 100.00%, 95.57%); opacity: 0.81\" title=\"0.060\">的</span><span style=\"opacity: 0.80\"> 土豆 </span><span style=\"background-color: hsl(0, 100.00%, 94.52%); opacity: 0.81\" title=\"-0.081\">挂满</span><span style=\"opacity: 0.80\"> </span><span style=\"background-color: hsl(0, 100.00%, 94.68%); opacity: 0.81\" title=\"-0.078\">酱汁</span><span style=\"opacity: 0.80\"> ， </span><span style=\"background-color: hsl(120, 100.00%, 97.11%); opacity: 0.80\" title=\"0.032\">炉子</span><span style=\"opacity: 0.80\"> </span><span style=\"background-color: hsl(120, 100.00%, 89.33%); opacity: 0.83\" title=\"0.210\">在</span><span style=\"opacity: 0.80\"> </span><span style=\"background-color: hsl(120, 100.00%, 84.57%); opacity: 0.85\" title=\"0.355\">下面</span><span style=\"opacity: 0.80\"> </span><span style=\"background-color: hsl(120, 100.00%, 91.75%); opacity: 0.82\" title=\"0.145\">慢慢</span><span style=\"opacity: 0.80\"> </span><span style=\"background-color: hsl(120, 100.00%, 98.00%); opacity: 0.80\" title=\"0.019\">加热</span><span style=\"opacity: 0.80\"> ， </span><span style=\"background-color: hsl(120, 100.00%, 97.50%); opacity: 0.80\" title=\"0.026\">后来</span><span style=\"opacity: 0.80\"> </span><span style=\"background-color: hsl(0, 100.00%, 93.35%); opacity: 0.82\" title=\"-0.107\">加</span><span style=\"opacity: 0.80\"> </span><span style=\"background-color: hsl(0, 100.00%, 92.02%); opacity: 0.82\" title=\"-0.139\">一片</span><span style=\"opacity: 0.80\"> </span><span style=\"background-color: hsl(0, 100.00%, 97.15%); opacity: 0.80\" title=\"-0.032\">放到</span><span style=\"opacity: 0.80\"> </span><span style=\"background-color: hsl(120, 100.00%, 95.68%); opacity: 0.81\" title=\"0.058\">嘴里</span><span style=\"opacity: 0.80\"> ， </span><span style=\"background-color: hsl(0, 100.00%, 93.23%); opacity: 0.82\" title=\"-0.110\">几乎</span><span style=\"opacity: 0.80\"> 是 </span><span style=\"background-color: hsl(120, 100.00%, 93.88%); opacity: 0.81\" title=\"0.095\">入口</span><span style=\"opacity: 0.80\"> </span><span style=\"background-color: hsl(120, 100.00%, 86.68%); opacity: 0.84\" title=\"0.288\">即</span><span style=\"opacity: 0.80\"> </span><span style=\"background-color: hsl(120, 100.00%, 81.31%); opacity: 0.87\" title=\"0.467\">化</span><span style=\"opacity: 0.80\"> 、 </span><span style=\"background-color: hsl(0, 100.00%, 95.86%); opacity: 0.81\" title=\"-0.054\">口感</span><span style=\"opacity: 0.80\"> </span><span style=\"background-color: hsl(0, 100.00%, 84.49%); opacity: 0.85\" title=\"-0.358\">绵软</span><span style=\"opacity: 0.80\"> ， </span><span style=\"background-color: hsl(0, 100.00%, 89.71%); opacity: 0.83\" title=\"-0.199\">也</span><span style=\"opacity: 0.80\"> </span><span style=\"background-color: hsl(120, 100.00%, 94.86%); opacity: 0.81\" title=\"0.074\">是</span><span style=\"opacity: 0.80\"> </span><span style=\"background-color: hsl(120, 100.00%, 91.90%); opacity: 0.82\" title=\"0.142\">一道</span><span style=\"opacity: 0.80\"> </span><span style=\"background-color: hsl(120, 100.00%, 88.20%); opacity: 0.83\" title=\"0.242\">不错</span><span style=\"opacity: 0.80\"> </span><span style=\"background-color: hsl(120, 100.00%, 99.03%); opacity: 0.80\" title=\"0.007\">的</span><span style=\"opacity: 0.80\"> </span><span style=\"background-color: hsl(0, 100.00%, 97.04%); opacity: 0.80\" title=\"-0.034\">下</span><span style=\"opacity: 0.80\"> 饭菜 ； 第四张 ： “ </span><span style=\"background-color: hsl(120, 100.00%, 93.56%); opacity: 0.81\" title=\"0.102\">农家</span><span style=\"opacity: 0.80\"> 小菜 ” </span><span style=\"background-color: hsl(120, 100.00%, 94.12%); opacity: 0.81\" title=\"0.090\">其实</span><span style=\"opacity: 0.80\"> </span><span style=\"background-color: hsl(0, 100.00%, 92.35%); opacity: 0.82\" title=\"-0.131\">就是</span><span style=\"opacity: 0.80\"> </span><span style=\"background-color: hsl(0, 100.00%, 96.31%); opacity: 0.81\" title=\"-0.046\">少</span><span style=\"opacity: 0.80\"> </span><span style=\"background-color: hsl(0, 100.00%, 96.78%); opacity: 0.81\" title=\"-0.038\">了</span><span style=\"opacity: 0.80\"> </span><span style=\"background-color: hsl(0, 100.00%, 95.92%); opacity: 0.81\" title=\"-0.053\">橄榄</span><span style=\"opacity: 0.80\"> </span><span style=\"background-color: hsl(120, 100.00%, 98.41%); opacity: 0.80\" title=\"0.014\">菜</span><span style=\"opacity: 0.80\"> </span><span style=\"background-color: hsl(120, 100.00%, 93.93%); opacity: 0.81\" title=\"0.094\">和</span><span style=\"opacity: 0.80\"> </span><span style=\"background-color: hsl(120, 100.00%, 91.97%); opacity: 0.82\" title=\"0.140\">肉末</span><span style=\"opacity: 0.80\"> </span><span style=\"background-color: hsl(0, 100.00%, 93.53%); opacity: 0.81\" title=\"-0.103\">的</span><span style=\"opacity: 0.80\"> </span><span style=\"background-color: hsl(0, 100.00%, 95.99%); opacity: 0.81\" title=\"-0.052\">豆角</span><span style=\"opacity: 0.80\"> </span><span style=\"background-color: hsl(120, 100.00%, 95.33%); opacity: 0.81\" title=\"0.065\">粒</span><span style=\"opacity: 0.80\"> ， </span><span style=\"background-color: hsl(0, 100.00%, 91.48%); opacity: 0.82\" title=\"-0.152\">味道</span><span style=\"opacity: 0.80\"> </span><span style=\"background-color: hsl(0, 100.00%, 95.54%); opacity: 0.81\" title=\"-0.060\">还</span><span style=\"opacity: 0.80\"> </span><span style=\"background-color: hsl(120, 100.00%, 92.98%); opacity: 0.82\" title=\"0.115\">可以</span><span style=\"opacity: 0.80\"> ， 如果 </span><span style=\"background-color: hsl(120, 100.00%, 93.10%); opacity: 0.82\" title=\"0.113\">把</span><span style=\"opacity: 0.80\"> </span><span style=\"background-color: hsl(120, 100.00%, 90.08%); opacity: 0.83\" title=\"0.189\">豆角</span><span style=\"opacity: 0.80\"> </span><span style=\"background-color: hsl(120, 100.00%, 89.14%); opacity: 0.83\" title=\"0.215\">再</span><span style=\"opacity: 0.80\"> </span><span style=\"background-color: hsl(120, 100.00%, 90.29%); opacity: 0.83\" title=\"0.183\">煸</span><span style=\"opacity: 0.80\"> </span><span style=\"background-color: hsl(120, 100.00%, 97.55%); opacity: 0.80\" title=\"0.026\">的</span><span style=\"opacity: 0.80\"> </span><span style=\"background-color: hsl(120, 100.00%, 91.32%); opacity: 0.82\" title=\"0.156\">干</span><span style=\"opacity: 0.80\"> </span><span style=\"background-color: hsl(120, 100.00%, 99.00%); opacity: 0.80\" title=\"0.007\">一点</span><span style=\"opacity: 0.80\"> （ </span><span style=\"background-color: hsl(120, 100.00%, 92.75%); opacity: 0.82\" title=\"0.121\">表皮</span><span style=\"opacity: 0.80\"> </span><span style=\"background-color: hsl(0, 100.00%, 90.47%); opacity: 0.83\" title=\"-0.179\">起皱</span><span style=\"opacity: 0.80\"> ） </span><span style=\"background-color: hsl(0, 100.00%, 94.11%); opacity: 0.81\" title=\"-0.090\">口感</span><span style=\"opacity: 0.80\"> 会 </span><span style=\"background-color: hsl(120, 100.00%, 80.37%); opacity: 0.87\" title=\"0.502\">更好</span><span style=\"opacity: 0.80\"> ； </span><span style=\"background-color: hsl(0, 100.00%, 93.92%); opacity: 0.81\" title=\"-0.094\">第五</span><span style=\"opacity: 0.80\"> </span><span style=\"background-color: hsl(0, 100.00%, 94.04%); opacity: 0.81\" title=\"-0.091\">张</span><span style=\"opacity: 0.80\"> “ </span><span style=\"background-color: hsl(0, 100.00%, 96.45%); opacity: 0.81\" title=\"-0.044\">菜心</span><span style=\"opacity: 0.80\"> </span><span style=\"background-color: hsl(0, 100.00%, 94.88%); opacity: 0.81\" title=\"-0.074\">金钩</span><span style=\"opacity: 0.80\"> </span><span style=\"background-color: hsl(120, 100.00%, 98.17%); opacity: 0.80\" title=\"0.017\">豆腐</span><span style=\"opacity: 0.80\"> ” </span><span style=\"background-color: hsl(120, 100.00%, 92.87%); opacity: 0.82\" title=\"0.118\">和</span><span style=\"opacity: 0.80\"> </span><span style=\"background-color: hsl(120, 100.00%, 90.71%); opacity: 0.82\" title=\"0.172\">没</span><span style=\"opacity: 0.80\"> </span><span style=\"background-color: hsl(120, 100.00%, 97.77%); opacity: 0.80\" title=\"0.022\">上</span><span style=\"opacity: 0.80\"> </span><span style=\"background-color: hsl(120, 100.00%, 95.37%); opacity: 0.81\" title=\"0.064\">图</span><span style=\"opacity: 0.80\"> </span><span style=\"background-color: hsl(120, 100.00%, 97.55%); opacity: 0.80\" title=\"0.026\">的</span><span style=\"opacity: 0.80\"> “ 老乡 </span><span style=\"background-color: hsl(120, 100.00%, 94.42%); opacity: 0.81\" title=\"0.083\">浓汤</span><span style=\"opacity: 0.80\"> ” </span><span style=\"background-color: hsl(0, 100.00%, 96.66%); opacity: 0.81\" title=\"-0.040\">一起</span><span style=\"opacity: 0.80\"> </span><span style=\"background-color: hsl(0, 100.00%, 90.36%); opacity: 0.83\" title=\"-0.182\">说</span><span style=\"opacity: 0.80\"> </span><span style=\"background-color: hsl(120, 100.00%, 95.49%); opacity: 0.81\" title=\"0.061\">了</span><span style=\"opacity: 0.80\"> ， 两道 </span><span style=\"background-color: hsl(0, 100.00%, 97.70%); opacity: 0.80\" title=\"-0.023\">分不清</span><span style=\"opacity: 0.80\"> </span><span style=\"background-color: hsl(120, 100.00%, 93.64%); opacity: 0.81\" title=\"0.100\">是</span><span style=\"opacity: 0.80\"> </span><span style=\"background-color: hsl(0, 100.00%, 97.64%); opacity: 0.80\" title=\"-0.024\">汤</span><span style=\"opacity: 0.80\"> 、 </span><span style=\"background-color: hsl(120, 100.00%, 98.03%); opacity: 0.80\" title=\"0.019\">羹</span><span style=\"opacity: 0.80\"> </span><span style=\"background-color: hsl(120, 100.00%, 98.77%); opacity: 0.80\" title=\"0.010\">还是</span><span style=\"opacity: 0.80\"> </span><span style=\"background-color: hsl(0, 100.00%, 94.54%); opacity: 0.81\" title=\"-0.081\">菜</span><span style=\"opacity: 0.80\"> </span><span style=\"background-color: hsl(0, 100.00%, 95.12%); opacity: 0.81\" title=\"-0.069\">的</span><span style=\"opacity: 0.80\"> </span><span style=\"background-color: hsl(120, 100.00%, 95.16%); opacity: 0.81\" title=\"0.068\">东东</span><span style=\"opacity: 0.80\"> ， </span><span style=\"background-color: hsl(120, 100.00%, 96.78%); opacity: 0.81\" title=\"0.038\">都</span><span style=\"opacity: 0.80\"> 是 </span><span style=\"background-color: hsl(120, 100.00%, 94.02%); opacity: 0.81\" title=\"0.092\">推荐</span><span style=\"opacity: 0.80\"> </span><span style=\"background-color: hsl(120, 100.00%, 98.41%); opacity: 0.80\" title=\"0.014\">菜</span><span style=\"opacity: 0.80\"> </span><span style=\"background-color: hsl(0, 100.00%, 93.00%); opacity: 0.82\" title=\"-0.115\">分不清</span><span style=\"opacity: 0.80\"> </span><span style=\"background-color: hsl(0, 100.00%, 94.34%); opacity: 0.81\" title=\"-0.085\">也</span><span style=\"opacity: 0.80\"> </span><span style=\"background-color: hsl(0, 100.00%, 94.34%); opacity: 0.81\" title=\"-0.085\">无所谓</span><span style=\"opacity: 0.80\"> ， </span><span style=\"background-color: hsl(0, 100.00%, 96.51%); opacity: 0.81\" title=\"-0.043\">重点</span><span style=\"opacity: 0.80\"> </span><span style=\"background-color: hsl(0, 100.00%, 97.85%); opacity: 0.80\" title=\"-0.021\">是</span><span style=\"opacity: 0.80\"> 上菜 </span><span style=\"background-color: hsl(0, 100.00%, 94.06%); opacity: 0.81\" title=\"-0.091\">的</span><span style=\"opacity: 0.80\"> </span><span style=\"background-color: hsl(0, 100.00%, 95.65%); opacity: 0.81\" title=\"-0.058\">时候</span><span style=\"opacity: 0.80\"> </span><span style=\"background-color: hsl(0, 100.00%, 94.39%); opacity: 0.81\" title=\"-0.084\">都</span><span style=\"opacity: 0.80\"> </span><span style=\"background-color: hsl(0, 100.00%, 95.43%); opacity: 0.81\" title=\"-0.063\">不是</span><span style=\"opacity: 0.80\"> </span><span style=\"background-color: hsl(120, 100.00%, 94.36%); opacity: 0.81\" title=\"0.084\">热</span><span style=\"opacity: 0.80\"> </span><span style=\"background-color: hsl(0, 100.00%, 97.31%); opacity: 0.80\" title=\"-0.029\">的</span><span style=\"opacity: 0.80\"> </span><span style=\"background-color: hsl(0, 100.00%, 98.15%); opacity: 0.80\" title=\"-0.017\">都</span><span style=\"opacity: 0.80\"> 是 </span><span style=\"background-color: hsl(0, 100.00%, 94.97%); opacity: 0.81\" title=\"-0.072\">温</span><span style=\"opacity: 0.80\"> </span><span style=\"background-color: hsl(0, 100.00%, 98.32%); opacity: 0.80\" title=\"-0.015\">的</span><span style=\"opacity: 0.80\"> “ </span><span style=\"background-color: hsl(120, 100.00%, 91.78%); opacity: 0.82\" title=\"0.145\">菜心</span><span style=\"opacity: 0.80\"> ” </span><span style=\"background-color: hsl(120, 100.00%, 92.12%); opacity: 0.82\" title=\"0.136\">里面</span><span style=\"opacity: 0.80\"> </span><span style=\"background-color: hsl(120, 100.00%, 97.81%); opacity: 0.80\" title=\"0.022\">有</span><span style=\"opacity: 0.80\"> </span><span style=\"background-color: hsl(0, 100.00%, 95.77%); opacity: 0.81\" title=\"-0.056\">蛋黄</span><span style=\"opacity: 0.80\"> 、 “ </span><span style=\"background-color: hsl(0, 100.00%, 93.31%); opacity: 0.82\" title=\"-0.108\">浓汤</span><span style=\"opacity: 0.80\"> ” </span><span style=\"background-color: hsl(120, 100.00%, 94.85%); opacity: 0.81\" title=\"0.074\">里面</span><span style=\"opacity: 0.80\"> </span><span style=\"background-color: hsl(120, 100.00%, 97.81%); opacity: 0.80\" title=\"0.022\">有</span><span style=\"opacity: 0.80\"> </span><span style=\"background-color: hsl(0, 100.00%, 88.20%); opacity: 0.83\" title=\"-0.242\">猪肚</span><span style=\"opacity: 0.80\"> ， </span><span style=\"background-color: hsl(0, 100.00%, 92.38%); opacity: 0.82\" title=\"-0.130\">这</span><span style=\"opacity: 0.80\"> </span><span style=\"background-color: hsl(120, 100.00%, 96.80%); opacity: 0.81\" title=\"0.038\">两种</span><span style=\"opacity: 0.80\"> </span><span style=\"background-color: hsl(0, 100.00%, 93.48%); opacity: 0.81\" title=\"-0.104\">食材</span><span style=\"opacity: 0.80\"> </span><span style=\"background-color: hsl(0, 100.00%, 93.48%); opacity: 0.81\" title=\"-0.104\">变冷</span><span style=\"opacity: 0.80\"> 后 </span><span style=\"background-color: hsl(120, 100.00%, 96.78%); opacity: 0.81\" title=\"0.038\">都</span><span style=\"opacity: 0.80\"> 会 </span><span style=\"background-color: hsl(120, 100.00%, 97.81%); opacity: 0.80\" title=\"0.022\">有</span><span style=\"opacity: 0.80\"> 腥味 </span><span style=\"background-color: hsl(0, 100.00%, 90.55%); opacity: 0.83\" title=\"-0.177\">且</span><span style=\"opacity: 0.80\"> </span><span style=\"background-color: hsl(0, 100.00%, 94.21%); opacity: 0.81\" title=\"-0.088\">口感</span><span style=\"opacity: 0.80\"> </span><span style=\"background-color: hsl(0, 100.00%, 88.95%); opacity: 0.83\" title=\"-0.221\">不好</span><span style=\"opacity: 0.80\"> ， </span><span style=\"background-color: hsl(0, 100.00%, 94.95%); opacity: 0.81\" title=\"-0.072\">加之</span><span style=\"opacity: 0.80\"> </span><span style=\"background-color: hsl(0, 100.00%, 92.58%); opacity: 0.82\" title=\"-0.125\">一碗</span><span style=\"opacity: 0.80\"> </span><span style=\"background-color: hsl(0, 100.00%, 95.01%); opacity: 0.81\" title=\"-0.071\">有</span><span style=\"opacity: 0.80\"> 淀粉类 </span><span style=\"background-color: hsl(120, 100.00%, 97.55%); opacity: 0.80\" title=\"0.026\">的</span><span style=\"opacity: 0.80\"> </span><span style=\"background-color: hsl(120, 100.00%, 89.68%); opacity: 0.83\" title=\"0.200\">羹</span><span style=\"opacity: 0.80\"> </span><span style=\"background-color: hsl(120, 100.00%, 89.52%); opacity: 0.83\" title=\"0.205\">温温的</span><span style=\"opacity: 0.80\"> </span><span style=\"background-color: hsl(120, 100.00%, 97.73%); opacity: 0.80\" title=\"0.023\">很难</span><span style=\"opacity: 0.80\"> </span><span style=\"background-color: hsl(120, 100.00%, 98.02%); opacity: 0.80\" title=\"0.019\">喝</span><span style=\"opacity: 0.80\"> ， </span><span style=\"background-color: hsl(0, 100.00%, 96.50%); opacity: 0.81\" title=\"-0.043\">建议</span><span style=\"opacity: 0.80\"> </span><span style=\"background-color: hsl(0, 100.00%, 96.50%); opacity: 0.81\" title=\"-0.043\">出品</span><span style=\"opacity: 0.80\"> 后 </span><span style=\"background-color: hsl(0, 100.00%, 94.53%); opacity: 0.81\" title=\"-0.081\">马上传</span><span style=\"opacity: 0.80\"> </span><span style=\"background-color: hsl(0, 100.00%, 94.53%); opacity: 0.81\" title=\"-0.081\">菜到</span><span style=\"opacity: 0.80\"> </span><span style=\"background-color: hsl(120, 100.00%, 96.18%); opacity: 0.81\" title=\"0.048\">客人</span><span style=\"opacity: 0.80\"> </span><span style=\"background-color: hsl(0, 100.00%, 99.70%); opacity: 0.80\" title=\"-0.001\">面前</span><span style=\"opacity: 0.80\"> ， </span><span style=\"background-color: hsl(0, 100.00%, 92.78%); opacity: 0.82\" title=\"-0.120\">口味</span><span style=\"opacity: 0.80\"> </span><span style=\"background-color: hsl(120, 100.00%, 97.77%); opacity: 0.80\" title=\"0.022\">上</span><span style=\"opacity: 0.80\"> </span><span style=\"background-color: hsl(0, 100.00%, 92.88%); opacity: 0.82\" title=\"-0.118\">冷</span><span style=\"opacity: 0.80\"> </span><span style=\"background-color: hsl(0, 100.00%, 97.00%); opacity: 0.80\" title=\"-0.034\">了</span><span style=\"opacity: 0.80\"> </span><span style=\"background-color: hsl(120, 100.00%, 95.70%); opacity: 0.81\" title=\"0.057\">就</span><span style=\"opacity: 0.80\"> </span><span style=\"background-color: hsl(0, 100.00%, 93.36%); opacity: 0.82\" title=\"-0.107\">都</span><span style=\"opacity: 0.80\"> </span><span style=\"background-color: hsl(120, 100.00%, 97.12%); opacity: 0.80\" title=\"0.032\">不</span><span style=\"opacity: 0.80\"> </span><span style=\"background-color: hsl(120, 100.00%, 78.26%); opacity: 0.88\" title=\"0.580\">美味</span><span style=\"opacity: 0.80\"> </span><span style=\"background-color: hsl(120, 100.00%, 89.20%); opacity: 0.83\" title=\"0.214\">了</span><span style=\"opacity: 0.80\"> ； 第六 张 ： “ </span><span style=\"background-color: hsl(120, 100.00%, 93.96%); opacity: 0.81\" title=\"0.093\">麻酱</span><span style=\"opacity: 0.80\"> </span><span style=\"background-color: hsl(120, 100.00%, 99.77%); opacity: 0.80\" title=\"0.001\">油麦</span><span style=\"opacity: 0.80\"> </span><span style=\"background-color: hsl(120, 100.00%, 98.41%); opacity: 0.80\" title=\"0.014\">菜</span><span style=\"opacity: 0.80\"> ” </span><span style=\"background-color: hsl(120, 100.00%, 96.33%); opacity: 0.81\" title=\"0.046\">很多</span><span style=\"opacity: 0.80\"> </span><span style=\"background-color: hsl(120, 100.00%, 92.67%); opacity: 0.82\" title=\"0.123\">地方</span><span style=\"opacity: 0.80\"> </span><span style=\"background-color: hsl(120, 100.00%, 99.08%); opacity: 0.80\" title=\"0.006\">也</span><span style=\"opacity: 0.80\"> </span><span style=\"background-color: hsl(120, 100.00%, 94.90%); opacity: 0.81\" title=\"0.073\">叫</span><span style=\"opacity: 0.80\"> “ </span><span style=\"background-color: hsl(120, 100.00%, 90.94%); opacity: 0.82\" title=\"0.166\">麻酱</span><span style=\"opacity: 0.80\"> </span><span style=\"background-color: hsl(0, 100.00%, 76.13%); opacity: 0.90\" title=\"-0.663\">凤尾</span><span style=\"opacity: 0.80\"> ” </span><span style=\"background-color: hsl(0, 100.00%, 85.88%); opacity: 0.85\" title=\"-0.313\">麻酱</span><span style=\"opacity: 0.80\"> </span><span style=\"background-color: hsl(120, 100.00%, 94.97%); opacity: 0.81\" title=\"0.072\">用</span><span style=\"opacity: 0.80\"> </span><span style=\"background-color: hsl(0, 100.00%, 94.28%); opacity: 0.81\" title=\"-0.086\">的</span><span style=\"opacity: 0.80\"> </span><span style=\"background-color: hsl(0, 100.00%, 85.85%); opacity: 0.85\" title=\"-0.314\">像是</span><span style=\"opacity: 0.80\"> </span><span style=\"background-color: hsl(0, 100.00%, 94.79%); opacity: 0.81\" title=\"-0.075\">麻酱</span><span style=\"opacity: 0.80\"> </span><span style=\"background-color: hsl(0, 100.00%, 93.42%); opacity: 0.82\" title=\"-0.105\">和</span><span style=\"opacity: 0.80\"> </span><span style=\"background-color: hsl(0, 100.00%, 93.68%); opacity: 0.81\" title=\"-0.099\">花生酱</span><span style=\"opacity: 0.80\"> </span><span style=\"background-color: hsl(120, 100.00%, 68.86%); opacity: 0.94\" title=\"0.970\">混合</span><span style=\"opacity: 0.80\"> </span><span style=\"background-color: hsl(120, 100.00%, 90.11%); opacity: 0.83\" title=\"0.188\">的</span><span style=\"opacity: 0.80\"> </span><span style=\"background-color: hsl(120, 100.00%, 96.95%); opacity: 0.81\" title=\"0.035\">甜口</span><span style=\"opacity: 0.80\"> </span><span style=\"background-color: hsl(120, 100.00%, 93.96%); opacity: 0.81\" title=\"0.093\">的</span><span style=\"opacity: 0.80\"> </span><span style=\"background-color: hsl(120, 100.00%, 86.02%); opacity: 0.84\" title=\"0.309\">酱料</span><span style=\"opacity: 0.80\"> ， </span><span style=\"background-color: hsl(0, 100.00%, 98.78%); opacity: 0.80\" title=\"-0.009\">重点</span><span style=\"opacity: 0.80\"> </span><span style=\"background-color: hsl(0, 100.00%, 89.67%); opacity: 0.83\" title=\"-0.200\">是</span><span style=\"opacity: 0.80\"> </span><span style=\"background-color: hsl(0, 100.00%, 96.06%); opacity: 0.81\" title=\"-0.051\">没有</span><span style=\"opacity: 0.80\"> </span><span style=\"background-color: hsl(0, 100.00%, 97.20%); opacity: 0.80\" title=\"-0.031\">稀释</span><span style=\"opacity: 0.80\"> ！ </span><span style=\"background-color: hsl(0, 100.00%, 97.20%); opacity: 0.80\" title=\"-0.031\">整个</span><span style=\"opacity: 0.80\"> </span><span style=\"background-color: hsl(120, 100.00%, 92.90%); opacity: 0.82\" title=\"0.117\">一坨</span><span style=\"opacity: 0.80\"> </span><span style=\"background-color: hsl(0, 100.00%, 92.44%); opacity: 0.82\" title=\"-0.128\">粘</span><span style=\"opacity: 0.80\"> </span><span style=\"background-color: hsl(0, 100.00%, 92.44%); opacity: 0.82\" title=\"-0.128\">在</span><span style=\"opacity: 0.80\"> </span><span style=\"background-color: hsl(120, 100.00%, 99.77%); opacity: 0.80\" title=\"0.001\">油麦</span><span style=\"opacity: 0.80\"> </span><span style=\"background-color: hsl(120, 100.00%, 98.41%); opacity: 0.80\" title=\"0.014\">菜</span><span style=\"opacity: 0.80\"> </span><span style=\"background-color: hsl(120, 100.00%, 97.77%); opacity: 0.80\" title=\"0.022\">上</span><span style=\"opacity: 0.80\"> </span><span style=\"background-color: hsl(0, 100.00%, 86.35%); opacity: 0.84\" title=\"-0.299\">根本</span><span style=\"opacity: 0.80\"> </span><span style=\"background-color: hsl(0, 100.00%, 97.03%); opacity: 0.80\" title=\"-0.034\">拌</span><span style=\"opacity: 0.80\"> </span><span style=\"background-color: hsl(0, 100.00%, 94.08%); opacity: 0.81\" title=\"-0.091\">不开</span><span style=\"opacity: 0.80\"> </span><span style=\"background-color: hsl(0, 100.00%, 93.13%); opacity: 0.82\" title=\"-0.112\">相比</span><span style=\"opacity: 0.80\"> </span><span style=\"background-color: hsl(0, 100.00%, 94.75%); opacity: 0.81\" title=\"-0.076\">甜口</span><span style=\"opacity: 0.80\"> </span><span style=\"background-color: hsl(0, 100.00%, 93.25%); opacity: 0.82\" title=\"-0.109\">的</span><span style=\"opacity: 0.80\"> </span><span style=\"background-color: hsl(0, 100.00%, 97.40%); opacity: 0.80\" title=\"-0.028\">麻酱</span><span style=\"opacity: 0.80\"> 我 更 </span><span style=\"background-color: hsl(120, 100.00%, 84.86%); opacity: 0.85\" title=\"0.346\">喜欢</span><span style=\"opacity: 0.80\"> 热干面 </span><span style=\"background-color: hsl(120, 100.00%, 96.20%); opacity: 0.81\" title=\"0.048\">那种</span><span style=\"opacity: 0.80\"> </span><span style=\"background-color: hsl(120, 100.00%, 79.07%); opacity: 0.88\" title=\"0.550\">咸口</span><span style=\"opacity: 0.80\"> </span><span style=\"background-color: hsl(0, 100.00%, 88.73%); opacity: 0.83\" title=\"-0.227\">的</span><span style=\"opacity: 0.80\"> 、 </span><span style=\"background-color: hsl(0, 100.00%, 86.10%); opacity: 0.84\" title=\"-0.306\">稀</span><span style=\"opacity: 0.80\"> 点儿 </span><span style=\"background-color: hsl(120, 100.00%, 97.55%); opacity: 0.80\" title=\"0.026\">的</span><span style=\"opacity: 0.80\"> ； 第七 张 “ </span><span style=\"background-color: hsl(0, 100.00%, 96.57%); opacity: 0.81\" title=\"-0.041\">面包</span><span style=\"opacity: 0.80\"> </span><span style=\"background-color: hsl(120, 100.00%, 98.97%); opacity: 0.80\" title=\"0.007\">诱惑</span><span style=\"opacity: 0.80\"> ” ： 这道 </span><span style=\"background-color: hsl(0, 100.00%, 94.77%); opacity: 0.81\" title=\"-0.076\">是</span><span style=\"opacity: 0.80\"> </span><span style=\"background-color: hsl(0, 100.00%, 94.33%); opacity: 0.81\" title=\"-0.085\">敬菜</span><span style=\"opacity: 0.80\"> ， </span><span style=\"background-color: hsl(0, 100.00%, 97.40%); opacity: 0.80\" title=\"-0.028\">口味</span><span style=\"opacity: 0.80\"> </span><span style=\"background-color: hsl(120, 100.00%, 96.61%); opacity: 0.81\" title=\"0.041\">还</span><span style=\"opacity: 0.80\"> </span><span style=\"background-color: hsl(120, 100.00%, 98.15%); opacity: 0.80\" title=\"0.017\">不错</span><span style=\"opacity: 0.80\"> ， </span><span style=\"background-color: hsl(0, 100.00%, 98.26%); opacity: 0.80\" title=\"-0.016\">冰淇淋</span><span style=\"opacity: 0.80\"> 也 </span><span style=\"background-color: hsl(0, 100.00%, 94.73%); opacity: 0.81\" title=\"-0.077\">很</span><span style=\"opacity: 0.80\"> </span><span style=\"background-color: hsl(120, 100.00%, 93.45%); opacity: 0.82\" title=\"0.104\">好吃</span><span style=\"opacity: 0.80\"> </span><span style=\"background-color: hsl(0, 100.00%, 91.00%); opacity: 0.82\" title=\"-0.165\">就是</span><span style=\"opacity: 0.80\"> </span><span style=\"background-color: hsl(0, 100.00%, 77.72%); opacity: 0.89\" title=\"-0.601\">卖相</span><span style=\"opacity: 0.80\"> </span><span style=\"background-color: hsl(0, 100.00%, 94.27%); opacity: 0.81\" title=\"-0.086\">太</span><span style=\"opacity: 0.80\"> </span><span style=\"background-color: hsl(0, 100.00%, 95.66%); opacity: 0.81\" title=\"-0.058\">一般</span><span style=\"opacity: 0.80\"> </span><span style=\"background-color: hsl(120, 100.00%, 99.43%); opacity: 0.80\" title=\"0.003\">了</span><span style=\"opacity: 0.80\"> </span><span style=\"background-color: hsl(120, 100.00%, 97.72%); opacity: 0.80\" title=\"0.023\">既然</span><span style=\"opacity: 0.80\"> </span><span style=\"background-color: hsl(0, 100.00%, 92.33%); opacity: 0.82\" title=\"-0.131\">要</span><span style=\"opacity: 0.80\"> </span><span style=\"background-color: hsl(0, 100.00%, 92.14%); opacity: 0.82\" title=\"-0.136\">推广</span><span style=\"opacity: 0.80\"> </span><span style=\"background-color: hsl(0, 100.00%, 92.14%); opacity: 0.82\" title=\"-0.136\">至少</span><span style=\"opacity: 0.80\"> </span><span style=\"background-color: hsl(0, 100.00%, 92.10%); opacity: 0.82\" title=\"-0.137\">要</span><span style=\"opacity: 0.80\"> </span><span style=\"background-color: hsl(0, 100.00%, 92.47%); opacity: 0.82\" title=\"-0.127\">给</span><span style=\"opacity: 0.80\"> 点儿 </span><span style=\"background-color: hsl(120, 100.00%, 95.61%); opacity: 0.81\" title=\"0.059\">装饰</span><span style=\"opacity: 0.80\"> ， 不用 </span><span style=\"background-color: hsl(0, 100.00%, 97.80%); opacity: 0.80\" title=\"-0.022\">太</span><span style=\"opacity: 0.80\"> </span><span style=\"background-color: hsl(0, 100.00%, 97.80%); opacity: 0.80\" title=\"-0.022\">复杂</span><span style=\"opacity: 0.80\"> </span><span style=\"background-color: hsl(0, 100.00%, 94.29%); opacity: 0.81\" title=\"-0.086\">拉个</span><span style=\"opacity: 0.80\"> </span><span style=\"background-color: hsl(120, 100.00%, 94.98%); opacity: 0.81\" title=\"0.071\">巧克力</span><span style=\"opacity: 0.80\"> </span><span style=\"background-color: hsl(0, 100.00%, 98.52%); opacity: 0.80\" title=\"-0.012\">线条</span><span style=\"opacity: 0.80\"> 、 </span><span style=\"background-color: hsl(0, 100.00%, 94.47%); opacity: 0.81\" title=\"-0.082\">给</span><span style=\"opacity: 0.80\"> </span><span style=\"background-color: hsl(120, 100.00%, 96.39%); opacity: 0.81\" title=\"0.045\">个</span><span style=\"opacity: 0.80\"> </span><span style=\"background-color: hsl(0, 100.00%, 96.24%); opacity: 0.81\" title=\"-0.047\">蛋卷</span><span style=\"opacity: 0.80\"> 、 </span><span style=\"background-color: hsl(120, 100.00%, 92.67%); opacity: 0.82\" title=\"0.123\">水果</span><span style=\"opacity: 0.80\"> 粒 </span><span style=\"background-color: hsl(120, 100.00%, 96.28%); opacity: 0.81\" title=\"0.047\">稍稍</span><span style=\"opacity: 0.80\"> </span><span style=\"background-color: hsl(120, 100.00%, 97.93%); opacity: 0.80\" title=\"0.020\">点缀</span><span style=\"opacity: 0.80\"> </span><span style=\"background-color: hsl(0, 100.00%, 90.41%); opacity: 0.83\" title=\"-0.180\">一下</span><span style=\"opacity: 0.80\"> </span><span style=\"background-color: hsl(0, 100.00%, 90.72%); opacity: 0.82\" title=\"-0.172\">就</span><span style=\"opacity: 0.80\"> </span><span style=\"background-color: hsl(0, 100.00%, 94.79%); opacity: 0.81\" title=\"-0.075\">会</span><span style=\"opacity: 0.80\"> </span><span style=\"background-color: hsl(120, 100.00%, 93.32%); opacity: 0.82\" title=\"0.107\">好看</span><span style=\"opacity: 0.80\"> </span><span style=\"background-color: hsl(120, 100.00%, 96.33%); opacity: 0.81\" title=\"0.046\">很多</span><span style=\"opacity: 0.80\"> </span><span style=\"background-color: hsl(120, 100.00%, 92.35%); opacity: 0.82\" title=\"0.131\">面包</span><span style=\"opacity: 0.80\"> </span><span style=\"background-color: hsl(120, 100.00%, 91.90%); opacity: 0.82\" title=\"0.142\">本身</span><span style=\"opacity: 0.80\"> </span><span style=\"background-color: hsl(120, 100.00%, 90.88%); opacity: 0.82\" title=\"0.168\">口感</span><span style=\"opacity: 0.80\"> </span><span style=\"background-color: hsl(120, 100.00%, 93.58%); opacity: 0.81\" title=\"0.102\">和</span><span style=\"opacity: 0.80\"> </span><span style=\"background-color: hsl(120, 100.00%, 94.39%); opacity: 0.81\" title=\"0.084\">冰淇淋</span><span style=\"opacity: 0.80\"> </span><span style=\"background-color: hsl(0, 100.00%, 99.18%); opacity: 0.80\" title=\"-0.005\">都</span><span style=\"opacity: 0.80\"> </span><span style=\"background-color: hsl(0, 100.00%, 94.73%); opacity: 0.81\" title=\"-0.077\">很</span><span style=\"opacity: 0.80\"> </span><span style=\"background-color: hsl(120, 100.00%, 93.45%); opacity: 0.82\" title=\"0.104\">好吃</span><span style=\"opacity: 0.80\"> 比 </span><span style=\"background-color: hsl(0, 100.00%, 96.90%); opacity: 0.81\" title=\"-0.036\">很多</span><span style=\"opacity: 0.80\"> </span><span style=\"background-color: hsl(0, 100.00%, 94.49%); opacity: 0.81\" title=\"-0.082\">外面</span><span style=\"opacity: 0.80\"> </span><span style=\"background-color: hsl(120, 100.00%, 95.61%); opacity: 0.81\" title=\"0.059\">装饰</span><span style=\"opacity: 0.80\"> </span><span style=\"background-color: hsl(120, 100.00%, 97.55%); opacity: 0.80\" title=\"0.026\">的</span><span style=\"opacity: 0.80\"> </span><span style=\"background-color: hsl(120, 100.00%, 96.20%); opacity: 0.81\" title=\"0.048\">那种</span><span style=\"opacity: 0.80\"> </span><span style=\"background-color: hsl(120, 100.00%, 88.74%); opacity: 0.83\" title=\"0.227\">美美</span><span style=\"opacity: 0.80\"> </span><span style=\"background-color: hsl(120, 100.00%, 97.55%); opacity: 0.80\" title=\"0.026\">的</span><span style=\"opacity: 0.80\"> </span><span style=\"background-color: hsl(120, 100.00%, 89.95%); opacity: 0.83\" title=\"0.193\">好吃</span><span style=\"opacity: 0.80\"> </span><span style=\"background-color: hsl(0, 100.00%, 95.57%); opacity: 0.81\" title=\"-0.060\">多</span><span style=\"opacity: 0.80\"> </span><span style=\"background-color: hsl(120, 100.00%, 95.49%); opacity: 0.81\" title=\"0.061\">了</span><span style=\"opacity: 0.80\"> </span><span style=\"background-color: hsl(0, 100.00%, 92.04%); opacity: 0.82\" title=\"-0.138\">就</span><span style=\"opacity: 0.80\"> </span><span style=\"background-color: hsl(0, 100.00%, 60.00%); opacity: 1.00\" title=\"-1.387\">差</span><span style=\"opacity: 0.80\"> </span><span style=\"background-color: hsl(0, 100.00%, 93.36%); opacity: 0.82\" title=\"-0.107\">了</span><span style=\"opacity: 0.80\"> </span><span style=\"background-color: hsl(120, 100.00%, 92.88%); opacity: 0.82\" title=\"0.118\">一点</span><span style=\"opacity: 0.80\"> </span><span style=\"background-color: hsl(0, 100.00%, 94.61%); opacity: 0.81\" title=\"-0.079\">装饰</span><span style=\"opacity: 0.80\"> ； </span><span style=\"background-color: hsl(0, 100.00%, 91.79%); opacity: 0.82\" title=\"-0.144\">第八</span><span style=\"opacity: 0.80\"> 张 “ </span><span style=\"background-color: hsl(0, 100.00%, 95.50%); opacity: 0.81\" title=\"-0.061\">绿茶</span><span style=\"opacity: 0.80\"> 烤鸡 ” </span><span style=\"background-color: hsl(120, 100.00%, 96.33%); opacity: 0.81\" title=\"0.046\">很多</span><span style=\"opacity: 0.80\"> </span><span style=\"background-color: hsl(120, 100.00%, 98.36%); opacity: 0.80\" title=\"0.014\">人点</span><span style=\"opacity: 0.80\"> </span><span style=\"background-color: hsl(120, 100.00%, 95.62%); opacity: 0.81\" title=\"0.059\">这</span><span style=\"opacity: 0.80\"> </span><span style=\"background-color: hsl(120, 100.00%, 93.07%); opacity: 0.82\" title=\"0.113\">道菜</span><span style=\"opacity: 0.80\"> ， 相比 前</span>\n",
       "    </p>\n",
       "\n",
       "\n",
       "    \n",
       "\n",
       "    \n",
       "\n",
       "    \n",
       "\n",
       "    \n",
       "\n",
       "\n",
       "    \n",
       "\n",
       "    \n",
       "\n",
       "    \n",
       "\n",
       "    \n",
       "\n",
       "    \n",
       "\n",
       "    \n",
       "\n",
       "\n",
       "    \n",
       "\n",
       "    \n",
       "\n",
       "    \n",
       "\n",
       "    \n",
       "\n",
       "    \n",
       "\n",
       "    \n",
       "\n",
       "\n",
       "\n"
      ],
      "text/plain": [
       "<IPython.core.display.HTML object>"
      ]
     },
     "execution_count": 48,
     "metadata": {},
     "output_type": "execute_result"
    }
   ],
   "source": [
    "predictor_ft.explain(test3) # 被截断"
   ]
  },
  {
   "cell_type": "markdown",
   "metadata": {
    "id": "g1Vzxw-nx38g"
   },
   "source": [
    "## FastText Oversampling"
   ]
  },
  {
   "cell_type": "markdown",
   "metadata": {
    "id": "Vu3p9CpR0hlb"
   },
   "source": [
    "### Data Preparation, Tokenization & Vectorization"
   ]
  },
  {
   "cell_type": "code",
   "execution_count": 49,
   "metadata": {
    "ExecuteTime": {
     "end_time": "2023-03-22T18:13:01.368807Z",
     "start_time": "2023-03-22T18:11:13.184811Z"
    },
    "code_folding": [],
    "colab": {
     "base_uri": "https://localhost:8080/",
     "height": 520
    },
    "id": "b3_1ddo2377O",
    "outputId": "ce21a817-bcb2-4099-bd97-ff3ee78e261b",
    "scrolled": true
   },
   "outputs": [
    {
     "name": "stdout",
     "output_type": "stream",
     "text": [
      "['-1', '1']\n",
      "    -1    1\n",
      "0  0.0  1.0\n",
      "1  0.0  1.0\n",
      "2  0.0  1.0\n",
      "3  0.0  1.0\n",
      "4  0.0  1.0\n",
      "['-1', '1']\n",
      "    -1    1\n",
      "0  0.0  1.0\n",
      "2  0.0  1.0\n",
      "3  0.0  1.0\n",
      "4  0.0  1.0\n",
      "6  0.0  1.0\n",
      "language: zh-cn\n",
      "Word Counts: 114182\n",
      "Nrows: 58856\n",
      "58856 train sequences\n",
      "x_train shape: (58856,512)\n",
      "y_train shape: (58856, 2)\n",
      "Is Multi-Label? False\n",
      "4156 test sequences\n",
      "x_test shape: (4156,512)\n",
      "y_test shape: (4156, 2)\n"
     ]
    }
   ],
   "source": [
    "(X_train_ft_oversamp, y_train_ft_oversamp), (X_val_ft, y_val_ft), preproc_ft_oversamp = text.texts_from_df(\n",
    "                                                                   train_df=data_train_oversamp,\n",
    "                                                                   text_column = 'review',\n",
    "                                                                   label_columns = 'sentiment',\n",
    "                                                                   val_df = data_val,\n",
    "                                                                   maxlen = 512,\n",
    "                                                                   max_features=30000,\n",
    "                                                                   preprocess_mode = 'standard')"
   ]
  },
  {
   "cell_type": "markdown",
   "metadata": {
    "id": "e78OxtWH0urK"
   },
   "source": [
    "### Train"
   ]
  },
  {
   "cell_type": "code",
   "execution_count": 50,
   "metadata": {
    "ExecuteTime": {
     "end_time": "2023-03-22T18:13:03.618839Z",
     "start_time": "2023-03-22T18:13:01.371427Z"
    },
    "colab": {
     "base_uri": "https://localhost:8080/"
    },
    "id": "Zhh6GxJW377c",
    "outputId": "afb9372b-fb2c-4eb6-8ecb-e3381eaf3454"
   },
   "outputs": [
    {
     "name": "stdout",
     "output_type": "stream",
     "text": [
      "Is Multi-Label? False\n",
      "compiling word ID features...\n",
      "maxlen is 512\n",
      "done.\n"
     ]
    }
   ],
   "source": [
    "model_ft_oversamp = text.text_classifier(name = 'fasttext',\n",
    "                             train_data = (X_train_ft_oversamp, y_train_ft_oversamp),\n",
    "                             preproc = preproc_ft_oversamp)"
   ]
  },
  {
   "cell_type": "code",
   "execution_count": 51,
   "metadata": {
    "ExecuteTime": {
     "end_time": "2023-03-22T18:13:03.633856Z",
     "start_time": "2023-03-22T18:13:03.620842Z"
    },
    "id": "M7tzxRgr377f"
   },
   "outputs": [
    {
     "data": {
      "text/plain": [
       "\"\\nmodel_bert.load_weights('bert/bert-meituan-rate/tmp/weights-02.hdf5')\\nlearner_bert = ktrain.get_learner(model=model_bert, train_data=(X_train_bert, y_train_bert),\\n                   val_data = (X_val_bert, y_val_bert),\\n                   batch_size = 12)\\npredictor_bert = ktrain.get_predictor(learner_bert.model, preproc_bert)\\n\""
      ]
     },
     "execution_count": 51,
     "metadata": {},
     "output_type": "execute_result"
    }
   ],
   "source": [
    "# load weights if needed\n",
    "'''\n",
    "model_bert.load_weights('bert/bert-meituan-rate/tmp/weights-02.hdf5')\n",
    "learner_bert = ktrain.get_learner(model=model_bert, train_data=(X_train_bert, y_train_bert),\n",
    "                   val_data = (X_val_bert, y_val_bert),\n",
    "                   batch_size = 12)\n",
    "predictor_bert = ktrain.get_predictor(learner_bert.model, preproc_bert)\n",
    "'''"
   ]
  },
  {
   "cell_type": "code",
   "execution_count": 52,
   "metadata": {
    "ExecuteTime": {
     "end_time": "2023-03-22T18:13:03.680854Z",
     "start_time": "2023-03-22T18:13:03.635842Z"
    },
    "id": "iYpJ_Dw4377i"
   },
   "outputs": [],
   "source": [
    "learner_ft_oversamp = ktrain.get_learner(model=model_ft_oversamp, train_data=(X_train_ft_oversamp, y_train_ft_oversamp),\n",
    "                   val_data = (X_val_ft, y_val_ft),\n",
    "                   batch_size = 10)"
   ]
  },
  {
   "cell_type": "code",
   "execution_count": 53,
   "metadata": {
    "ExecuteTime": {
     "end_time": "2023-03-22T18:14:21.589529Z",
     "start_time": "2023-03-22T18:13:03.682851Z"
    },
    "colab": {
     "base_uri": "https://localhost:8080/",
     "height": 509
    },
    "id": "zZTddAu7377m",
    "outputId": "83e4d701-1c2f-4089-82fa-e4497065db35"
   },
   "outputs": [
    {
     "name": "stdout",
     "output_type": "stream",
     "text": [
      "simulating training for different learning rates... this may take a few moments...\n",
      "Epoch 1/2\n",
      "5886/5886 [==============================] - 37s 6ms/step - loss: 0.8606 - accuracy: 0.5483\n",
      "Epoch 2/2\n",
      "5886/5886 [==============================] - 28s 5ms/step - loss: 17.4255 - accuracy: 0.6555\n",
      "\n",
      "\n",
      "done.\n",
      "Visually inspect loss plot and select learning rate associated with falling loss\n",
      "Three possible suggestions for LR from plot:\n",
      "\tLongest valley (red): 2.84E-04\n",
      "\tMin numerical gradient (purple): 9.51E-04\n",
      "\tMin loss divided by 10 (omitted from plot): 1.30E-03\n"
     ]
    },
    {
     "data": {
      "image/png": "[encoded data removed]",
      "text/plain": [
       "<Figure size 640x480 with 1 Axes>"
      ]
     },
     "metadata": {},
     "output_type": "display_data"
    }
   ],
   "source": [
    "# 自动寻找lr\n",
    "# https://www.pyimagesearch.com/2019/08/05/keras-learning-rate-finder/\n",
    "learner_ft_oversamp.lr_find(show_plot=True, suggest=True, max_epochs = 2)"
   ]
  },
  {
   "cell_type": "code",
   "execution_count": 54,
   "metadata": {
    "ExecuteTime": {
     "end_time": "2023-03-22T18:22:59.566412Z",
     "start_time": "2023-03-22T18:14:21.591514Z"
    },
    "id": "b4IWxvTc377o",
    "scrolled": true
   },
   "outputs": [
    {
     "name": "stdout",
     "output_type": "stream",
     "text": [
      "early_stopping automatically enabled at patience=5\n",
      "reduce_on_plateau automatically enabled at patience=2\n",
      "\n",
      "\n",
      "begin training using triangular learning rate policy with max lr of 0.00021...\n",
      "Epoch 1/1024\n",
      "5886/5886 [==============================] - 42s 7ms/step - loss: 0.6207 - accuracy: 0.6824 - val_loss: 0.2700 - val_accuracy: 0.9182\n",
      "Epoch 2/1024\n",
      "5886/5886 [==============================] - 42s 7ms/step - loss: 0.3618 - accuracy: 0.8427 - val_loss: 0.1875 - val_accuracy: 0.9360\n",
      "Epoch 3/1024\n",
      "5886/5886 [==============================] - 42s 7ms/step - loss: 0.2768 - accuracy: 0.8873 - val_loss: 0.1483 - val_accuracy: 0.9478\n",
      "Epoch 4/1024\n",
      "5886/5886 [==============================] - 43s 7ms/step - loss: 0.2213 - accuracy: 0.9123 - val_loss: 0.1229 - val_accuracy: 0.9540\n",
      "Epoch 5/1024\n",
      "5886/5886 [==============================] - 43s 7ms/step - loss: 0.1910 - accuracy: 0.9259 - val_loss: 0.1251 - val_accuracy: 0.9538\n",
      "Epoch 6/1024\n",
      "5886/5886 [==============================] - 43s 7ms/step - loss: 0.1687 - accuracy: 0.9369 - val_loss: 0.1116 - val_accuracy: 0.9589\n",
      "Epoch 7/1024\n",
      "5886/5886 [==============================] - 44s 7ms/step - loss: 0.1502 - accuracy: 0.9425 - val_loss: 0.1068 - val_accuracy: 0.9627\n",
      "Epoch 8/1024\n",
      "5886/5886 [==============================] - 43s 7ms/step - loss: 0.1373 - accuracy: 0.9484 - val_loss: 0.1107 - val_accuracy: 0.9629\n",
      "Epoch 9/1024\n",
      "5881/5886 [============================>.] - ETA: 0s - loss: 0.1275 - accuracy: 0.9526\n",
      "Epoch 00009: Reducing Max LR on Plateau: new max lr will be 0.000105 (if not early_stopping).\n",
      "5886/5886 [==============================] - 44s 7ms/step - loss: 0.1275 - accuracy: 0.9526 - val_loss: 0.1115 - val_accuracy: 0.9620\n",
      "Epoch 10/1024\n",
      "5886/5886 [==============================] - 44s 7ms/step - loss: 0.1159 - accuracy: 0.9572 - val_loss: 0.1113 - val_accuracy: 0.9644\n",
      "Epoch 11/1024\n",
      "5880/5886 [============================>.] - ETA: 0s - loss: 0.1107 - accuracy: 0.9592\n",
      "Epoch 00011: Reducing Max LR on Plateau: new max lr will be 5.25e-05 (if not early_stopping).\n",
      "5886/5886 [==============================] - 44s 7ms/step - loss: 0.1107 - accuracy: 0.9592 - val_loss: 0.1122 - val_accuracy: 0.9649\n",
      "Epoch 12/1024\n",
      "5880/5886 [============================>.] - ETA: 0s - loss: 0.1043 - accuracy: 0.9622Restoring model weights from the end of the best epoch: 7.\n",
      "5886/5886 [==============================] - 44s 8ms/step - loss: 0.1043 - accuracy: 0.9622 - val_loss: 0.1127 - val_accuracy: 0.9634\n",
      "Epoch 00012: early stopping\n",
      "Weights from best epoch have been loaded into model.\n"
     ]
    }
   ],
   "source": [
    "learner_ft_oversamp.autofit(lr = 2.10E-04, checkpoint_folder='ft-oversamp-meituan-rate/tmp')\n",
    "predictor_ft_oversamp = ktrain.get_predictor(learner_ft_oversamp.model, preproc_ft_oversamp)\n",
    "predictor_ft_oversamp.save('ft-oversamp-meituan-rate')"
   ]
  },
  {
   "cell_type": "markdown",
   "metadata": {
    "id": "wSE0geHEx38l"
   },
   "source": [
    "### Evaluation for Oversampled FastText Model"
   ]
  },
  {
   "cell_type": "code",
   "execution_count": 55,
   "metadata": {
    "ExecuteTime": {
     "end_time": "2023-03-22T18:23:07.587138Z",
     "start_time": "2023-03-22T18:22:59.569412Z"
    },
    "id": "8U7bRpaKx38l"
   },
   "outputs": [],
   "source": [
    "X_test_ft = data_test['review']\n",
    "y_test_ft = data_test['sentiment']\n",
    "y_pred_ft=predictor_ft_oversamp.predict(X_test_ft.values)"
   ]
  },
  {
   "cell_type": "code",
   "execution_count": 56,
   "metadata": {
    "ExecuteTime": {
     "end_time": "2023-03-22T18:23:07.677403Z",
     "start_time": "2023-03-22T18:23:07.589138Z"
    },
    "id": "6M7w55lDx38l"
   },
   "outputs": [
    {
     "name": "stdout",
     "output_type": "stream",
     "text": [
      "              precision    recall  f1-score   support\n",
      "\n",
      "          -1       0.76      0.75      0.76       338\n",
      "           1       0.98      0.98      0.98      3885\n",
      "\n",
      "    accuracy                           0.96      4223\n",
      "   macro avg       0.87      0.87      0.87      4223\n",
      "weighted avg       0.96      0.96      0.96      4223\n",
      "\n"
     ]
    }
   ],
   "source": [
    "# classification report\n",
    "from sklearn.metrics import classification_report\n",
    "print(classification_report(y_test_ft, y_pred_ft))"
   ]
  },
  {
   "cell_type": "code",
   "execution_count": 57,
   "metadata": {
    "ExecuteTime": {
     "end_time": "2023-03-22T18:23:07.707962Z",
     "start_time": "2023-03-22T18:23:07.679413Z"
    },
    "id": "L1TPCFN2x38l"
   },
   "outputs": [
    {
     "data": {
      "text/plain": [
       "array([[ 255,   83],\n",
       "       [  81, 3804]], dtype=int64)"
      ]
     },
     "execution_count": 57,
     "metadata": {},
     "output_type": "execute_result"
    }
   ],
   "source": [
    "# Confusion Matrix\n",
    "from sklearn.metrics import confusion_matrix\n",
    "confusion_matrix(y_test_ft, y_pred_ft)"
   ]
  },
  {
   "cell_type": "code",
   "execution_count": 58,
   "metadata": {
    "ExecuteTime": {
     "end_time": "2023-03-22T18:23:07.722979Z",
     "start_time": "2023-03-22T18:23:07.709973Z"
    },
    "id": "-wjwGcnrx38m",
    "outputId": "86fe96ca-0dcb-4812-c968-2f71d004e55f"
   },
   "outputs": [
    {
     "data": {
      "text/plain": [
       "review       吃帝王蟹的专门店，门口就挂着巨大无比的螃蟹，同行的盆友们想吃帝王蟹，我们就按着大众点评找过来...\n",
       "star                                                       5.0\n",
       "sentiment                                                    1\n",
       "length                                                     325\n",
       "Name: 606, dtype: object"
      ]
     },
     "execution_count": 58,
     "metadata": {},
     "output_type": "execute_result"
    }
   ],
   "source": [
    "data_test.iloc[536]"
   ]
  },
  {
   "cell_type": "code",
   "execution_count": 59,
   "metadata": {
    "ExecuteTime": {
     "end_time": "2023-03-22T18:23:12.866722Z",
     "start_time": "2023-03-22T18:23:07.724963Z"
    },
    "id": "vD6FTl7Hx38m"
   },
   "outputs": [
    {
     "data": {
      "text/html": [
       "\n",
       "    <style>\n",
       "    table.eli5-weights tr:hover {\n",
       "        filter: brightness(85%);\n",
       "    }\n",
       "</style>\n",
       "\n",
       "\n",
       "\n",
       "    \n",
       "\n",
       "    \n",
       "\n",
       "    \n",
       "\n",
       "    \n",
       "\n",
       "    \n",
       "\n",
       "    \n",
       "\n",
       "\n",
       "    \n",
       "\n",
       "    \n",
       "\n",
       "    \n",
       "\n",
       "    \n",
       "        \n",
       "\n",
       "    \n",
       "\n",
       "        \n",
       "\n",
       "        \n",
       "    \n",
       "        \n",
       "        \n",
       "    \n",
       "        <p style=\"margin-bottom: 0.5em; margin-top: 0em\">\n",
       "            <b>\n",
       "    \n",
       "        y=1\n",
       "    \n",
       "</b>\n",
       "\n",
       "    \n",
       "    (probability <b>0.996</b>, score <b>5.407</b>)\n",
       "\n",
       "top features\n",
       "        </p>\n",
       "    \n",
       "    <table class=\"eli5-weights\"\n",
       "           style=\"border-collapse: collapse; border: none; margin-top: 0em; table-layout: auto; margin-bottom: 2em;\">\n",
       "        <thead>\n",
       "        <tr style=\"border: none;\">\n",
       "            \n",
       "                <th style=\"padding: 0 1em 0 0.5em; text-align: right; border: none;\" title=\"Feature contribution already accounts for the feature value (for linear models, contribution = weight * feature value), and the sum of feature contributions is equal to the score or, for some classifiers, to the probability. Feature values are shown if &quot;show_feature_values&quot; is True.\">\n",
       "                    Contribution<sup>?</sup>\n",
       "                </th>\n",
       "            \n",
       "            <th style=\"padding: 0 0.5em 0 0.5em; text-align: left; border: none;\">Feature</th>\n",
       "            \n",
       "        </tr>\n",
       "        </thead>\n",
       "        <tbody>\n",
       "        \n",
       "            <tr style=\"background-color: hsl(120, 100.00%, 80.00%); border: none;\">\n",
       "    <td style=\"padding: 0 1em 0 0.5em; text-align: right; border: none;\">\n",
       "        +5.136\n",
       "    </td>\n",
       "    <td style=\"padding: 0 0.5em 0 0.5em; text-align: left; border: none;\">\n",
       "        Highlighted in text (sum)\n",
       "    </td>\n",
       "    \n",
       "</tr>\n",
       "        \n",
       "            <tr style=\"background-color: hsl(120, 100.00%, 97.45%); border: none;\">\n",
       "    <td style=\"padding: 0 1em 0 0.5em; text-align: right; border: none;\">\n",
       "        +0.271\n",
       "    </td>\n",
       "    <td style=\"padding: 0 0.5em 0 0.5em; text-align: left; border: none;\">\n",
       "        &lt;BIAS&gt;\n",
       "    </td>\n",
       "    \n",
       "</tr>\n",
       "        \n",
       "        \n",
       "\n",
       "        \n",
       "        \n",
       "\n",
       "        </tbody>\n",
       "    </table>\n",
       "\n",
       "    \n",
       "\n",
       "\n",
       "\n",
       "    <p style=\"margin-bottom: 2.5em; margin-top:-0.5em;\">\n",
       "        <span style=\"background-color: hsl(120, 100.00%, 98.08%); opacity: 0.80\" title=\"0.015\">吃</span><span style=\"opacity: 0.80\"> </span><span style=\"background-color: hsl(0, 100.00%, 92.22%); opacity: 0.82\" title=\"-0.111\">帝王</span><span style=\"opacity: 0.80\"> </span><span style=\"background-color: hsl(120, 100.00%, 97.55%); opacity: 0.80\" title=\"0.021\">蟹</span><span style=\"opacity: 0.80\"> </span><span style=\"background-color: hsl(120, 100.00%, 92.04%); opacity: 0.82\" title=\"0.115\">的</span><span style=\"opacity: 0.80\"> </span><span style=\"background-color: hsl(0, 100.00%, 90.72%); opacity: 0.82\" title=\"-0.143\">专门店</span><span style=\"opacity: 0.80\"> ， </span><span style=\"background-color: hsl(0, 100.00%, 86.18%); opacity: 0.84\" title=\"-0.252\">门口</span><span style=\"opacity: 0.80\"> 就 </span><span style=\"background-color: hsl(120, 100.00%, 90.11%); opacity: 0.83\" title=\"0.156\">挂</span><span style=\"opacity: 0.80\"> </span><span style=\"background-color: hsl(120, 100.00%, 97.82%); opacity: 0.80\" title=\"0.018\">着</span><span style=\"opacity: 0.80\"> </span><span style=\"background-color: hsl(120, 100.00%, 82.93%); opacity: 0.86\" title=\"0.341\">巨大</span><span style=\"opacity: 0.80\"> </span><span style=\"background-color: hsl(0, 100.00%, 87.37%); opacity: 0.84\" title=\"-0.222\">无比</span><span style=\"opacity: 0.80\"> </span><span style=\"background-color: hsl(120, 100.00%, 93.77%); opacity: 0.81\" title=\"0.081\">的</span><span style=\"opacity: 0.80\"> </span><span style=\"background-color: hsl(120, 100.00%, 91.12%); opacity: 0.82\" title=\"0.134\">螃蟹</span><span style=\"opacity: 0.80\"> ， </span><span style=\"background-color: hsl(0, 100.00%, 85.57%); opacity: 0.85\" title=\"-0.268\">同行</span><span style=\"opacity: 0.80\"> </span><span style=\"background-color: hsl(120, 100.00%, 92.04%); opacity: 0.82\" title=\"0.115\">的</span><span style=\"opacity: 0.80\"> </span><span style=\"background-color: hsl(0, 100.00%, 95.50%); opacity: 0.81\" title=\"-0.051\">盆友们</span><span style=\"opacity: 0.80\"> </span><span style=\"background-color: hsl(120, 100.00%, 98.22%); opacity: 0.80\" title=\"0.013\">想</span><span style=\"opacity: 0.80\"> </span><span style=\"background-color: hsl(120, 100.00%, 98.08%); opacity: 0.80\" title=\"0.015\">吃</span><span style=\"opacity: 0.80\"> </span><span style=\"background-color: hsl(0, 100.00%, 92.22%); opacity: 0.82\" title=\"-0.111\">帝王</span><span style=\"opacity: 0.80\"> </span><span style=\"background-color: hsl(120, 100.00%, 97.55%); opacity: 0.80\" title=\"0.021\">蟹</span><span style=\"opacity: 0.80\"> ， </span><span style=\"background-color: hsl(120, 100.00%, 95.46%); opacity: 0.81\" title=\"0.051\">我们</span><span style=\"opacity: 0.80\"> </span><span style=\"background-color: hsl(0, 100.00%, 90.68%); opacity: 0.82\" title=\"-0.144\">就</span><span style=\"opacity: 0.80\"> </span><span style=\"background-color: hsl(0, 100.00%, 94.47%); opacity: 0.81\" title=\"-0.068\">按着</span><span style=\"opacity: 0.80\"> </span><span style=\"background-color: hsl(0, 100.00%, 95.35%); opacity: 0.81\" title=\"-0.053\">大众</span><span style=\"opacity: 0.80\"> </span><span style=\"background-color: hsl(120, 100.00%, 88.20%); opacity: 0.83\" title=\"0.201\">点评</span><span style=\"opacity: 0.80\"> 找 </span><span style=\"background-color: hsl(0, 100.00%, 94.36%); opacity: 0.81\" title=\"-0.070\">过来</span><span style=\"opacity: 0.80\"> </span><span style=\"background-color: hsl(0, 100.00%, 90.64%); opacity: 0.83\" title=\"-0.144\">的</span><span style=\"opacity: 0.80\"> ， </span><span style=\"background-color: hsl(0, 100.00%, 90.21%); opacity: 0.83\" title=\"-0.154\">离住</span><span style=\"opacity: 0.80\"> </span><span style=\"background-color: hsl(0, 100.00%, 97.51%); opacity: 0.80\" title=\"-0.022\">的</span><span style=\"opacity: 0.80\"> </span><span style=\"background-color: hsl(120, 100.00%, 93.45%); opacity: 0.82\" title=\"0.087\">酒店</span><span style=\"opacity: 0.80\"> </span><span style=\"background-color: hsl(120, 100.00%, 95.46%); opacity: 0.81\" title=\"0.051\">比较</span><span style=\"opacity: 0.80\"> </span><span style=\"background-color: hsl(120, 100.00%, 92.37%); opacity: 0.82\" title=\"0.108\">近</span><span style=\"opacity: 0.80\"> ， </span><span style=\"background-color: hsl(0, 100.00%, 85.18%); opacity: 0.85\" title=\"-0.279\">居然</span><span style=\"opacity: 0.80\"> </span><span style=\"background-color: hsl(0, 100.00%, 94.74%); opacity: 0.81\" title=\"-0.063\">找到</span><span style=\"opacity: 0.80\"> </span><span style=\"background-color: hsl(0, 100.00%, 96.39%); opacity: 0.81\" title=\"-0.037\">了</span><span style=\"opacity: 0.80\"> ， </span><span style=\"background-color: hsl(0, 100.00%, 93.32%); opacity: 0.82\" title=\"-0.089\">但是</span><span style=\"opacity: 0.80\"> </span><span style=\"background-color: hsl(0, 100.00%, 94.25%); opacity: 0.81\" title=\"-0.072\">我们</span><span style=\"opacity: 0.80\"> </span><span style=\"background-color: hsl(0, 100.00%, 89.06%); opacity: 0.83\" title=\"-0.180\">到</span><span style=\"opacity: 0.80\"> </span><span style=\"background-color: hsl(120, 100.00%, 94.27%); opacity: 0.81\" title=\"0.072\">的</span><span style=\"opacity: 0.80\"> </span><span style=\"background-color: hsl(0, 100.00%, 92.39%); opacity: 0.82\" title=\"-0.107\">比较</span><span style=\"opacity: 0.80\"> </span><span style=\"background-color: hsl(0, 100.00%, 87.70%); opacity: 0.84\" title=\"-0.213\">晚</span><span style=\"opacity: 0.80\"> </span><span style=\"background-color: hsl(120, 100.00%, 98.44%); opacity: 0.80\" title=\"0.011\">了</span><span style=\"opacity: 0.80\"> ， </span><span style=\"background-color: hsl(120, 100.00%, 95.46%); opacity: 0.81\" title=\"0.051\">我们</span><span style=\"opacity: 0.80\"> </span><span style=\"background-color: hsl(120, 100.00%, 88.96%); opacity: 0.83\" title=\"0.183\">大概</span><span style=\"opacity: 0.80\"> </span><span style=\"background-color: hsl(0, 100.00%, 89.10%); opacity: 0.83\" title=\"-0.180\">九点钟</span><span style=\"opacity: 0.80\"> </span><span style=\"background-color: hsl(0, 100.00%, 90.20%); opacity: 0.83\" title=\"-0.154\">到</span><span style=\"opacity: 0.80\"> </span><span style=\"background-color: hsl(120, 100.00%, 93.14%); opacity: 0.82\" title=\"0.093\">的</span><span style=\"opacity: 0.80\"> ， </span><span style=\"background-color: hsl(0, 100.00%, 94.92%); opacity: 0.81\" title=\"-0.060\">被</span><span style=\"opacity: 0.80\"> </span><span style=\"background-color: hsl(0, 100.00%, 61.61%); opacity: 0.99\" title=\"-1.084\">告知</span><span style=\"opacity: 0.80\"> </span><span style=\"background-color: hsl(0, 100.00%, 93.98%); opacity: 0.81\" title=\"-0.077\">十点钟</span><span style=\"opacity: 0.80\"> </span><span style=\"background-color: hsl(120, 100.00%, 94.73%); opacity: 0.81\" title=\"0.064\">就要</span><span style=\"opacity: 0.80\"> 打烊 </span><span style=\"background-color: hsl(0, 100.00%, 94.61%); opacity: 0.81\" title=\"-0.066\">了</span><span style=\"opacity: 0.80\"> ， </span><span style=\"background-color: hsl(0, 100.00%, 98.42%); opacity: 0.80\" title=\"-0.011\">好</span><span style=\"opacity: 0.80\"> 吧 ， </span><span style=\"background-color: hsl(120, 100.00%, 96.03%); opacity: 0.81\" title=\"0.042\">都</span><span style=\"opacity: 0.80\"> </span><span style=\"background-color: hsl(120, 100.00%, 99.86%); opacity: 0.80\" title=\"0.000\">收工</span><span style=\"opacity: 0.80\"> </span><span style=\"background-color: hsl(0, 100.00%, 92.79%); opacity: 0.82\" title=\"-0.099\">这么</span><span style=\"opacity: 0.80\"> </span><span style=\"background-color: hsl(120, 100.00%, 95.13%); opacity: 0.81\" title=\"0.057\">的</span><span style=\"opacity: 0.80\"> </span><span style=\"background-color: hsl(0, 100.00%, 92.86%); opacity: 0.82\" title=\"-0.098\">早</span><span style=\"opacity: 0.80\"> ， </span><span style=\"background-color: hsl(0, 100.00%, 93.32%); opacity: 0.82\" title=\"-0.089\">但是</span><span style=\"opacity: 0.80\"> </span><span style=\"background-color: hsl(120, 100.00%, 98.89%); opacity: 0.80\" title=\"0.007\">我们</span><span style=\"opacity: 0.80\"> 还是 毅然 </span><span style=\"background-color: hsl(120, 100.00%, 92.04%); opacity: 0.82\" title=\"0.115\">的</span><span style=\"opacity: 0.80\"> 坐 </span><span style=\"background-color: hsl(120, 100.00%, 88.58%); opacity: 0.83\" title=\"0.192\">了</span><span style=\"opacity: 0.80\"> </span><span style=\"background-color: hsl(120, 100.00%, 90.78%); opacity: 0.82\" title=\"0.141\">进去</span><span style=\"opacity: 0.80\"> ， </span><span style=\"background-color: hsl(0, 100.00%, 91.35%); opacity: 0.82\" title=\"-0.129\">可能</span><span style=\"opacity: 0.80\"> </span><span style=\"background-color: hsl(0, 100.00%, 91.35%); opacity: 0.82\" title=\"-0.129\">是因为</span><span style=\"opacity: 0.80\"> </span><span style=\"background-color: hsl(0, 100.00%, 94.05%); opacity: 0.81\" title=\"-0.076\">晚</span><span style=\"opacity: 0.80\"> </span><span style=\"background-color: hsl(0, 100.00%, 93.05%); opacity: 0.82\" title=\"-0.094\">了</span><span style=\"opacity: 0.80\"> ， </span><span style=\"background-color: hsl(0, 100.00%, 90.76%); opacity: 0.82\" title=\"-0.142\">也</span><span style=\"opacity: 0.80\"> </span><span style=\"background-color: hsl(0, 100.00%, 96.45%); opacity: 0.81\" title=\"-0.036\">可能</span><span style=\"opacity: 0.80\"> </span><span style=\"background-color: hsl(120, 100.00%, 89.72%); opacity: 0.83\" title=\"0.165\">是</span><span style=\"opacity: 0.80\"> </span><span style=\"background-color: hsl(120, 100.00%, 92.75%); opacity: 0.82\" title=\"0.100\">价格</span><span style=\"opacity: 0.80\"> </span><span style=\"background-color: hsl(0, 100.00%, 86.25%); opacity: 0.84\" title=\"-0.250\">比较</span><span style=\"opacity: 0.80\"> </span><span style=\"background-color: hsl(0, 100.00%, 96.59%); opacity: 0.81\" title=\"-0.034\">高端</span><span style=\"opacity: 0.80\"> ， </span><span style=\"background-color: hsl(120, 100.00%, 93.76%); opacity: 0.81\" title=\"0.081\">所以</span><span style=\"opacity: 0.80\"> 人不多 ， </span><span style=\"background-color: hsl(120, 100.00%, 99.01%); opacity: 0.80\" title=\"0.006\">我们</span><span style=\"opacity: 0.80\"> </span><span style=\"background-color: hsl(0, 100.00%, 95.82%); opacity: 0.81\" title=\"-0.046\">坐</span><span style=\"opacity: 0.80\"> </span><span style=\"background-color: hsl(0, 100.00%, 85.89%); opacity: 0.85\" title=\"-0.259\">的</span><span style=\"opacity: 0.80\"> </span><span style=\"background-color: hsl(0, 100.00%, 85.85%); opacity: 0.85\" title=\"-0.261\">包房</span><span style=\"opacity: 0.80\"> ， </span><span style=\"background-color: hsl(120, 100.00%, 96.66%); opacity: 0.81\" title=\"0.033\">塌塌米</span><span style=\"opacity: 0.80\"> … … \\ \\ </span><span style=\"background-color: hsl(0, 100.00%, 95.69%); opacity: 0.81\" title=\"-0.048\">n</span><span style=\"opacity: 0.80\"> </span><span style=\"background-color: hsl(0, 100.00%, 92.74%); opacity: 0.82\" title=\"-0.101\">点</span><span style=\"opacity: 0.80\"> </span><span style=\"background-color: hsl(120, 100.00%, 97.34%); opacity: 0.80\" title=\"0.024\">了</span><span style=\"opacity: 0.80\"> </span><span style=\"background-color: hsl(120, 100.00%, 84.76%); opacity: 0.85\" title=\"0.290\">日本</span><span style=\"opacity: 0.80\"> </span><span style=\"background-color: hsl(120, 100.00%, 89.86%); opacity: 0.83\" title=\"0.162\">清酒</span><span style=\"opacity: 0.80\"> ， </span><span style=\"background-color: hsl(0, 100.00%, 95.36%); opacity: 0.81\" title=\"-0.053\">点</span><span style=\"opacity: 0.80\"> </span><span style=\"background-color: hsl(120, 100.00%, 97.34%); opacity: 0.80\" title=\"0.024\">了</span><span style=\"opacity: 0.80\"> </span><span style=\"background-color: hsl(120, 100.00%, 82.27%); opacity: 0.86\" title=\"0.360\">半份</span><span style=\"opacity: 0.80\"> </span><span style=\"background-color: hsl(120, 100.00%, 92.04%); opacity: 0.82\" title=\"0.115\">的</span><span style=\"opacity: 0.80\"> </span><span style=\"background-color: hsl(0, 100.00%, 95.04%); opacity: 0.81\" title=\"-0.058\">帝王</span><span style=\"opacity: 0.80\"> </span><span style=\"background-color: hsl(120, 100.00%, 97.55%); opacity: 0.80\" title=\"0.021\">蟹</span><span style=\"opacity: 0.80\"> ， </span><span style=\"background-color: hsl(0, 100.00%, 95.54%); opacity: 0.81\" title=\"-0.050\">一个</span><span style=\"opacity: 0.80\"> </span><span style=\"background-color: hsl(120, 100.00%, 94.13%); opacity: 0.81\" title=\"0.074\">三人份</span><span style=\"opacity: 0.80\"> </span><span style=\"background-color: hsl(120, 100.00%, 92.04%); opacity: 0.82\" title=\"0.115\">的</span><span style=\"opacity: 0.80\"> </span><span style=\"background-color: hsl(120, 100.00%, 97.05%); opacity: 0.80\" title=\"0.028\">刺身</span><span style=\"opacity: 0.80\"> </span><span style=\"background-color: hsl(0, 100.00%, 93.82%); opacity: 0.81\" title=\"-0.080\">拼盘</span><span style=\"opacity: 0.80\"> ~ \\ \\ </span><span style=\"background-color: hsl(0, 100.00%, 91.06%); opacity: 0.82\" title=\"-0.135\">n</span><span style=\"opacity: 0.80\"> </span><span style=\"background-color: hsl(120, 100.00%, 89.59%); opacity: 0.83\" title=\"0.168\">三个</span><span style=\"opacity: 0.80\"> </span><span style=\"background-color: hsl(120, 100.00%, 91.78%); opacity: 0.82\" title=\"0.120\">吃</span><span style=\"opacity: 0.80\"> </span><span style=\"background-color: hsl(0, 100.00%, 90.23%); opacity: 0.83\" title=\"-0.154\">下来</span><span style=\"opacity: 0.80\"> </span><span style=\"background-color: hsl(0, 100.00%, 88.05%); opacity: 0.84\" title=\"-0.205\">大概</span><span style=\"opacity: 0.80\"> </span><span style=\"background-color: hsl(0, 100.00%, 92.51%); opacity: 0.82\" title=\"-0.105\">人均</span><span style=\"opacity: 0.80\"> </span><span style=\"background-color: hsl(120, 100.00%, 98.19%); opacity: 0.80\" title=\"0.014\">二百多</span><span style=\"opacity: 0.80\"> 吧 ， 如果 </span><span style=\"background-color: hsl(120, 100.00%, 96.22%); opacity: 0.81\" title=\"0.040\">我</span><span style=\"opacity: 0.80\"> </span><span style=\"background-color: hsl(0, 100.00%, 88.10%); opacity: 0.84\" title=\"-0.204\">没</span><span style=\"opacity: 0.80\"> </span><span style=\"background-color: hsl(120, 100.00%, 81.70%); opacity: 0.87\" title=\"0.376\">记错</span><span style=\"opacity: 0.80\"> </span><span style=\"background-color: hsl(0, 100.00%, 89.15%); opacity: 0.83\" title=\"-0.178\">的话</span><span style=\"opacity: 0.80\"> ， </span><span style=\"background-color: hsl(120, 100.00%, 91.87%); opacity: 0.82\" title=\"0.118\">其实</span><span style=\"opacity: 0.80\"> </span><span style=\"background-color: hsl(0, 100.00%, 95.71%); opacity: 0.81\" title=\"-0.047\">感觉</span><span style=\"opacity: 0.80\"> </span><span style=\"background-color: hsl(0, 100.00%, 95.71%); opacity: 0.81\" title=\"-0.047\">还</span><span style=\"opacity: 0.80\"> </span><span style=\"background-color: hsl(0, 100.00%, 87.55%); opacity: 0.84\" title=\"-0.217\">可以</span><span style=\"opacity: 0.80\"> ， </span><span style=\"background-color: hsl(0, 100.00%, 83.56%); opacity: 0.86\" title=\"-0.323\">毕竟</span><span style=\"opacity: 0.80\"> </span><span style=\"background-color: hsl(0, 100.00%, 93.00%); opacity: 0.82\" title=\"-0.095\">在</span><span style=\"opacity: 0.80\"> </span><span style=\"background-color: hsl(0, 100.00%, 85.52%); opacity: 0.85\" title=\"-0.269\">这个</span><span style=\"opacity: 0.80\"> </span><span style=\"background-color: hsl(0, 100.00%, 96.57%); opacity: 0.81\" title=\"-0.034\">地段</span><span style=\"opacity: 0.80\"> ， 而且 </span><span style=\"background-color: hsl(0, 100.00%, 91.83%); opacity: 0.82\" title=\"-0.119\">食材</span><span style=\"opacity: 0.80\"> </span><span style=\"background-color: hsl(0, 100.00%, 96.27%); opacity: 0.81\" title=\"-0.039\">很</span><span style=\"opacity: 0.80\"> </span><span style=\"background-color: hsl(0, 100.00%, 94.61%); opacity: 0.81\" title=\"-0.066\">新鲜</span><span style=\"opacity: 0.80\"> </span><span style=\"background-color: hsl(120, 100.00%, 92.04%); opacity: 0.82\" title=\"0.115\">的</span><span style=\"opacity: 0.80\"> ， </span><span style=\"background-color: hsl(120, 100.00%, 96.02%); opacity: 0.81\" title=\"0.043\">蟹</span><span style=\"opacity: 0.80\"> </span><span style=\"background-color: hsl(120, 100.00%, 90.57%); opacity: 0.83\" title=\"0.146\">很</span><span style=\"opacity: 0.80\"> </span><span style=\"background-color: hsl(120, 100.00%, 73.68%); opacity: 0.91\" title=\"0.633\">肥美</span><span style=\"opacity: 0.80\"> ， </span><span style=\"background-color: hsl(0, 100.00%, 94.49%); opacity: 0.81\" title=\"-0.068\">门口</span><span style=\"opacity: 0.80\"> </span><span style=\"background-color: hsl(0, 100.00%, 97.92%); opacity: 0.80\" title=\"-0.017\">的</span><span style=\"opacity: 0.80\"> </span><span style=\"background-color: hsl(120, 100.00%, 98.33%); opacity: 0.80\" title=\"0.012\">大水池</span><span style=\"opacity: 0.80\"> </span><span style=\"background-color: hsl(120, 100.00%, 91.48%); opacity: 0.82\" title=\"0.126\">里面</span><span style=\"opacity: 0.80\"> </span><span style=\"background-color: hsl(120, 100.00%, 94.02%); opacity: 0.81\" title=\"0.076\">有活</span><span style=\"opacity: 0.80\"> </span><span style=\"background-color: hsl(120, 100.00%, 92.04%); opacity: 0.82\" title=\"0.115\">的</span><span style=\"opacity: 0.80\"> </span><span style=\"background-color: hsl(0, 100.00%, 95.04%); opacity: 0.81\" title=\"-0.058\">帝王</span><span style=\"opacity: 0.80\"> </span><span style=\"background-color: hsl(120, 100.00%, 97.55%); opacity: 0.80\" title=\"0.021\">蟹</span><span style=\"opacity: 0.80\"> ， </span><span style=\"background-color: hsl(120, 100.00%, 78.44%); opacity: 0.88\" title=\"0.476\">供</span><span style=\"opacity: 0.80\"> </span><span style=\"background-color: hsl(120, 100.00%, 77.86%); opacity: 0.89\" title=\"0.494\">观赏</span><span style=\"opacity: 0.80\"> … … \\ \\ </span><span style=\"background-color: hsl(0, 100.00%, 87.98%); opacity: 0.84\" title=\"-0.207\">n</span><span style=\"opacity: 0.80\"> </span><span style=\"background-color: hsl(0, 100.00%, 87.98%); opacity: 0.84\" title=\"-0.207\">服务员</span><span style=\"opacity: 0.80\"> </span><span style=\"background-color: hsl(0, 100.00%, 91.64%); opacity: 0.82\" title=\"-0.123\">都</span><span style=\"opacity: 0.80\"> </span><span style=\"background-color: hsl(0, 100.00%, 89.71%); opacity: 0.83\" title=\"-0.165\">是</span><span style=\"opacity: 0.80\"> </span><span style=\"background-color: hsl(0, 100.00%, 99.44%); opacity: 0.80\" title=\"-0.003\">穿</span><span style=\"opacity: 0.80\"> </span><span style=\"background-color: hsl(120, 100.00%, 96.59%); opacity: 0.81\" title=\"0.034\">的</span><span style=\"opacity: 0.80\"> 传统 </span><span style=\"background-color: hsl(120, 100.00%, 76.48%); opacity: 0.89\" title=\"0.538\">服饰</span><span style=\"opacity: 0.80\"> ， </span><span style=\"background-color: hsl(0, 100.00%, 93.14%); opacity: 0.82\" title=\"-0.093\">不会</span><span style=\"opacity: 0.80\"> </span><span style=\"background-color: hsl(0, 100.00%, 92.38%); opacity: 0.82\" title=\"-0.108\">讲</span><span style=\"opacity: 0.80\"> </span><span style=\"background-color: hsl(120, 100.00%, 80.01%); opacity: 0.87\" title=\"0.427\">英文</span><span style=\"opacity: 0.80\"> </span><span style=\"background-color: hsl(120, 100.00%, 96.74%); opacity: 0.81\" title=\"0.032\">和</span><span style=\"opacity: 0.80\"> </span><span style=\"background-color: hsl(120, 100.00%, 89.62%); opacity: 0.83\" title=\"0.167\">中文</span><span style=\"opacity: 0.80\"> ， 但是 </span><span style=\"background-color: hsl(0, 100.00%, 90.31%); opacity: 0.83\" title=\"-0.152\">菜单</span><span style=\"opacity: 0.80\"> </span><span style=\"background-color: hsl(0, 100.00%, 92.84%); opacity: 0.82\" title=\"-0.098\">上面</span><span style=\"opacity: 0.80\"> </span><span style=\"background-color: hsl(0, 100.00%, 92.87%); opacity: 0.82\" title=\"-0.098\">有</span><span style=\"opacity: 0.80\"> </span><span style=\"background-color: hsl(0, 100.00%, 75.36%); opacity: 0.90\" title=\"-0.576\">图片</span><span style=\"opacity: 0.80\"> ， </span><span style=\"background-color: hsl(0, 100.00%, 83.05%); opacity: 0.86\" title=\"-0.337\">完全</span><span style=\"opacity: 0.80\"> </span><span style=\"background-color: hsl(120, 100.00%, 89.58%); opacity: 0.83\" title=\"0.168\">不</span><span style=\"opacity: 0.80\"> </span><span style=\"background-color: hsl(0, 100.00%, 90.91%); opacity: 0.82\" title=\"-0.139\">影响</span><span style=\"opacity: 0.80\"> </span><span style=\"background-color: hsl(0, 100.00%, 95.48%); opacity: 0.81\" title=\"-0.051\">我们</span><span style=\"opacity: 0.80\"> </span><span style=\"background-color: hsl(120, 100.00%, 96.45%); opacity: 0.81\" title=\"0.036\">交流</span><span style=\"opacity: 0.80\"> ， </span><span style=\"background-color: hsl(120, 100.00%, 92.40%); opacity: 0.82\" title=\"0.107\">呵呵</span><span style=\"opacity: 0.80\"> ~ ~ </span><span style=\"background-color: hsl(120, 100.00%, 98.26%); opacity: 0.80\" title=\"0.013\">吃</span><span style=\"opacity: 0.80\"> </span><span style=\"background-color: hsl(120, 100.00%, 98.80%); opacity: 0.80\" title=\"0.008\">的</span><span style=\"opacity: 0.80\"> </span><span style=\"background-color: hsl(120, 100.00%, 91.91%); opacity: 0.82\" title=\"0.117\">很饱</span><span style=\"opacity: 0.80\"> ， </span><span style=\"background-color: hsl(120, 100.00%, 90.57%); opacity: 0.83\" title=\"0.146\">很</span><span style=\"opacity: 0.80\"> </span><span style=\"background-color: hsl(120, 100.00%, 60.00%); opacity: 1.00\" title=\"1.150\">满足</span><span style=\"opacity: 0.80\"> … … \\ \\ </span><span style=\"background-color: hsl(120, 100.00%, 93.20%); opacity: 0.82\" title=\"0.092\">n</span>\n",
       "    </p>\n",
       "\n",
       "\n",
       "    \n",
       "\n",
       "    \n",
       "\n",
       "    \n",
       "\n",
       "    \n",
       "\n",
       "\n",
       "    \n",
       "\n",
       "    \n",
       "\n",
       "    \n",
       "\n",
       "    \n",
       "\n",
       "    \n",
       "\n",
       "    \n",
       "\n",
       "\n",
       "    \n",
       "\n",
       "    \n",
       "\n",
       "    \n",
       "\n",
       "    \n",
       "\n",
       "    \n",
       "\n",
       "    \n",
       "\n",
       "\n",
       "\n"
      ],
      "text/plain": [
       "<IPython.core.display.HTML object>"
      ]
     },
     "execution_count": 59,
     "metadata": {},
     "output_type": "execute_result"
    }
   ],
   "source": [
    "predictor_ft_oversamp.explain(data_test.iloc[536]['review'])"
   ]
  },
  {
   "cell_type": "code",
   "execution_count": 60,
   "metadata": {
    "ExecuteTime": {
     "end_time": "2023-03-22T18:23:12.882754Z",
     "start_time": "2023-03-22T18:23:12.870237Z"
    },
    "id": "fn0f5xuzx38m"
   },
   "outputs": [],
   "source": [
    "#从大众点评网找两条评论来测试一下\n",
    "test1 = '很好吃，环境好，所有员工的态度都很好，上菜快，服务也很好，味道好吃，都是用蒸馏水煮的，推荐，超好吃' #5星好评\n",
    "test2 = '糯米外皮不绵滑，豆沙馅粗躁，没有香甜味。12元一碗不值。' #1星差评\n",
    "# 4星，搅屎棍\n",
    "test3 = '昨儿晚上来凯德1818的绿茶吃饭，点了以下10个菜，这里面有好几个都是推荐菜品，咱挨个说啊～  第一张 “客家茄子煲”：一个字：咸、俩字：很咸、仨字：非常咸、四个字：咸（hou)死我了... ... 我很怀疑是不是师傅在放酱油的时候手抖了 然后整锅煲就是一锅酱色。里面的咸鱼粒很显然没有经过任何处理（泡一下水去掉部分盐分等），再加之菜本身很咸根本无法入口，整锅煲基本没动；第二张 “鱼头诱惑 ”：这道菜是翔哥点的 还不错 首先鱼头很新鲜 其次鱼头蒸的火候刚好 既入味还不老，建议除了小米辣再加上点泡椒，这样无论是颜色和口味上都会更棒的！这道菜基本消灭； 第三张：“小锅土豆”：厚片的土豆挂满酱汁，炉子在下面慢慢加热，后来加一片放到嘴里，几乎是入口即化、口感绵软，也是一道不错的下饭菜；第四张：“农家小菜”其实就是少了橄榄菜和肉末的豆角粒，味道还可以，如果把豆角再煸的干一点（表皮起皱）口感会更好；第五张“菜心金钩豆腐” 和没上图的“老乡浓汤”一起说了，两道分不清是汤、羹还是菜的东东，都是推荐菜 分不清也无所谓，重点是上菜的时候都不是热的 都是温的 “菜心”里面有蛋黄、“浓汤”里面有猪肚，这两种食材变冷后都会有腥味且口感不好，加之一碗有淀粉类的羹 温温的很难喝，建议出品后马上传菜到客人面前，口味上冷了就都不美味了；第六张：“麻酱油麦菜”很多地方也叫“麻酱凤尾” 麻酱用的像是麻酱和花生酱混合的甜口的酱料，重点是没有稀释！整个一坨粘在油麦菜上 根本拌不开 相比甜口的麻酱我更喜欢热干面那种咸口的、稀点儿的；第七张“面包诱惑”：这道是敬菜，口味还不错，冰淇淋也很好吃 就是卖相太一般了 既然要推广 至少要给点儿装饰，不用太复杂 拉个巧克力线条、给个蛋卷、水果粒稍稍点缀一下就会好看很多 面包本身口感和冰淇淋都很好吃 比很多外面装饰的那种美美的好吃多了 就差了一点装饰；第八张“绿茶烤鸡”很多人点这道菜，相比前几道的重口，烤鸡显得淡了一些。鸡皮的保护基本没有 所以整个鸡肉又干有柴、也挂不住调味料、下次有机会点个整只的或许会好一点；最后还有未上图的绿茶饼和糖醋里脊，绿茶饼还不错 可以一试 只要火候控制的好不炸过基本没问题，里面糯糯的馅儿很好吃；“糖醋里脊” 这是我吃过最难吃的版本，没有之一！上次有一小哥吐了一通槽 我还想就一个糖醋里脊也不是啥难菜 不至于吧 这次就抱着猎奇的心里点了一个 菜刚上来我就后悔了---老抽色（shai）的、外面一圈淀粉（粉面子）基本没吃着肉，糊哒哒粘成一坨 看起来和那个茄子煲没什么太大区别。建议找一个做糖醋里脊的店吃一次 看一看 就上个浆 过个油 浇个汁儿的事情 没那么难  肉类的菜品价格可以适当调高一些 我宁可多花点儿钱吃肉也不想吃这一坨坨粉面子。 总体而言环境还不错 价格很平民 服务中规中矩 但是菜品质量很是有待提高。看墙上的照片（不知道老板是不是做青旅起家的）菜品不会因为价格低而有销路 只会因为质量好才畅销（相比低价 现在的人们更喜欢质量好而有保障的食品 价格好一点反而是保证） 希望越做越好。地址在凯德1818  5楼手扶梯旁。'"
   ]
  },
  {
   "cell_type": "code",
   "execution_count": 61,
   "metadata": {
    "ExecuteTime": {
     "end_time": "2023-03-22T18:23:14.320202Z",
     "start_time": "2023-03-22T18:23:12.885750Z"
    },
    "id": "A5qSS5Bxx38n",
    "scrolled": true
   },
   "outputs": [
    {
     "data": {
      "text/html": [
       "\n",
       "    <style>\n",
       "    table.eli5-weights tr:hover {\n",
       "        filter: brightness(85%);\n",
       "    }\n",
       "</style>\n",
       "\n",
       "\n",
       "\n",
       "    \n",
       "\n",
       "    \n",
       "\n",
       "    \n",
       "\n",
       "    \n",
       "\n",
       "    \n",
       "\n",
       "    \n",
       "\n",
       "\n",
       "    \n",
       "\n",
       "    \n",
       "\n",
       "    \n",
       "\n",
       "    \n",
       "        \n",
       "\n",
       "    \n",
       "\n",
       "        \n",
       "\n",
       "        \n",
       "    \n",
       "        \n",
       "        \n",
       "    \n",
       "        <p style=\"margin-bottom: 0.5em; margin-top: 0em\">\n",
       "            <b>\n",
       "    \n",
       "        y=1\n",
       "    \n",
       "</b>\n",
       "\n",
       "    \n",
       "    (probability <b>0.956</b>, score <b>3.084</b>)\n",
       "\n",
       "top features\n",
       "        </p>\n",
       "    \n",
       "    <table class=\"eli5-weights\"\n",
       "           style=\"border-collapse: collapse; border: none; margin-top: 0em; table-layout: auto; margin-bottom: 2em;\">\n",
       "        <thead>\n",
       "        <tr style=\"border: none;\">\n",
       "            \n",
       "                <th style=\"padding: 0 1em 0 0.5em; text-align: right; border: none;\" title=\"Feature contribution already accounts for the feature value (for linear models, contribution = weight * feature value), and the sum of feature contributions is equal to the score or, for some classifiers, to the probability. Feature values are shown if &quot;show_feature_values&quot; is True.\">\n",
       "                    Contribution<sup>?</sup>\n",
       "                </th>\n",
       "            \n",
       "            <th style=\"padding: 0 0.5em 0 0.5em; text-align: left; border: none;\">Feature</th>\n",
       "            \n",
       "        </tr>\n",
       "        </thead>\n",
       "        <tbody>\n",
       "        \n",
       "            <tr style=\"background-color: hsl(120, 100.00%, 80.00%); border: none;\">\n",
       "    <td style=\"padding: 0 1em 0 0.5em; text-align: right; border: none;\">\n",
       "        +2.510\n",
       "    </td>\n",
       "    <td style=\"padding: 0 0.5em 0 0.5em; text-align: left; border: none;\">\n",
       "        Highlighted in text (sum)\n",
       "    </td>\n",
       "    \n",
       "</tr>\n",
       "        \n",
       "            <tr style=\"background-color: hsl(120, 100.00%, 92.87%); border: none;\">\n",
       "    <td style=\"padding: 0 1em 0 0.5em; text-align: right; border: none;\">\n",
       "        +0.575\n",
       "    </td>\n",
       "    <td style=\"padding: 0 0.5em 0 0.5em; text-align: left; border: none;\">\n",
       "        &lt;BIAS&gt;\n",
       "    </td>\n",
       "    \n",
       "</tr>\n",
       "        \n",
       "        \n",
       "\n",
       "        \n",
       "        \n",
       "\n",
       "        </tbody>\n",
       "    </table>\n",
       "\n",
       "    \n",
       "\n",
       "\n",
       "\n",
       "    <p style=\"margin-bottom: 2.5em; margin-top:-0.5em;\">\n",
       "        <span style=\"background-color: hsl(120, 100.00%, 81.39%); opacity: 0.87\" title=\"0.395\">很</span><span style=\"opacity: 0.80\"> </span><span style=\"background-color: hsl(120, 100.00%, 92.42%); opacity: 0.82\" title=\"0.109\">好吃</span><span style=\"opacity: 0.80\"> ， </span><span style=\"background-color: hsl(0, 100.00%, 87.58%); opacity: 0.84\" title=\"-0.221\">环境</span><span style=\"opacity: 0.80\"> </span><span style=\"background-color: hsl(120, 100.00%, 97.64%); opacity: 0.80\" title=\"0.021\">好</span><span style=\"opacity: 0.80\"> ， </span><span style=\"background-color: hsl(0, 100.00%, 91.96%); opacity: 0.82\" title=\"-0.119\">所有</span><span style=\"opacity: 0.80\"> </span><span style=\"background-color: hsl(0, 100.00%, 71.98%); opacity: 0.92\" title=\"-0.708\">员工</span><span style=\"opacity: 0.80\"> </span><span style=\"background-color: hsl(0, 100.00%, 94.69%); opacity: 0.81\" title=\"-0.066\">的</span><span style=\"opacity: 0.80\"> </span><span style=\"background-color: hsl(0, 100.00%, 94.43%); opacity: 0.81\" title=\"-0.070\">态度</span><span style=\"opacity: 0.80\"> </span><span style=\"background-color: hsl(0, 100.00%, 83.18%); opacity: 0.86\" title=\"-0.341\">都</span><span style=\"opacity: 0.80\"> </span><span style=\"background-color: hsl(0, 100.00%, 92.26%); opacity: 0.82\" title=\"-0.113\">很</span><span style=\"opacity: 0.80\"> </span><span style=\"background-color: hsl(120, 100.00%, 92.19%); opacity: 0.82\" title=\"0.114\">好</span><span style=\"opacity: 0.80\"> ， </span><span style=\"background-color: hsl(0, 100.00%, 93.75%); opacity: 0.81\" title=\"-0.083\">上菜</span><span style=\"opacity: 0.80\"> </span><span style=\"background-color: hsl(0, 100.00%, 90.47%); opacity: 0.83\" title=\"-0.152\">快</span><span style=\"opacity: 0.80\"> ， </span><span style=\"background-color: hsl(0, 100.00%, 88.71%); opacity: 0.83\" title=\"-0.193\">服务</span><span style=\"opacity: 0.80\"> </span><span style=\"background-color: hsl(0, 100.00%, 99.54%); opacity: 0.80\" title=\"-0.002\">也</span><span style=\"opacity: 0.80\"> </span><span style=\"background-color: hsl(120, 100.00%, 88.48%); opacity: 0.83\" title=\"0.199\">很</span><span style=\"opacity: 0.80\"> </span><span style=\"background-color: hsl(0, 100.00%, 94.06%); opacity: 0.81\" title=\"-0.077\">好</span><span style=\"opacity: 0.80\"> ， </span><span style=\"background-color: hsl(0, 100.00%, 88.04%); opacity: 0.84\" title=\"-0.210\">味道</span><span style=\"opacity: 0.80\"> </span><span style=\"background-color: hsl(0, 100.00%, 99.43%); opacity: 0.80\" title=\"-0.003\">好吃</span><span style=\"opacity: 0.80\"> ， </span><span style=\"background-color: hsl(0, 100.00%, 95.74%); opacity: 0.81\" title=\"-0.048\">都</span><span style=\"opacity: 0.80\"> </span><span style=\"background-color: hsl(0, 100.00%, 95.90%); opacity: 0.81\" title=\"-0.045\">是</span><span style=\"opacity: 0.80\"> </span><span style=\"background-color: hsl(0, 100.00%, 84.69%); opacity: 0.85\" title=\"-0.298\">用</span><span style=\"opacity: 0.80\"> </span><span style=\"background-color: hsl(0, 100.00%, 88.45%); opacity: 0.83\" title=\"-0.200\">蒸馏水</span><span style=\"opacity: 0.80\"> </span><span style=\"background-color: hsl(0, 100.00%, 97.09%); opacity: 0.80\" title=\"-0.028\">煮</span><span style=\"opacity: 0.80\"> </span><span style=\"background-color: hsl(0, 100.00%, 84.49%); opacity: 0.85\" title=\"-0.304\">的</span><span style=\"opacity: 0.80\"> ， </span><span style=\"background-color: hsl(120, 100.00%, 94.26%); opacity: 0.81\" title=\"0.073\">推荐</span><span style=\"opacity: 0.80\"> ， </span><span style=\"background-color: hsl(120, 100.00%, 60.00%); opacity: 1.00\" title=\"1.177\">超</span><span style=\"opacity: 0.80\"> </span><span style=\"background-color: hsl(120, 100.00%, 88.16%); opacity: 0.84\" title=\"0.207\">好吃</span>\n",
       "    </p>\n",
       "\n",
       "\n",
       "    \n",
       "\n",
       "    \n",
       "\n",
       "    \n",
       "\n",
       "    \n",
       "\n",
       "\n",
       "    \n",
       "\n",
       "    \n",
       "\n",
       "    \n",
       "\n",
       "    \n",
       "\n",
       "    \n",
       "\n",
       "    \n",
       "\n",
       "\n",
       "    \n",
       "\n",
       "    \n",
       "\n",
       "    \n",
       "\n",
       "    \n",
       "\n",
       "    \n",
       "\n",
       "    \n",
       "\n",
       "\n",
       "\n"
      ],
      "text/plain": [
       "<IPython.core.display.HTML object>"
      ]
     },
     "execution_count": 61,
     "metadata": {},
     "output_type": "execute_result"
    }
   ],
   "source": [
    "predictor_ft_oversamp.explain(test1)"
   ]
  },
  {
   "cell_type": "code",
   "execution_count": 62,
   "metadata": {
    "ExecuteTime": {
     "end_time": "2023-03-22T18:23:15.601101Z",
     "start_time": "2023-03-22T18:23:14.322183Z"
    },
    "id": "gCemPOHTx38n"
   },
   "outputs": [
    {
     "data": {
      "text/html": [
       "\n",
       "    <style>\n",
       "    table.eli5-weights tr:hover {\n",
       "        filter: brightness(85%);\n",
       "    }\n",
       "</style>\n",
       "\n",
       "\n",
       "\n",
       "    \n",
       "\n",
       "    \n",
       "\n",
       "    \n",
       "\n",
       "    \n",
       "\n",
       "    \n",
       "\n",
       "    \n",
       "\n",
       "\n",
       "    \n",
       "\n",
       "    \n",
       "\n",
       "    \n",
       "\n",
       "    \n",
       "        \n",
       "\n",
       "    \n",
       "\n",
       "        \n",
       "\n",
       "        \n",
       "    \n",
       "        \n",
       "        \n",
       "    \n",
       "        <p style=\"margin-bottom: 0.5em; margin-top: 0em\">\n",
       "            <b>\n",
       "    \n",
       "        y=1\n",
       "    \n",
       "</b>\n",
       "\n",
       "    \n",
       "    (probability <b>0.996</b>, score <b>5.579</b>)\n",
       "\n",
       "top features\n",
       "        </p>\n",
       "    \n",
       "    <table class=\"eli5-weights\"\n",
       "           style=\"border-collapse: collapse; border: none; margin-top: 0em; table-layout: auto; margin-bottom: 2em;\">\n",
       "        <thead>\n",
       "        <tr style=\"border: none;\">\n",
       "            \n",
       "                <th style=\"padding: 0 1em 0 0.5em; text-align: right; border: none;\" title=\"Feature contribution already accounts for the feature value (for linear models, contribution = weight * feature value), and the sum of feature contributions is equal to the score or, for some classifiers, to the probability. Feature values are shown if &quot;show_feature_values&quot; is True.\">\n",
       "                    Contribution<sup>?</sup>\n",
       "                </th>\n",
       "            \n",
       "            <th style=\"padding: 0 0.5em 0 0.5em; text-align: left; border: none;\">Feature</th>\n",
       "            \n",
       "        </tr>\n",
       "        </thead>\n",
       "        <tbody>\n",
       "        \n",
       "            <tr style=\"background-color: hsl(120, 100.00%, 80.00%); border: none;\">\n",
       "    <td style=\"padding: 0 1em 0 0.5em; text-align: right; border: none;\">\n",
       "        +5.037\n",
       "    </td>\n",
       "    <td style=\"padding: 0 0.5em 0 0.5em; text-align: left; border: none;\">\n",
       "        Highlighted in text (sum)\n",
       "    </td>\n",
       "    \n",
       "</tr>\n",
       "        \n",
       "            <tr style=\"background-color: hsl(120, 100.00%, 95.80%); border: none;\">\n",
       "    <td style=\"padding: 0 1em 0 0.5em; text-align: right; border: none;\">\n",
       "        +0.542\n",
       "    </td>\n",
       "    <td style=\"padding: 0 0.5em 0 0.5em; text-align: left; border: none;\">\n",
       "        &lt;BIAS&gt;\n",
       "    </td>\n",
       "    \n",
       "</tr>\n",
       "        \n",
       "        \n",
       "\n",
       "        \n",
       "        \n",
       "\n",
       "        </tbody>\n",
       "    </table>\n",
       "\n",
       "    \n",
       "\n",
       "\n",
       "\n",
       "    <p style=\"margin-bottom: 2.5em; margin-top:-0.5em;\">\n",
       "        <span style=\"background-color: hsl(120, 100.00%, 92.38%); opacity: 0.82\" title=\"0.187\">糯米</span><span style=\"opacity: 0.80\"> </span><span style=\"background-color: hsl(120, 100.00%, 72.27%); opacity: 0.92\" title=\"1.182\">外皮</span><span style=\"opacity: 0.80\"> </span><span style=\"background-color: hsl(120, 100.00%, 91.53%); opacity: 0.82\" title=\"0.217\">不绵滑</span><span style=\"opacity: 0.80\"> ， </span><span style=\"background-color: hsl(120, 100.00%, 60.00%); opacity: 1.00\" title=\"1.994\">豆沙</span><span style=\"opacity: 0.80\"> </span><span style=\"background-color: hsl(120, 100.00%, 98.04%); opacity: 0.80\" title=\"0.027\">馅</span><span style=\"opacity: 0.80\"> </span><span style=\"background-color: hsl(0, 100.00%, 95.22%); opacity: 0.81\" title=\"-0.096\">粗躁</span><span style=\"opacity: 0.80\"> ， </span><span style=\"background-color: hsl(0, 100.00%, 99.20%); opacity: 0.80\" title=\"-0.007\">没有</span><span style=\"opacity: 0.80\"> </span><span style=\"background-color: hsl(120, 100.00%, 69.32%); opacity: 0.94\" title=\"1.366\">香</span><span style=\"opacity: 0.80\"> </span><span style=\"background-color: hsl(120, 100.00%, 80.89%); opacity: 0.87\" title=\"0.694\">甜味</span><span style=\"opacity: 0.80\"> 。 </span><span style=\"background-color: hsl(0, 100.00%, 97.59%); opacity: 0.80\" title=\"-0.036\">12</span><span style=\"opacity: 0.80\"> </span><span style=\"background-color: hsl(0, 100.00%, 95.84%); opacity: 0.81\" title=\"-0.079\">元</span><span style=\"opacity: 0.80\"> </span><span style=\"background-color: hsl(0, 100.00%, 91.61%); opacity: 0.82\" title=\"-0.214\">一碗</span><span style=\"opacity: 0.80\"> </span><span style=\"background-color: hsl(0, 100.00%, 67.76%); opacity: 0.95\" title=\"-1.465\">不值</span><span style=\"opacity: 0.80\"> 。</span>\n",
       "    </p>\n",
       "\n",
       "\n",
       "    \n",
       "\n",
       "    \n",
       "\n",
       "    \n",
       "\n",
       "    \n",
       "\n",
       "\n",
       "    \n",
       "\n",
       "    \n",
       "\n",
       "    \n",
       "\n",
       "    \n",
       "\n",
       "    \n",
       "\n",
       "    \n",
       "\n",
       "\n",
       "    \n",
       "\n",
       "    \n",
       "\n",
       "    \n",
       "\n",
       "    \n",
       "\n",
       "    \n",
       "\n",
       "    \n",
       "\n",
       "\n",
       "\n"
      ],
      "text/plain": [
       "<IPython.core.display.HTML object>"
      ]
     },
     "execution_count": 62,
     "metadata": {},
     "output_type": "execute_result"
    }
   ],
   "source": [
    "predictor_ft_oversamp.explain(test2)"
   ]
  },
  {
   "cell_type": "code",
   "execution_count": 63,
   "metadata": {
    "ExecuteTime": {
     "end_time": "2023-03-22T18:23:30.060154Z",
     "start_time": "2023-03-22T18:23:15.603084Z"
    },
    "id": "rWAXw5hm7kR1"
   },
   "outputs": [
    {
     "data": {
      "text/html": [
       "\n",
       "    <style>\n",
       "    table.eli5-weights tr:hover {\n",
       "        filter: brightness(85%);\n",
       "    }\n",
       "</style>\n",
       "\n",
       "\n",
       "\n",
       "    \n",
       "\n",
       "    \n",
       "\n",
       "    \n",
       "\n",
       "    \n",
       "\n",
       "    \n",
       "\n",
       "    \n",
       "\n",
       "\n",
       "    \n",
       "\n",
       "    \n",
       "\n",
       "    \n",
       "\n",
       "    \n",
       "        \n",
       "\n",
       "    \n",
       "\n",
       "        \n",
       "\n",
       "        \n",
       "    \n",
       "        \n",
       "        \n",
       "    \n",
       "        <p style=\"margin-bottom: 0.5em; margin-top: 0em\">\n",
       "            <b>\n",
       "    \n",
       "        y=1\n",
       "    \n",
       "</b>\n",
       "\n",
       "    \n",
       "    (probability <b>0.484</b>, score <b>-0.063</b>)\n",
       "\n",
       "top features\n",
       "        </p>\n",
       "    \n",
       "    <table class=\"eli5-weights\"\n",
       "           style=\"border-collapse: collapse; border: none; margin-top: 0em; table-layout: auto; margin-bottom: 2em;\">\n",
       "        <thead>\n",
       "        <tr style=\"border: none;\">\n",
       "            \n",
       "                <th style=\"padding: 0 1em 0 0.5em; text-align: right; border: none;\" title=\"Feature contribution already accounts for the feature value (for linear models, contribution = weight * feature value), and the sum of feature contributions is equal to the score or, for some classifiers, to the probability. Feature values are shown if &quot;show_feature_values&quot; is True.\">\n",
       "                    Contribution<sup>?</sup>\n",
       "                </th>\n",
       "            \n",
       "            <th style=\"padding: 0 0.5em 0 0.5em; text-align: left; border: none;\">Feature</th>\n",
       "            \n",
       "        </tr>\n",
       "        </thead>\n",
       "        <tbody>\n",
       "        \n",
       "            <tr style=\"background-color: hsl(120, 100.00%, 81.26%); border: none;\">\n",
       "    <td style=\"padding: 0 1em 0 0.5em; text-align: right; border: none;\">\n",
       "        +0.648\n",
       "    </td>\n",
       "    <td style=\"padding: 0 0.5em 0 0.5em; text-align: left; border: none;\">\n",
       "        &lt;BIAS&gt;\n",
       "    </td>\n",
       "    \n",
       "</tr>\n",
       "        \n",
       "        \n",
       "\n",
       "        \n",
       "        \n",
       "            <tr style=\"background-color: hsl(0, 100.00%, 80.00%); border: none;\">\n",
       "    <td style=\"padding: 0 1em 0 0.5em; text-align: right; border: none;\">\n",
       "        -0.711\n",
       "    </td>\n",
       "    <td style=\"padding: 0 0.5em 0 0.5em; text-align: left; border: none;\">\n",
       "        Highlighted in text (sum)\n",
       "    </td>\n",
       "    \n",
       "</tr>\n",
       "        \n",
       "\n",
       "        </tbody>\n",
       "    </table>\n",
       "\n",
       "    \n",
       "\n",
       "\n",
       "\n",
       "    <p style=\"margin-bottom: 2.5em; margin-top:-0.5em;\">\n",
       "        <span style=\"background-color: hsl(0, 100.00%, 95.66%); opacity: 0.81\" title=\"-0.036\">昨儿</span><span style=\"opacity: 0.80\"> </span><span style=\"background-color: hsl(120, 100.00%, 94.78%); opacity: 0.81\" title=\"0.047\">晚上</span><span style=\"opacity: 0.80\"> </span><span style=\"background-color: hsl(0, 100.00%, 92.45%); opacity: 0.82\" title=\"-0.079\">来</span><span style=\"opacity: 0.80\"> </span><span style=\"background-color: hsl(120, 100.00%, 95.66%); opacity: 0.81\" title=\"0.036\">凯德</span><span style=\"opacity: 0.80\"> </span><span style=\"background-color: hsl(0, 100.00%, 83.46%); opacity: 0.86\" title=\"-0.242\">1818</span><span style=\"opacity: 0.80\"> </span><span style=\"background-color: hsl(120, 100.00%, 87.32%); opacity: 0.84\" title=\"0.165\">的</span><span style=\"opacity: 0.80\"> </span><span style=\"background-color: hsl(120, 100.00%, 92.97%); opacity: 0.82\" title=\"0.071\">绿茶</span><span style=\"opacity: 0.80\"> </span><span style=\"background-color: hsl(120, 100.00%, 94.12%); opacity: 0.81\" title=\"0.055\">吃饭</span><span style=\"opacity: 0.80\"> ， </span><span style=\"background-color: hsl(0, 100.00%, 98.19%); opacity: 0.80\" title=\"-0.010\">点</span><span style=\"opacity: 0.80\"> </span><span style=\"background-color: hsl(0, 100.00%, 97.23%); opacity: 0.80\" title=\"-0.019\">了</span><span style=\"opacity: 0.80\"> </span><span style=\"background-color: hsl(0, 100.00%, 89.47%); opacity: 0.83\" title=\"-0.127\">以下</span><span style=\"opacity: 0.80\"> </span><span style=\"background-color: hsl(120, 100.00%, 97.43%); opacity: 0.80\" title=\"0.017\">10</span><span style=\"opacity: 0.80\"> </span><span style=\"background-color: hsl(120, 100.00%, 96.74%); opacity: 0.81\" title=\"0.024\">个</span><span style=\"opacity: 0.80\"> </span><span style=\"background-color: hsl(120, 100.00%, 93.82%); opacity: 0.81\" title=\"0.059\">菜</span><span style=\"opacity: 0.80\"> ， </span><span style=\"background-color: hsl(0, 100.00%, 96.68%); opacity: 0.81\" title=\"-0.024\">这</span><span style=\"opacity: 0.80\"> </span><span style=\"background-color: hsl(120, 100.00%, 93.79%); opacity: 0.81\" title=\"0.060\">里面</span><span style=\"opacity: 0.80\"> </span><span style=\"background-color: hsl(0, 100.00%, 95.03%); opacity: 0.81\" title=\"-0.043\">有</span><span style=\"opacity: 0.80\"> </span><span style=\"background-color: hsl(0, 100.00%, 86.15%); opacity: 0.84\" title=\"-0.188\">好几个</span><span style=\"opacity: 0.80\"> </span><span style=\"background-color: hsl(0, 100.00%, 87.78%); opacity: 0.84\" title=\"-0.157\">都</span><span style=\"opacity: 0.80\"> </span><span style=\"background-color: hsl(0, 100.00%, 97.37%); opacity: 0.80\" title=\"-0.018\">是</span><span style=\"opacity: 0.80\"> </span><span style=\"background-color: hsl(0, 100.00%, 88.72%); opacity: 0.83\" title=\"-0.140\">推荐</span><span style=\"opacity: 0.80\"> </span><span style=\"background-color: hsl(0, 100.00%, 88.36%); opacity: 0.83\" title=\"-0.146\">菜品</span><span style=\"opacity: 0.80\"> ， </span><span style=\"background-color: hsl(120, 100.00%, 95.64%); opacity: 0.81\" title=\"0.036\">咱</span><span style=\"opacity: 0.80\"> </span><span style=\"background-color: hsl(0, 100.00%, 91.62%); opacity: 0.82\" title=\"-0.091\">挨个</span><span style=\"opacity: 0.80\"> </span><span style=\"background-color: hsl(0, 100.00%, 90.89%); opacity: 0.82\" title=\"-0.103\">说</span><span style=\"opacity: 0.80\"> </span><span style=\"background-color: hsl(120, 100.00%, 87.52%); opacity: 0.84\" title=\"0.162\">啊</span><span style=\"opacity: 0.80\"> ～ </span><span style=\"background-color: hsl(0, 100.00%, 91.87%); opacity: 0.82\" title=\"-0.088\">第一张</span><span style=\"opacity: 0.80\"> “ </span><span style=\"background-color: hsl(0, 100.00%, 99.08%); opacity: 0.80\" title=\"-0.004\">客家</span><span style=\"opacity: 0.80\"> </span><span style=\"background-color: hsl(120, 100.00%, 98.57%); opacity: 0.80\" title=\"0.007\">茄子</span><span style=\"opacity: 0.80\"> 煲 ” ： </span><span style=\"background-color: hsl(0, 100.00%, 98.17%); opacity: 0.80\" title=\"-0.010\">一个</span><span style=\"opacity: 0.80\"> 字 ： </span><span style=\"background-color: hsl(0, 100.00%, 88.79%); opacity: 0.83\" title=\"-0.139\">咸</span><span style=\"opacity: 0.80\"> 、 </span><span style=\"background-color: hsl(120, 100.00%, 95.04%); opacity: 0.81\" title=\"0.043\">俩</span><span style=\"opacity: 0.80\"> </span><span style=\"background-color: hsl(120, 100.00%, 95.81%); opacity: 0.81\" title=\"0.034\">字</span><span style=\"opacity: 0.80\"> ： </span><span style=\"background-color: hsl(120, 100.00%, 91.04%); opacity: 0.82\" title=\"0.101\">很</span><span style=\"opacity: 0.80\"> </span><span style=\"background-color: hsl(0, 100.00%, 94.23%); opacity: 0.81\" title=\"-0.054\">咸</span><span style=\"opacity: 0.80\"> 、 </span><span style=\"background-color: hsl(120, 100.00%, 94.18%); opacity: 0.81\" title=\"0.054\">仨</span><span style=\"opacity: 0.80\"> </span><span style=\"background-color: hsl(0, 100.00%, 92.86%); opacity: 0.82\" title=\"-0.073\">字</span><span style=\"opacity: 0.80\"> ： </span><span style=\"background-color: hsl(120, 100.00%, 92.84%); opacity: 0.82\" title=\"0.073\">非常</span><span style=\"opacity: 0.80\"> </span><span style=\"background-color: hsl(120, 100.00%, 95.62%); opacity: 0.81\" title=\"0.036\">咸</span><span style=\"opacity: 0.80\"> 、 </span><span style=\"background-color: hsl(0, 100.00%, 94.62%); opacity: 0.81\" title=\"-0.049\">四个</span><span style=\"opacity: 0.80\"> </span><span style=\"background-color: hsl(0, 100.00%, 90.83%); opacity: 0.82\" title=\"-0.104\">字</span><span style=\"opacity: 0.80\"> ： </span><span style=\"background-color: hsl(0, 100.00%, 86.47%); opacity: 0.84\" title=\"-0.181\">咸</span><span style=\"opacity: 0.80\"> （ </span><span style=\"background-color: hsl(0, 100.00%, 98.73%); opacity: 0.80\" title=\"-0.006\">hou</span><span style=\"opacity: 0.80\"> ) </span><span style=\"background-color: hsl(0, 100.00%, 80.52%); opacity: 0.87\" title=\"-0.305\">死</span><span style=\"opacity: 0.80\"> </span><span style=\"background-color: hsl(120, 100.00%, 86.10%); opacity: 0.84\" title=\"0.188\">我</span><span style=\"opacity: 0.80\"> </span><span style=\"background-color: hsl(120, 100.00%, 88.05%); opacity: 0.84\" title=\"0.152\">了</span><span style=\"opacity: 0.80\"> ... ... </span><span style=\"background-color: hsl(0, 100.00%, 92.00%); opacity: 0.82\" title=\"-0.086\">我</span><span style=\"opacity: 0.80\"> </span><span style=\"background-color: hsl(120, 100.00%, 95.65%); opacity: 0.81\" title=\"0.036\">很</span><span style=\"opacity: 0.80\"> </span><span style=\"background-color: hsl(0, 100.00%, 84.42%); opacity: 0.85\" title=\"-0.222\">怀疑</span><span style=\"opacity: 0.80\"> </span><span style=\"background-color: hsl(0, 100.00%, 92.84%); opacity: 0.82\" title=\"-0.073\">是不是</span><span style=\"opacity: 0.80\"> </span><span style=\"background-color: hsl(120, 100.00%, 96.76%); opacity: 0.81\" title=\"0.024\">师傅</span><span style=\"opacity: 0.80\"> 在 </span><span style=\"background-color: hsl(120, 100.00%, 93.19%); opacity: 0.82\" title=\"0.068\">放</span><span style=\"opacity: 0.80\"> </span><span style=\"background-color: hsl(120, 100.00%, 91.83%); opacity: 0.82\" title=\"0.088\">酱油</span><span style=\"opacity: 0.80\"> </span><span style=\"background-color: hsl(120, 100.00%, 98.01%); opacity: 0.80\" title=\"0.012\">的</span><span style=\"opacity: 0.80\"> </span><span style=\"background-color: hsl(0, 100.00%, 97.86%); opacity: 0.80\" title=\"-0.013\">时候</span><span style=\"opacity: 0.80\"> </span><span style=\"background-color: hsl(120, 100.00%, 96.60%); opacity: 0.81\" title=\"0.025\">手抖</span><span style=\"opacity: 0.80\"> 了 </span><span style=\"background-color: hsl(0, 100.00%, 96.86%); opacity: 0.81\" title=\"-0.022\">然后</span><span style=\"opacity: 0.80\"> </span><span style=\"background-color: hsl(0, 100.00%, 96.03%); opacity: 0.81\" title=\"-0.032\">整锅</span><span style=\"opacity: 0.80\"> </span><span style=\"background-color: hsl(0, 100.00%, 96.05%); opacity: 0.81\" title=\"-0.031\">煲</span><span style=\"opacity: 0.80\"> </span><span style=\"background-color: hsl(120, 100.00%, 91.72%); opacity: 0.82\" title=\"0.090\">就是</span><span style=\"opacity: 0.80\"> </span><span style=\"background-color: hsl(120, 100.00%, 90.75%); opacity: 0.82\" title=\"0.105\">一锅</span><span style=\"opacity: 0.80\"> </span><span style=\"background-color: hsl(0, 100.00%, 95.57%); opacity: 0.81\" title=\"-0.037\">酱色</span><span style=\"opacity: 0.80\"> 。 </span><span style=\"background-color: hsl(0, 100.00%, 93.82%); opacity: 0.81\" title=\"-0.059\">里面</span><span style=\"opacity: 0.80\"> 的 </span><span style=\"background-color: hsl(120, 100.00%, 95.14%); opacity: 0.81\" title=\"0.042\">咸鱼</span><span style=\"opacity: 0.80\"> </span><span style=\"background-color: hsl(120, 100.00%, 97.12%); opacity: 0.80\" title=\"0.020\">粒</span><span style=\"opacity: 0.80\"> </span><span style=\"background-color: hsl(120, 100.00%, 92.29%); opacity: 0.82\" title=\"0.081\">很</span><span style=\"opacity: 0.80\"> </span><span style=\"background-color: hsl(0, 100.00%, 89.12%); opacity: 0.83\" title=\"-0.133\">显然</span><span style=\"opacity: 0.80\"> </span><span style=\"background-color: hsl(0, 100.00%, 89.39%); opacity: 0.83\" title=\"-0.128\">没有</span><span style=\"opacity: 0.80\"> </span><span style=\"background-color: hsl(0, 100.00%, 86.19%); opacity: 0.84\" title=\"-0.187\">经过</span><span style=\"opacity: 0.80\"> </span><span style=\"background-color: hsl(0, 100.00%, 91.84%); opacity: 0.82\" title=\"-0.088\">任何</span><span style=\"opacity: 0.80\"> </span><span style=\"background-color: hsl(0, 100.00%, 93.37%); opacity: 0.82\" title=\"-0.065\">处理</span><span style=\"opacity: 0.80\"> （ </span><span style=\"background-color: hsl(120, 100.00%, 94.64%); opacity: 0.81\" title=\"0.048\">泡</span><span style=\"opacity: 0.80\"> </span><span style=\"background-color: hsl(120, 100.00%, 88.31%); opacity: 0.83\" title=\"0.147\">一下</span><span style=\"opacity: 0.80\"> </span><span style=\"background-color: hsl(0, 100.00%, 94.96%); opacity: 0.81\" title=\"-0.044\">水</span><span style=\"opacity: 0.80\"> </span><span style=\"background-color: hsl(0, 100.00%, 93.70%); opacity: 0.81\" title=\"-0.061\">去掉</span><span style=\"opacity: 0.80\"> </span><span style=\"background-color: hsl(120, 100.00%, 95.15%); opacity: 0.81\" title=\"0.042\">部分</span><span style=\"opacity: 0.80\"> </span><span style=\"background-color: hsl(120, 100.00%, 95.94%); opacity: 0.81\" title=\"0.032\">盐分</span><span style=\"opacity: 0.80\"> </span><span style=\"background-color: hsl(0, 100.00%, 88.82%); opacity: 0.83\" title=\"-0.138\">等</span><span style=\"opacity: 0.80\"> ） ， </span><span style=\"background-color: hsl(0, 100.00%, 92.71%); opacity: 0.82\" title=\"-0.075\">再加之</span><span style=\"opacity: 0.80\"> </span><span style=\"background-color: hsl(120, 100.00%, 92.12%); opacity: 0.82\" title=\"0.084\">菜</span><span style=\"opacity: 0.80\"> </span><span style=\"background-color: hsl(0, 100.00%, 96.85%); opacity: 0.81\" title=\"-0.023\">本身</span><span style=\"opacity: 0.80\"> </span><span style=\"background-color: hsl(120, 100.00%, 93.89%); opacity: 0.81\" title=\"0.058\">很</span><span style=\"opacity: 0.80\"> </span><span style=\"background-color: hsl(0, 100.00%, 94.23%); opacity: 0.81\" title=\"-0.054\">咸</span><span style=\"opacity: 0.80\"> </span><span style=\"background-color: hsl(0, 100.00%, 82.90%); opacity: 0.86\" title=\"-0.253\">根本无法</span><span style=\"opacity: 0.80\"> </span><span style=\"background-color: hsl(0, 100.00%, 98.54%); opacity: 0.80\" title=\"-0.008\">入口</span><span style=\"opacity: 0.80\"> ， </span><span style=\"background-color: hsl(0, 100.00%, 96.03%); opacity: 0.81\" title=\"-0.032\">整锅</span><span style=\"opacity: 0.80\"> </span><span style=\"background-color: hsl(120, 100.00%, 95.70%); opacity: 0.81\" title=\"0.035\">煲</span><span style=\"opacity: 0.80\"> </span><span style=\"background-color: hsl(120, 100.00%, 93.09%); opacity: 0.82\" title=\"0.069\">基本</span><span style=\"opacity: 0.80\"> </span><span style=\"background-color: hsl(0, 100.00%, 96.59%); opacity: 0.81\" title=\"-0.025\">没</span><span style=\"opacity: 0.80\"> </span><span style=\"background-color: hsl(120, 100.00%, 93.80%); opacity: 0.81\" title=\"0.059\">动</span><span style=\"opacity: 0.80\"> ； </span><span style=\"background-color: hsl(0, 100.00%, 98.35%); opacity: 0.80\" title=\"-0.009\">第二张</span><span style=\"opacity: 0.80\"> “ </span><span style=\"background-color: hsl(0, 100.00%, 89.67%); opacity: 0.83\" title=\"-0.123\">鱼头</span><span style=\"opacity: 0.80\"> </span><span style=\"background-color: hsl(0, 100.00%, 92.17%); opacity: 0.82\" title=\"-0.083\">诱惑</span><span style=\"opacity: 0.80\"> ” ： </span><span style=\"background-color: hsl(0, 100.00%, 93.59%); opacity: 0.81\" title=\"-0.062\">这</span><span style=\"opacity: 0.80\"> </span><span style=\"background-color: hsl(120, 100.00%, 94.69%); opacity: 0.81\" title=\"0.048\">道菜</span><span style=\"opacity: 0.80\"> </span><span style=\"background-color: hsl(0, 100.00%, 94.91%); opacity: 0.81\" title=\"-0.045\">是</span><span style=\"opacity: 0.80\"> </span><span style=\"background-color: hsl(0, 100.00%, 99.12%); opacity: 0.80\" title=\"-0.004\">翔</span><span style=\"opacity: 0.80\"> </span><span style=\"background-color: hsl(120, 100.00%, 89.45%); opacity: 0.83\" title=\"0.127\">哥点</span><span style=\"opacity: 0.80\"> </span><span style=\"background-color: hsl(120, 100.00%, 87.50%); opacity: 0.84\" title=\"0.162\">的</span><span style=\"opacity: 0.80\"> </span><span style=\"background-color: hsl(0, 100.00%, 98.98%); opacity: 0.80\" title=\"-0.005\">还</span><span style=\"opacity: 0.80\"> </span><span style=\"background-color: hsl(120, 100.00%, 95.89%); opacity: 0.81\" title=\"0.033\">不错</span><span style=\"opacity: 0.80\"> </span><span style=\"background-color: hsl(120, 100.00%, 88.99%); opacity: 0.83\" title=\"0.135\">首先</span><span style=\"opacity: 0.80\"> </span><span style=\"background-color: hsl(120, 100.00%, 92.10%); opacity: 0.82\" title=\"0.084\">鱼头</span><span style=\"opacity: 0.80\"> </span><span style=\"background-color: hsl(120, 100.00%, 93.52%); opacity: 0.81\" title=\"0.063\">很</span><span style=\"opacity: 0.80\"> </span><span style=\"background-color: hsl(120, 100.00%, 98.50%); opacity: 0.80\" title=\"0.008\">新鲜</span><span style=\"opacity: 0.80\"> </span><span style=\"background-color: hsl(0, 100.00%, 95.32%); opacity: 0.81\" title=\"-0.040\">其次</span><span style=\"opacity: 0.80\"> </span><span style=\"background-color: hsl(0, 100.00%, 96.35%); opacity: 0.81\" title=\"-0.028\">鱼头</span><span style=\"opacity: 0.80\"> </span><span style=\"background-color: hsl(120, 100.00%, 97.97%); opacity: 0.80\" title=\"0.012\">蒸</span><span style=\"opacity: 0.80\"> </span><span style=\"background-color: hsl(120, 100.00%, 95.06%); opacity: 0.81\" title=\"0.043\">的</span><span style=\"opacity: 0.80\"> </span><span style=\"background-color: hsl(0, 100.00%, 90.71%); opacity: 0.82\" title=\"-0.106\">火候</span><span style=\"opacity: 0.80\"> </span><span style=\"background-color: hsl(0, 100.00%, 90.02%); opacity: 0.83\" title=\"-0.117\">刚好</span><span style=\"opacity: 0.80\"> </span><span style=\"background-color: hsl(0, 100.00%, 92.41%); opacity: 0.82\" title=\"-0.079\">既</span><span style=\"opacity: 0.80\"> </span><span style=\"background-color: hsl(120, 100.00%, 91.28%); opacity: 0.82\" title=\"0.097\">入味</span><span style=\"opacity: 0.80\"> </span><span style=\"background-color: hsl(120, 100.00%, 90.89%); opacity: 0.82\" title=\"0.103\">还</span><span style=\"opacity: 0.80\"> </span><span style=\"background-color: hsl(0, 100.00%, 93.26%); opacity: 0.82\" title=\"-0.067\">不</span><span style=\"opacity: 0.80\"> </span><span style=\"background-color: hsl(0, 100.00%, 91.94%); opacity: 0.82\" title=\"-0.086\">老</span><span style=\"opacity: 0.80\"> ， </span><span style=\"background-color: hsl(120, 100.00%, 96.44%); opacity: 0.81\" title=\"0.027\">建议</span><span style=\"opacity: 0.80\"> </span><span style=\"background-color: hsl(0, 100.00%, 89.29%); opacity: 0.83\" title=\"-0.130\">除了</span><span style=\"opacity: 0.80\"> </span><span style=\"background-color: hsl(120, 100.00%, 96.06%); opacity: 0.81\" title=\"0.031\">小米</span><span style=\"opacity: 0.80\"> </span><span style=\"background-color: hsl(120, 100.00%, 94.72%); opacity: 0.81\" title=\"0.047\">辣</span><span style=\"opacity: 0.80\"> </span><span style=\"background-color: hsl(0, 100.00%, 97.16%); opacity: 0.80\" title=\"-0.020\">再</span><span style=\"opacity: 0.80\"> </span><span style=\"background-color: hsl(0, 100.00%, 92.29%); opacity: 0.82\" title=\"-0.081\">加上</span><span style=\"opacity: 0.80\"> </span><span style=\"background-color: hsl(0, 100.00%, 92.05%); opacity: 0.82\" title=\"-0.085\">点泡椒</span><span style=\"opacity: 0.80\"> ， </span><span style=\"background-color: hsl(0, 100.00%, 83.94%); opacity: 0.85\" title=\"-0.232\">这样</span><span style=\"opacity: 0.80\"> </span><span style=\"background-color: hsl(0, 100.00%, 86.70%); opacity: 0.84\" title=\"-0.177\">无论是</span><span style=\"opacity: 0.80\"> </span><span style=\"background-color: hsl(0, 100.00%, 95.88%); opacity: 0.81\" title=\"-0.033\">颜色</span><span style=\"opacity: 0.80\"> </span><span style=\"background-color: hsl(0, 100.00%, 99.25%); opacity: 0.80\" title=\"-0.003\">和</span><span style=\"opacity: 0.80\"> </span><span style=\"background-color: hsl(0, 100.00%, 88.42%); opacity: 0.83\" title=\"-0.145\">口味</span><span style=\"opacity: 0.80\"> </span><span style=\"background-color: hsl(120, 100.00%, 98.12%); opacity: 0.80\" title=\"0.011\">上</span><span style=\"opacity: 0.80\"> </span><span style=\"background-color: hsl(0, 100.00%, 95.19%); opacity: 0.81\" title=\"-0.041\">都</span><span style=\"opacity: 0.80\"> </span><span style=\"background-color: hsl(120, 100.00%, 89.76%); opacity: 0.83\" title=\"0.122\">会</span><span style=\"opacity: 0.80\"> </span><span style=\"background-color: hsl(120, 100.00%, 87.18%); opacity: 0.84\" title=\"0.168\">更</span><span style=\"opacity: 0.80\"> </span><span style=\"background-color: hsl(120, 100.00%, 76.35%); opacity: 0.89\" title=\"0.403\">棒</span><span style=\"opacity: 0.80\"> </span><span style=\"background-color: hsl(120, 100.00%, 98.70%); opacity: 0.80\" title=\"0.006\">的</span><span style=\"opacity: 0.80\"> ！ </span><span style=\"background-color: hsl(0, 100.00%, 94.06%); opacity: 0.81\" title=\"-0.056\">这</span><span style=\"opacity: 0.80\"> </span><span style=\"background-color: hsl(120, 100.00%, 95.12%); opacity: 0.81\" title=\"0.042\">道菜</span><span style=\"opacity: 0.80\"> </span><span style=\"background-color: hsl(120, 100.00%, 99.17%); opacity: 0.80\" title=\"0.003\">基本</span><span style=\"opacity: 0.80\"> </span><span style=\"background-color: hsl(0, 100.00%, 97.50%); opacity: 0.80\" title=\"-0.016\">消灭</span><span style=\"opacity: 0.80\"> ； </span><span style=\"background-color: hsl(120, 100.00%, 85.38%); opacity: 0.85\" title=\"0.203\">第三张</span><span style=\"opacity: 0.80\"> ： “ </span><span style=\"background-color: hsl(120, 100.00%, 96.26%); opacity: 0.81\" title=\"0.029\">小锅</span><span style=\"opacity: 0.80\"> </span><span style=\"background-color: hsl(120, 100.00%, 93.03%); opacity: 0.82\" title=\"0.070\">土豆</span><span style=\"opacity: 0.80\"> ” ： </span><span style=\"background-color: hsl(120, 100.00%, 94.04%); opacity: 0.81\" title=\"0.056\">厚片</span><span style=\"opacity: 0.80\"> </span><span style=\"background-color: hsl(0, 100.00%, 94.18%); opacity: 0.81\" title=\"-0.054\">的</span><span style=\"opacity: 0.80\"> </span><span style=\"background-color: hsl(120, 100.00%, 93.03%); opacity: 0.82\" title=\"0.070\">土豆</span><span style=\"opacity: 0.80\"> </span><span style=\"background-color: hsl(120, 100.00%, 90.55%); opacity: 0.83\" title=\"0.109\">挂满</span><span style=\"opacity: 0.80\"> </span><span style=\"background-color: hsl(120, 100.00%, 92.72%); opacity: 0.82\" title=\"0.075\">酱汁</span><span style=\"opacity: 0.80\"> ， </span><span style=\"background-color: hsl(120, 100.00%, 88.13%); opacity: 0.84\" title=\"0.150\">炉子</span><span style=\"opacity: 0.80\"> </span><span style=\"background-color: hsl(120, 100.00%, 94.14%); opacity: 0.81\" title=\"0.055\">在</span><span style=\"opacity: 0.80\"> </span><span style=\"background-color: hsl(120, 100.00%, 92.98%); opacity: 0.82\" title=\"0.071\">下面</span><span style=\"opacity: 0.80\"> </span><span style=\"background-color: hsl(120, 100.00%, 95.11%); opacity: 0.81\" title=\"0.042\">慢慢</span><span style=\"opacity: 0.80\"> </span><span style=\"background-color: hsl(0, 100.00%, 91.42%); opacity: 0.82\" title=\"-0.095\">加热</span><span style=\"opacity: 0.80\"> ， </span><span style=\"background-color: hsl(0, 100.00%, 87.52%); opacity: 0.84\" title=\"-0.162\">后来</span><span style=\"opacity: 0.80\"> </span><span style=\"background-color: hsl(0, 100.00%, 90.11%); opacity: 0.83\" title=\"-0.116\">加</span><span style=\"opacity: 0.80\"> </span><span style=\"background-color: hsl(0, 100.00%, 88.54%); opacity: 0.83\" title=\"-0.143\">一片</span><span style=\"opacity: 0.80\"> </span><span style=\"background-color: hsl(0, 100.00%, 94.34%); opacity: 0.81\" title=\"-0.052\">放到</span><span style=\"opacity: 0.80\"> </span><span style=\"background-color: hsl(120, 100.00%, 97.67%); opacity: 0.80\" title=\"0.015\">嘴里</span><span style=\"opacity: 0.80\"> ， </span><span style=\"background-color: hsl(0, 100.00%, 95.33%); opacity: 0.81\" title=\"-0.040\">几乎</span><span style=\"opacity: 0.80\"> 是 </span><span style=\"background-color: hsl(120, 100.00%, 93.77%); opacity: 0.81\" title=\"0.060\">入口</span><span style=\"opacity: 0.80\"> </span><span style=\"background-color: hsl(120, 100.00%, 83.49%); opacity: 0.86\" title=\"0.241\">即</span><span style=\"opacity: 0.80\"> </span><span style=\"background-color: hsl(120, 100.00%, 75.48%); opacity: 0.90\" title=\"0.424\">化</span><span style=\"opacity: 0.80\"> 、 </span><span style=\"background-color: hsl(120, 100.00%, 93.90%); opacity: 0.81\" title=\"0.058\">口感</span><span style=\"opacity: 0.80\"> </span><span style=\"background-color: hsl(0, 100.00%, 94.08%); opacity: 0.81\" title=\"-0.056\">绵软</span><span style=\"opacity: 0.80\"> ， </span><span style=\"background-color: hsl(0, 100.00%, 96.89%); opacity: 0.81\" title=\"-0.022\">也</span><span style=\"opacity: 0.80\"> 是 </span><span style=\"background-color: hsl(120, 100.00%, 98.75%); opacity: 0.80\" title=\"0.006\">一道</span><span style=\"opacity: 0.80\"> </span><span style=\"background-color: hsl(120, 100.00%, 89.29%); opacity: 0.83\" title=\"0.130\">不错</span><span style=\"opacity: 0.80\"> </span><span style=\"background-color: hsl(0, 100.00%, 90.58%); opacity: 0.83\" title=\"-0.108\">的</span><span style=\"opacity: 0.80\"> </span><span style=\"background-color: hsl(0, 100.00%, 88.34%); opacity: 0.83\" title=\"-0.147\">下</span><span style=\"opacity: 0.80\"> </span><span style=\"background-color: hsl(0, 100.00%, 92.25%); opacity: 0.82\" title=\"-0.082\">饭菜</span><span style=\"opacity: 0.80\"> ； </span><span style=\"background-color: hsl(0, 100.00%, 93.37%); opacity: 0.82\" title=\"-0.065\">第四张</span><span style=\"opacity: 0.80\"> ： “ </span><span style=\"background-color: hsl(120, 100.00%, 90.82%); opacity: 0.82\" title=\"0.104\">农家</span><span style=\"opacity: 0.80\"> </span><span style=\"background-color: hsl(0, 100.00%, 93.65%); opacity: 0.81\" title=\"-0.062\">小菜</span><span style=\"opacity: 0.80\"> ” </span><span style=\"background-color: hsl(120, 100.00%, 95.13%); opacity: 0.81\" title=\"0.042\">其实</span><span style=\"opacity: 0.80\"> </span><span style=\"background-color: hsl(0, 100.00%, 96.52%); opacity: 0.81\" title=\"-0.026\">就是</span><span style=\"opacity: 0.80\"> </span><span style=\"background-color: hsl(0, 100.00%, 93.65%); opacity: 0.81\" title=\"-0.062\">少</span><span style=\"opacity: 0.80\"> </span><span style=\"background-color: hsl(120, 100.00%, 93.35%); opacity: 0.82\" title=\"0.066\">了</span><span style=\"opacity: 0.80\"> </span><span style=\"background-color: hsl(0, 100.00%, 98.11%); opacity: 0.80\" title=\"-0.011\">橄榄</span><span style=\"opacity: 0.80\"> </span><span style=\"background-color: hsl(120, 100.00%, 95.62%); opacity: 0.81\" title=\"0.036\">菜</span><span style=\"opacity: 0.80\"> </span><span style=\"background-color: hsl(120, 100.00%, 89.71%); opacity: 0.83\" title=\"0.123\">和</span><span style=\"opacity: 0.80\"> </span><span style=\"background-color: hsl(120, 100.00%, 95.92%); opacity: 0.81\" title=\"0.033\">肉末</span><span style=\"opacity: 0.80\"> </span><span style=\"background-color: hsl(0, 100.00%, 90.14%); opacity: 0.83\" title=\"-0.115\">的</span><span style=\"opacity: 0.80\"> </span><span style=\"background-color: hsl(0, 100.00%, 94.70%); opacity: 0.81\" title=\"-0.048\">豆角</span><span style=\"opacity: 0.80\"> </span><span style=\"background-color: hsl(120, 100.00%, 92.06%); opacity: 0.82\" title=\"0.085\">粒</span><span style=\"opacity: 0.80\"> ， </span><span style=\"background-color: hsl(0, 100.00%, 93.54%); opacity: 0.81\" title=\"-0.063\">味道</span><span style=\"opacity: 0.80\"> </span><span style=\"background-color: hsl(0, 100.00%, 90.41%); opacity: 0.83\" title=\"-0.111\">还</span><span style=\"opacity: 0.80\"> </span><span style=\"background-color: hsl(120, 100.00%, 93.74%); opacity: 0.81\" title=\"0.060\">可以</span><span style=\"opacity: 0.80\"> ， </span><span style=\"background-color: hsl(120, 100.00%, 94.07%); opacity: 0.81\" title=\"0.056\">如果</span><span style=\"opacity: 0.80\"> </span><span style=\"background-color: hsl(0, 100.00%, 92.06%); opacity: 0.82\" title=\"-0.085\">把</span><span style=\"opacity: 0.80\"> </span><span style=\"background-color: hsl(120, 100.00%, 90.43%); opacity: 0.83\" title=\"0.111\">豆角</span><span style=\"opacity: 0.80\"> </span><span style=\"background-color: hsl(120, 100.00%, 89.75%); opacity: 0.83\" title=\"0.122\">再</span><span style=\"opacity: 0.80\"> </span><span style=\"background-color: hsl(120, 100.00%, 99.56%); opacity: 0.80\" title=\"0.001\">煸</span><span style=\"opacity: 0.80\"> </span><span style=\"background-color: hsl(120, 100.00%, 94.81%); opacity: 0.81\" title=\"0.046\">的</span><span style=\"opacity: 0.80\"> </span><span style=\"background-color: hsl(0, 100.00%, 96.80%); opacity: 0.81\" title=\"-0.023\">干</span><span style=\"opacity: 0.80\"> </span><span style=\"background-color: hsl(0, 100.00%, 91.32%); opacity: 0.82\" title=\"-0.096\">一点</span><span style=\"opacity: 0.80\"> （ </span><span style=\"background-color: hsl(0, 100.00%, 95.99%); opacity: 0.81\" title=\"-0.032\">表皮</span><span style=\"opacity: 0.80\"> </span><span style=\"background-color: hsl(0, 100.00%, 91.51%); opacity: 0.82\" title=\"-0.093\">起皱</span><span style=\"opacity: 0.80\"> ） </span><span style=\"background-color: hsl(120, 100.00%, 95.40%); opacity: 0.81\" title=\"0.039\">口感</span><span style=\"opacity: 0.80\"> </span><span style=\"background-color: hsl(0, 100.00%, 95.98%); opacity: 0.81\" title=\"-0.032\">会</span><span style=\"opacity: 0.80\"> </span><span style=\"background-color: hsl(120, 100.00%, 67.62%); opacity: 0.95\" title=\"0.631\">更好</span><span style=\"opacity: 0.80\"> ； </span><span style=\"background-color: hsl(120, 100.00%, 98.43%); opacity: 0.80\" title=\"0.008\">第五</span><span style=\"opacity: 0.80\"> </span><span style=\"background-color: hsl(120, 100.00%, 97.51%); opacity: 0.80\" title=\"0.016\">张</span><span style=\"opacity: 0.80\"> “ 菜心 </span><span style=\"background-color: hsl(0, 100.00%, 93.90%); opacity: 0.81\" title=\"-0.058\">金钩</span><span style=\"opacity: 0.80\"> 豆腐 ” 和 </span><span style=\"background-color: hsl(0, 100.00%, 96.59%); opacity: 0.81\" title=\"-0.025\">没</span><span style=\"opacity: 0.80\"> </span><span style=\"background-color: hsl(0, 100.00%, 98.03%); opacity: 0.80\" title=\"-0.012\">上</span><span style=\"opacity: 0.80\"> </span><span style=\"background-color: hsl(0, 100.00%, 94.55%); opacity: 0.81\" title=\"-0.050\">图</span><span style=\"opacity: 0.80\"> </span><span style=\"background-color: hsl(0, 100.00%, 96.42%); opacity: 0.81\" title=\"-0.027\">的</span><span style=\"opacity: 0.80\"> “ </span><span style=\"background-color: hsl(120, 100.00%, 90.99%); opacity: 0.82\" title=\"0.101\">老乡</span><span style=\"opacity: 0.80\"> </span><span style=\"background-color: hsl(120, 100.00%, 94.86%); opacity: 0.81\" title=\"0.045\">浓汤</span><span style=\"opacity: 0.80\"> ” </span><span style=\"background-color: hsl(120, 100.00%, 89.17%); opacity: 0.83\" title=\"0.132\">一起</span><span style=\"opacity: 0.80\"> </span><span style=\"background-color: hsl(0, 100.00%, 97.29%); opacity: 0.80\" title=\"-0.018\">说</span><span style=\"opacity: 0.80\"> </span><span style=\"background-color: hsl(0, 100.00%, 89.98%); opacity: 0.83\" title=\"-0.118\">了</span><span style=\"opacity: 0.80\"> ， </span><span style=\"background-color: hsl(0, 100.00%, 91.10%); opacity: 0.82\" title=\"-0.100\">两道</span><span style=\"opacity: 0.80\"> </span><span style=\"background-color: hsl(0, 100.00%, 90.37%); opacity: 0.83\" title=\"-0.111\">分不清</span><span style=\"opacity: 0.80\"> </span><span style=\"background-color: hsl(120, 100.00%, 92.85%); opacity: 0.82\" title=\"0.073\">是</span><span style=\"opacity: 0.80\"> </span><span style=\"background-color: hsl(120, 100.00%, 92.11%); opacity: 0.82\" title=\"0.084\">汤</span><span style=\"opacity: 0.80\"> 、 羹 </span><span style=\"background-color: hsl(0, 100.00%, 91.14%); opacity: 0.82\" title=\"-0.099\">还是</span><span style=\"opacity: 0.80\"> </span><span style=\"background-color: hsl(120, 100.00%, 96.93%); opacity: 0.81\" title=\"0.022\">菜</span><span style=\"opacity: 0.80\"> </span><span style=\"background-color: hsl(120, 100.00%, 92.84%); opacity: 0.82\" title=\"0.073\">的</span><span style=\"opacity: 0.80\"> </span><span style=\"background-color: hsl(120, 100.00%, 75.14%); opacity: 0.90\" title=\"0.433\">东东</span><span style=\"opacity: 0.80\"> ， </span><span style=\"background-color: hsl(0, 100.00%, 96.45%); opacity: 0.81\" title=\"-0.027\">都</span><span style=\"opacity: 0.80\"> </span><span style=\"background-color: hsl(0, 100.00%, 97.37%); opacity: 0.80\" title=\"-0.018\">是</span><span style=\"opacity: 0.80\"> </span><span style=\"background-color: hsl(120, 100.00%, 96.12%); opacity: 0.81\" title=\"0.030\">推荐</span><span style=\"opacity: 0.80\"> </span><span style=\"background-color: hsl(120, 100.00%, 97.13%); opacity: 0.80\" title=\"0.020\">菜</span><span style=\"opacity: 0.80\"> </span><span style=\"background-color: hsl(0, 100.00%, 90.04%); opacity: 0.83\" title=\"-0.117\">分不清</span><span style=\"opacity: 0.80\"> </span><span style=\"background-color: hsl(120, 100.00%, 91.54%); opacity: 0.82\" title=\"0.093\">也</span><span style=\"opacity: 0.80\"> </span><span style=\"background-color: hsl(0, 100.00%, 97.81%); opacity: 0.80\" title=\"-0.013\">无所谓</span><span style=\"opacity: 0.80\"> ， </span><span style=\"background-color: hsl(0, 100.00%, 93.12%); opacity: 0.82\" title=\"-0.069\">重点</span><span style=\"opacity: 0.80\"> 是 </span><span style=\"background-color: hsl(120, 100.00%, 94.57%); opacity: 0.81\" title=\"0.049\">上菜</span><span style=\"opacity: 0.80\"> </span><span style=\"background-color: hsl(0, 100.00%, 96.40%); opacity: 0.81\" title=\"-0.027\">的</span><span style=\"opacity: 0.80\"> </span><span style=\"background-color: hsl(0, 100.00%, 93.42%); opacity: 0.82\" title=\"-0.065\">时候</span><span style=\"opacity: 0.80\"> </span><span style=\"background-color: hsl(0, 100.00%, 94.67%); opacity: 0.81\" title=\"-0.048\">都</span><span style=\"opacity: 0.80\"> </span><span style=\"background-color: hsl(0, 100.00%, 96.90%); opacity: 0.81\" title=\"-0.022\">不是</span><span style=\"opacity: 0.80\"> </span><span style=\"background-color: hsl(120, 100.00%, 98.65%); opacity: 0.80\" title=\"0.007\">热</span><span style=\"opacity: 0.80\"> </span><span style=\"background-color: hsl(0, 100.00%, 96.04%); opacity: 0.81\" title=\"-0.031\">的</span><span style=\"opacity: 0.80\"> </span><span style=\"background-color: hsl(0, 100.00%, 93.90%); opacity: 0.81\" title=\"-0.058\">都</span><span style=\"opacity: 0.80\"> </span><span style=\"background-color: hsl(120, 100.00%, 98.04%); opacity: 0.80\" title=\"0.011\">是</span><span style=\"opacity: 0.80\"> </span><span style=\"background-color: hsl(0, 100.00%, 84.13%); opacity: 0.85\" title=\"-0.228\">温</span><span style=\"opacity: 0.80\"> </span><span style=\"background-color: hsl(120, 100.00%, 90.41%); opacity: 0.83\" title=\"0.111\">的</span><span style=\"opacity: 0.80\"> “ </span><span style=\"background-color: hsl(120, 100.00%, 90.41%); opacity: 0.83\" title=\"0.111\">菜心</span><span style=\"opacity: 0.80\"> ” </span><span style=\"background-color: hsl(120, 100.00%, 92.11%); opacity: 0.82\" title=\"0.084\">里面</span><span style=\"opacity: 0.80\"> </span><span style=\"background-color: hsl(120, 100.00%, 97.72%); opacity: 0.80\" title=\"0.014\">有</span><span style=\"opacity: 0.80\"> </span><span style=\"background-color: hsl(0, 100.00%, 99.26%); opacity: 0.80\" title=\"-0.003\">蛋黄</span><span style=\"opacity: 0.80\"> 、 “ </span><span style=\"background-color: hsl(0, 100.00%, 92.34%); opacity: 0.82\" title=\"-0.080\">浓汤</span><span style=\"opacity: 0.80\"> ” </span><span style=\"background-color: hsl(0, 100.00%, 98.86%); opacity: 0.80\" title=\"-0.005\">里面</span><span style=\"opacity: 0.80\"> </span><span style=\"background-color: hsl(0, 100.00%, 96.66%); opacity: 0.81\" title=\"-0.025\">有</span><span style=\"opacity: 0.80\"> </span><span style=\"background-color: hsl(0, 100.00%, 91.70%); opacity: 0.82\" title=\"-0.090\">猪肚</span><span style=\"opacity: 0.80\"> ， </span><span style=\"background-color: hsl(0, 100.00%, 96.42%); opacity: 0.81\" title=\"-0.027\">这</span><span style=\"opacity: 0.80\"> </span><span style=\"background-color: hsl(0, 100.00%, 94.63%); opacity: 0.81\" title=\"-0.048\">两种</span><span style=\"opacity: 0.80\"> </span><span style=\"background-color: hsl(0, 100.00%, 94.56%); opacity: 0.81\" title=\"-0.049\">食材</span><span style=\"opacity: 0.80\"> </span><span style=\"background-color: hsl(120, 100.00%, 99.22%); opacity: 0.80\" title=\"0.003\">变冷</span><span style=\"opacity: 0.80\"> </span><span style=\"background-color: hsl(120, 100.00%, 96.86%); opacity: 0.81\" title=\"0.022\">后</span><span style=\"opacity: 0.80\"> </span><span style=\"background-color: hsl(0, 100.00%, 95.19%); opacity: 0.81\" title=\"-0.041\">都</span><span style=\"opacity: 0.80\"> </span><span style=\"background-color: hsl(0, 100.00%, 94.81%); opacity: 0.81\" title=\"-0.046\">会</span><span style=\"opacity: 0.80\"> 有 </span><span style=\"background-color: hsl(120, 100.00%, 94.98%); opacity: 0.81\" title=\"0.044\">腥味</span><span style=\"opacity: 0.80\"> </span><span style=\"background-color: hsl(0, 100.00%, 90.33%); opacity: 0.83\" title=\"-0.112\">且</span><span style=\"opacity: 0.80\"> </span><span style=\"background-color: hsl(0, 100.00%, 91.21%); opacity: 0.82\" title=\"-0.098\">口感</span><span style=\"opacity: 0.80\"> </span><span style=\"background-color: hsl(0, 100.00%, 91.47%); opacity: 0.82\" title=\"-0.094\">不好</span><span style=\"opacity: 0.80\"> ， </span><span style=\"background-color: hsl(0, 100.00%, 84.93%); opacity: 0.85\" title=\"-0.212\">加之</span><span style=\"opacity: 0.80\"> </span><span style=\"background-color: hsl(120, 100.00%, 91.03%); opacity: 0.82\" title=\"0.101\">一碗</span><span style=\"opacity: 0.80\"> 有 </span><span style=\"background-color: hsl(120, 100.00%, 90.86%); opacity: 0.82\" title=\"0.104\">淀粉类</span><span style=\"opacity: 0.80\"> </span><span style=\"background-color: hsl(120, 100.00%, 90.86%); opacity: 0.82\" title=\"0.104\">的</span><span style=\"opacity: 0.80\"> 羹 </span><span style=\"background-color: hsl(0, 100.00%, 90.14%); opacity: 0.83\" title=\"-0.115\">温温的</span><span style=\"opacity: 0.80\"> 很难 </span><span style=\"background-color: hsl(0, 100.00%, 96.77%); opacity: 0.81\" title=\"-0.023\">喝</span><span style=\"opacity: 0.80\"> ， </span><span style=\"background-color: hsl(0, 100.00%, 98.23%); opacity: 0.80\" title=\"-0.010\">建议</span><span style=\"opacity: 0.80\"> </span><span style=\"background-color: hsl(0, 100.00%, 88.80%); opacity: 0.83\" title=\"-0.138\">出品</span><span style=\"opacity: 0.80\"> </span><span style=\"background-color: hsl(0, 100.00%, 87.99%); opacity: 0.84\" title=\"-0.153\">后</span><span style=\"opacity: 0.80\"> </span><span style=\"background-color: hsl(0, 100.00%, 90.85%); opacity: 0.82\" title=\"-0.104\">马上传</span><span style=\"opacity: 0.80\"> </span><span style=\"background-color: hsl(0, 100.00%, 86.95%); opacity: 0.84\" title=\"-0.172\">菜到</span><span style=\"opacity: 0.80\"> </span><span style=\"background-color: hsl(0, 100.00%, 93.43%); opacity: 0.82\" title=\"-0.065\">客人</span><span style=\"opacity: 0.80\"> </span><span style=\"background-color: hsl(120, 100.00%, 89.35%); opacity: 0.83\" title=\"0.129\">面前</span><span style=\"opacity: 0.80\"> ， </span><span style=\"background-color: hsl(120, 100.00%, 96.37%); opacity: 0.81\" title=\"0.028\">口味</span><span style=\"opacity: 0.80\"> </span><span style=\"background-color: hsl(0, 100.00%, 96.08%); opacity: 0.81\" title=\"-0.031\">上</span><span style=\"opacity: 0.80\"> </span><span style=\"background-color: hsl(0, 100.00%, 92.21%); opacity: 0.82\" title=\"-0.082\">冷</span><span style=\"opacity: 0.80\"> </span><span style=\"background-color: hsl(0, 100.00%, 84.50%); opacity: 0.85\" title=\"-0.220\">了</span><span style=\"opacity: 0.80\"> </span><span style=\"background-color: hsl(0, 100.00%, 96.42%); opacity: 0.81\" title=\"-0.027\">就</span><span style=\"opacity: 0.80\"> </span><span style=\"background-color: hsl(0, 100.00%, 93.34%); opacity: 0.82\" title=\"-0.066\">都</span><span style=\"opacity: 0.80\"> </span><span style=\"background-color: hsl(0, 100.00%, 96.14%); opacity: 0.81\" title=\"-0.030\">不</span><span style=\"opacity: 0.80\"> </span><span style=\"background-color: hsl(120, 100.00%, 78.77%); opacity: 0.88\" title=\"0.345\">美味</span><span style=\"opacity: 0.80\"> </span><span style=\"background-color: hsl(120, 100.00%, 85.74%); opacity: 0.85\" title=\"0.195\">了</span><span style=\"opacity: 0.80\"> ； </span><span style=\"background-color: hsl(120, 100.00%, 87.80%); opacity: 0.84\" title=\"0.156\">第六</span><span style=\"opacity: 0.80\"> </span><span style=\"background-color: hsl(120, 100.00%, 95.80%); opacity: 0.81\" title=\"0.034\">张</span><span style=\"opacity: 0.80\"> ： “ </span><span style=\"background-color: hsl(120, 100.00%, 87.92%); opacity: 0.84\" title=\"0.154\">麻酱</span><span style=\"opacity: 0.80\"> </span><span style=\"background-color: hsl(120, 100.00%, 94.32%); opacity: 0.81\" title=\"0.053\">油麦</span><span style=\"opacity: 0.80\"> </span><span style=\"background-color: hsl(120, 100.00%, 88.01%); opacity: 0.84\" title=\"0.153\">菜</span><span style=\"opacity: 0.80\"> ” </span><span style=\"background-color: hsl(120, 100.00%, 86.64%); opacity: 0.84\" title=\"0.178\">很多</span><span style=\"opacity: 0.80\"> 地方 </span><span style=\"background-color: hsl(120, 100.00%, 95.86%); opacity: 0.81\" title=\"0.033\">也</span><span style=\"opacity: 0.80\"> </span><span style=\"background-color: hsl(0, 100.00%, 90.89%); opacity: 0.82\" title=\"-0.103\">叫</span><span style=\"opacity: 0.80\"> “ </span><span style=\"background-color: hsl(120, 100.00%, 95.87%); opacity: 0.81\" title=\"0.033\">麻酱</span><span style=\"opacity: 0.80\"> </span><span style=\"background-color: hsl(0, 100.00%, 77.54%); opacity: 0.89\" title=\"-0.374\">凤尾</span><span style=\"opacity: 0.80\"> ” </span><span style=\"background-color: hsl(120, 100.00%, 96.89%); opacity: 0.81\" title=\"0.022\">麻酱</span><span style=\"opacity: 0.80\"> </span><span style=\"background-color: hsl(120, 100.00%, 92.89%); opacity: 0.82\" title=\"0.072\">用</span><span style=\"opacity: 0.80\"> </span><span style=\"background-color: hsl(0, 100.00%, 93.78%); opacity: 0.81\" title=\"-0.060\">的</span><span style=\"opacity: 0.80\"> </span><span style=\"background-color: hsl(0, 100.00%, 77.02%); opacity: 0.89\" title=\"-0.387\">像是</span><span style=\"opacity: 0.80\"> </span><span style=\"background-color: hsl(120, 100.00%, 96.64%); opacity: 0.81\" title=\"0.025\">麻酱</span><span style=\"opacity: 0.80\"> </span><span style=\"background-color: hsl(0, 100.00%, 88.59%); opacity: 0.83\" title=\"-0.142\">和</span><span style=\"opacity: 0.80\"> </span><span style=\"background-color: hsl(0, 100.00%, 91.77%); opacity: 0.82\" title=\"-0.089\">花生酱</span><span style=\"opacity: 0.80\"> </span><span style=\"background-color: hsl(120, 100.00%, 82.67%); opacity: 0.86\" title=\"0.258\">混合</span><span style=\"opacity: 0.80\"> </span><span style=\"background-color: hsl(0, 100.00%, 88.10%); opacity: 0.84\" title=\"-0.151\">的</span><span style=\"opacity: 0.80\"> </span><span style=\"background-color: hsl(0, 100.00%, 95.18%); opacity: 0.81\" title=\"-0.042\">甜口</span><span style=\"opacity: 0.80\"> </span><span style=\"background-color: hsl(0, 100.00%, 89.28%); opacity: 0.83\" title=\"-0.130\">的</span><span style=\"opacity: 0.80\"> </span><span style=\"background-color: hsl(0, 100.00%, 93.60%); opacity: 0.81\" title=\"-0.062\">酱料</span><span style=\"opacity: 0.80\"> ， 重点 </span><span style=\"background-color: hsl(0, 100.00%, 89.31%); opacity: 0.83\" title=\"-0.130\">是</span><span style=\"opacity: 0.80\"> </span><span style=\"background-color: hsl(0, 100.00%, 87.82%); opacity: 0.84\" title=\"-0.156\">没有</span><span style=\"opacity: 0.80\"> </span><span style=\"background-color: hsl(0, 100.00%, 87.68%); opacity: 0.84\" title=\"-0.159\">稀释</span><span style=\"opacity: 0.80\"> ！ </span><span style=\"background-color: hsl(120, 100.00%, 95.24%); opacity: 0.81\" title=\"0.041\">整个</span><span style=\"opacity: 0.80\"> </span><span style=\"background-color: hsl(0, 100.00%, 60.00%); opacity: 1.00\" title=\"-0.853\">一坨</span><span style=\"opacity: 0.80\"> </span><span style=\"background-color: hsl(0, 100.00%, 91.33%); opacity: 0.82\" title=\"-0.096\">粘</span><span style=\"opacity: 0.80\"> 在 </span><span style=\"background-color: hsl(120, 100.00%, 94.32%); opacity: 0.81\" title=\"0.053\">油麦</span><span style=\"opacity: 0.80\"> </span><span style=\"background-color: hsl(0, 100.00%, 96.57%); opacity: 0.81\" title=\"-0.026\">菜</span><span style=\"opacity: 0.80\"> </span><span style=\"background-color: hsl(120, 100.00%, 98.12%); opacity: 0.80\" title=\"0.011\">上</span><span style=\"opacity: 0.80\"> </span><span style=\"background-color: hsl(0, 100.00%, 76.90%); opacity: 0.89\" title=\"-0.389\">根本</span><span style=\"opacity: 0.80\"> </span><span style=\"background-color: hsl(0, 100.00%, 91.69%); opacity: 0.82\" title=\"-0.090\">拌</span><span style=\"opacity: 0.80\"> </span><span style=\"background-color: hsl(0, 100.00%, 91.51%); opacity: 0.82\" title=\"-0.093\">不开</span><span style=\"opacity: 0.80\"> </span><span style=\"background-color: hsl(120, 100.00%, 94.50%); opacity: 0.81\" title=\"0.050\">相比</span><span style=\"opacity: 0.80\"> </span><span style=\"background-color: hsl(120, 100.00%, 95.01%); opacity: 0.81\" title=\"0.044\">甜口</span><span style=\"opacity: 0.80\"> </span><span style=\"background-color: hsl(0, 100.00%, 89.74%); opacity: 0.83\" title=\"-0.122\">的</span><span style=\"opacity: 0.80\"> </span><span style=\"background-color: hsl(120, 100.00%, 94.88%); opacity: 0.81\" title=\"0.045\">麻酱</span><span style=\"opacity: 0.80\"> </span><span style=\"background-color: hsl(0, 100.00%, 89.58%); opacity: 0.83\" title=\"-0.125\">我</span><span style=\"opacity: 0.80\"> </span><span style=\"background-color: hsl(0, 100.00%, 94.84%); opacity: 0.81\" title=\"-0.046\">更</span><span style=\"opacity: 0.80\"> </span><span style=\"background-color: hsl(120, 100.00%, 79.37%); opacity: 0.88\" title=\"0.331\">喜欢</span><span style=\"opacity: 0.80\"> </span><span style=\"background-color: hsl(0, 100.00%, 98.21%); opacity: 0.80\" title=\"-0.010\">热干面</span><span style=\"opacity: 0.80\"> </span><span style=\"background-color: hsl(0, 100.00%, 99.91%); opacity: 0.80\" title=\"-0.000\">那种</span><span style=\"opacity: 0.80\"> </span><span style=\"background-color: hsl(120, 100.00%, 71.66%); opacity: 0.92\" title=\"0.521\">咸口</span><span style=\"opacity: 0.80\"> </span><span style=\"background-color: hsl(0, 100.00%, 91.79%); opacity: 0.82\" title=\"-0.089\">的</span><span style=\"opacity: 0.80\"> 、 </span><span style=\"background-color: hsl(0, 100.00%, 91.64%); opacity: 0.82\" title=\"-0.091\">稀</span><span style=\"opacity: 0.80\"> </span><span style=\"background-color: hsl(120, 100.00%, 92.37%); opacity: 0.82\" title=\"0.080\">点儿</span><span style=\"opacity: 0.80\"> 的 ； </span><span style=\"background-color: hsl(120, 100.00%, 95.49%); opacity: 0.81\" title=\"0.038\">第七</span><span style=\"opacity: 0.80\"> </span><span style=\"background-color: hsl(0, 100.00%, 96.56%); opacity: 0.81\" title=\"-0.026\">张</span><span style=\"opacity: 0.80\"> “ </span><span style=\"background-color: hsl(0, 100.00%, 94.21%); opacity: 0.81\" title=\"-0.054\">面包</span><span style=\"opacity: 0.80\"> </span><span style=\"background-color: hsl(120, 100.00%, 94.47%); opacity: 0.81\" title=\"0.050\">诱惑</span><span style=\"opacity: 0.80\"> ” ： </span><span style=\"background-color: hsl(0, 100.00%, 94.50%); opacity: 0.81\" title=\"-0.050\">这道</span><span style=\"opacity: 0.80\"> </span><span style=\"background-color: hsl(0, 100.00%, 91.41%); opacity: 0.82\" title=\"-0.095\">是</span><span style=\"opacity: 0.80\"> </span><span style=\"background-color: hsl(0, 100.00%, 98.42%); opacity: 0.80\" title=\"-0.008\">敬菜</span><span style=\"opacity: 0.80\"> ， </span><span style=\"background-color: hsl(120, 100.00%, 97.93%); opacity: 0.80\" title=\"0.012\">口味</span><span style=\"opacity: 0.80\"> </span><span style=\"background-color: hsl(120, 100.00%, 99.73%); opacity: 0.80\" title=\"0.001\">还</span><span style=\"opacity: 0.80\"> </span><span style=\"background-color: hsl(0, 100.00%, 94.36%); opacity: 0.81\" title=\"-0.052\">不错</span><span style=\"opacity: 0.80\"> ， </span><span style=\"background-color: hsl(0, 100.00%, 98.04%); opacity: 0.80\" title=\"-0.011\">冰淇淋</span><span style=\"opacity: 0.80\"> </span><span style=\"background-color: hsl(120, 100.00%, 98.72%); opacity: 0.80\" title=\"0.006\">也</span><span style=\"opacity: 0.80\"> </span><span style=\"background-color: hsl(0, 100.00%, 95.44%); opacity: 0.81\" title=\"-0.038\">很</span><span style=\"opacity: 0.80\"> </span><span style=\"background-color: hsl(0, 100.00%, 97.33%); opacity: 0.80\" title=\"-0.018\">好吃</span><span style=\"opacity: 0.80\"> </span><span style=\"background-color: hsl(0, 100.00%, 94.34%); opacity: 0.81\" title=\"-0.052\">就是</span><span style=\"opacity: 0.80\"> </span><span style=\"background-color: hsl(0, 100.00%, 95.44%); opacity: 0.81\" title=\"-0.038\">卖相</span><span style=\"opacity: 0.80\"> </span><span style=\"background-color: hsl(120, 100.00%, 93.44%); opacity: 0.82\" title=\"0.064\">太</span><span style=\"opacity: 0.80\"> </span><span style=\"background-color: hsl(120, 100.00%, 95.04%); opacity: 0.81\" title=\"0.043\">一般</span><span style=\"opacity: 0.80\"> </span><span style=\"background-color: hsl(0, 100.00%, 97.79%); opacity: 0.80\" title=\"-0.014\">了</span><span style=\"opacity: 0.80\"> </span><span style=\"background-color: hsl(0, 100.00%, 89.73%); opacity: 0.83\" title=\"-0.122\">既然</span><span style=\"opacity: 0.80\"> </span><span style=\"background-color: hsl(0, 100.00%, 95.06%); opacity: 0.81\" title=\"-0.043\">要</span><span style=\"opacity: 0.80\"> </span><span style=\"background-color: hsl(0, 100.00%, 83.75%); opacity: 0.86\" title=\"-0.236\">推广</span><span style=\"opacity: 0.80\"> </span><span style=\"background-color: hsl(0, 100.00%, 89.84%); opacity: 0.83\" title=\"-0.120\">至少</span><span style=\"opacity: 0.80\"> </span><span style=\"background-color: hsl(0, 100.00%, 93.58%); opacity: 0.81\" title=\"-0.063\">要</span><span style=\"opacity: 0.80\"> </span><span style=\"background-color: hsl(0, 100.00%, 94.30%); opacity: 0.81\" title=\"-0.053\">给</span><span style=\"opacity: 0.80\"> </span><span style=\"background-color: hsl(0, 100.00%, 99.31%); opacity: 0.80\" title=\"-0.003\">点儿</span><span style=\"opacity: 0.80\"> 装饰 ， </span><span style=\"background-color: hsl(0, 100.00%, 94.57%); opacity: 0.81\" title=\"-0.049\">不用</span><span style=\"opacity: 0.80\"> </span><span style=\"background-color: hsl(0, 100.00%, 96.34%); opacity: 0.81\" title=\"-0.028\">太</span><span style=\"opacity: 0.80\"> </span><span style=\"background-color: hsl(0, 100.00%, 80.26%); opacity: 0.87\" title=\"-0.311\">复杂</span><span style=\"opacity: 0.80\"> </span><span style=\"background-color: hsl(120, 100.00%, 93.17%); opacity: 0.82\" title=\"0.068\">拉个</span><span style=\"opacity: 0.80\"> </span><span style=\"background-color: hsl(120, 100.00%, 73.05%); opacity: 0.91\" title=\"0.485\">巧克力</span><span style=\"opacity: 0.80\"> 线条 、 </span><span style=\"background-color: hsl(120, 100.00%, 95.15%); opacity: 0.81\" title=\"0.042\">给</span><span style=\"opacity: 0.80\"> </span><span style=\"background-color: hsl(0, 100.00%, 96.40%); opacity: 0.81\" title=\"-0.027\">个</span><span style=\"opacity: 0.80\"> </span><span style=\"background-color: hsl(120, 100.00%, 90.29%); opacity: 0.83\" title=\"0.113\">蛋卷</span><span style=\"opacity: 0.80\"> 、 </span><span style=\"background-color: hsl(120, 100.00%, 97.16%); opacity: 0.80\" title=\"0.020\">水果</span><span style=\"opacity: 0.80\"> </span><span style=\"background-color: hsl(0, 100.00%, 84.84%); opacity: 0.85\" title=\"-0.213\">粒</span><span style=\"opacity: 0.80\"> </span><span style=\"background-color: hsl(0, 100.00%, 87.18%); opacity: 0.84\" title=\"-0.168\">稍稍</span><span style=\"opacity: 0.80\"> 点缀 </span><span style=\"background-color: hsl(0, 100.00%, 95.65%); opacity: 0.81\" title=\"-0.036\">一下</span><span style=\"opacity: 0.80\"> </span><span style=\"background-color: hsl(0, 100.00%, 93.83%); opacity: 0.81\" title=\"-0.059\">就</span><span style=\"opacity: 0.80\"> </span><span style=\"background-color: hsl(120, 100.00%, 95.95%); opacity: 0.81\" title=\"0.032\">会</span><span style=\"opacity: 0.80\"> </span><span style=\"background-color: hsl(120, 100.00%, 89.70%); opacity: 0.83\" title=\"0.123\">好看</span><span style=\"opacity: 0.80\"> 很多 </span><span style=\"background-color: hsl(120, 100.00%, 91.23%); opacity: 0.82\" title=\"0.098\">面包</span><span style=\"opacity: 0.80\"> </span><span style=\"background-color: hsl(120, 100.00%, 97.97%); opacity: 0.80\" title=\"0.012\">本身</span><span style=\"opacity: 0.80\"> </span><span style=\"background-color: hsl(0, 100.00%, 94.24%); opacity: 0.81\" title=\"-0.054\">口感</span><span style=\"opacity: 0.80\"> </span><span style=\"background-color: hsl(0, 100.00%, 94.28%); opacity: 0.81\" title=\"-0.053\">和</span><span style=\"opacity: 0.80\"> </span><span style=\"background-color: hsl(0, 100.00%, 96.88%); opacity: 0.81\" title=\"-0.022\">冰淇淋</span><span style=\"opacity: 0.80\"> </span><span style=\"background-color: hsl(120, 100.00%, 96.55%); opacity: 0.81\" title=\"0.026\">都</span><span style=\"opacity: 0.80\"> </span><span style=\"background-color: hsl(0, 100.00%, 98.08%); opacity: 0.80\" title=\"-0.011\">很</span><span style=\"opacity: 0.80\"> </span><span style=\"background-color: hsl(0, 100.00%, 96.82%); opacity: 0.81\" title=\"-0.023\">好吃</span><span style=\"opacity: 0.80\"> </span><span style=\"background-color: hsl(0, 100.00%, 94.34%); opacity: 0.81\" title=\"-0.052\">比</span><span style=\"opacity: 0.80\"> </span><span style=\"background-color: hsl(0, 100.00%, 98.62%); opacity: 0.80\" title=\"-0.007\">很多</span><span style=\"opacity: 0.80\"> </span><span style=\"background-color: hsl(0, 100.00%, 91.83%); opacity: 0.82\" title=\"-0.088\">外面</span><span style=\"opacity: 0.80\"> </span><span style=\"background-color: hsl(0, 100.00%, 95.23%); opacity: 0.81\" title=\"-0.041\">装饰</span><span style=\"opacity: 0.80\"> 的 </span><span style=\"background-color: hsl(120, 100.00%, 90.22%); opacity: 0.83\" title=\"0.114\">那种</span><span style=\"opacity: 0.80\"> </span><span style=\"background-color: hsl(120, 100.00%, 77.65%); opacity: 0.89\" title=\"0.372\">美美</span><span style=\"opacity: 0.80\"> </span><span style=\"background-color: hsl(120, 100.00%, 92.44%); opacity: 0.82\" title=\"0.079\">的</span><span style=\"opacity: 0.80\"> </span><span style=\"background-color: hsl(120, 100.00%, 87.41%); opacity: 0.84\" title=\"0.164\">好吃</span><span style=\"opacity: 0.80\"> 多 </span><span style=\"background-color: hsl(0, 100.00%, 95.48%); opacity: 0.81\" title=\"-0.038\">了</span><span style=\"opacity: 0.80\"> </span><span style=\"background-color: hsl(0, 100.00%, 93.13%); opacity: 0.82\" title=\"-0.069\">就</span><span style=\"opacity: 0.80\"> </span><span style=\"background-color: hsl(0, 100.00%, 66.13%); opacity: 0.96\" title=\"-0.673\">差</span><span style=\"opacity: 0.80\"> </span><span style=\"background-color: hsl(120, 100.00%, 98.34%); opacity: 0.80\" title=\"0.009\">了</span><span style=\"opacity: 0.80\"> </span><span style=\"background-color: hsl(120, 100.00%, 94.99%); opacity: 0.81\" title=\"0.044\">一点</span><span style=\"opacity: 0.80\"> </span><span style=\"background-color: hsl(120, 100.00%, 93.14%); opacity: 0.82\" title=\"0.069\">装饰</span><span style=\"opacity: 0.80\"> ； </span><span style=\"background-color: hsl(120, 100.00%, 98.03%); opacity: 0.80\" title=\"0.012\">第八</span><span style=\"opacity: 0.80\"> </span><span style=\"background-color: hsl(120, 100.00%, 90.54%); opacity: 0.83\" title=\"0.109\">张</span><span style=\"opacity: 0.80\"> “ </span><span style=\"background-color: hsl(120, 100.00%, 91.55%); opacity: 0.82\" title=\"0.093\">绿茶</span><span style=\"opacity: 0.80\"> 烤鸡 ” </span><span style=\"background-color: hsl(0, 100.00%, 95.32%); opacity: 0.81\" title=\"-0.040\">很多</span><span style=\"opacity: 0.80\"> </span><span style=\"background-color: hsl(0, 100.00%, 93.83%); opacity: 0.81\" title=\"-0.059\">人点</span><span style=\"opacity: 0.80\"> </span><span style=\"background-color: hsl(0, 100.00%, 95.44%); opacity: 0.81\" title=\"-0.038\">这</span><span style=\"opacity: 0.80\"> </span><span style=\"background-color: hsl(0, 100.00%, 93.33%); opacity: 0.82\" title=\"-0.066\">道菜</span><span style=\"opacity: 0.80\"> ， </span><span style=\"background-color: hsl(0, 100.00%, 89.19%); opacity: 0.83\" title=\"-0.132\">相比</span><span style=\"opacity: 0.80\"> 前</span>\n",
       "    </p>\n",
       "\n",
       "\n",
       "    \n",
       "\n",
       "    \n",
       "\n",
       "    \n",
       "\n",
       "    \n",
       "\n",
       "\n",
       "    \n",
       "\n",
       "    \n",
       "\n",
       "    \n",
       "\n",
       "    \n",
       "\n",
       "    \n",
       "\n",
       "    \n",
       "\n",
       "\n",
       "    \n",
       "\n",
       "    \n",
       "\n",
       "    \n",
       "\n",
       "    \n",
       "\n",
       "    \n",
       "\n",
       "    \n",
       "\n",
       "\n",
       "\n"
      ],
      "text/plain": [
       "<IPython.core.display.HTML object>"
      ]
     },
     "execution_count": 63,
     "metadata": {},
     "output_type": "execute_result"
    }
   ],
   "source": [
    "predictor_ft_oversamp.explain(test3) # 被截断"
   ]
  }
 ],
 "metadata": {
  "accelerator": "GPU",
  "colab": {
   "collapsed_sections": [
    "VqEPU0RF0Wpr",
    "Vu3p9CpR0hlb"
   ],
   "provenance": [],
   "toc_visible": true
  },
  "gpuClass": "standard",
  "kernelspec": {
   "display_name": "Python 3 (ipykernel)",
   "language": "python",
   "name": "python3"
  },
  "language_info": {
   "codemirror_mode": {
    "name": "ipython",
    "version": 3
   },
   "file_extension": ".py",
   "mimetype": "text/x-python",
   "name": "python",
   "nbconvert_exporter": "python",
   "pygments_lexer": "ipython3",
   "version": "3.9.13"
  },
  "latex_envs": {
   "LaTeX_envs_menu_present": true,
   "autoclose": false,
   "autocomplete": true,
   "bibliofile": "biblio.bib",
   "cite_by": "apalike",
   "current_citInitial": 1,
   "eqLabelWithNumbers": true,
   "eqNumInitial": 1,
   "hotkeys": {
    "equation": "Ctrl-E",
    "itemize": "Ctrl-I"
   },
   "labels_anchors": false,
   "latex_user_defs": false,
   "report_style_numbering": false,
   "user_envs_cfg": false
  },
  "nbTranslate": {
   "displayLangs": [
    "*"
   ],
   "hotkey": "alt-t",
   "langInMainMenu": true,
   "sourceLang": "en",
   "targetLang": "zh-cn",
   "useGoogleTranslate": true
  },
  "toc": {
   "base_numbering": 1,
   "nav_menu": {},
   "number_sections": false,
   "sideBar": true,
   "skip_h1_title": false,
   "title_cell": "Table of Contents",
   "title_sidebar": "Contents",
   "toc_cell": false,
   "toc_position": {
    "height": "528px",
    "left": "276px",
    "top": "215.143px",
    "width": "279.417px"
   },
   "toc_section_display": true,
   "toc_window_display": true
  },
  "varInspector": {
   "cols": {
    "lenName": 16,
    "lenType": 16,
    "lenVar": 40
   },
   "kernels_config": {
    "python": {
     "delete_cmd_postfix": "",
     "delete_cmd_prefix": "del ",
     "library": "var_list.py",
     "varRefreshCmd": "print(var_dic_list())"
    },
    "r": {
     "delete_cmd_postfix": ") ",
     "delete_cmd_prefix": "rm(",
     "library": "var_list.r",
     "varRefreshCmd": "cat(var_dic_list()) "
    }
   },
   "types_to_exclude": [
    "module",
    "function",
    "builtin_function_or_method",
    "instance",
    "_Feature"
   ],
   "window_display": false
  }
 },
 "nbformat": 4,
 "nbformat_minor": 1
}
