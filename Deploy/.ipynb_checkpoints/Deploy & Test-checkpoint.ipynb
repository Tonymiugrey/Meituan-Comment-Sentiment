{
 "cells": [
  {
   "cell_type": "markdown",
   "id": "5c9fbde0",
   "metadata": {},
   "source": [
    "# Model Deploying and Testing"
   ]
  },
  {
   "cell_type": "markdown",
   "id": "53fe6661",
   "metadata": {},
   "source": [
    "## Dependencies"
   ]
  },
  {
   "cell_type": "code",
   "execution_count": 2,
   "id": "3fb8b2f5",
   "metadata": {
    "ExecuteTime": {
     "end_time": "2023-03-24T02:55:58.087082Z",
     "start_time": "2023-03-24T02:55:46.151393Z"
    }
   },
   "outputs": [],
   "source": [
    "import tensorflow as tf\n",
    "import pandas as pd\n",
    "import numpy as np\n",
    "import ktrain\n",
    "import eli5\n",
    "import jieba\n",
    "from ktrain import text\n",
    "import matplotlib.pyplot as plt\n",
    "import pickle"
   ]
  },
  {
   "cell_type": "markdown",
   "id": "61e5d720",
   "metadata": {},
   "source": [
    "## Load LR Models"
   ]
  },
  {
   "cell_type": "code",
   "execution_count": 3,
   "id": "7e4e3257",
   "metadata": {
    "ExecuteTime": {
     "end_time": "2023-03-24T02:55:58.337160Z",
     "start_time": "2023-03-24T02:55:58.300151Z"
    }
   },
   "outputs": [],
   "source": [
    "# rage\n",
    "with open('models/LR/rate/model_rate_LR.pickle','rb') as f:  \n",
    "    model_rate_LR = pickle.load(f)\n",
    "\n",
    "# tags-exist\n",
    "with open('models/LR/tags/exist/model_Location_LR.pickle','rb') as f:  \n",
    "    model_Location_exist_LR = pickle.load(f)\n",
    "    \n",
    "with open('models/LR/tags/exist/model_Service_LR.pickle','rb') as f:  \n",
    "    model_Service_exist_LR = pickle.load(f)\n",
    "    \n",
    "with open('models/LR/tags/exist/model_Price_LR.pickle','rb') as f:  \n",
    "    model_Price_exist_LR = pickle.load(f)\n",
    "    \n",
    "with open('models/LR/tags/exist/model_Ambience_LR.pickle','rb') as f:  \n",
    "    model_Ambience_exist_LR = pickle.load(f)\n",
    "    \n",
    "with open('models/LR/tags/exist/model_Food_LR.pickle','rb') as f:  \n",
    "    model_Food_exist_LR = pickle.load(f)\n",
    "\n",
    "# tags-senti\n",
    "with open('models/LR/tags/senti/model_Location_LR.pickle','rb') as f:  \n",
    "    model_Location_senti_LR = pickle.load(f)\n",
    "    \n",
    "with open('models/LR/tags/senti/model_Service_LR.pickle','rb') as f:  \n",
    "    model_Service_senti_LR = pickle.load(f)\n",
    "    \n",
    "with open('models/LR/tags/senti/model_Price_LR.pickle','rb') as f:  \n",
    "    model_Price_senti_LR = pickle.load(f)\n",
    "\n",
    "with open('models/LR/tags/senti/model_Ambience_LR.pickle','rb') as f:  \n",
    "    model_Ambience_senti_LR = pickle.load(f)\n",
    "\n",
    "with open('models/LR/tags/senti/model_Food_LR.pickle','rb') as f:  \n",
    "    model_Food_senti_LR = pickle.load(f)"
   ]
  },
  {
   "cell_type": "code",
   "execution_count": null,
   "id": "0524e674",
   "metadata": {},
   "outputs": [],
   "source": []
  }
 ],
 "metadata": {
  "kernelspec": {
   "display_name": "Python 3 (ipykernel)",
   "language": "python",
   "name": "python3"
  },
  "language_info": {
   "codemirror_mode": {
    "name": "ipython",
    "version": 3
   },
   "file_extension": ".py",
   "mimetype": "text/x-python",
   "name": "python",
   "nbconvert_exporter": "python",
   "pygments_lexer": "ipython3",
   "version": "3.9.13"
  },
  "nbTranslate": {
   "displayLangs": [
    "*"
   ],
   "hotkey": "alt-t",
   "langInMainMenu": true,
   "sourceLang": "en",
   "targetLang": "zh-cn",
   "useGoogleTranslate": true
  },
  "toc": {
   "base_numbering": 1,
   "nav_menu": {},
   "number_sections": false,
   "sideBar": true,
   "skip_h1_title": false,
   "title_cell": "Table of Contents",
   "title_sidebar": "Contents",
   "toc_cell": false,
   "toc_position": {},
   "toc_section_display": true,
   "toc_window_display": true
  },
  "varInspector": {
   "cols": {
    "lenName": 16,
    "lenType": 16,
    "lenVar": 40
   },
   "kernels_config": {
    "python": {
     "delete_cmd_postfix": "",
     "delete_cmd_prefix": "del ",
     "library": "var_list.py",
     "varRefreshCmd": "print(var_dic_list())"
    },
    "r": {
     "delete_cmd_postfix": ") ",
     "delete_cmd_prefix": "rm(",
     "library": "var_list.r",
     "varRefreshCmd": "cat(var_dic_list()) "
    }
   },
   "types_to_exclude": [
    "module",
    "function",
    "builtin_function_or_method",
    "instance",
    "_Feature"
   ],
   "window_display": false
  }
 },
 "nbformat": 4,
 "nbformat_minor": 5
}
