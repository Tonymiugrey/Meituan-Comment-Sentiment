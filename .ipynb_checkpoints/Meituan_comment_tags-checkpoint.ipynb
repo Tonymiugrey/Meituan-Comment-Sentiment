{
 "cells": [
  {
   "cell_type": "markdown",
   "metadata": {
    "id": "6nD5S9lyJH9e"
   },
   "source": [
    "# Sentiment Analysis Using BERT"
   ]
  },
  {
   "cell_type": "code",
   "execution_count": 1,
   "metadata": {
    "colab": {
     "base_uri": "https://localhost:8080/"
    },
    "id": "azZYvOibTvbQ",
    "outputId": "35568a9f-8215-4649-bae9-a6229c913dc0"
   },
   "outputs": [
    {
     "name": "stdout",
     "output_type": "stream",
     "text": [
      "Mounted at /content/drive\n",
      "/content/drive/MyDrive/Colab Notebooks/bert\n"
     ]
    }
   ],
   "source": [
    "from google.colab import drive\n",
    "drive.mount('/content/drive')\n",
    "%cd /content/drive/MyDrive/Colab Notebooks/bert"
   ]
  },
  {
   "cell_type": "markdown",
   "metadata": {
    "id": "Xn4nnhm-JNEW"
   },
   "source": [
    "## Dependencies"
   ]
  },
  {
   "cell_type": "code",
   "execution_count": 2,
   "metadata": {
    "ExecuteTime": {
     "end_time": "2023-03-17T08:03:09.467530Z",
     "start_time": "2023-03-17T08:02:51.679884Z"
    },
    "colab": {
     "base_uri": "https://localhost:8080/"
    },
    "id": "3HxjovET6uiX",
    "outputId": "feca4f86-1d02-4fea-cddc-88ae18af47ed"
   },
   "outputs": [
    {
     "name": "stdout",
     "output_type": "stream",
     "text": [
      "Looking in indexes: https://pypi.org/simple, https://us-python.pkg.dev/colab-wheels/public/simple/\n",
      "Collecting ktrain\n",
      "  Downloading ktrain-0.33.3.tar.gz (25.3 MB)\n",
      "\u001b[2K     \u001b[90m━━━━━━━━━━━━━━━━━━━━━━━━━━━━━━━━━━━━━━━━\u001b[0m \u001b[32m25.3/25.3 MB\u001b[0m \u001b[31m65.0 MB/s\u001b[0m eta \u001b[36m0:00:00\u001b[0m\n",
      "\u001b[?25h  Preparing metadata (setup.py) ... \u001b[?25l\u001b[?25hdone\n",
      "Requirement already satisfied: scikit-learn in /usr/local/lib/python3.9/dist-packages (from ktrain) (1.2.2)\n",
      "Requirement already satisfied: matplotlib>=3.0.0 in /usr/local/lib/python3.9/dist-packages (from ktrain) (3.7.1)\n",
      "Requirement already satisfied: pandas>=1.0.1 in /usr/local/lib/python3.9/dist-packages (from ktrain) (1.4.4)\n",
      "Requirement already satisfied: fastprogress>=0.1.21 in /usr/local/lib/python3.9/dist-packages (from ktrain) (1.0.3)\n",
      "Requirement already satisfied: requests in /usr/local/lib/python3.9/dist-packages (from ktrain) (2.27.1)\n",
      "Requirement already satisfied: joblib in /usr/local/lib/python3.9/dist-packages (from ktrain) (1.1.1)\n",
      "Requirement already satisfied: packaging in /usr/local/lib/python3.9/dist-packages (from ktrain) (23.0)\n",
      "Collecting langdetect\n",
      "  Downloading langdetect-1.0.9.tar.gz (981 kB)\n",
      "\u001b[2K     \u001b[90m━━━━━━━━━━━━━━━━━━━━━━━━━━━━━━━━━━━━━━\u001b[0m \u001b[32m981.5/981.5 KB\u001b[0m \u001b[31m73.3 MB/s\u001b[0m eta \u001b[36m0:00:00\u001b[0m\n",
      "\u001b[?25h  Preparing metadata (setup.py) ... \u001b[?25l\u001b[?25hdone\n",
      "Requirement already satisfied: jieba in /usr/local/lib/python3.9/dist-packages (from ktrain) (0.42.1)\n",
      "Collecting cchardet\n",
      "  Downloading cchardet-2.1.7-cp39-cp39-manylinux2010_x86_64.whl (265 kB)\n",
      "\u001b[2K     \u001b[90m━━━━━━━━━━━━━━━━━━━━━━━━━━━━━━━━━━━━━━\u001b[0m \u001b[32m265.4/265.4 KB\u001b[0m \u001b[31m35.8 MB/s\u001b[0m eta \u001b[36m0:00:00\u001b[0m\n",
      "\u001b[?25hRequirement already satisfied: chardet in /usr/lib/python3/dist-packages (from ktrain) (3.0.4)\n",
      "Collecting syntok>1.3.3\n",
      "  Downloading syntok-1.4.4-py3-none-any.whl (24 kB)\n",
      "Collecting transformers>=4.17.0\n",
      "  Downloading transformers-4.27.1-py3-none-any.whl (6.7 MB)\n",
      "\u001b[2K     \u001b[90m━━━━━━━━━━━━━━━━━━━━━━━━━━━━━━━━━━━━━━━━\u001b[0m \u001b[32m6.7/6.7 MB\u001b[0m \u001b[31m106.5 MB/s\u001b[0m eta \u001b[36m0:00:00\u001b[0m\n",
      "\u001b[?25hCollecting sentencepiece\n",
      "  Downloading sentencepiece-0.1.97-cp39-cp39-manylinux_2_17_x86_64.manylinux2014_x86_64.whl (1.3 MB)\n",
      "\u001b[2K     \u001b[90m━━━━━━━━━━━━━━━━━━━━━━━━━━━━━━━━━━━━━━━━\u001b[0m \u001b[32m1.3/1.3 MB\u001b[0m \u001b[31m16.1 MB/s\u001b[0m eta \u001b[36m0:00:00\u001b[0m\n",
      "\u001b[?25hCollecting keras_bert>=0.86.0\n",
      "  Downloading keras-bert-0.89.0.tar.gz (25 kB)\n",
      "  Preparing metadata (setup.py) ... \u001b[?25l\u001b[?25hdone\n",
      "Collecting whoosh\n",
      "  Downloading Whoosh-2.7.4-py2.py3-none-any.whl (468 kB)\n",
      "\u001b[2K     \u001b[90m━━━━━━━━━━━━━━━━━━━━━━━━━━━━━━━━━━━━━━\u001b[0m \u001b[32m468.8/468.8 KB\u001b[0m \u001b[31m48.5 MB/s\u001b[0m eta \u001b[36m0:00:00\u001b[0m\n",
      "\u001b[?25hRequirement already satisfied: numpy in /usr/local/lib/python3.9/dist-packages (from keras_bert>=0.86.0->ktrain) (1.22.4)\n",
      "Collecting keras-transformer==0.40.0\n",
      "  Downloading keras-transformer-0.40.0.tar.gz (9.7 kB)\n",
      "  Preparing metadata (setup.py) ... \u001b[?25l\u001b[?25hdone\n",
      "Collecting keras-pos-embd==0.13.0\n",
      "  Downloading keras-pos-embd-0.13.0.tar.gz (5.6 kB)\n",
      "  Preparing metadata (setup.py) ... \u001b[?25l\u001b[?25hdone\n",
      "Collecting keras-multi-head==0.29.0\n",
      "  Downloading keras-multi-head-0.29.0.tar.gz (13 kB)\n",
      "  Preparing metadata (setup.py) ... \u001b[?25l\u001b[?25hdone\n",
      "Collecting keras-layer-normalization==0.16.0\n",
      "  Downloading keras-layer-normalization-0.16.0.tar.gz (3.9 kB)\n",
      "  Preparing metadata (setup.py) ... \u001b[?25l\u001b[?25hdone\n",
      "Collecting keras-position-wise-feed-forward==0.8.0\n",
      "  Downloading keras-position-wise-feed-forward-0.8.0.tar.gz (4.1 kB)\n",
      "  Preparing metadata (setup.py) ... \u001b[?25l\u001b[?25hdone\n",
      "Collecting keras-embed-sim==0.10.0\n",
      "  Downloading keras-embed-sim-0.10.0.tar.gz (3.6 kB)\n",
      "  Preparing metadata (setup.py) ... \u001b[?25l\u001b[?25hdone\n",
      "Collecting keras-self-attention==0.51.0\n",
      "  Downloading keras-self-attention-0.51.0.tar.gz (11 kB)\n",
      "  Preparing metadata (setup.py) ... \u001b[?25l\u001b[?25hdone\n",
      "Requirement already satisfied: fonttools>=4.22.0 in /usr/local/lib/python3.9/dist-packages (from matplotlib>=3.0.0->ktrain) (4.39.0)\n",
      "Requirement already satisfied: kiwisolver>=1.0.1 in /usr/local/lib/python3.9/dist-packages (from matplotlib>=3.0.0->ktrain) (1.4.4)\n",
      "Requirement already satisfied: contourpy>=1.0.1 in /usr/local/lib/python3.9/dist-packages (from matplotlib>=3.0.0->ktrain) (1.0.7)\n",
      "Requirement already satisfied: cycler>=0.10 in /usr/local/lib/python3.9/dist-packages (from matplotlib>=3.0.0->ktrain) (0.11.0)\n",
      "Requirement already satisfied: pyparsing>=2.3.1 in /usr/local/lib/python3.9/dist-packages (from matplotlib>=3.0.0->ktrain) (3.0.9)\n",
      "Requirement already satisfied: importlib-resources>=3.2.0 in /usr/local/lib/python3.9/dist-packages (from matplotlib>=3.0.0->ktrain) (5.12.0)\n",
      "Requirement already satisfied: python-dateutil>=2.7 in /usr/local/lib/python3.9/dist-packages (from matplotlib>=3.0.0->ktrain) (2.8.2)\n",
      "Requirement already satisfied: pillow>=6.2.0 in /usr/local/lib/python3.9/dist-packages (from matplotlib>=3.0.0->ktrain) (8.4.0)\n",
      "Requirement already satisfied: pytz>=2020.1 in /usr/local/lib/python3.9/dist-packages (from pandas>=1.0.1->ktrain) (2022.7.1)\n",
      "Requirement already satisfied: regex>2016 in /usr/local/lib/python3.9/dist-packages (from syntok>1.3.3->ktrain) (2022.10.31)\n",
      "Requirement already satisfied: pyyaml>=5.1 in /usr/local/lib/python3.9/dist-packages (from transformers>=4.17.0->ktrain) (6.0)\n",
      "Requirement already satisfied: filelock in /usr/local/lib/python3.9/dist-packages (from transformers>=4.17.0->ktrain) (3.10.0)\n",
      "Collecting tokenizers!=0.11.3,<0.14,>=0.11.1\n",
      "  Downloading tokenizers-0.13.2-cp39-cp39-manylinux_2_17_x86_64.manylinux2014_x86_64.whl (7.6 MB)\n",
      "\u001b[2K     \u001b[90m━━━━━━━━━━━━━━━━━━━━━━━━━━━━━━━━━━━━━━━━\u001b[0m \u001b[32m7.6/7.6 MB\u001b[0m \u001b[31m36.7 MB/s\u001b[0m eta \u001b[36m0:00:00\u001b[0m\n",
      "\u001b[?25hRequirement already satisfied: tqdm>=4.27 in /usr/local/lib/python3.9/dist-packages (from transformers>=4.17.0->ktrain) (4.65.0)\n",
      "Collecting huggingface-hub<1.0,>=0.11.0\n",
      "  Downloading huggingface_hub-0.13.2-py3-none-any.whl (199 kB)\n",
      "\u001b[2K     \u001b[90m━━━━━━━━━━━━━━━━━━━━━━━━━━━━━━━━━━━━━━\u001b[0m \u001b[32m199.2/199.2 KB\u001b[0m \u001b[31m14.1 MB/s\u001b[0m eta \u001b[36m0:00:00\u001b[0m\n",
      "\u001b[?25hRequirement already satisfied: six in /usr/local/lib/python3.9/dist-packages (from langdetect->ktrain) (1.15.0)\n",
      "Requirement already satisfied: urllib3<1.27,>=1.21.1 in /usr/local/lib/python3.9/dist-packages (from requests->ktrain) (1.26.15)\n",
      "Requirement already satisfied: idna<4,>=2.5 in /usr/local/lib/python3.9/dist-packages (from requests->ktrain) (3.4)\n",
      "Requirement already satisfied: charset-normalizer~=2.0.0 in /usr/local/lib/python3.9/dist-packages (from requests->ktrain) (2.0.12)\n",
      "Requirement already satisfied: certifi>=2017.4.17 in /usr/local/lib/python3.9/dist-packages (from requests->ktrain) (2022.12.7)\n",
      "Requirement already satisfied: scipy>=1.3.2 in /usr/local/lib/python3.9/dist-packages (from scikit-learn->ktrain) (1.10.1)\n",
      "Requirement already satisfied: threadpoolctl>=2.0.0 in /usr/local/lib/python3.9/dist-packages (from scikit-learn->ktrain) (3.1.0)\n",
      "Requirement already satisfied: typing-extensions>=3.7.4.3 in /usr/local/lib/python3.9/dist-packages (from huggingface-hub<1.0,>=0.11.0->transformers>=4.17.0->ktrain) (4.5.0)\n",
      "Requirement already satisfied: zipp>=3.1.0 in /usr/local/lib/python3.9/dist-packages (from importlib-resources>=3.2.0->matplotlib>=3.0.0->ktrain) (3.15.0)\n",
      "Building wheels for collected packages: ktrain, keras_bert, keras-transformer, keras-embed-sim, keras-layer-normalization, keras-multi-head, keras-pos-embd, keras-position-wise-feed-forward, keras-self-attention, langdetect\n",
      "  Building wheel for ktrain (setup.py) ... \u001b[?25l\u001b[?25hdone\n",
      "  Created wheel for ktrain: filename=ktrain-0.33.3-py3-none-any.whl size=25314034 sha256=68bf0c519a977a85931fc390d484f8fda2d9cecfeb515ff33af792b93598576b\n",
      "  Stored in directory: /root/.cache/pip/wheels/7b/d8/2b/d56f840fe72649170207d8fbbf40a1081c91b0ddb5da6aa298\n",
      "  Building wheel for keras_bert (setup.py) ... \u001b[?25l\u001b[?25hdone\n",
      "  Created wheel for keras_bert: filename=keras_bert-0.89.0-py3-none-any.whl size=33517 sha256=c26d810d5c34eaf6415ccc5a19ebf33367465f791565b3b643e8c96991e5905e\n",
      "  Stored in directory: /root/.cache/pip/wheels/4e/26/24/14ecbc0166364db7f5500164b7d796263cf3cd10c57e892180\n",
      "  Building wheel for keras-transformer (setup.py) ... \u001b[?25l\u001b[?25hdone\n",
      "  Created wheel for keras-transformer: filename=keras_transformer-0.40.0-py3-none-any.whl size=12303 sha256=aad5c272be5548909089f6afac32fd46320bcf28f1250b49ac50e7e30e377011\n",
      "  Stored in directory: /root/.cache/pip/wheels/5e/d6/d1/c588c3b2b112c8f1173934995836ab2f2de8323cce99fa998f\n",
      "  Building wheel for keras-embed-sim (setup.py) ... \u001b[?25l\u001b[?25hdone\n",
      "  Created wheel for keras-embed-sim: filename=keras_embed_sim-0.10.0-py3-none-any.whl size=3959 sha256=a458bb61d08cdb3bfadce35c3c5b89e63f752adf798e34511e17fe9170471784\n",
      "  Stored in directory: /root/.cache/pip/wheels/cb/25/02/4bb438785ef9c10d07f6b3519f080b38917153fdac3108d738\n",
      "  Building wheel for keras-layer-normalization (setup.py) ... \u001b[?25l\u001b[?25hdone\n",
      "  Created wheel for keras-layer-normalization: filename=keras_layer_normalization-0.16.0-py3-none-any.whl size=4666 sha256=0c70cc39efc4df080a1aa32722eaf28579469af0acb32b3ad424890389c9a352\n",
      "  Stored in directory: /root/.cache/pip/wheels/c1/df/15/a88cdf68ce687574649f65063a743123e1bee79932b6eea3b6\n",
      "  Building wheel for keras-multi-head (setup.py) ... \u001b[?25l\u001b[?25hdone\n",
      "  Created wheel for keras-multi-head: filename=keras_multi_head-0.29.0-py3-none-any.whl size=14992 sha256=47bcd26d23d29f3d15a2c92ab2dc9263587d737a3c318d13e5620a426d1f325d\n",
      "  Stored in directory: /root/.cache/pip/wheels/b3/85/50/f232cac81ed1eb4dc20db31a9d1f4a8a1a8c696d4d27bff442\n",
      "  Building wheel for keras-pos-embd (setup.py) ... \u001b[?25l\u001b[?25hdone\n",
      "  Created wheel for keras-pos-embd: filename=keras_pos_embd-0.13.0-py3-none-any.whl size=6958 sha256=1f60797d51bdc937e83a8f1af54c49350810da52cf078529f846c432cdb0cb18\n",
      "  Stored in directory: /root/.cache/pip/wheels/f5/8c/9a/917bf72d493e084ca1706a02679185789c2715f50770d8c987\n",
      "  Building wheel for keras-position-wise-feed-forward (setup.py) ... \u001b[?25l\u001b[?25hdone\n",
      "  Created wheel for keras-position-wise-feed-forward: filename=keras_position_wise_feed_forward-0.8.0-py3-none-any.whl size=4983 sha256=985aef10364f4381d18ba3300e80ec4a328d34528972863e099ff58366369181\n",
      "  Stored in directory: /root/.cache/pip/wheels/20/36/25/efb605ab1742a179274a6f7cb113da1c6758f45e212b59bb4d\n",
      "  Building wheel for keras-self-attention (setup.py) ... \u001b[?25l\u001b[?25hdone\n",
      "  Created wheel for keras-self-attention: filename=keras_self_attention-0.51.0-py3-none-any.whl size=18910 sha256=5eedc332e02c5d98132e3f59ebbcffbbbf996c74255954d4252b84b8911d6f6c\n",
      "  Stored in directory: /root/.cache/pip/wheels/78/c1/84/b83a2fd6f1d63e136cba74bac4126bee3b8705eef6486635fd\n",
      "  Building wheel for langdetect (setup.py) ... \u001b[?25l\u001b[?25hdone\n",
      "  Created wheel for langdetect: filename=langdetect-1.0.9-py3-none-any.whl size=993243 sha256=b689c3dcf1b6b89dc017a560c377efb1d1c6530389e64b02d960950172697385\n",
      "  Stored in directory: /root/.cache/pip/wheels/d1/c1/d9/7e068de779d863bc8f8fc9467d85e25cfe47fa5051fff1a1bb\n",
      "Successfully built ktrain keras_bert keras-transformer keras-embed-sim keras-layer-normalization keras-multi-head keras-pos-embd keras-position-wise-feed-forward keras-self-attention langdetect\n",
      "Installing collected packages: whoosh, tokenizers, sentencepiece, cchardet, syntok, langdetect, keras-self-attention, keras-position-wise-feed-forward, keras-pos-embd, keras-layer-normalization, keras-embed-sim, keras-multi-head, huggingface-hub, transformers, keras-transformer, keras_bert, ktrain\n",
      "Successfully installed cchardet-2.1.7 huggingface-hub-0.13.2 keras-embed-sim-0.10.0 keras-layer-normalization-0.16.0 keras-multi-head-0.29.0 keras-pos-embd-0.13.0 keras-position-wise-feed-forward-0.8.0 keras-self-attention-0.51.0 keras-transformer-0.40.0 keras_bert-0.89.0 ktrain-0.33.3 langdetect-1.0.9 sentencepiece-0.1.97 syntok-1.4.4 tokenizers-0.13.2 transformers-4.27.1 whoosh-2.7.4\n",
      "Looking in indexes: https://pypi.org/simple, https://us-python.pkg.dev/colab-wheels/public/simple/\n",
      "Collecting https://github.com/amaiya/eli5-tf/archive/refs/heads/master.zip\n",
      "  Downloading https://github.com/amaiya/eli5-tf/archive/refs/heads/master.zip\n",
      "\u001b[2K     \u001b[32m-\u001b[0m \u001b[32m6.9 MB\u001b[0m \u001b[31m9.6 MB/s\u001b[0m \u001b[33m0:00:00\u001b[0m\n",
      "\u001b[?25h  Preparing metadata (setup.py) ... \u001b[?25l\u001b[?25hdone\n",
      "Requirement already satisfied: attrs>17.1.0 in /usr/local/lib/python3.9/dist-packages (from eli5==0.13.0) (22.2.0)\n",
      "Requirement already satisfied: jinja2>=3.0.0 in /usr/local/lib/python3.9/dist-packages (from eli5==0.13.0) (3.1.2)\n",
      "Requirement already satisfied: numpy>=1.9.0 in /usr/local/lib/python3.9/dist-packages (from eli5==0.13.0) (1.22.4)\n",
      "Requirement already satisfied: scipy in /usr/local/lib/python3.9/dist-packages (from eli5==0.13.0) (1.10.1)\n",
      "Requirement already satisfied: six in /usr/local/lib/python3.9/dist-packages (from eli5==0.13.0) (1.15.0)\n",
      "Requirement already satisfied: scikit-learn>=0.20 in /usr/local/lib/python3.9/dist-packages (from eli5==0.13.0) (1.2.2)\n",
      "Requirement already satisfied: graphviz in /usr/local/lib/python3.9/dist-packages (from eli5==0.13.0) (0.10.1)\n",
      "Requirement already satisfied: tabulate>=0.7.7 in /usr/local/lib/python3.9/dist-packages (from eli5==0.13.0) (0.8.10)\n",
      "Requirement already satisfied: MarkupSafe>=2.0 in /usr/local/lib/python3.9/dist-packages (from jinja2>=3.0.0->eli5==0.13.0) (2.1.2)\n",
      "Requirement already satisfied: threadpoolctl>=2.0.0 in /usr/local/lib/python3.9/dist-packages (from scikit-learn>=0.20->eli5==0.13.0) (3.1.0)\n",
      "Requirement already satisfied: joblib>=1.1.1 in /usr/local/lib/python3.9/dist-packages (from scikit-learn>=0.20->eli5==0.13.0) (1.1.1)\n",
      "Building wheels for collected packages: eli5\n",
      "  Building wheel for eli5 (setup.py) ... \u001b[?25l\u001b[?25hdone\n",
      "  Created wheel for eli5: filename=eli5-0.13.0-py2.py3-none-any.whl size=107981 sha256=f06ad6d8e220047b245be0d29ad77b5e1038a854bb47972d76393bf878ea5cc9\n",
      "  Stored in directory: /tmp/pip-ephem-wheel-cache-q4ac95uq/wheels/c1/ad/f3/b3af14ae4f4172234826b1da650f1a97e45ee0b87597eaccc7\n",
      "Successfully built eli5\n",
      "Installing collected packages: eli5\n",
      "Successfully installed eli5-0.13.0\n"
     ]
    }
   ],
   "source": [
    "!pip install ktrain\n",
    "!pip install https://github.com/amaiya/eli5-tf/archive/refs/heads/master.zip"
   ]
  },
  {
   "cell_type": "code",
   "execution_count": 3,
   "metadata": {
    "ExecuteTime": {
     "end_time": "2023-03-17T21:10:47.950378Z",
     "start_time": "2023-03-17T21:10:47.937369Z"
    },
    "id": "X-IAR3sl65Js"
   },
   "outputs": [],
   "source": [
    "import tensorflow as tf\n",
    "import pandas as pd\n",
    "import numpy as np\n",
    "import ktrain\n",
    "import eli5\n",
    "import jieba\n",
    "from ktrain import text\n",
    "import tensorflow as tf\n",
    "import matplotlib.pyplot as plt"
   ]
  },
  {
   "cell_type": "markdown",
   "metadata": {
    "id": "QhsvEQdAJYoW"
   },
   "source": [
    "## Data Preparation"
   ]
  },
  {
   "cell_type": "code",
   "execution_count": 4,
   "metadata": {
    "ExecuteTime": {
     "end_time": "2023-03-17T22:07:44.050741Z",
     "start_time": "2023-03-17T22:07:43.408447Z"
    },
    "id": "s04qHEWErVva"
   },
   "outputs": [],
   "source": [
    "data_train = pd.read_csv('/content/drive/MyDrive/Colab Notebooks/bert/Meituan/train.csv')[['review','star']]\n",
    "data_test = pd.read_csv('/content/drive/MyDrive/Colab Notebooks/bert/Meituan/test.csv')[['review','star']]\n",
    "data_val = pd.read_csv('/content/drive/MyDrive/Colab Notebooks/bert/Meituan/dev.csv')[['review','star']]"
   ]
  },
  {
   "cell_type": "code",
   "execution_count": 5,
   "metadata": {
    "ExecuteTime": {
     "end_time": "2023-03-17T22:07:44.812075Z",
     "start_time": "2023-03-17T22:07:44.789057Z"
    },
    "id": "Tyw_9yKYu1Mz"
   },
   "outputs": [],
   "source": [
    "#构建label值\n",
    "def star2sen(score):\n",
    "    if score > 3:\n",
    "        return '1'\n",
    "    elif score == 3:\n",
    "        return '0'\n",
    "    elif score < 3:\n",
    "        return '-1'\n",
    "    else:\n",
    "        return None\n",
    "    \n",
    "#特征值转换\n",
    "data_train['sentiment'] = data_train['star'].map(lambda x: star2sen(x))\n",
    "data_val['sentiment'] = data_val['star'].map(lambda x: star2sen(x))\n",
    "data_test['sentiment'] = data_test['star'].map(lambda x: star2sen(x))"
   ]
  },
  {
   "cell_type": "markdown",
   "metadata": {
    "id": "Mjt-f-I0x38c"
   },
   "source": [
    "## LR"
   ]
  },
  {
   "cell_type": "markdown",
   "metadata": {
    "id": "QnHIxr_2x38c"
   },
   "source": [
    "### Tokenization"
   ]
  },
  {
   "cell_type": "code",
   "execution_count": null,
   "metadata": {
    "ExecuteTime": {
     "end_time": "2023-03-17T22:07:50.920729Z",
     "start_time": "2023-03-17T22:07:50.910727Z"
    },
    "id": "mThbjjOyx38c"
   },
   "outputs": [],
   "source": [
    "#引入停用词\n",
    "infile = open(\"bert/stopwords-zh.txt\",encoding='utf-8')\n",
    "stopwords_lst = infile.readlines()\n",
    "stopwords = [x.strip() for x in stopwords_lst]\n",
    "\n",
    "#中文分词\n",
    "def tokenization_dataset(train_data):\n",
    "    tokenized_df = train_data.apply(lambda x:' '.join(jieba.cut(x)))\n",
    "    return tokenized_df\n",
    "\n",
    "def tokenization_text(text):\n",
    "    tokenized_text = ' '.join(jieba.cut(text))\n",
    "    return tokenized_text"
   ]
  },
  {
   "cell_type": "code",
   "execution_count": null,
   "metadata": {
    "ExecuteTime": {
     "end_time": "2023-03-17T22:18:30.871095Z",
     "start_time": "2023-03-17T22:17:35.204454Z"
    },
    "id": "AELc5xXLx38d"
   },
   "outputs": [],
   "source": [
    "x_train_lr = tokenization_dataset(data_train[\"review\"])\n",
    "y_train_lr = data_train['sentiment']\n",
    "x_val_lr = tokenization_dataset(data_val[\"review\"])\n",
    "y_val_lr = data_val['sentiment']\n",
    "x_test_lr = tokenization_dataset(data_test[\"review\"])\n",
    "y_test_lr = data_test['sentiment']"
   ]
  },
  {
   "cell_type": "code",
   "execution_count": null,
   "metadata": {
    "ExecuteTime": {
     "end_time": "2023-03-17T22:19:27.381886Z",
     "start_time": "2023-03-17T22:19:24.407873Z"
    },
    "id": "Hgdk-Sv_x38d",
    "outputId": "cbd835c4-2bd2-48cb-fdf5-b272ee4a2d6c"
   },
   "outputs": [
    {
     "data": {
      "text/html": [
       "<style>#sk-container-id-11 {color: black;background-color: white;}#sk-container-id-11 pre{padding: 0;}#sk-container-id-11 div.sk-toggleable {background-color: white;}#sk-container-id-11 label.sk-toggleable__label {cursor: pointer;display: block;width: 100%;margin-bottom: 0;padding: 0.3em;box-sizing: border-box;text-align: center;}#sk-container-id-11 label.sk-toggleable__label-arrow:before {content: \"▸\";float: left;margin-right: 0.25em;color: #696969;}#sk-container-id-11 label.sk-toggleable__label-arrow:hover:before {color: black;}#sk-container-id-11 div.sk-estimator:hover label.sk-toggleable__label-arrow:before {color: black;}#sk-container-id-11 div.sk-toggleable__content {max-height: 0;max-width: 0;overflow: hidden;text-align: left;background-color: #f0f8ff;}#sk-container-id-11 div.sk-toggleable__content pre {margin: 0.2em;color: black;border-radius: 0.25em;background-color: #f0f8ff;}#sk-container-id-11 input.sk-toggleable__control:checked~div.sk-toggleable__content {max-height: 200px;max-width: 100%;overflow: auto;}#sk-container-id-11 input.sk-toggleable__control:checked~label.sk-toggleable__label-arrow:before {content: \"▾\";}#sk-container-id-11 div.sk-estimator input.sk-toggleable__control:checked~label.sk-toggleable__label {background-color: #d4ebff;}#sk-container-id-11 div.sk-label input.sk-toggleable__control:checked~label.sk-toggleable__label {background-color: #d4ebff;}#sk-container-id-11 input.sk-hidden--visually {border: 0;clip: rect(1px 1px 1px 1px);clip: rect(1px, 1px, 1px, 1px);height: 1px;margin: -1px;overflow: hidden;padding: 0;position: absolute;width: 1px;}#sk-container-id-11 div.sk-estimator {font-family: monospace;background-color: #f0f8ff;border: 1px dotted black;border-radius: 0.25em;box-sizing: border-box;margin-bottom: 0.5em;}#sk-container-id-11 div.sk-estimator:hover {background-color: #d4ebff;}#sk-container-id-11 div.sk-parallel-item::after {content: \"\";width: 100%;border-bottom: 1px solid gray;flex-grow: 1;}#sk-container-id-11 div.sk-label:hover label.sk-toggleable__label {background-color: #d4ebff;}#sk-container-id-11 div.sk-serial::before {content: \"\";position: absolute;border-left: 1px solid gray;box-sizing: border-box;top: 0;bottom: 0;left: 50%;z-index: 0;}#sk-container-id-11 div.sk-serial {display: flex;flex-direction: column;align-items: center;background-color: white;padding-right: 0.2em;padding-left: 0.2em;position: relative;}#sk-container-id-11 div.sk-item {position: relative;z-index: 1;}#sk-container-id-11 div.sk-parallel {display: flex;align-items: stretch;justify-content: center;background-color: white;position: relative;}#sk-container-id-11 div.sk-item::before, #sk-container-id-11 div.sk-parallel-item::before {content: \"\";position: absolute;border-left: 1px solid gray;box-sizing: border-box;top: 0;bottom: 0;left: 50%;z-index: -1;}#sk-container-id-11 div.sk-parallel-item {display: flex;flex-direction: column;z-index: 1;position: relative;background-color: white;}#sk-container-id-11 div.sk-parallel-item:first-child::after {align-self: flex-end;width: 50%;}#sk-container-id-11 div.sk-parallel-item:last-child::after {align-self: flex-start;width: 50%;}#sk-container-id-11 div.sk-parallel-item:only-child::after {width: 0;}#sk-container-id-11 div.sk-dashed-wrapped {border: 1px dashed gray;margin: 0 0.4em 0.5em 0.4em;box-sizing: border-box;padding-bottom: 0.4em;background-color: white;}#sk-container-id-11 div.sk-label label {font-family: monospace;font-weight: bold;display: inline-block;line-height: 1.2em;}#sk-container-id-11 div.sk-label-container {text-align: center;}#sk-container-id-11 div.sk-container {/* jupyter's `normalize.less` sets `[hidden] { display: none; }` but bootstrap.min.css set `[hidden] { display: none !important; }` so we also need the `!important` here to be able to override the default hidden behavior on the sphinx rendered scikit-learn.org. See: https://github.com/scikit-learn/scikit-learn/issues/21755 */display: inline-block !important;position: relative;}#sk-container-id-11 div.sk-text-repr-fallback {display: none;}</style><div id=\"sk-container-id-11\" class=\"sk-top-container\"><div class=\"sk-text-repr-fallback\"><pre>TfidfVectorizer(lowercase=False, max_features=30000,\n",
       "                stop_words=[&#x27;、&#x27;, &#x27;。&#x27;, &#x27;〈&#x27;, &#x27;〉&#x27;, &#x27;《&#x27;, &#x27;》&#x27;, &#x27;一&#x27;, &#x27;一个&#x27;, &#x27;一些&#x27;, &#x27;一何&#x27;,\n",
       "                            &#x27;一切&#x27;, &#x27;一则&#x27;, &#x27;一方面&#x27;, &#x27;一旦&#x27;, &#x27;一来&#x27;, &#x27;一样&#x27;, &#x27;一种&#x27;, &#x27;一般&#x27;,\n",
       "                            &#x27;一转眼&#x27;, &#x27;七&#x27;, &#x27;万一&#x27;, &#x27;三&#x27;, &#x27;上&#x27;, &#x27;上下&#x27;, &#x27;下&#x27;, &#x27;不&#x27;, &#x27;不仅&#x27;,\n",
       "                            &#x27;不但&#x27;, &#x27;不光&#x27;, &#x27;不单&#x27;, ...])</pre><b>In a Jupyter environment, please rerun this cell to show the HTML representation or trust the notebook. <br />On GitHub, the HTML representation is unable to render, please try loading this page with nbviewer.org.</b></div><div class=\"sk-container\" hidden><div class=\"sk-item\"><div class=\"sk-estimator sk-toggleable\"><input class=\"sk-toggleable__control sk-hidden--visually\" id=\"sk-estimator-id-11\" type=\"checkbox\" checked><label for=\"sk-estimator-id-11\" class=\"sk-toggleable__label sk-toggleable__label-arrow\">TfidfVectorizer</label><div class=\"sk-toggleable__content\"><pre>TfidfVectorizer(lowercase=False, max_features=30000,\n",
       "                stop_words=[&#x27;、&#x27;, &#x27;。&#x27;, &#x27;〈&#x27;, &#x27;〉&#x27;, &#x27;《&#x27;, &#x27;》&#x27;, &#x27;一&#x27;, &#x27;一个&#x27;, &#x27;一些&#x27;, &#x27;一何&#x27;,\n",
       "                            &#x27;一切&#x27;, &#x27;一则&#x27;, &#x27;一方面&#x27;, &#x27;一旦&#x27;, &#x27;一来&#x27;, &#x27;一样&#x27;, &#x27;一种&#x27;, &#x27;一般&#x27;,\n",
       "                            &#x27;一转眼&#x27;, &#x27;七&#x27;, &#x27;万一&#x27;, &#x27;三&#x27;, &#x27;上&#x27;, &#x27;上下&#x27;, &#x27;下&#x27;, &#x27;不&#x27;, &#x27;不仅&#x27;,\n",
       "                            &#x27;不但&#x27;, &#x27;不光&#x27;, &#x27;不单&#x27;, ...])</pre></div></div></div></div></div>"
      ],
      "text/plain": [
       "TfidfVectorizer(lowercase=False, max_features=30000,\n",
       "                stop_words=['、', '。', '〈', '〉', '《', '》', '一', '一个', '一些', '一何',\n",
       "                            '一切', '一则', '一方面', '一旦', '一来', '一样', '一种', '一般',\n",
       "                            '一转眼', '七', '万一', '三', '上', '上下', '下', '不', '不仅',\n",
       "                            '不但', '不光', '不单', ...])"
      ]
     },
     "execution_count": 166,
     "metadata": {},
     "output_type": "execute_result"
    }
   ],
   "source": [
    "from sklearn.feature_extraction.text import TfidfVectorizer\n",
    "#使用tf-idf把文本转为向量\n",
    "tv = TfidfVectorizer(stop_words=stopwords, max_features=30000, lowercase = False)\n",
    "tv.fit(x_train_lr)"
   ]
  },
  {
   "cell_type": "markdown",
   "metadata": {
    "id": "KxuXmvY703eT"
   },
   "source": [
    "### Train"
   ]
  },
  {
   "cell_type": "code",
   "execution_count": null,
   "metadata": {
    "ExecuteTime": {
     "end_time": "2023-03-17T22:19:36.759488Z",
     "start_time": "2023-03-17T22:19:27.632137Z"
    },
    "id": "2cHtw9Wux38d",
    "outputId": "3759cab9-6bf3-4949-862e-d5d605100d30"
   },
   "outputs": [
    {
     "data": {
      "text/plain": [
       "0.8115384615384615"
      ]
     },
     "execution_count": 167,
     "metadata": {},
     "output_type": "execute_result"
    }
   ],
   "source": [
    "#LR\n",
    "from sklearn.linear_model import LogisticRegression\n",
    "model_lr = LogisticRegression(max_iter=10000, multi_class='multinomial')\n",
    "model_lr.fit(tv.transform(x_train_lr), y_train_lr)\n",
    "model_lr.score(tv.transform(x_val_lr), y_val_lr)"
   ]
  },
  {
   "cell_type": "markdown",
   "metadata": {
    "id": "QanjVbtrUg2k"
   },
   "source": [
    "### Evaluation for LR Model"
   ]
  },
  {
   "cell_type": "code",
   "execution_count": null,
   "metadata": {
    "ExecuteTime": {
     "end_time": "2023-03-17T22:19:38.547286Z",
     "start_time": "2023-03-17T22:19:38.170987Z"
    },
    "id": "DIxLGlloW4ZY"
   },
   "outputs": [],
   "source": [
    "y_pred_lr = model_lr.predict(tv.transform(x_test_lr))"
   ]
  },
  {
   "cell_type": "code",
   "execution_count": null,
   "metadata": {
    "ExecuteTime": {
     "end_time": "2023-03-17T22:19:38.865927Z",
     "start_time": "2023-03-17T22:19:38.788016Z"
    },
    "colab": {
     "base_uri": "https://localhost:8080/"
    },
    "id": "amqEeO1sYKIp",
    "outputId": "96fc7307-f883-4deb-a7d7-9ad6e6599f97"
   },
   "outputs": [
    {
     "name": "stdout",
     "output_type": "stream",
     "text": [
      "              precision    recall  f1-score   support\n",
      "\n",
      "          -1       0.77      0.51      0.61       338\n",
      "           0       0.43      0.14      0.21       717\n",
      "           1       0.85      0.98      0.91      3885\n",
      "\n",
      "    accuracy                           0.82      4940\n",
      "   macro avg       0.68      0.54      0.58      4940\n",
      "weighted avg       0.78      0.82      0.78      4940\n",
      "\n"
     ]
    }
   ],
   "source": [
    "# classification report\n",
    "from sklearn.metrics import classification_report\n",
    "print(classification_report(y_test_lr, y_pred_lr))"
   ]
  },
  {
   "cell_type": "code",
   "execution_count": null,
   "metadata": {
    "ExecuteTime": {
     "end_time": "2023-03-17T22:19:39.976534Z",
     "start_time": "2023-03-17T22:19:39.947528Z"
    },
    "id": "PJt3-6h0XgDV",
    "outputId": "8a3c1bcf-8c93-41fa-ae5e-4370a1e60bef"
   },
   "outputs": [
    {
     "data": {
      "text/plain": [
       "array([[ 171,   51,  116],\n",
       "       [  41,   98,  578],\n",
       "       [   9,   81, 3795]], dtype=int64)"
      ]
     },
     "execution_count": 170,
     "metadata": {},
     "output_type": "execute_result"
    }
   ],
   "source": [
    "# Confusion Matrix\n",
    "from sklearn.metrics import confusion_matrix\n",
    "confusion_matrix(y_test_lr, y_pred_lr)"
   ]
  },
  {
   "cell_type": "code",
   "execution_count": null,
   "metadata": {
    "ExecuteTime": {
     "end_time": "2023-03-17T22:19:40.354810Z",
     "start_time": "2023-03-17T22:19:40.334807Z"
    },
    "id": "jdBKbN6xX4Bl",
    "outputId": "7bdf7cd3-b375-40bb-bc10-1fc40365ae06"
   },
   "outputs": [
    {
     "data": {
      "text/plain": [
       "array([0.6118068 , 0.20696938, 0.90637688])"
      ]
     },
     "execution_count": 171,
     "metadata": {},
     "output_type": "execute_result"
    }
   ],
   "source": [
    "# F1\n",
    "from sklearn.metrics import f1_score\n",
    "f1_score(y_test_lr, y_pred_lr, average=None)"
   ]
  },
  {
   "cell_type": "code",
   "execution_count": null,
   "metadata": {
    "ExecuteTime": {
     "end_time": "2023-03-17T22:19:41.324015Z",
     "start_time": "2023-03-17T22:19:41.312012Z"
    },
    "id": "f9UNWfGwx38e",
    "scrolled": false
   },
   "outputs": [],
   "source": [
    "def lr_explain(model, sentence, top_targets=1):\n",
    "    return eli5.show_prediction(model, tokenization_text(sentence), vec=tv, feature_names=tv.get_feature_names_out(), top_targets=top_targets)"
   ]
  },
  {
   "cell_type": "code",
   "execution_count": null,
   "metadata": {
    "ExecuteTime": {
     "end_time": "2023-03-17T22:19:41.702207Z",
     "start_time": "2023-03-17T22:19:41.686974Z"
    },
    "id": "JAa1UyGxx38f",
    "outputId": "31031084-620d-4065-c6d8-547a3015df5a"
   },
   "outputs": [
    {
     "data": {
      "text/plain": [
       "review       周三去的，盐酥鸡特价五块，上菜上的很快，盐酥鸡一端上来就是凉的，里面搭配的薯条也是面的，一看...\n",
       "star                                                       3.0\n",
       "sentiment                                                    0\n",
       "length                                                     238\n",
       "Name: 536, dtype: object"
      ]
     },
     "execution_count": 173,
     "metadata": {},
     "output_type": "execute_result"
    }
   ],
   "source": [
    "data_test.iloc[536]"
   ]
  },
  {
   "cell_type": "code",
   "execution_count": null,
   "metadata": {
    "ExecuteTime": {
     "end_time": "2023-03-17T22:28:01.361428Z",
     "start_time": "2023-03-17T22:28:01.311405Z"
    },
    "id": "qNFkhFB1x38f",
    "outputId": "0397b9eb-4f00-46e1-d6fc-2fff549b4220"
   },
   "outputs": [
    {
     "data": {
      "text/html": [
       "\n",
       "    <style>\n",
       "    table.eli5-weights tr:hover {\n",
       "        filter: brightness(85%);\n",
       "    }\n",
       "</style>\n",
       "\n",
       "\n",
       "\n",
       "    \n",
       "\n",
       "    \n",
       "\n",
       "    \n",
       "\n",
       "    \n",
       "\n",
       "    \n",
       "\n",
       "    \n",
       "\n",
       "\n",
       "    \n",
       "\n",
       "    \n",
       "\n",
       "    \n",
       "\n",
       "    \n",
       "        \n",
       "\n",
       "    \n",
       "\n",
       "        \n",
       "\n",
       "        \n",
       "    \n",
       "        \n",
       "        \n",
       "    \n",
       "        <p style=\"margin-bottom: 0.5em; margin-top: 0em\">\n",
       "            <b>\n",
       "    \n",
       "        y=0\n",
       "    \n",
       "</b>\n",
       "\n",
       "    \n",
       "    (probability <b>0.583</b>, score <b>0.687</b>)\n",
       "\n",
       "top features\n",
       "        </p>\n",
       "    \n",
       "    <table class=\"eli5-weights\"\n",
       "           style=\"border-collapse: collapse; border: none; margin-top: 0em; table-layout: auto; margin-bottom: 2em;\">\n",
       "        <thead>\n",
       "        <tr style=\"border: none;\">\n",
       "            \n",
       "                <th style=\"padding: 0 1em 0 0.5em; text-align: right; border: none;\" title=\"Feature contribution already accounts for the feature value (for linear models, contribution = weight * feature value), and the sum of feature contributions is equal to the score or, for some classifiers, to the probability. Feature values are shown if &quot;show_feature_values&quot; is True.\">\n",
       "                    Contribution<sup>?</sup>\n",
       "                </th>\n",
       "            \n",
       "            <th style=\"padding: 0 0.5em 0 0.5em; text-align: left; border: none;\">Feature</th>\n",
       "            \n",
       "        </tr>\n",
       "        </thead>\n",
       "        <tbody>\n",
       "        \n",
       "            <tr style=\"background-color: hsl(120, 100.00%, 80.00%); border: none;\">\n",
       "    <td style=\"padding: 0 1em 0 0.5em; text-align: right; border: none;\">\n",
       "        +0.926\n",
       "    </td>\n",
       "    <td style=\"padding: 0 0.5em 0 0.5em; text-align: left; border: none;\">\n",
       "        Highlighted in text (sum)\n",
       "    </td>\n",
       "    \n",
       "</tr>\n",
       "        \n",
       "        \n",
       "\n",
       "        \n",
       "        \n",
       "            <tr style=\"background-color: hsl(0, 100.00%, 92.25%); border: none;\">\n",
       "    <td style=\"padding: 0 1em 0 0.5em; text-align: right; border: none;\">\n",
       "        -0.239\n",
       "    </td>\n",
       "    <td style=\"padding: 0 0.5em 0 0.5em; text-align: left; border: none;\">\n",
       "        &lt;BIAS&gt;\n",
       "    </td>\n",
       "    \n",
       "</tr>\n",
       "        \n",
       "\n",
       "        </tbody>\n",
       "    </table>\n",
       "\n",
       "    \n",
       "\n",
       "\n",
       "\n",
       "    <p style=\"margin-bottom: 2.5em; margin-top:-0.5em;\">\n",
       "        <span style=\"background-color: hsl(120, 100.00%, 79.51%); opacity: 0.88\" title=\"0.045\">周三</span><span style=\"opacity: 0.80\"> 去 的 ， 盐 酥 鸡 </span><span style=\"background-color: hsl(120, 100.00%, 61.79%); opacity: 0.99\" title=\"0.109\">特价</span><span style=\"opacity: 0.80\"> </span><span style=\"background-color: hsl(0, 100.00%, 79.89%); opacity: 0.87\" title=\"-0.044\">五块</span><span style=\"opacity: 0.80\"> ， </span><span style=\"background-color: hsl(0, 100.00%, 92.36%); opacity: 0.82\" title=\"-0.011\">上菜</span><span style=\"opacity: 0.80\"> 上 的 </span><span style=\"background-color: hsl(120, 100.00%, 90.41%); opacity: 0.83\" title=\"0.015\">很快</span><span style=\"opacity: 0.80\"> ， 盐 酥 鸡 </span><span style=\"background-color: hsl(0, 100.00%, 91.58%); opacity: 0.82\" title=\"-0.013\">一端</span><span style=\"opacity: 0.80\"> </span><span style=\"background-color: hsl(0, 100.00%, 65.91%); opacity: 0.96\" title=\"-0.092\">上来</span><span style=\"opacity: 0.80\"> 就是 凉 的 ， </span><span style=\"background-color: hsl(120, 100.00%, 82.61%); opacity: 0.86\" title=\"0.035\">里面</span><span style=\"opacity: 0.80\"> </span><span style=\"background-color: hsl(120, 100.00%, 95.42%); opacity: 0.81\" title=\"0.005\">搭配</span><span style=\"opacity: 0.80\"> 的 </span><span style=\"background-color: hsl(120, 100.00%, 94.24%); opacity: 0.81\" title=\"0.007\">薯条</span><span style=\"opacity: 0.80\"> 也 是 面 的 ， </span><span style=\"background-color: hsl(0, 100.00%, 81.02%); opacity: 0.87\" title=\"-0.040\">一看</span><span style=\"opacity: 0.80\"> 就是 因为 </span><span style=\"background-color: hsl(120, 100.00%, 61.79%); opacity: 0.99\" title=\"0.109\">特价</span><span style=\"opacity: 0.80\"> </span><span style=\"background-color: hsl(0, 100.00%, 72.59%); opacity: 0.92\" title=\"-0.068\">提前</span><span style=\"opacity: 0.80\"> 很 </span><span style=\"background-color: hsl(120, 100.00%, 92.64%); opacity: 0.82\" title=\"0.010\">早就</span><span style=\"opacity: 0.80\"> 做 出来 的 ， </span><span style=\"background-color: hsl(0, 100.00%, 67.42%); opacity: 0.95\" title=\"-0.087\">直接</span><span style=\"opacity: 0.80\"> 盛 出来 </span><span style=\"background-color: hsl(120, 100.00%, 67.67%); opacity: 0.95\" title=\"0.086\">端上来</span><span style=\"opacity: 0.80\"> 了 ， </span><span style=\"background-color: hsl(0, 100.00%, 83.40%); opacity: 0.86\" title=\"-0.033\">鸭血</span><span style=\"opacity: 0.80\"> </span><span style=\"background-color: hsl(120, 100.00%, 78.02%); opacity: 0.89\" title=\"0.049\">粉丝汤</span><span style=\"opacity: 0.80\"> 就 更 </span><span style=\"background-color: hsl(0, 100.00%, 73.76%); opacity: 0.91\" title=\"-0.064\">不用说</span><span style=\"opacity: 0.80\"> 了 ， </span><span style=\"background-color: hsl(0, 100.00%, 81.05%); opacity: 0.87\" title=\"-0.040\">一点</span><span style=\"opacity: 0.80\"> 都 不 </span><span style=\"background-color: hsl(0, 100.00%, 88.45%); opacity: 0.83\" title=\"-0.020\">正宗</span><span style=\"opacity: 0.80\"> ， </span><span style=\"background-color: hsl(120, 100.00%, 82.24%); opacity: 0.86\" title=\"0.036\">粉丝</span><span style=\"opacity: 0.80\"> 都 成 坨 了 ， 而且 又 油 又 腻 。 </span><span style=\"background-color: hsl(120, 100.00%, 67.83%); opacity: 0.95\" title=\"0.085\">蓝莓</span><span style=\"opacity: 0.80\"> </span><span style=\"background-color: hsl(120, 100.00%, 89.47%); opacity: 0.83\" title=\"0.017\">土豆泥</span><span style=\"opacity: 0.80\"> </span><span style=\"background-color: hsl(120, 100.00%, 80.62%); opacity: 0.87\" title=\"0.041\">味道</span><span style=\"opacity: 0.80\"> 还 可以 ， 和 猫 </span><span style=\"background-color: hsl(120, 100.00%, 69.43%); opacity: 0.94\" title=\"0.079\">师傅</span><span style=\"opacity: 0.80\"> 家 的 一个 </span><span style=\"background-color: hsl(120, 100.00%, 80.62%); opacity: 0.87\" title=\"0.041\">味道</span><span style=\"opacity: 0.80\"> ， </span><span style=\"background-color: hsl(0, 100.00%, 94.49%); opacity: 0.81\" title=\"-0.007\">宫保鸡</span><span style=\"opacity: 0.80\"> 丁 和 灌 </span><span style=\"background-color: hsl(0, 100.00%, 85.64%); opacity: 0.85\" title=\"-0.027\">汤包</span><span style=\"opacity: 0.80\"> </span><span style=\"background-color: hsl(120, 100.00%, 80.62%); opacity: 0.87\" title=\"0.041\">味道</span><span style=\"opacity: 0.80\"> 都 </span><span style=\"background-color: hsl(120, 100.00%, 84.07%); opacity: 0.85\" title=\"0.031\">不错</span><span style=\"opacity: 0.80\"> 吃 </span><span style=\"background-color: hsl(120, 100.00%, 82.40%); opacity: 0.86\" title=\"0.036\">起来</span><span style=\"opacity: 0.80\"> </span><span style=\"background-color: hsl(120, 100.00%, 72.00%); opacity: 0.92\" title=\"0.070\">口感</span><span style=\"opacity: 0.80\"> </span><span style=\"background-color: hsl(120, 100.00%, 60.00%); opacity: 1.00\" title=\"0.116\">比较</span><span style=\"opacity: 0.80\"> 好 ， 炸 </span><span style=\"background-color: hsl(120, 100.00%, 63.63%); opacity: 0.97\" title=\"0.101\">春卷</span><span style=\"opacity: 0.80\"> </span><span style=\"background-color: hsl(120, 100.00%, 82.61%); opacity: 0.86\" title=\"0.035\">里面</span><span style=\"opacity: 0.80\"> 放 的 都 是 </span><span style=\"background-color: hsl(120, 100.00%, 91.92%); opacity: 0.82\" title=\"0.012\">韭黄</span><span style=\"opacity: 0.80\"> 和 </span><span style=\"background-color: hsl(120, 100.00%, 85.75%); opacity: 0.85\" title=\"0.027\">大葱</span><span style=\"opacity: 0.80\"> ， </span><span style=\"background-color: hsl(120, 100.00%, 95.05%); opacity: 0.81\" title=\"0.006\">真心</span><span style=\"opacity: 0.80\"> 不 </span><span style=\"background-color: hsl(0, 100.00%, 82.71%); opacity: 0.86\" title=\"-0.035\">好吃</span><span style=\"opacity: 0.80\"> ， </span><span style=\"background-color: hsl(120, 100.00%, 90.05%); opacity: 0.83\" title=\"0.016\">一顿饭</span><span style=\"opacity: 0.80\"> 吃 </span><span style=\"background-color: hsl(120, 100.00%, 72.62%); opacity: 0.92\" title=\"0.068\">下来</span><span style=\"opacity: 0.80\"> </span><span style=\"background-color: hsl(120, 100.00%, 77.14%); opacity: 0.89\" title=\"0.052\">感觉</span><span style=\"opacity: 0.80\"> </span><span style=\"background-color: hsl(0, 100.00%, 88.14%); opacity: 0.84\" title=\"-0.020\">真的</span><span style=\"opacity: 0.80\"> 太 一般 了 ， </span><span style=\"background-color: hsl(120, 100.00%, 99.23%); opacity: 0.80\" title=\"0.000\">结账</span><span style=\"opacity: 0.80\"> 的 时候 说 </span><span style=\"background-color: hsl(120, 100.00%, 84.14%); opacity: 0.85\" title=\"0.031\">打包</span><span style=\"opacity: 0.80\"> ， </span><span style=\"background-color: hsl(0, 100.00%, 81.62%); opacity: 0.87\" title=\"-0.038\">餐盒</span><span style=\"opacity: 0.80\"> 还要 </span><span style=\"background-color: hsl(120, 100.00%, 67.98%); opacity: 0.95\" title=\"0.085\">收费</span><span style=\"opacity: 0.80\"> </span><span style=\"background-color: hsl(120, 100.00%, 83.23%); opacity: 0.86\" title=\"0.034\">一块</span><span style=\"opacity: 0.80\"> 一个 ， 而且 </span><span style=\"background-color: hsl(120, 100.00%, 77.78%); opacity: 0.89\" title=\"0.050\">不能</span><span style=\"opacity: 0.80\"> </span><span style=\"background-color: hsl(120, 100.00%, 82.59%); opacity: 0.86\" title=\"0.035\">开发票</span><span style=\"opacity: 0.80\"> ， </span><span style=\"background-color: hsl(120, 100.00%, 80.27%); opacity: 0.87\" title=\"0.042\">难道</span><span style=\"opacity: 0.80\"> 此 </span><span style=\"background-color: hsl(0, 100.00%, 83.49%); opacity: 0.86\" title=\"-0.033\">餐厅</span><span style=\"opacity: 0.80\"> 不 </span><span style=\"background-color: hsl(0, 100.00%, 84.47%); opacity: 0.85\" title=\"-0.030\">知道</span><span style=\"opacity: 0.80\"> </span><span style=\"background-color: hsl(0, 100.00%, 81.68%); opacity: 0.87\" title=\"-0.038\">现在</span><span style=\"opacity: 0.80\"> 不 给 </span><span style=\"background-color: hsl(120, 100.00%, 82.59%); opacity: 0.86\" title=\"0.035\">开发票</span><span style=\"opacity: 0.80\"> 是 可以 </span><span style=\"background-color: hsl(0, 100.00%, 84.26%); opacity: 0.85\" title=\"-0.031\">投诉</span><span style=\"opacity: 0.80\"> 你们 的 么 ？</span>\n",
       "    </p>\n",
       "\n",
       "\n",
       "    \n",
       "\n",
       "    \n",
       "\n",
       "    \n",
       "\n",
       "    \n",
       "\n",
       "\n",
       "    \n",
       "\n",
       "    \n",
       "\n",
       "    \n",
       "\n",
       "    \n",
       "\n",
       "    \n",
       "\n",
       "    \n",
       "\n",
       "\n",
       "    \n",
       "\n",
       "    \n",
       "\n",
       "    \n",
       "\n",
       "    \n",
       "\n",
       "    \n",
       "\n",
       "    \n",
       "\n",
       "\n",
       "\n"
      ],
      "text/plain": [
       "<IPython.core.display.HTML object>"
      ]
     },
     "execution_count": 196,
     "metadata": {},
     "output_type": "execute_result"
    }
   ],
   "source": [
    "lr_explain(model_lr, data_test['review'][536])"
   ]
  },
  {
   "cell_type": "code",
   "execution_count": null,
   "metadata": {
    "ExecuteTime": {
     "end_time": "2023-03-17T22:25:44.376959Z",
     "start_time": "2023-03-17T22:25:44.370958Z"
    },
    "id": "nbnhrOa-x38f"
   },
   "outputs": [],
   "source": [
    "test1 = '很好吃，环境好，所有员工的态度都很好，上菜快，服务也很好，味道好吃，都是用蒸馏水煮的，推荐，超好吃' #5星好评\n",
    "test2 = '糯米外皮不绵滑，豆沙馅粗躁，没有香甜味。12元一碗不值。' #1星差评\n",
    "# 4星\n",
    "test3 = '昨儿晚上来凯德1818的绿茶吃饭，点了以下10个菜，这里面有好几个都是推荐菜品，咱挨个说啊～  第一张 “客家茄子煲”：一个字：咸、俩字：很咸、仨字：非常咸、四个字：咸（hou)死我了... ... 我很怀疑是不是师傅在放酱油的时候手抖了 然后整锅煲就是一锅酱色。里面的咸鱼粒很显然没有经过任何处理（泡一下水去掉部分盐分等），再加之菜本身很咸根本无法入口，整锅煲基本没动；第二张 “鱼头诱惑 ”：这道菜是翔哥点的 还不错 首先鱼头很新鲜 其次鱼头蒸的火候刚好 既入味还不老，建议除了小米辣再加上点泡椒，这样无论是颜色和口味上都会更棒的！这道菜基本消灭； 第三张：“小锅土豆”：厚片的土豆挂满酱汁，炉子在下面慢慢加热，后来加一片放到嘴里，几乎是入口即化、口感绵软，也是一道不错的下饭菜；第四张：“农家小菜”其实就是少了橄榄菜和肉末的豆角粒，味道还可以，如果把豆角再煸的干一点（表皮起皱）口感会更好；第五张“菜心金钩豆腐” 和没上图的“老乡浓汤”一起说了，两道分不清是汤、羹还是菜的东东，都是推荐菜 分不清也无所谓，重点是上菜的时候都不是热的 都是温的 “菜心”里面有蛋黄、“浓汤”里面有猪肚，这两种食材变冷后都会有腥味且口感不好，加之一碗有淀粉类的羹 温温的很难喝，建议出品后马上传菜到客人面前，口味上冷了就都不美味了；第六张：“麻酱油麦菜”很多地方也叫“麻酱凤尾” 麻酱用的像是麻酱和花生酱混合的甜口的酱料，重点是没有稀释！整个一坨粘在油麦菜上 根本拌不开 相比甜口的麻酱我更喜欢热干面那种咸口的、稀点儿的；第七张“面包诱惑”：这道是敬菜，口味还不错，冰淇淋也很好吃 就是卖相太一般了 既然要推广 至少要给点儿装饰，不用太复杂 拉个巧克力线条、给个蛋卷、水果粒稍稍点缀一下就会好看很多 面包本身口感和冰淇淋都很好吃 比很多外面装饰的那种美美的好吃多了 就差了一点装饰；第八张“绿茶烤鸡”很多人点这道菜，相比前几道的重口，烤鸡显得淡了一些。鸡皮的保护基本没有 所以整个鸡肉又干有柴、也挂不住调味料、下次有机会点个整只的或许会好一点；最后还有未上图的绿茶饼和糖醋里脊，绿茶饼还不错 可以一试 只要火候控制的好不炸过基本没问题，里面糯糯的馅儿很好吃；“糖醋里脊” 这是我吃过最难吃的版本，没有之一！上次有一小哥吐了一通槽 我还想就一个糖醋里脊也不是啥难菜 不至于吧 这次就抱着猎奇的心里点了一个 菜刚上来我就后悔了---老抽色（shai）的、外面一圈淀粉（粉面子）基本没吃着肉，糊哒哒粘成一坨 看起来和那个茄子煲没什么太大区别。建议找一个做糖醋里脊的店吃一次 看一看 就上个浆 过个油 浇个汁儿的事情 没那么难  肉类的菜品价格可以适当调高一些 我宁可多花点儿钱吃肉也不想吃这一坨坨粉面子。 总体而言环境还不错 价格很平民 服务中规中矩 但是菜品质量很是有待提高。看墙上的照片（不知道老板是不是做青旅起家的）菜品不会因为价格低而有销路 只会因为质量好才畅销（相比低价 现在的人们更喜欢质量好而有保障的食品 价格好一点反而是保证） 希望越做越好。地址在凯德1818  5楼手扶梯旁。'"
   ]
  },
  {
   "cell_type": "code",
   "execution_count": null,
   "metadata": {
    "ExecuteTime": {
     "end_time": "2023-03-17T22:20:04.349126Z",
     "start_time": "2023-03-17T22:20:04.299100Z"
    },
    "id": "QGBg8ayXx38g",
    "outputId": "89424530-71c6-4d9a-95df-e27b08b6abc9",
    "scrolled": true
   },
   "outputs": [
    {
     "data": {
      "text/html": [
       "\n",
       "    <style>\n",
       "    table.eli5-weights tr:hover {\n",
       "        filter: brightness(85%);\n",
       "    }\n",
       "</style>\n",
       "\n",
       "\n",
       "\n",
       "    \n",
       "\n",
       "    \n",
       "\n",
       "    \n",
       "\n",
       "    \n",
       "\n",
       "    \n",
       "\n",
       "    \n",
       "\n",
       "\n",
       "    \n",
       "\n",
       "    \n",
       "\n",
       "    \n",
       "\n",
       "    \n",
       "        \n",
       "\n",
       "    \n",
       "\n",
       "        \n",
       "\n",
       "        \n",
       "    \n",
       "        \n",
       "        \n",
       "    \n",
       "        <p style=\"margin-bottom: 0.5em; margin-top: 0em\">\n",
       "            <b>\n",
       "    \n",
       "        y=1\n",
       "    \n",
       "</b>\n",
       "\n",
       "    \n",
       "    (probability <b>0.969</b>, score <b>2.770</b>)\n",
       "\n",
       "top features\n",
       "        </p>\n",
       "    \n",
       "    <table class=\"eli5-weights\"\n",
       "           style=\"border-collapse: collapse; border: none; margin-top: 0em; table-layout: auto; margin-bottom: 2em;\">\n",
       "        <thead>\n",
       "        <tr style=\"border: none;\">\n",
       "            \n",
       "                <th style=\"padding: 0 1em 0 0.5em; text-align: right; border: none;\" title=\"Feature contribution already accounts for the feature value (for linear models, contribution = weight * feature value), and the sum of feature contributions is equal to the score or, for some classifiers, to the probability. Feature values are shown if &quot;show_feature_values&quot; is True.\">\n",
       "                    Contribution<sup>?</sup>\n",
       "                </th>\n",
       "            \n",
       "            <th style=\"padding: 0 0.5em 0 0.5em; text-align: left; border: none;\">Feature</th>\n",
       "            \n",
       "        </tr>\n",
       "        </thead>\n",
       "        <tbody>\n",
       "        \n",
       "            <tr style=\"background-color: hsl(120, 100.00%, 80.00%); border: none;\">\n",
       "    <td style=\"padding: 0 1em 0 0.5em; text-align: right; border: none;\">\n",
       "        +1.551\n",
       "    </td>\n",
       "    <td style=\"padding: 0 0.5em 0 0.5em; text-align: left; border: none;\">\n",
       "        Highlighted in text (sum)\n",
       "    </td>\n",
       "    \n",
       "</tr>\n",
       "        \n",
       "            <tr style=\"background-color: hsl(120, 100.00%, 83.11%); border: none;\">\n",
       "    <td style=\"padding: 0 1em 0 0.5em; text-align: right; border: none;\">\n",
       "        +1.219\n",
       "    </td>\n",
       "    <td style=\"padding: 0 0.5em 0 0.5em; text-align: left; border: none;\">\n",
       "        &lt;BIAS&gt;\n",
       "    </td>\n",
       "    \n",
       "</tr>\n",
       "        \n",
       "        \n",
       "\n",
       "        \n",
       "        \n",
       "\n",
       "        </tbody>\n",
       "    </table>\n",
       "\n",
       "    \n",
       "\n",
       "\n",
       "\n",
       "    <p style=\"margin-bottom: 2.5em; margin-top:-0.5em;\">\n",
       "        <span style=\"opacity: 0.80\">很 </span><span style=\"background-color: hsl(120, 100.00%, 60.00%); opacity: 1.00\" title=\"0.669\">好吃</span><span style=\"opacity: 0.80\"> ， </span><span style=\"background-color: hsl(120, 100.00%, 92.80%); opacity: 0.82\" title=\"0.058\">环境</span><span style=\"opacity: 0.80\"> 好 ， 所有 </span><span style=\"background-color: hsl(0, 100.00%, 79.13%); opacity: 0.88\" title=\"-0.264\">员工</span><span style=\"opacity: 0.80\"> 的 </span><span style=\"background-color: hsl(0, 100.00%, 84.43%); opacity: 0.85\" title=\"-0.174\">态度</span><span style=\"opacity: 0.80\"> 都 很 好 ， </span><span style=\"background-color: hsl(0, 100.00%, 84.82%); opacity: 0.85\" title=\"-0.168\">上菜</span><span style=\"opacity: 0.80\"> 快 ， </span><span style=\"background-color: hsl(0, 100.00%, 78.32%); opacity: 0.88\" title=\"-0.279\">服务</span><span style=\"opacity: 0.80\"> 也 很 好 ， </span><span style=\"background-color: hsl(0, 100.00%, 86.96%); opacity: 0.84\" title=\"-0.135\">味道</span><span style=\"opacity: 0.80\"> </span><span style=\"background-color: hsl(120, 100.00%, 60.00%); opacity: 1.00\" title=\"0.669\">好吃</span><span style=\"opacity: 0.80\"> ， 都 是 用 蒸馏水 煮 的 ， </span><span style=\"background-color: hsl(120, 100.00%, 67.08%); opacity: 0.95\" title=\"0.506\">推荐</span><span style=\"opacity: 0.80\"> ， 超 </span><span style=\"background-color: hsl(120, 100.00%, 60.00%); opacity: 1.00\" title=\"0.669\">好吃</span>\n",
       "    </p>\n",
       "\n",
       "\n",
       "    \n",
       "\n",
       "    \n",
       "\n",
       "    \n",
       "\n",
       "    \n",
       "\n",
       "\n",
       "    \n",
       "\n",
       "    \n",
       "\n",
       "    \n",
       "\n",
       "    \n",
       "\n",
       "    \n",
       "\n",
       "    \n",
       "\n",
       "\n",
       "    \n",
       "\n",
       "    \n",
       "\n",
       "    \n",
       "\n",
       "    \n",
       "\n",
       "    \n",
       "\n",
       "    \n",
       "\n",
       "\n",
       "\n"
      ],
      "text/plain": [
       "<IPython.core.display.HTML object>"
      ]
     },
     "execution_count": 180,
     "metadata": {},
     "output_type": "execute_result"
    }
   ],
   "source": [
    "lr_explain(model_lr, test1)"
   ]
  },
  {
   "cell_type": "code",
   "execution_count": null,
   "metadata": {
    "ExecuteTime": {
     "end_time": "2023-03-17T22:20:04.760735Z",
     "start_time": "2023-03-17T22:20:04.706904Z"
    },
    "id": "mWKoFuW8x38g",
    "outputId": "f65fd45f-9f6d-49bb-dbdc-a3379fd5b6d2",
    "scrolled": true
   },
   "outputs": [
    {
     "data": {
      "text/html": [
       "\n",
       "    <style>\n",
       "    table.eli5-weights tr:hover {\n",
       "        filter: brightness(85%);\n",
       "    }\n",
       "</style>\n",
       "\n",
       "\n",
       "\n",
       "    \n",
       "\n",
       "    \n",
       "\n",
       "    \n",
       "\n",
       "    \n",
       "\n",
       "    \n",
       "\n",
       "    \n",
       "\n",
       "\n",
       "    \n",
       "\n",
       "    \n",
       "\n",
       "    \n",
       "\n",
       "    \n",
       "        \n",
       "\n",
       "    \n",
       "\n",
       "    \n",
       "        \n",
       "    \n",
       "        \n",
       "        \n",
       "    \n",
       "        <p style=\"margin-bottom: 0.5em; margin-top: 0em\">\n",
       "            <b>\n",
       "    \n",
       "        y=1\n",
       "    \n",
       "</b>\n",
       "\n",
       "    \n",
       "    (probability <b>0.430</b>, score <b>0.321</b>)\n",
       "\n",
       "top features\n",
       "        </p>\n",
       "    \n",
       "    <table class=\"eli5-weights\"\n",
       "           style=\"border-collapse: collapse; border: none; margin-top: 0em; table-layout: auto; margin-bottom: 2em;\">\n",
       "        <thead>\n",
       "        <tr style=\"border: none;\">\n",
       "            \n",
       "                <th style=\"padding: 0 1em 0 0.5em; text-align: right; border: none;\" title=\"Feature contribution already accounts for the feature value (for linear models, contribution = weight * feature value), and the sum of feature contributions is equal to the score or, for some classifiers, to the probability. Feature values are shown if &quot;show_feature_values&quot; is True.\">\n",
       "                    Contribution<sup>?</sup>\n",
       "                </th>\n",
       "            \n",
       "            <th style=\"padding: 0 0.5em 0 0.5em; text-align: left; border: none;\">Feature</th>\n",
       "            \n",
       "        </tr>\n",
       "        </thead>\n",
       "        <tbody>\n",
       "        \n",
       "            <tr style=\"background-color: hsl(120, 100.00%, 80.00%); border: none;\">\n",
       "    <td style=\"padding: 0 1em 0 0.5em; text-align: right; border: none;\">\n",
       "        +1.219\n",
       "    </td>\n",
       "    <td style=\"padding: 0 0.5em 0 0.5em; text-align: left; border: none;\">\n",
       "        &lt;BIAS&gt;\n",
       "    </td>\n",
       "    \n",
       "</tr>\n",
       "        \n",
       "        \n",
       "\n",
       "        \n",
       "        \n",
       "            <tr style=\"background-color: hsl(0, 100.00%, 83.85%); border: none;\">\n",
       "    <td style=\"padding: 0 1em 0 0.5em; text-align: right; border: none;\">\n",
       "        -0.898\n",
       "    </td>\n",
       "    <td style=\"padding: 0 0.5em 0 0.5em; text-align: left; border: none;\">\n",
       "        Highlighted in text (sum)\n",
       "    </td>\n",
       "    \n",
       "</tr>\n",
       "        \n",
       "\n",
       "        </tbody>\n",
       "    </table>\n",
       "\n",
       "    \n",
       "\n",
       "\n",
       "\n",
       "    <p style=\"margin-bottom: 2.5em; margin-top:-0.5em;\">\n",
       "        <span style=\"background-color: hsl(120, 100.00%, 86.19%); opacity: 0.84\" title=\"0.194\">糯米</span><span style=\"opacity: 0.80\"> </span><span style=\"background-color: hsl(120, 100.00%, 83.39%); opacity: 0.86\" title=\"0.252\">外皮</span><span style=\"opacity: 0.80\"> 不绵滑 ， </span><span style=\"background-color: hsl(0, 100.00%, 98.68%); opacity: 0.80\" title=\"-0.007\">豆沙</span><span style=\"opacity: 0.80\"> 馅 粗躁 ， </span><span style=\"background-color: hsl(0, 100.00%, 77.35%); opacity: 0.89\" title=\"-0.393\">没有</span><span style=\"opacity: 0.80\"> 香 </span><span style=\"background-color: hsl(120, 100.00%, 92.42%); opacity: 0.82\" title=\"0.082\">甜味</span><span style=\"opacity: 0.80\"> 。 </span><span style=\"background-color: hsl(120, 100.00%, 91.59%); opacity: 0.82\" title=\"0.095\">12</span><span style=\"opacity: 0.80\"> 元 </span><span style=\"background-color: hsl(0, 100.00%, 84.10%); opacity: 0.85\" title=\"-0.237\">一碗</span><span style=\"opacity: 0.80\"> </span><span style=\"background-color: hsl(0, 100.00%, 60.00%); opacity: 1.00\" title=\"-0.885\">不值</span><span style=\"opacity: 0.80\"> 。</span>\n",
       "    </p>\n",
       "\n",
       "    \n",
       "        \n",
       "    \n",
       "        \n",
       "        \n",
       "    \n",
       "        <p style=\"margin-bottom: 0.5em; margin-top: 0em\">\n",
       "            <b>\n",
       "    \n",
       "        y=0\n",
       "    \n",
       "</b>\n",
       "\n",
       "    \n",
       "    (probability <b>0.388</b>, score <b>0.218</b>)\n",
       "\n",
       "top features\n",
       "        </p>\n",
       "    \n",
       "    <table class=\"eli5-weights\"\n",
       "           style=\"border-collapse: collapse; border: none; margin-top: 0em; table-layout: auto; margin-bottom: 2em;\">\n",
       "        <thead>\n",
       "        <tr style=\"border: none;\">\n",
       "            \n",
       "                <th style=\"padding: 0 1em 0 0.5em; text-align: right; border: none;\" title=\"Feature contribution already accounts for the feature value (for linear models, contribution = weight * feature value), and the sum of feature contributions is equal to the score or, for some classifiers, to the probability. Feature values are shown if &quot;show_feature_values&quot; is True.\">\n",
       "                    Contribution<sup>?</sup>\n",
       "                </th>\n",
       "            \n",
       "            <th style=\"padding: 0 0.5em 0 0.5em; text-align: left; border: none;\">Feature</th>\n",
       "            \n",
       "        </tr>\n",
       "        </thead>\n",
       "        <tbody>\n",
       "        \n",
       "            <tr style=\"background-color: hsl(120, 100.00%, 89.94%); border: none;\">\n",
       "    <td style=\"padding: 0 1em 0 0.5em; text-align: right; border: none;\">\n",
       "        +0.457\n",
       "    </td>\n",
       "    <td style=\"padding: 0 0.5em 0 0.5em; text-align: left; border: none;\">\n",
       "        Highlighted in text (sum)\n",
       "    </td>\n",
       "    \n",
       "</tr>\n",
       "        \n",
       "        \n",
       "\n",
       "        \n",
       "        \n",
       "            <tr style=\"background-color: hsl(0, 100.00%, 93.61%); border: none;\">\n",
       "    <td style=\"padding: 0 1em 0 0.5em; text-align: right; border: none;\">\n",
       "        -0.239\n",
       "    </td>\n",
       "    <td style=\"padding: 0 0.5em 0 0.5em; text-align: left; border: none;\">\n",
       "        &lt;BIAS&gt;\n",
       "    </td>\n",
       "    \n",
       "</tr>\n",
       "        \n",
       "\n",
       "        </tbody>\n",
       "    </table>\n",
       "\n",
       "    \n",
       "\n",
       "\n",
       "\n",
       "    <p style=\"margin-bottom: 2.5em; margin-top:-0.5em;\">\n",
       "        <span style=\"background-color: hsl(0, 100.00%, 85.79%); opacity: 0.85\" title=\"-0.202\">糯米</span><span style=\"opacity: 0.80\"> </span><span style=\"background-color: hsl(0, 100.00%, 91.72%); opacity: 0.82\" title=\"-0.093\">外皮</span><span style=\"opacity: 0.80\"> 不绵滑 ， </span><span style=\"background-color: hsl(120, 100.00%, 85.26%); opacity: 0.85\" title=\"0.213\">豆沙</span><span style=\"opacity: 0.80\"> 馅 粗躁 ， </span><span style=\"background-color: hsl(120, 100.00%, 92.82%); opacity: 0.82\" title=\"0.076\">没有</span><span style=\"opacity: 0.80\"> 香 </span><span style=\"background-color: hsl(120, 100.00%, 93.75%); opacity: 0.81\" title=\"0.062\">甜味</span><span style=\"opacity: 0.80\"> 。 </span><span style=\"background-color: hsl(0, 100.00%, 88.78%); opacity: 0.83\" title=\"-0.144\">12</span><span style=\"opacity: 0.80\"> 元 </span><span style=\"background-color: hsl(120, 100.00%, 82.19%); opacity: 0.86\" title=\"0.279\">一碗</span><span style=\"opacity: 0.80\"> </span><span style=\"background-color: hsl(120, 100.00%, 82.76%); opacity: 0.86\" title=\"0.266\">不值</span><span style=\"opacity: 0.80\"> 。</span>\n",
       "    </p>\n",
       "\n",
       "    \n",
       "        \n",
       "    \n",
       "        \n",
       "        \n",
       "    \n",
       "        <p style=\"margin-bottom: 0.5em; margin-top: 0em\">\n",
       "            <b>\n",
       "    \n",
       "        y=-1\n",
       "    \n",
       "</b>\n",
       "\n",
       "    \n",
       "    (probability <b>0.182</b>, score <b>-0.538</b>)\n",
       "\n",
       "top features\n",
       "        </p>\n",
       "    \n",
       "    <table class=\"eli5-weights\"\n",
       "           style=\"border-collapse: collapse; border: none; margin-top: 0em; table-layout: auto; margin-bottom: 2em;\">\n",
       "        <thead>\n",
       "        <tr style=\"border: none;\">\n",
       "            \n",
       "                <th style=\"padding: 0 1em 0 0.5em; text-align: right; border: none;\" title=\"Feature contribution already accounts for the feature value (for linear models, contribution = weight * feature value), and the sum of feature contributions is equal to the score or, for some classifiers, to the probability. Feature values are shown if &quot;show_feature_values&quot; is True.\">\n",
       "                    Contribution<sup>?</sup>\n",
       "                </th>\n",
       "            \n",
       "            <th style=\"padding: 0 0.5em 0 0.5em; text-align: left; border: none;\">Feature</th>\n",
       "            \n",
       "        </tr>\n",
       "        </thead>\n",
       "        <tbody>\n",
       "        \n",
       "            <tr style=\"background-color: hsl(120, 100.00%, 90.18%); border: none;\">\n",
       "    <td style=\"padding: 0 1em 0 0.5em; text-align: right; border: none;\">\n",
       "        +0.441\n",
       "    </td>\n",
       "    <td style=\"padding: 0 0.5em 0 0.5em; text-align: left; border: none;\">\n",
       "        Highlighted in text (sum)\n",
       "    </td>\n",
       "    \n",
       "</tr>\n",
       "        \n",
       "        \n",
       "\n",
       "        \n",
       "        \n",
       "            <tr style=\"background-color: hsl(0, 100.00%, 82.83%); border: none;\">\n",
       "    <td style=\"padding: 0 1em 0 0.5em; text-align: right; border: none;\">\n",
       "        -0.980\n",
       "    </td>\n",
       "    <td style=\"padding: 0 0.5em 0 0.5em; text-align: left; border: none;\">\n",
       "        &lt;BIAS&gt;\n",
       "    </td>\n",
       "    \n",
       "</tr>\n",
       "        \n",
       "\n",
       "        </tbody>\n",
       "    </table>\n",
       "\n",
       "    \n",
       "\n",
       "\n",
       "\n",
       "    <p style=\"margin-bottom: 2.5em; margin-top:-0.5em;\">\n",
       "        <span style=\"background-color: hsl(120, 100.00%, 98.52%); opacity: 0.80\" title=\"0.008\">糯米</span><span style=\"opacity: 0.80\"> </span><span style=\"background-color: hsl(0, 100.00%, 87.98%); opacity: 0.84\" title=\"-0.159\">外皮</span><span style=\"opacity: 0.80\"> 不绵滑 ， </span><span style=\"background-color: hsl(0, 100.00%, 85.59%); opacity: 0.85\" title=\"-0.206\">豆沙</span><span style=\"opacity: 0.80\"> 馅 粗躁 ， </span><span style=\"background-color: hsl(120, 100.00%, 80.52%); opacity: 0.87\" title=\"0.317\">没有</span><span style=\"opacity: 0.80\"> 香 </span><span style=\"background-color: hsl(0, 100.00%, 88.75%); opacity: 0.83\" title=\"-0.145\">甜味</span><span style=\"opacity: 0.80\"> 。 </span><span style=\"background-color: hsl(120, 100.00%, 94.75%); opacity: 0.81\" title=\"0.049\">12</span><span style=\"opacity: 0.80\"> 元 </span><span style=\"background-color: hsl(0, 100.00%, 95.28%); opacity: 0.81\" title=\"-0.042\">一碗</span><span style=\"opacity: 0.80\"> </span><span style=\"background-color: hsl(120, 100.00%, 68.86%); opacity: 0.94\" title=\"0.619\">不值</span><span style=\"opacity: 0.80\"> 。</span>\n",
       "    </p>\n",
       "\n",
       "    \n",
       "\n",
       "\n",
       "    \n",
       "\n",
       "    \n",
       "\n",
       "    \n",
       "\n",
       "\n",
       "    \n",
       "\n",
       "    \n",
       "\n",
       "    \n",
       "\n",
       "    \n",
       "\n",
       "    \n",
       "\n",
       "    \n",
       "\n",
       "\n",
       "    \n",
       "\n",
       "    \n",
       "\n",
       "    \n",
       "\n",
       "    \n",
       "\n",
       "    \n",
       "\n",
       "    \n",
       "\n",
       "\n",
       "\n"
      ],
      "text/plain": [
       "<IPython.core.display.HTML object>"
      ]
     },
     "execution_count": 181,
     "metadata": {},
     "output_type": "execute_result"
    }
   ],
   "source": [
    "lr_explain(model_lr, test2, top_targets=3)  # 错误分类"
   ]
  },
  {
   "cell_type": "code",
   "execution_count": null,
   "metadata": {
    "ExecuteTime": {
     "end_time": "2023-03-17T22:32:34.415267Z",
     "start_time": "2023-03-17T22:32:34.326648Z"
    },
    "id": "u3BWfzuvx38g",
    "outputId": "f7b2028b-ef3d-40a4-8e80-54b31903992d",
    "scrolled": true
   },
   "outputs": [
    {
     "data": {
      "text/html": [
       "\n",
       "    <style>\n",
       "    table.eli5-weights tr:hover {\n",
       "        filter: brightness(85%);\n",
       "    }\n",
       "</style>\n",
       "\n",
       "\n",
       "\n",
       "    \n",
       "\n",
       "    \n",
       "\n",
       "    \n",
       "\n",
       "    \n",
       "\n",
       "    \n",
       "\n",
       "    \n",
       "\n",
       "\n",
       "    \n",
       "\n",
       "    \n",
       "\n",
       "    \n",
       "\n",
       "    \n",
       "        \n",
       "\n",
       "    \n",
       "\n",
       "        \n",
       "\n",
       "        \n",
       "    \n",
       "        \n",
       "        \n",
       "    \n",
       "        <p style=\"margin-bottom: 0.5em; margin-top: 0em\">\n",
       "            <b>\n",
       "    \n",
       "        y=1\n",
       "    \n",
       "</b>\n",
       "\n",
       "    \n",
       "    (probability <b>0.670</b>, score <b>1.108</b>)\n",
       "\n",
       "top features\n",
       "        </p>\n",
       "    \n",
       "    <table class=\"eli5-weights\"\n",
       "           style=\"border-collapse: collapse; border: none; margin-top: 0em; table-layout: auto; margin-bottom: 2em;\">\n",
       "        <thead>\n",
       "        <tr style=\"border: none;\">\n",
       "            \n",
       "                <th style=\"padding: 0 1em 0 0.5em; text-align: right; border: none;\" title=\"Feature contribution already accounts for the feature value (for linear models, contribution = weight * feature value), and the sum of feature contributions is equal to the score or, for some classifiers, to the probability. Feature values are shown if &quot;show_feature_values&quot; is True.\">\n",
       "                    Contribution<sup>?</sup>\n",
       "                </th>\n",
       "            \n",
       "            <th style=\"padding: 0 0.5em 0 0.5em; text-align: left; border: none;\">Feature</th>\n",
       "            \n",
       "        </tr>\n",
       "        </thead>\n",
       "        <tbody>\n",
       "        \n",
       "            <tr style=\"background-color: hsl(120, 100.00%, 80.00%); border: none;\">\n",
       "    <td style=\"padding: 0 1em 0 0.5em; text-align: right; border: none;\">\n",
       "        +1.219\n",
       "    </td>\n",
       "    <td style=\"padding: 0 0.5em 0 0.5em; text-align: left; border: none;\">\n",
       "        &lt;BIAS&gt;\n",
       "    </td>\n",
       "    \n",
       "</tr>\n",
       "        \n",
       "        \n",
       "\n",
       "        \n",
       "        \n",
       "            <tr style=\"background-color: hsl(0, 100.00%, 96.26%); border: none;\">\n",
       "    <td style=\"padding: 0 1em 0 0.5em; text-align: right; border: none;\">\n",
       "        -0.111\n",
       "    </td>\n",
       "    <td style=\"padding: 0 0.5em 0 0.5em; text-align: left; border: none;\">\n",
       "        Highlighted in text (sum)\n",
       "    </td>\n",
       "    \n",
       "</tr>\n",
       "        \n",
       "\n",
       "        </tbody>\n",
       "    </table>\n",
       "\n",
       "    \n",
       "\n",
       "\n",
       "\n",
       "    <p style=\"margin-bottom: 2.5em; margin-top:-0.5em;\">\n",
       "        <span style=\"background-color: hsl(120, 100.00%, 98.60%); opacity: 0.80\" title=\"0.002\">昨儿</span><span style=\"opacity: 0.80\"> </span><span style=\"background-color: hsl(120, 100.00%, 98.24%); opacity: 0.80\" title=\"0.002\">晚上</span><span style=\"opacity: 0.80\"> 来 </span><span style=\"background-color: hsl(120, 100.00%, 89.88%); opacity: 0.83\" title=\"0.026\">凯德</span><span style=\"opacity: 0.80\"> </span><span style=\"background-color: hsl(0, 100.00%, 91.79%); opacity: 0.82\" title=\"-0.020\">1818</span><span style=\"opacity: 0.80\"> 的 </span><span style=\"background-color: hsl(0, 100.00%, 90.82%); opacity: 0.82\" title=\"-0.023\">绿茶</span><span style=\"opacity: 0.80\"> </span><span style=\"background-color: hsl(0, 100.00%, 91.40%); opacity: 0.82\" title=\"-0.021\">吃饭</span><span style=\"opacity: 0.80\"> ， 点 了 </span><span style=\"background-color: hsl(120, 100.00%, 83.55%); opacity: 0.86\" title=\"0.053\">以下</span><span style=\"opacity: 0.80\"> </span><span style=\"background-color: hsl(0, 100.00%, 96.42%); opacity: 0.81\" title=\"-0.006\">10</span><span style=\"opacity: 0.80\"> 个 菜 ， 这 </span><span style=\"background-color: hsl(0, 100.00%, 97.02%); opacity: 0.80\" title=\"-0.005\">里面</span><span style=\"opacity: 0.80\"> 有 </span><span style=\"background-color: hsl(0, 100.00%, 92.96%); opacity: 0.82\" title=\"-0.016\">好几个</span><span style=\"opacity: 0.80\"> 都 是 </span><span style=\"background-color: hsl(120, 100.00%, 85.94%); opacity: 0.84\" title=\"0.042\">推荐</span><span style=\"opacity: 0.80\"> </span><span style=\"background-color: hsl(0, 100.00%, 96.85%); opacity: 0.81\" title=\"-0.005\">菜品</span><span style=\"opacity: 0.80\"> ， 咱 </span><span style=\"background-color: hsl(0, 100.00%, 95.89%); opacity: 0.81\" title=\"-0.007\">挨个</span><span style=\"opacity: 0.80\"> 说 啊 ～     </span><span style=\"background-color: hsl(0, 100.00%, 97.48%); opacity: 0.80\" title=\"-0.004\">第一张</span><span style=\"opacity: 0.80\">   “ </span><span style=\"background-color: hsl(0, 100.00%, 97.86%); opacity: 0.80\" title=\"-0.003\">客家</span><span style=\"opacity: 0.80\"> </span><span style=\"background-color: hsl(0, 100.00%, 91.57%); opacity: 0.82\" title=\"-0.020\">茄子</span><span style=\"opacity: 0.80\"> 煲 ” ： 一个 字 ： 咸 、 俩 字 ： 很 咸 、 仨 字 ： </span><span style=\"background-color: hsl(120, 100.00%, 84.34%); opacity: 0.85\" title=\"0.049\">非常</span><span style=\"opacity: 0.80\"> 咸 、 </span><span style=\"background-color: hsl(0, 100.00%, 96.39%); opacity: 0.81\" title=\"-0.006\">四个</span><span style=\"opacity: 0.80\"> 字 ： 咸 （ hou ) 死 我 了 ...   ...   我 很 </span><span style=\"background-color: hsl(0, 100.00%, 83.00%); opacity: 0.86\" title=\"-0.055\">怀疑</span><span style=\"opacity: 0.80\"> </span><span style=\"background-color: hsl(0, 100.00%, 86.58%); opacity: 0.84\" title=\"-0.039\">是不是</span><span style=\"opacity: 0.80\"> </span><span style=\"background-color: hsl(0, 100.00%, 90.53%); opacity: 0.83\" title=\"-0.024\">师傅</span><span style=\"opacity: 0.80\"> 在 放 </span><span style=\"background-color: hsl(0, 100.00%, 93.59%); opacity: 0.81\" title=\"-0.014\">酱油</span><span style=\"opacity: 0.80\"> 的 时候 </span><span style=\"background-color: hsl(120, 100.00%, 97.47%); opacity: 0.80\" title=\"0.004\">手抖</span><span style=\"opacity: 0.80\"> 了   然后 </span><span style=\"background-color: hsl(0, 100.00%, 94.87%); opacity: 0.81\" title=\"-0.010\">整锅</span><span style=\"opacity: 0.80\"> 煲 就是 </span><span style=\"background-color: hsl(120, 100.00%, 98.50%); opacity: 0.80\" title=\"0.002\">一锅</span><span style=\"opacity: 0.80\"> </span><span style=\"background-color: hsl(120, 100.00%, 96.53%); opacity: 0.81\" title=\"0.006\">酱色</span><span style=\"opacity: 0.80\"> 。 </span><span style=\"background-color: hsl(0, 100.00%, 97.02%); opacity: 0.80\" title=\"-0.005\">里面</span><span style=\"opacity: 0.80\"> 的 </span><span style=\"background-color: hsl(0, 100.00%, 96.87%); opacity: 0.81\" title=\"-0.005\">咸鱼</span><span style=\"opacity: 0.80\"> 粒 很 </span><span style=\"background-color: hsl(0, 100.00%, 94.28%); opacity: 0.81\" title=\"-0.012\">显然</span><span style=\"opacity: 0.80\"> </span><span style=\"background-color: hsl(0, 100.00%, 85.35%); opacity: 0.85\" title=\"-0.045\">没有</span><span style=\"opacity: 0.80\"> 经过 任何 </span><span style=\"background-color: hsl(0, 100.00%, 93.98%); opacity: 0.81\" title=\"-0.013\">处理</span><span style=\"opacity: 0.80\"> （ 泡 </span><span style=\"background-color: hsl(120, 100.00%, 94.26%); opacity: 0.81\" title=\"0.012\">一下</span><span style=\"opacity: 0.80\"> 水 </span><span style=\"background-color: hsl(0, 100.00%, 93.00%); opacity: 0.82\" title=\"-0.016\">去掉</span><span style=\"opacity: 0.80\"> </span><span style=\"background-color: hsl(120, 100.00%, 98.19%); opacity: 0.80\" title=\"0.002\">部分</span><span style=\"opacity: 0.80\"> </span><span style=\"background-color: hsl(0, 100.00%, 92.16%); opacity: 0.82\" title=\"-0.018\">盐分</span><span style=\"opacity: 0.80\"> 等 ） ， 再加之 菜 本身 很 咸 </span><span style=\"background-color: hsl(0, 100.00%, 99.42%); opacity: 0.80\" title=\"-0.000\">根本无法</span><span style=\"opacity: 0.80\"> </span><span style=\"background-color: hsl(120, 100.00%, 86.42%); opacity: 0.84\" title=\"0.040\">入口</span><span style=\"opacity: 0.80\"> ， </span><span style=\"background-color: hsl(0, 100.00%, 94.87%); opacity: 0.81\" title=\"-0.010\">整锅</span><span style=\"opacity: 0.80\"> 煲 </span><span style=\"background-color: hsl(0, 100.00%, 95.58%); opacity: 0.81\" title=\"-0.008\">基本</span><span style=\"opacity: 0.80\"> 没 动 ； </span><span style=\"background-color: hsl(0, 100.00%, 95.25%); opacity: 0.81\" title=\"-0.009\">第二张</span><span style=\"opacity: 0.80\">   “ </span><span style=\"background-color: hsl(0, 100.00%, 95.46%); opacity: 0.81\" title=\"-0.008\">鱼头</span><span style=\"opacity: 0.80\"> </span><span style=\"background-color: hsl(120, 100.00%, 95.36%); opacity: 0.81\" title=\"0.009\">诱惑</span><span style=\"opacity: 0.80\">   ” ： 这 </span><span style=\"background-color: hsl(0, 100.00%, 93.72%); opacity: 0.81\" title=\"-0.013\">道菜</span><span style=\"opacity: 0.80\"> 是 翔 哥点 的   还 </span><span style=\"background-color: hsl(120, 100.00%, 81.10%); opacity: 0.87\" title=\"0.064\">不错</span><span style=\"opacity: 0.80\">   首先 </span><span style=\"background-color: hsl(0, 100.00%, 95.46%); opacity: 0.81\" title=\"-0.008\">鱼头</span><span style=\"opacity: 0.80\"> 很 </span><span style=\"background-color: hsl(120, 100.00%, 93.71%); opacity: 0.81\" title=\"0.013\">新鲜</span><span style=\"opacity: 0.80\">   其次 </span><span style=\"background-color: hsl(0, 100.00%, 95.46%); opacity: 0.81\" title=\"-0.008\">鱼头</span><span style=\"opacity: 0.80\"> 蒸 的 </span><span style=\"background-color: hsl(0, 100.00%, 89.39%); opacity: 0.83\" title=\"-0.028\">火候</span><span style=\"opacity: 0.80\"> </span><span style=\"background-color: hsl(120, 100.00%, 90.16%); opacity: 0.83\" title=\"0.025\">刚好</span><span style=\"opacity: 0.80\">   既 </span><span style=\"background-color: hsl(120, 100.00%, 91.60%); opacity: 0.82\" title=\"0.020\">入味</span><span style=\"opacity: 0.80\"> 还 不 老 ， </span><span style=\"background-color: hsl(120, 100.00%, 88.79%); opacity: 0.83\" title=\"0.030\">建议</span><span style=\"opacity: 0.80\"> 除了 </span><span style=\"background-color: hsl(120, 100.00%, 89.71%); opacity: 0.83\" title=\"0.027\">小米</span><span style=\"opacity: 0.80\"> 辣 再 </span><span style=\"background-color: hsl(120, 100.00%, 91.17%); opacity: 0.82\" title=\"0.022\">加上</span><span style=\"opacity: 0.80\"> 点泡椒 ， 这样 </span><span style=\"background-color: hsl(120, 100.00%, 93.12%); opacity: 0.82\" title=\"0.015\">无论是</span><span style=\"opacity: 0.80\"> </span><span style=\"background-color: hsl(120, 100.00%, 92.93%); opacity: 0.82\" title=\"0.016\">颜色</span><span style=\"opacity: 0.80\"> 和 </span><span style=\"background-color: hsl(120, 100.00%, 98.15%); opacity: 0.80\" title=\"0.002\">口味</span><span style=\"opacity: 0.80\"> 上 都 会 更 棒 的 ！ 这 </span><span style=\"background-color: hsl(0, 100.00%, 93.72%); opacity: 0.81\" title=\"-0.013\">道菜</span><span style=\"opacity: 0.80\"> </span><span style=\"background-color: hsl(0, 100.00%, 95.58%); opacity: 0.81\" title=\"-0.008\">基本</span><span style=\"opacity: 0.80\"> </span><span style=\"background-color: hsl(120, 100.00%, 97.59%); opacity: 0.80\" title=\"0.003\">消灭</span><span style=\"opacity: 0.80\"> ；   </span><span style=\"background-color: hsl(120, 100.00%, 95.75%); opacity: 0.81\" title=\"0.008\">第三张</span><span style=\"opacity: 0.80\"> ： “ </span><span style=\"background-color: hsl(120, 100.00%, 91.68%); opacity: 0.82\" title=\"0.020\">小锅</span><span style=\"opacity: 0.80\"> </span><span style=\"background-color: hsl(0, 100.00%, 91.62%); opacity: 0.82\" title=\"-0.020\">土豆</span><span style=\"opacity: 0.80\"> ” ： </span><span style=\"background-color: hsl(120, 100.00%, 95.69%); opacity: 0.81\" title=\"0.008\">厚片</span><span style=\"opacity: 0.80\"> 的 </span><span style=\"background-color: hsl(0, 100.00%, 91.62%); opacity: 0.82\" title=\"-0.020\">土豆</span><span style=\"opacity: 0.80\"> </span><span style=\"background-color: hsl(120, 100.00%, 95.39%); opacity: 0.81\" title=\"0.009\">挂满</span><span style=\"opacity: 0.80\"> </span><span style=\"background-color: hsl(120, 100.00%, 91.56%); opacity: 0.82\" title=\"0.020\">酱汁</span><span style=\"opacity: 0.80\"> ， </span><span style=\"background-color: hsl(120, 100.00%, 90.10%); opacity: 0.83\" title=\"0.025\">炉子</span><span style=\"opacity: 0.80\"> 在 </span><span style=\"background-color: hsl(0, 100.00%, 98.63%); opacity: 0.80\" title=\"-0.002\">下面</span><span style=\"opacity: 0.80\"> </span><span style=\"background-color: hsl(120, 100.00%, 85.12%); opacity: 0.85\" title=\"0.046\">慢慢</span><span style=\"opacity: 0.80\"> </span><span style=\"background-color: hsl(0, 100.00%, 86.93%); opacity: 0.84\" title=\"-0.038\">加热</span><span style=\"opacity: 0.80\"> ， </span><span style=\"background-color: hsl(0, 100.00%, 91.73%); opacity: 0.82\" title=\"-0.020\">后来</span><span style=\"opacity: 0.80\"> 加 </span><span style=\"background-color: hsl(0, 100.00%, 93.66%); opacity: 0.81\" title=\"-0.013\">一片</span><span style=\"opacity: 0.80\"> </span><span style=\"background-color: hsl(120, 100.00%, 96.63%); opacity: 0.81\" title=\"0.005\">放到</span><span style=\"opacity: 0.80\"> </span><span style=\"background-color: hsl(0, 100.00%, 99.76%); opacity: 0.80\" title=\"-0.000\">嘴里</span><span style=\"opacity: 0.80\"> ， </span><span style=\"background-color: hsl(0, 100.00%, 91.22%); opacity: 0.82\" title=\"-0.021\">几乎</span><span style=\"opacity: 0.80\"> 是 </span><span style=\"background-color: hsl(120, 100.00%, 86.42%); opacity: 0.84\" title=\"0.040\">入口</span><span style=\"opacity: 0.80\"> 即 化 、 </span><span style=\"background-color: hsl(120, 100.00%, 96.36%); opacity: 0.81\" title=\"0.006\">口感</span><span style=\"opacity: 0.80\"> </span><span style=\"background-color: hsl(0, 100.00%, 91.39%); opacity: 0.82\" title=\"-0.021\">绵软</span><span style=\"opacity: 0.80\"> ， 也 是 </span><span style=\"background-color: hsl(0, 100.00%, 95.53%); opacity: 0.81\" title=\"-0.008\">一道</span><span style=\"opacity: 0.80\"> </span><span style=\"background-color: hsl(120, 100.00%, 81.10%); opacity: 0.87\" title=\"0.064\">不错</span><span style=\"opacity: 0.80\"> 的 下 </span><span style=\"background-color: hsl(120, 100.00%, 97.79%); opacity: 0.80\" title=\"0.003\">饭菜</span><span style=\"opacity: 0.80\"> ； 第四张 ： “ </span><span style=\"background-color: hsl(120, 100.00%, 93.79%); opacity: 0.81\" title=\"0.013\">农家</span><span style=\"opacity: 0.80\"> </span><span style=\"background-color: hsl(120, 100.00%, 90.24%); opacity: 0.83\" title=\"0.025\">小菜</span><span style=\"opacity: 0.80\"> ” </span><span style=\"background-color: hsl(120, 100.00%, 97.68%); opacity: 0.80\" title=\"0.003\">其实</span><span style=\"opacity: 0.80\"> 就是 少 了 </span><span style=\"background-color: hsl(0, 100.00%, 91.53%); opacity: 0.82\" title=\"-0.020\">橄榄</span><span style=\"opacity: 0.80\"> 菜 和 </span><span style=\"background-color: hsl(0, 100.00%, 99.54%); opacity: 0.80\" title=\"-0.000\">肉末</span><span style=\"opacity: 0.80\"> 的 </span><span style=\"background-color: hsl(120, 100.00%, 90.24%); opacity: 0.83\" title=\"0.025\">豆角</span><span style=\"opacity: 0.80\"> 粒 ， </span><span style=\"background-color: hsl(0, 100.00%, 94.43%); opacity: 0.81\" title=\"-0.011\">味道</span><span style=\"opacity: 0.80\"> 还 可以 ， 如果 把 </span><span style=\"background-color: hsl(120, 100.00%, 90.24%); opacity: 0.83\" title=\"0.025\">豆角</span><span style=\"opacity: 0.80\"> 再 煸 的 干 </span><span style=\"background-color: hsl(0, 100.00%, 94.06%); opacity: 0.81\" title=\"-0.012\">一点</span><span style=\"opacity: 0.80\"> （ </span><span style=\"background-color: hsl(0, 100.00%, 96.57%); opacity: 0.81\" title=\"-0.006\">表皮</span><span style=\"opacity: 0.80\"> 起皱 ） </span><span style=\"background-color: hsl(120, 100.00%, 96.36%); opacity: 0.81\" title=\"0.006\">口感</span><span style=\"opacity: 0.80\"> 会 </span><span style=\"background-color: hsl(120, 100.00%, 83.78%); opacity: 0.86\" title=\"0.052\">更好</span><span style=\"opacity: 0.80\"> ； </span><span style=\"background-color: hsl(120, 100.00%, 92.83%); opacity: 0.82\" title=\"0.016\">第五</span><span style=\"opacity: 0.80\"> 张 “ </span><span style=\"background-color: hsl(0, 100.00%, 93.66%); opacity: 0.81\" title=\"-0.013\">菜心</span><span style=\"opacity: 0.80\"> </span><span style=\"background-color: hsl(0, 100.00%, 95.09%); opacity: 0.81\" title=\"-0.009\">金钩</span><span style=\"opacity: 0.80\"> </span><span style=\"background-color: hsl(0, 100.00%, 96.48%); opacity: 0.81\" title=\"-0.006\">豆腐</span><span style=\"opacity: 0.80\"> ”   和 没 上 图 的 “ </span><span style=\"background-color: hsl(120, 100.00%, 94.85%); opacity: 0.81\" title=\"0.010\">老乡</span><span style=\"opacity: 0.80\"> </span><span style=\"background-color: hsl(120, 100.00%, 92.61%); opacity: 0.82\" title=\"0.017\">浓汤</span><span style=\"opacity: 0.80\"> ” </span><span style=\"background-color: hsl(120, 100.00%, 90.99%); opacity: 0.82\" title=\"0.022\">一起</span><span style=\"opacity: 0.80\"> 说 了 ， </span><span style=\"background-color: hsl(120, 100.00%, 95.95%); opacity: 0.81\" title=\"0.007\">两道</span><span style=\"opacity: 0.80\"> </span><span style=\"background-color: hsl(0, 100.00%, 97.87%); opacity: 0.80\" title=\"-0.003\">分不清</span><span style=\"opacity: 0.80\"> 是 汤 、 羹 还是 菜 的 </span><span style=\"background-color: hsl(120, 100.00%, 87.99%); opacity: 0.84\" title=\"0.034\">东东</span><span style=\"opacity: 0.80\"> ， 都 是 </span><span style=\"background-color: hsl(120, 100.00%, 85.94%); opacity: 0.84\" title=\"0.042\">推荐</span><span style=\"opacity: 0.80\"> 菜   </span><span style=\"background-color: hsl(0, 100.00%, 97.87%); opacity: 0.80\" title=\"-0.003\">分不清</span><span style=\"opacity: 0.80\"> 也 </span><span style=\"background-color: hsl(0, 100.00%, 88.73%); opacity: 0.83\" title=\"-0.031\">无所谓</span><span style=\"opacity: 0.80\"> ， </span><span style=\"background-color: hsl(0, 100.00%, 92.51%); opacity: 0.82\" title=\"-0.017\">重点</span><span style=\"opacity: 0.80\"> 是 </span><span style=\"background-color: hsl(0, 100.00%, 93.51%); opacity: 0.81\" title=\"-0.014\">上菜</span><span style=\"opacity: 0.80\"> 的 时候 都 不是 热 的   都 是 温 的   “ </span><span style=\"background-color: hsl(0, 100.00%, 93.66%); opacity: 0.81\" title=\"-0.013\">菜心</span><span style=\"opacity: 0.80\"> ” </span><span style=\"background-color: hsl(0, 100.00%, 97.02%); opacity: 0.80\" title=\"-0.005\">里面</span><span style=\"opacity: 0.80\"> 有 </span><span style=\"background-color: hsl(120, 100.00%, 94.65%); opacity: 0.81\" title=\"0.011\">蛋黄</span><span style=\"opacity: 0.80\"> 、 “ </span><span style=\"background-color: hsl(120, 100.00%, 92.61%); opacity: 0.82\" title=\"0.017\">浓汤</span><span style=\"opacity: 0.80\"> ” </span><span style=\"background-color: hsl(0, 100.00%, 97.02%); opacity: 0.80\" title=\"-0.005\">里面</span><span style=\"opacity: 0.80\"> 有 </span><span style=\"background-color: hsl(120, 100.00%, 97.05%); opacity: 0.80\" title=\"0.005\">猪肚</span><span style=\"opacity: 0.80\"> ， 这 </span><span style=\"background-color: hsl(0, 100.00%, 96.74%); opacity: 0.81\" title=\"-0.005\">两种</span><span style=\"opacity: 0.80\"> </span><span style=\"background-color: hsl(120, 100.00%, 92.98%); opacity: 0.82\" title=\"0.016\">食材</span><span style=\"opacity: 0.80\"> </span><span style=\"background-color: hsl(0, 100.00%, 99.36%); opacity: 0.80\" title=\"-0.001\">变冷</span><span style=\"opacity: 0.80\"> 后 都 会 有 </span><span style=\"background-color: hsl(0, 100.00%, 86.38%); opacity: 0.84\" title=\"-0.040\">腥味</span><span style=\"opacity: 0.80\"> 且 </span><span style=\"background-color: hsl(120, 100.00%, 96.36%); opacity: 0.81\" title=\"0.006\">口感</span><span style=\"opacity: 0.80\"> </span><span style=\"background-color: hsl(0, 100.00%, 80.83%); opacity: 0.87\" title=\"-0.066\">不好</span><span style=\"opacity: 0.80\"> ， 加之 </span><span style=\"background-color: hsl(0, 100.00%, 89.72%); opacity: 0.83\" title=\"-0.027\">一碗</span><span style=\"opacity: 0.80\"> 有 淀粉类 的 羹   </span><span style=\"background-color: hsl(0, 100.00%, 83.65%); opacity: 0.86\" title=\"-0.052\">温温的</span><span style=\"opacity: 0.80\"> </span><span style=\"background-color: hsl(0, 100.00%, 90.24%); opacity: 0.83\" title=\"-0.025\">很难</span><span style=\"opacity: 0.80\"> 喝 ， </span><span style=\"background-color: hsl(120, 100.00%, 88.79%); opacity: 0.83\" title=\"0.030\">建议</span><span style=\"opacity: 0.80\"> </span><span style=\"background-color: hsl(0, 100.00%, 86.99%); opacity: 0.84\" title=\"-0.038\">出品</span><span style=\"opacity: 0.80\"> 后 马上传 </span><span style=\"background-color: hsl(0, 100.00%, 98.15%); opacity: 0.80\" title=\"-0.002\">菜到</span><span style=\"opacity: 0.80\"> </span><span style=\"background-color: hsl(0, 100.00%, 88.68%); opacity: 0.83\" title=\"-0.031\">客人</span><span style=\"opacity: 0.80\"> </span><span style=\"background-color: hsl(0, 100.00%, 93.51%); opacity: 0.81\" title=\"-0.014\">面前</span><span style=\"opacity: 0.80\"> ， </span><span style=\"background-color: hsl(120, 100.00%, 98.15%); opacity: 0.80\" title=\"0.002\">口味</span><span style=\"opacity: 0.80\"> 上 冷 了 就 都 不 </span><span style=\"background-color: hsl(120, 100.00%, 76.94%); opacity: 0.89\" title=\"0.085\">美味</span><span style=\"opacity: 0.80\"> 了 ； </span><span style=\"background-color: hsl(120, 100.00%, 98.11%); opacity: 0.80\" title=\"0.002\">第六</span><span style=\"opacity: 0.80\"> 张 ： “ </span><span style=\"background-color: hsl(120, 100.00%, 90.39%); opacity: 0.83\" title=\"0.024\">麻酱</span><span style=\"opacity: 0.80\"> </span><span style=\"background-color: hsl(0, 100.00%, 95.57%); opacity: 0.81\" title=\"-0.008\">油麦</span><span style=\"opacity: 0.80\"> 菜 ” </span><span style=\"background-color: hsl(120, 100.00%, 90.98%); opacity: 0.82\" title=\"0.022\">很多</span><span style=\"opacity: 0.80\"> </span><span style=\"background-color: hsl(120, 100.00%, 95.84%); opacity: 0.81\" title=\"0.007\">地方</span><span style=\"opacity: 0.80\"> 也 叫 “ </span><span style=\"background-color: hsl(120, 100.00%, 90.39%); opacity: 0.83\" title=\"0.024\">麻酱</span><span style=\"opacity: 0.80\"> </span><span style=\"background-color: hsl(120, 100.00%, 95.90%); opacity: 0.81\" title=\"0.007\">凤尾</span><span style=\"opacity: 0.80\"> ”   </span><span style=\"background-color: hsl(120, 100.00%, 90.39%); opacity: 0.83\" title=\"0.024\">麻酱</span><span style=\"opacity: 0.80\"> 用 的 </span><span style=\"background-color: hsl(0, 100.00%, 88.74%); opacity: 0.83\" title=\"-0.031\">像是</span><span style=\"opacity: 0.80\"> </span><span style=\"background-color: hsl(120, 100.00%, 90.39%); opacity: 0.83\" title=\"0.024\">麻酱</span><span style=\"opacity: 0.80\"> 和 </span><span style=\"background-color: hsl(120, 100.00%, 89.07%); opacity: 0.83\" title=\"0.029\">花生酱</span><span style=\"opacity: 0.80\"> </span><span style=\"background-color: hsl(120, 100.00%, 83.93%); opacity: 0.85\" title=\"0.051\">混合</span><span style=\"opacity: 0.80\"> 的 </span><span style=\"background-color: hsl(0, 100.00%, 93.08%); opacity: 0.82\" title=\"-0.015\">甜口</span><span style=\"opacity: 0.80\"> 的 </span><span style=\"background-color: hsl(120, 100.00%, 93.45%); opacity: 0.82\" title=\"0.014\">酱料</span><span style=\"opacity: 0.80\"> ， </span><span style=\"background-color: hsl(0, 100.00%, 92.51%); opacity: 0.82\" title=\"-0.017\">重点</span><span style=\"opacity: 0.80\"> 是 </span><span style=\"background-color: hsl(0, 100.00%, 85.35%); opacity: 0.85\" title=\"-0.045\">没有</span><span style=\"opacity: 0.80\"> </span><span style=\"background-color: hsl(0, 100.00%, 86.29%); opacity: 0.84\" title=\"-0.041\">稀释</span><span style=\"opacity: 0.80\"> ！ </span><span style=\"background-color: hsl(0, 100.00%, 89.66%); opacity: 0.83\" title=\"-0.027\">整个</span><span style=\"opacity: 0.80\"> </span><span style=\"background-color: hsl(0, 100.00%, 93.01%); opacity: 0.82\" title=\"-0.016\">一坨</span><span style=\"opacity: 0.80\"> 粘 在 </span><span style=\"background-color: hsl(0, 100.00%, 95.57%); opacity: 0.81\" title=\"-0.008\">油麦</span><span style=\"opacity: 0.80\"> 菜 上   </span><span style=\"background-color: hsl(0, 100.00%, 78.20%); opacity: 0.88\" title=\"-0.079\">根本</span><span style=\"opacity: 0.80\"> 拌 </span><span style=\"background-color: hsl(0, 100.00%, 89.86%); opacity: 0.83\" title=\"-0.026\">不开</span><span style=\"opacity: 0.80\">   </span><span style=\"background-color: hsl(0, 100.00%, 91.03%); opacity: 0.82\" title=\"-0.022\">相比</span><span style=\"opacity: 0.80\"> </span><span style=\"background-color: hsl(0, 100.00%, 93.08%); opacity: 0.82\" title=\"-0.015\">甜口</span><span style=\"opacity: 0.80\"> 的 </span><span style=\"background-color: hsl(120, 100.00%, 90.39%); opacity: 0.83\" title=\"0.024\">麻酱</span><span style=\"opacity: 0.80\"> 我 更 </span><span style=\"background-color: hsl(120, 100.00%, 80.14%); opacity: 0.87\" title=\"0.069\">喜欢</span><span style=\"opacity: 0.80\"> </span><span style=\"background-color: hsl(0, 100.00%, 94.90%); opacity: 0.81\" title=\"-0.010\">热干面</span><span style=\"opacity: 0.80\"> </span><span style=\"background-color: hsl(0, 100.00%, 93.89%); opacity: 0.81\" title=\"-0.013\">那种</span><span style=\"opacity: 0.80\"> </span><span style=\"background-color: hsl(120, 100.00%, 90.30%); opacity: 0.83\" title=\"0.025\">咸口</span><span style=\"opacity: 0.80\"> 的 、 稀 </span><span style=\"background-color: hsl(120, 100.00%, 94.22%); opacity: 0.81\" title=\"0.012\">点儿</span><span style=\"opacity: 0.80\"> 的 ； 第七 张 “ </span><span style=\"background-color: hsl(120, 100.00%, 93.75%); opacity: 0.81\" title=\"0.013\">面包</span><span style=\"opacity: 0.80\"> </span><span style=\"background-color: hsl(120, 100.00%, 95.36%); opacity: 0.81\" title=\"0.009\">诱惑</span><span style=\"opacity: 0.80\"> ” ： </span><span style=\"background-color: hsl(0, 100.00%, 98.13%); opacity: 0.80\" title=\"-0.002\">这道</span><span style=\"opacity: 0.80\"> 是 敬菜 ， </span><span style=\"background-color: hsl(120, 100.00%, 98.15%); opacity: 0.80\" title=\"0.002\">口味</span><span style=\"opacity: 0.80\"> 还 </span><span style=\"background-color: hsl(120, 100.00%, 81.10%); opacity: 0.87\" title=\"0.064\">不错</span><span style=\"opacity: 0.80\"> ， </span><span style=\"background-color: hsl(0, 100.00%, 95.91%); opacity: 0.81\" title=\"-0.007\">冰淇淋</span><span style=\"opacity: 0.80\"> 也 很 </span><span style=\"background-color: hsl(120, 100.00%, 82.91%); opacity: 0.86\" title=\"0.056\">好吃</span><span style=\"opacity: 0.80\">   就是 </span><span style=\"background-color: hsl(0, 100.00%, 88.57%); opacity: 0.83\" title=\"-0.031\">卖相</span><span style=\"opacity: 0.80\"> 太 一般 了   既然 要 </span><span style=\"background-color: hsl(0, 100.00%, 94.99%); opacity: 0.81\" title=\"-0.010\">推广</span><span style=\"opacity: 0.80\">   </span><span style=\"background-color: hsl(0, 100.00%, 97.81%); opacity: 0.80\" title=\"-0.003\">至少</span><span style=\"opacity: 0.80\"> 要 给 </span><span style=\"background-color: hsl(120, 100.00%, 94.22%); opacity: 0.81\" title=\"0.012\">点儿</span><span style=\"opacity: 0.80\"> </span><span style=\"background-color: hsl(120, 100.00%, 95.47%); opacity: 0.81\" title=\"0.008\">装饰</span><span style=\"opacity: 0.80\"> ， </span><span style=\"background-color: hsl(120, 100.00%, 88.47%); opacity: 0.83\" title=\"0.032\">不用</span><span style=\"opacity: 0.80\"> 太 </span><span style=\"background-color: hsl(0, 100.00%, 88.32%); opacity: 0.83\" title=\"-0.032\">复杂</span><span style=\"opacity: 0.80\">   拉个 </span><span style=\"background-color: hsl(120, 100.00%, 85.09%); opacity: 0.85\" title=\"0.046\">巧克力</span><span style=\"opacity: 0.80\"> 线条 、 给 个 </span><span style=\"background-color: hsl(0, 100.00%, 94.55%); opacity: 0.81\" title=\"-0.011\">蛋卷</span><span style=\"opacity: 0.80\"> 、 </span><span style=\"background-color: hsl(120, 100.00%, 92.43%); opacity: 0.82\" title=\"0.017\">水果</span><span style=\"opacity: 0.80\"> 粒 </span><span style=\"background-color: hsl(120, 100.00%, 89.07%); opacity: 0.83\" title=\"0.029\">稍稍</span><span style=\"opacity: 0.80\"> </span><span style=\"background-color: hsl(0, 100.00%, 94.78%); opacity: 0.81\" title=\"-0.010\">点缀</span><span style=\"opacity: 0.80\"> </span><span style=\"background-color: hsl(120, 100.00%, 94.26%); opacity: 0.81\" title=\"0.012\">一下</span><span style=\"opacity: 0.80\"> 就 会 </span><span style=\"background-color: hsl(120, 100.00%, 88.62%); opacity: 0.83\" title=\"0.031\">好看</span><span style=\"opacity: 0.80\"> </span><span style=\"background-color: hsl(120, 100.00%, 90.98%); opacity: 0.82\" title=\"0.022\">很多</span><span style=\"opacity: 0.80\">   </span><span style=\"background-color: hsl(120, 100.00%, 93.75%); opacity: 0.81\" title=\"0.013\">面包</span><span style=\"opacity: 0.80\"> 本身 </span><span style=\"background-color: hsl(120, 100.00%, 96.36%); opacity: 0.81\" title=\"0.006\">口感</span><span style=\"opacity: 0.80\"> 和 </span><span style=\"background-color: hsl(0, 100.00%, 95.91%); opacity: 0.81\" title=\"-0.007\">冰淇淋</span><span style=\"opacity: 0.80\"> 都 很 </span><span style=\"background-color: hsl(120, 100.00%, 82.91%); opacity: 0.86\" title=\"0.056\">好吃</span><span style=\"opacity: 0.80\">   比 </span><span style=\"background-color: hsl(120, 100.00%, 90.98%); opacity: 0.82\" title=\"0.022\">很多</span><span style=\"opacity: 0.80\"> </span><span style=\"background-color: hsl(0, 100.00%, 98.73%); opacity: 0.80\" title=\"-0.001\">外面</span><span style=\"opacity: 0.80\"> </span><span style=\"background-color: hsl(120, 100.00%, 95.47%); opacity: 0.81\" title=\"0.008\">装饰</span><span style=\"opacity: 0.80\"> 的 </span><span style=\"background-color: hsl(0, 100.00%, 93.89%); opacity: 0.81\" title=\"-0.013\">那种</span><span style=\"opacity: 0.80\"> </span><span style=\"background-color: hsl(120, 100.00%, 86.16%); opacity: 0.84\" title=\"0.041\">美美</span><span style=\"opacity: 0.80\"> 的 </span><span style=\"background-color: hsl(120, 100.00%, 82.91%); opacity: 0.86\" title=\"0.056\">好吃</span><span style=\"opacity: 0.80\"> 多 了   就 差 了 </span><span style=\"background-color: hsl(0, 100.00%, 94.06%); opacity: 0.81\" title=\"-0.012\">一点</span><span style=\"opacity: 0.80\"> </span><span style=\"background-color: hsl(120, 100.00%, 95.47%); opacity: 0.81\" title=\"0.008\">装饰</span><span style=\"opacity: 0.80\"> ； 第八 张 “ </span><span style=\"background-color: hsl(0, 100.00%, 90.82%); opacity: 0.82\" title=\"-0.023\">绿茶</span><span style=\"opacity: 0.80\"> </span><span style=\"background-color: hsl(0, 100.00%, 91.07%); opacity: 0.82\" title=\"-0.022\">烤鸡</span><span style=\"opacity: 0.80\"> ” </span><span style=\"background-color: hsl(120, 100.00%, 90.98%); opacity: 0.82\" title=\"0.022\">很多</span><span style=\"opacity: 0.80\"> </span><span style=\"background-color: hsl(120, 100.00%, 90.91%); opacity: 0.82\" title=\"0.023\">人点</span><span style=\"opacity: 0.80\"> 这 </span><span style=\"background-color: hsl(0, 100.00%, 93.72%); opacity: 0.81\" title=\"-0.013\">道菜</span><span style=\"opacity: 0.80\"> ， </span><span style=\"background-color: hsl(0, 100.00%, 91.03%); opacity: 0.82\" title=\"-0.022\">相比</span><span style=\"opacity: 0.80\"> 前 </span><span style=\"background-color: hsl(0, 100.00%, 96.86%); opacity: 0.81\" title=\"-0.005\">几道</span><span style=\"opacity: 0.80\"> 的 </span><span style=\"background-color: hsl(120, 100.00%, 88.85%); opacity: 0.83\" title=\"0.030\">重口</span><span style=\"opacity: 0.80\"> ， </span><span style=\"background-color: hsl(0, 100.00%, 91.07%); opacity: 0.82\" title=\"-0.022\">烤鸡</span><span style=\"opacity: 0.80\"> </span><span style=\"background-color: hsl(0, 100.00%, 96.36%); opacity: 0.81\" title=\"-0.006\">显得</span><span style=\"opacity: 0.80\"> 淡 了 一些 。 </span><span style=\"background-color: hsl(120, 100.00%, 98.41%); opacity: 0.80\" title=\"0.002\">鸡皮</span><span style=\"opacity: 0.80\"> 的 </span><span style=\"background-color: hsl(120, 100.00%, 95.34%); opacity: 0.81\" title=\"0.009\">保护</span><span style=\"opacity: 0.80\"> </span><span style=\"background-color: hsl(0, 100.00%, 95.58%); opacity: 0.81\" title=\"-0.008\">基本</span><span style=\"opacity: 0.80\"> </span><span style=\"background-color: hsl(0, 100.00%, 85.35%); opacity: 0.85\" title=\"-0.045\">没有</span><span style=\"opacity: 0.80\">   所以 </span><span style=\"background-color: hsl(0, 100.00%, 89.66%); opacity: 0.83\" title=\"-0.027\">整个</span><span style=\"opacity: 0.80\"> </span><span style=\"background-color: hsl(0, 100.00%, 95.92%); opacity: 0.81\" title=\"-0.007\">鸡肉</span><span style=\"opacity: 0.80\"> 又 干 有 柴 、 也 挂不住 </span><span style=\"background-color: hsl(120, 100.00%, 89.14%); opacity: 0.83\" title=\"0.029\">调味料</span><span style=\"opacity: 0.80\"> 、 </span><span style=\"background-color: hsl(120, 100.00%, 78.82%); opacity: 0.88\" title=\"0.076\">下次</span><span style=\"opacity: 0.80\"> 有 </span><span style=\"background-color: hsl(120, 100.00%, 82.97%); opacity: 0.86\" title=\"0.055\">机会</span><span style=\"opacity: 0.80\"> </span><span style=\"background-color: hsl(0, 100.00%, 94.01%); opacity: 0.81\" title=\"-0.012\">点个</span><span style=\"opacity: 0.80\"> </span><span style=\"background-color: hsl(120, 100.00%, 88.52%); opacity: 0.83\" title=\"0.032\">整只</span><span style=\"opacity: 0.80\"> 的 </span><span style=\"background-color: hsl(0, 100.00%, 94.16%); opacity: 0.81\" title=\"-0.012\">或许</span><span style=\"opacity: 0.80\"> 会 好 </span><span style=\"background-color: hsl(0, 100.00%, 94.06%); opacity: 0.81\" title=\"-0.012\">一点</span><span style=\"opacity: 0.80\"> ； </span><span style=\"background-color: hsl(0, 100.00%, 99.63%); opacity: 0.80\" title=\"-0.000\">最后</span><span style=\"opacity: 0.80\"> 还有 未上 图 的 </span><span style=\"background-color: hsl(0, 100.00%, 90.82%); opacity: 0.82\" title=\"-0.023\">绿茶</span><span style=\"opacity: 0.80\"> 饼 和 </span><span style=\"background-color: hsl(120, 100.00%, 98.28%); opacity: 0.80\" title=\"0.002\">糖醋</span><span style=\"opacity: 0.80\"> </span><span style=\"background-color: hsl(120, 100.00%, 90.55%); opacity: 0.83\" title=\"0.024\">里脊</span><span style=\"opacity: 0.80\"> ， </span><span style=\"background-color: hsl(0, 100.00%, 90.82%); opacity: 0.82\" title=\"-0.023\">绿茶</span><span style=\"opacity: 0.80\"> 饼 还 </span><span style=\"background-color: hsl(120, 100.00%, 81.10%); opacity: 0.87\" title=\"0.064\">不错</span><span style=\"opacity: 0.80\">   可以 </span><span style=\"background-color: hsl(120, 100.00%, 90.41%); opacity: 0.83\" title=\"0.024\">一试</span><span style=\"opacity: 0.80\">   只要 </span><span style=\"background-color: hsl(0, 100.00%, 89.39%); opacity: 0.83\" title=\"-0.028\">火候</span><span style=\"opacity: 0.80\"> </span><span style=\"background-color: hsl(120, 100.00%, 85.09%); opacity: 0.85\" title=\"0.046\">控制</span><span style=\"opacity: 0.80\"> 的 好 不炸过 </span><span style=\"background-color: hsl(0, 100.00%, 95.58%); opacity: 0.81\" title=\"-0.008\">基本</span><span style=\"opacity: 0.80\"> 没 </span><span style=\"background-color: hsl(0, 100.00%, 81.35%); opacity: 0.87\" title=\"-0.063\">问题</span><span style=\"opacity: 0.80\"> ， </span><span style=\"background-color: hsl(0, 100.00%, 97.02%); opacity: 0.80\" title=\"-0.005\">里面</span><span style=\"opacity: 0.80\"> 糯 糯 的 </span><span style=\"background-color: hsl(120, 100.00%, 98.17%); opacity: 0.80\" title=\"0.002\">馅儿</span><span style=\"opacity: 0.80\"> 很 </span><span style=\"background-color: hsl(120, 100.00%, 82.91%); opacity: 0.86\" title=\"0.056\">好吃</span><span style=\"opacity: 0.80\"> ； “ </span><span style=\"background-color: hsl(120, 100.00%, 98.28%); opacity: 0.80\" title=\"0.002\">糖醋</span><span style=\"opacity: 0.80\"> </span><span style=\"background-color: hsl(120, 100.00%, 90.55%); opacity: 0.83\" title=\"0.024\">里脊</span><span style=\"opacity: 0.80\"> ”   这 是 我 吃 过 最 </span><span style=\"background-color: hsl(0, 100.00%, 60.00%); opacity: 1.00\" title=\"-0.187\">难吃</span><span style=\"opacity: 0.80\"> 的 </span><span style=\"background-color: hsl(0, 100.00%, 96.27%); opacity: 0.81\" title=\"-0.006\">版本</span><span style=\"opacity: 0.80\"> ， </span><span style=\"background-color: hsl(0, 100.00%, 85.35%); opacity: 0.85\" title=\"-0.045\">没有</span><span style=\"opacity: 0.80\"> 之一 ！ </span><span style=\"background-color: hsl(120, 100.00%, 92.31%); opacity: 0.82\" title=\"0.018\">上次</span><span style=\"opacity: 0.80\"> 有 </span><span style=\"background-color: hsl(120, 100.00%, 97.11%); opacity: 0.80\" title=\"0.004\">一小</span><span style=\"opacity: 0.80\"> 哥吐 了 </span><span style=\"background-color: hsl(0, 100.00%, 96.98%); opacity: 0.80\" title=\"-0.005\">一通</span><span style=\"opacity: 0.80\"> 槽   我 还 想 就 一个 </span><span style=\"background-color: hsl(120, 100.00%, 98.28%); opacity: 0.80\" title=\"0.002\">糖醋</span><span style=\"opacity: 0.80\"> </span><span style=\"background-color: hsl(120, 100.00%, 90.55%); opacity: 0.83\" title=\"0.024\">里脊</span><span style=\"opacity: 0.80\"> 也 不是 啥 难菜   不至于 吧   这次 就 抱 着 </span><span style=\"background-color: hsl(120, 100.00%, 94.09%); opacity: 0.81\" title=\"0.012\">猎奇</span><span style=\"opacity: 0.80\"> 的 </span><span style=\"background-color: hsl(120, 100.00%, 94.57%); opacity: 0.81\" title=\"0.011\">心里</span><span style=\"opacity: 0.80\"> 点 了 一个   </span><span style=\"background-color: hsl(0, 100.00%, 95.35%); opacity: 0.81\" title=\"-0.009\">菜刚</span><span style=\"opacity: 0.80\"> </span><span style=\"background-color: hsl(0, 100.00%, 90.24%); opacity: 0.83\" title=\"-0.025\">上来</span><span style=\"opacity: 0.80\"> 我 就 </span><span style=\"background-color: hsl(0, 100.00%, 88.97%); opacity: 0.83\" title=\"-0.030\">后悔</span><span style=\"opacity: 0.80\"> 了 --- </span><span style=\"background-color: hsl(0, 100.00%, 97.83%); opacity: 0.80\" title=\"-0.003\">老抽</span><span style=\"opacity: 0.80\"> 色 （ shai ） 的 、 </span><span style=\"background-color: hsl(0, 100.00%, 98.73%); opacity: 0.80\" title=\"-0.001\">外面</span><span style=\"opacity: 0.80\"> </span><span style=\"background-color: hsl(0, 100.00%, 96.50%); opacity: 0.81\" title=\"-0.006\">一圈</span><span style=\"opacity: 0.80\"> </span><span style=\"background-color: hsl(0, 100.00%, 86.25%); opacity: 0.84\" title=\"-0.041\">淀粉</span><span style=\"opacity: 0.80\"> （ 粉 </span><span style=\"background-color: hsl(120, 100.00%, 93.28%); opacity: 0.82\" title=\"0.015\">面子</span><span style=\"opacity: 0.80\"> ） </span><span style=\"background-color: hsl(0, 100.00%, 95.58%); opacity: 0.81\" title=\"-0.008\">基本</span><span style=\"opacity: 0.80\"> 没 吃 着 肉 ， 糊哒 哒 粘成 一 坨   </span><span style=\"background-color: hsl(0, 100.00%, 89.34%); opacity: 0.83\" title=\"-0.028\">看起来</span><span style=\"opacity: 0.80\"> 和 那个 </span><span style=\"background-color: hsl(0, 100.00%, 91.57%); opacity: 0.82\" title=\"-0.020\">茄子</span><span style=\"opacity: 0.80\"> 煲 </span><span style=\"background-color: hsl(0, 100.00%, 80.56%); opacity: 0.87\" title=\"-0.067\">没什么</span><span style=\"opacity: 0.80\"> 太 大 </span><span style=\"background-color: hsl(0, 100.00%, 96.29%); opacity: 0.81\" title=\"-0.006\">区别</span><span style=\"opacity: 0.80\"> 。 </span><span style=\"background-color: hsl(120, 100.00%, 88.79%); opacity: 0.83\" title=\"0.030\">建议</span><span style=\"opacity: 0.80\"> 找 一个 做 </span><span style=\"background-color: hsl(120, 100.00%, 98.28%); opacity: 0.80\" title=\"0.002\">糖醋</span><span style=\"opacity: 0.80\"> </span><span style=\"background-color: hsl(120, 100.00%, 90.55%); opacity: 0.83\" title=\"0.024\">里脊</span><span style=\"opacity: 0.80\"> 的 店 吃 </span><span style=\"background-color: hsl(0, 100.00%, 92.36%); opacity: 0.82\" title=\"-0.018\">一次</span><span style=\"opacity: 0.80\">   </span><span style=\"background-color: hsl(0, 100.00%, 97.77%); opacity: 0.80\" title=\"-0.003\">看一看</span><span style=\"opacity: 0.80\">   就 上 个 浆   </span><span style=\"background-color: hsl(0, 100.00%, 96.25%); opacity: 0.81\" title=\"-0.006\">过个</span><span style=\"opacity: 0.80\"> 油   浇个 </span><span style=\"background-color: hsl(0, 100.00%, 97.61%); opacity: 0.80\" title=\"-0.003\">汁儿</span><span style=\"opacity: 0.80\"> 的 </span><span style=\"background-color: hsl(0, 100.00%, 90.19%); opacity: 0.83\" title=\"-0.025\">事情</span><span style=\"opacity: 0.80\">   没 那么 难     </span><span style=\"background-color: hsl(0, 100.00%, 99.10%); opacity: 0.80\" title=\"-0.001\">肉类</span><span style=\"opacity: 0.80\"> 的 </span><span style=\"background-color: hsl(0, 100.00%, 96.85%); opacity: 0.81\" title=\"-0.005\">菜品</span><span style=\"opacity: 0.80\"> </span><span style=\"background-color: hsl(0, 100.00%, 91.39%); opacity: 0.82\" title=\"-0.021\">价格</span><span style=\"opacity: 0.80\"> 可以 </span><span style=\"background-color: hsl(120, 100.00%, 87.93%); opacity: 0.84\" title=\"0.034\">适当</span><span style=\"opacity: 0.80\"> 调 高 一些   我 宁可 多 花点儿钱 吃 肉 也 </span><span style=\"background-color: hsl(0, 100.00%, 72.64%); opacity: 0.92\" title=\"-0.109\">不想</span><span style=\"opacity: 0.80\"> 吃 这 一 坨 坨 粉 </span><span style=\"background-color: hsl(120, 100.00%, 93.28%); opacity: 0.82\" title=\"0.015\">面子</span><span style=\"opacity: 0.80\"> 。   </span><span style=\"background-color: hsl(120, 100.00%, 98.50%); opacity: 0.80\" title=\"0.002\">总体而言</span><span style=\"opacity: 0.80\"> </span><span style=\"background-color: hsl(120, 100.00%, 96.93%); opacity: 0.81\" title=\"0.005\">环境</span><span style=\"opacity: 0.80\"> 还 </span><span style=\"background-color: hsl(120, 100.00%, 81.10%); opacity: 0.87\" title=\"0.064\">不错</span><span style=\"opacity: 0.80\">   </span><span style=\"background-color: hsl(0, 100.00%, 91.39%); opacity: 0.82\" title=\"-0.021\">价格</span><span style=\"opacity: 0.80\"> 很 </span><span style=\"background-color: hsl(120, 100.00%, 94.40%); opacity: 0.81\" title=\"0.011\">平民</span><span style=\"opacity: 0.80\">   </span><span style=\"background-color: hsl(0, 100.00%, 90.74%); opacity: 0.82\" title=\"-0.023\">服务</span><span style=\"opacity: 0.80\"> </span><span style=\"background-color: hsl(0, 100.00%, 90.04%); opacity: 0.83\" title=\"-0.026\">中规中矩</span><span style=\"opacity: 0.80\">   但是 </span><span style=\"background-color: hsl(0, 100.00%, 96.85%); opacity: 0.81\" title=\"-0.005\">菜品</span><span style=\"opacity: 0.80\"> </span><span style=\"background-color: hsl(0, 100.00%, 84.24%); opacity: 0.85\" title=\"-0.050\">质量</span><span style=\"opacity: 0.80\"> 很 是 </span><span style=\"background-color: hsl(0, 100.00%, 89.92%); opacity: 0.83\" title=\"-0.026\">有待</span><span style=\"opacity: 0.80\"> </span><span style=\"background-color: hsl(0, 100.00%, 86.98%); opacity: 0.84\" title=\"-0.038\">提高</span><span style=\"opacity: 0.80\"> 。 看 </span><span style=\"background-color: hsl(120, 100.00%, 99.27%); opacity: 0.80\" title=\"0.001\">墙上</span><span style=\"opacity: 0.80\"> 的 </span><span style=\"background-color: hsl(120, 100.00%, 84.05%); opacity: 0.85\" title=\"0.050\">照片</span><span style=\"opacity: 0.80\"> （ 不 </span><span style=\"background-color: hsl(0, 100.00%, 86.34%); opacity: 0.84\" title=\"-0.040\">知道</span><span style=\"opacity: 0.80\"> </span><span style=\"background-color: hsl(120, 100.00%, 91.40%); opacity: 0.82\" title=\"0.021\">老板</span><span style=\"opacity: 0.80\"> </span><span style=\"background-color: hsl(0, 100.00%, 86.58%); opacity: 0.84\" title=\"-0.039\">是不是</span><span style=\"opacity: 0.80\"> 做 </span><span style=\"background-color: hsl(0, 100.00%, 96.34%); opacity: 0.81\" title=\"-0.006\">青旅</span><span style=\"opacity: 0.80\"> </span><span style=\"background-color: hsl(120, 100.00%, 93.56%); opacity: 0.81\" title=\"0.014\">起家</span><span style=\"opacity: 0.80\"> 的 ） </span><span style=\"background-color: hsl(0, 100.00%, 96.85%); opacity: 0.81\" title=\"-0.005\">菜品</span><span style=\"opacity: 0.80\"> </span><span style=\"background-color: hsl(0, 100.00%, 78.86%); opacity: 0.88\" title=\"-0.075\">不会</span><span style=\"opacity: 0.80\"> 因为 </span><span style=\"background-color: hsl(0, 100.00%, 97.65%); opacity: 0.80\" title=\"-0.003\">价格低</span><span style=\"opacity: 0.80\"> 而 有销路   </span><span style=\"background-color: hsl(0, 100.00%, 84.55%); opacity: 0.85\" title=\"-0.048\">只会</span><span style=\"opacity: 0.80\"> 因为 </span><span style=\"background-color: hsl(0, 100.00%, 84.24%); opacity: 0.85\" title=\"-0.050\">质量</span><span style=\"opacity: 0.80\"> 好 才 </span><span style=\"background-color: hsl(0, 100.00%, 99.20%); opacity: 0.80\" title=\"-0.001\">畅销</span><span style=\"opacity: 0.80\"> （ </span><span style=\"background-color: hsl(0, 100.00%, 91.03%); opacity: 0.82\" title=\"-0.022\">相比</span><span style=\"opacity: 0.80\"> </span><span style=\"background-color: hsl(0, 100.00%, 99.80%); opacity: 0.80\" title=\"-0.000\">低价</span><span style=\"opacity: 0.80\">   </span><span style=\"background-color: hsl(120, 100.00%, 94.84%); opacity: 0.81\" title=\"0.010\">现在</span><span style=\"opacity: 0.80\"> 的 人们 更 </span><span style=\"background-color: hsl(120, 100.00%, 80.14%); opacity: 0.87\" title=\"0.069\">喜欢</span><span style=\"opacity: 0.80\"> </span><span style=\"background-color: hsl(0, 100.00%, 84.24%); opacity: 0.85\" title=\"-0.050\">质量</span><span style=\"opacity: 0.80\"> 好 而 有 </span><span style=\"background-color: hsl(120, 100.00%, 92.12%); opacity: 0.82\" title=\"0.018\">保障</span><span style=\"opacity: 0.80\"> 的 </span><span style=\"background-color: hsl(120, 100.00%, 89.21%); opacity: 0.83\" title=\"0.029\">食品</span><span style=\"opacity: 0.80\">   </span><span style=\"background-color: hsl(0, 100.00%, 91.39%); opacity: 0.82\" title=\"-0.021\">价格</span><span style=\"opacity: 0.80\"> 好 </span><span style=\"background-color: hsl(0, 100.00%, 94.06%); opacity: 0.81\" title=\"-0.012\">一点</span><span style=\"opacity: 0.80\"> 反而 是 </span><span style=\"background-color: hsl(120, 100.00%, 90.19%); opacity: 0.83\" title=\"0.025\">保证</span><span style=\"opacity: 0.80\"> ）   </span><span style=\"background-color: hsl(120, 100.00%, 93.64%); opacity: 0.81\" title=\"0.014\">希望</span><span style=\"opacity: 0.80\"> </span><span style=\"background-color: hsl(0, 100.00%, 89.46%); opacity: 0.83\" title=\"-0.028\">越做越</span><span style=\"opacity: 0.80\"> 好 。 </span><span style=\"background-color: hsl(0, 100.00%, 95.80%); opacity: 0.81\" title=\"-0.007\">地址</span><span style=\"opacity: 0.80\"> 在 </span><span style=\"background-color: hsl(120, 100.00%, 89.88%); opacity: 0.83\" title=\"0.026\">凯德</span><span style=\"opacity: 0.80\"> </span><span style=\"background-color: hsl(0, 100.00%, 91.79%); opacity: 0.82\" title=\"-0.020\">1818</span><span style=\"opacity: 0.80\">     5 楼手 </span><span style=\"background-color: hsl(120, 100.00%, 93.57%); opacity: 0.81\" title=\"0.014\">扶梯</span><span style=\"opacity: 0.80\"> 旁 。</span>\n",
       "    </p>\n",
       "\n",
       "\n",
       "    \n",
       "\n",
       "    \n",
       "\n",
       "    \n",
       "\n",
       "    \n",
       "\n",
       "\n",
       "    \n",
       "\n",
       "    \n",
       "\n",
       "    \n",
       "\n",
       "    \n",
       "\n",
       "    \n",
       "\n",
       "    \n",
       "\n",
       "\n",
       "    \n",
       "\n",
       "    \n",
       "\n",
       "    \n",
       "\n",
       "    \n",
       "\n",
       "    \n",
       "\n",
       "    \n",
       "\n",
       "\n",
       "\n"
      ],
      "text/plain": [
       "<IPython.core.display.HTML object>"
      ]
     },
     "execution_count": 200,
     "metadata": {},
     "output_type": "execute_result"
    }
   ],
   "source": [
    "lr_explain(model_lr, test3)  # 这都能给4星"
   ]
  },
  {
   "cell_type": "markdown",
   "metadata": {
    "id": "g1Vzxw-nx38g"
   },
   "source": [
    "### Oversampling  (结果不理想)"
   ]
  },
  {
   "cell_type": "markdown",
   "metadata": {
    "id": "iBviS2qg09mx"
   },
   "source": [
    "#### Dataset Oversampling"
   ]
  },
  {
   "cell_type": "code",
   "execution_count": null,
   "metadata": {
    "ExecuteTime": {
     "end_time": "2023-03-17T22:20:12.442233Z",
     "start_time": "2023-03-17T22:20:12.429216Z"
    },
    "id": "mrfNGRKCx38g",
    "outputId": "16159cea-381c-4f3c-c494-294b46ab58a7"
   },
   "outputs": [
    {
     "data": {
      "text/plain": [
       "1     29132\n",
       "0      5241\n",
       "-1     2477\n",
       "Name: sentiment, dtype: int64"
      ]
     },
     "execution_count": 182,
     "metadata": {},
     "output_type": "execute_result"
    }
   ],
   "source": [
    "y_train_lr.value_counts()"
   ]
  },
  {
   "cell_type": "code",
   "execution_count": null,
   "metadata": {
    "ExecuteTime": {
     "end_time": "2023-03-17T22:20:13.633533Z",
     "start_time": "2023-03-17T22:20:13.601490Z"
    },
    "id": "OamFfPYWx38g",
    "outputId": "516512e7-3dbc-4347-dd99-db6aa25fd0f2"
   },
   "outputs": [
    {
     "data": {
      "text/plain": [
       "1     29132\n",
       "-1    27247\n",
       "0      5241\n",
       "Name: sentiment, dtype: int64"
      ]
     },
     "execution_count": 183,
     "metadata": {},
     "output_type": "execute_result"
    }
   ],
   "source": [
    "mask_neg = y_train_lr=='-1'\n",
    "y_tmp = y_train_lr[mask_neg]\n",
    "x_tmp = x_train_lr[mask_neg]\n",
    "x_train_lr_oversamp = pd.concat([x_train_lr,x_tmp,x_tmp,x_tmp,x_tmp,x_tmp,x_tmp,x_tmp,x_tmp,x_tmp,x_tmp])\n",
    "y_train_lr_oversamp = pd.concat([y_train_lr,y_tmp,y_tmp,y_tmp,y_tmp,y_tmp,y_tmp,y_tmp,y_tmp,y_tmp,y_tmp])\n",
    "y_train_lr_oversamp.value_counts()"
   ]
  },
  {
   "cell_type": "code",
   "execution_count": null,
   "metadata": {
    "ExecuteTime": {
     "end_time": "2023-03-17T22:20:14.988453Z",
     "start_time": "2023-03-17T22:20:14.963449Z"
    },
    "id": "Mbgzu9bCx38h",
    "outputId": "0f4023d8-f049-48cd-fe3e-a2331f6e0d28"
   },
   "outputs": [
    {
     "data": {
      "text/plain": [
       "1     29132\n",
       "-1    27247\n",
       "0     26205\n",
       "Name: sentiment, dtype: int64"
      ]
     },
     "execution_count": 184,
     "metadata": {},
     "output_type": "execute_result"
    }
   ],
   "source": [
    "mask_0 = y_train_lr=='0'\n",
    "y_tmp = y_train_lr[mask_0]\n",
    "x_tmp = x_train_lr[mask_0]\n",
    "x_train_lr_oversamp = pd.concat([x_train_lr_oversamp,x_tmp,x_tmp,x_tmp,x_tmp])\n",
    "y_train_lr_oversamp = pd.concat([y_train_lr_oversamp,y_tmp,y_tmp,y_tmp,y_tmp])\n",
    "y_train_lr_oversamp.value_counts()"
   ]
  },
  {
   "cell_type": "markdown",
   "metadata": {
    "id": "dWfgpYBax38h"
   },
   "source": [
    "#### Train Oversampled Dataset"
   ]
  },
  {
   "cell_type": "code",
   "execution_count": null,
   "metadata": {
    "ExecuteTime": {
     "end_time": "2023-03-17T22:20:40.002569Z",
     "start_time": "2023-03-17T22:20:17.262459Z"
    },
    "id": "PoNJTqhHx38h",
    "outputId": "651ff30b-a0bd-4ca7-ad5c-ed7474d9b9d7"
   },
   "outputs": [
    {
     "data": {
      "text/plain": [
       "0.7597165991902834"
      ]
     },
     "execution_count": 185,
     "metadata": {},
     "output_type": "execute_result"
    }
   ],
   "source": [
    "#LR\n",
    "model_lr_oversamp = LogisticRegression(max_iter=10000, multi_class='multinomial')\n",
    "model_lr_oversamp.fit(tv.transform(x_train_lr_oversamp), y_train_lr_oversamp)\n",
    "model_lr_oversamp.score(tv.transform(x_val_lr), y_val_lr)"
   ]
  },
  {
   "cell_type": "markdown",
   "metadata": {
    "id": "752VcIqDx38h"
   },
   "source": [
    "#### Evaluation for Oversampled Model"
   ]
  },
  {
   "cell_type": "code",
   "execution_count": null,
   "metadata": {
    "ExecuteTime": {
     "end_time": "2023-03-17T22:20:40.649849Z",
     "start_time": "2023-03-17T22:20:40.258467Z"
    },
    "id": "x8hf2cNZx38i"
   },
   "outputs": [],
   "source": [
    "y_pred_lr = model_lr_oversamp.predict(tv.transform(x_test_lr))"
   ]
  },
  {
   "cell_type": "code",
   "execution_count": null,
   "metadata": {
    "ExecuteTime": {
     "end_time": "2023-03-17T22:20:40.964528Z",
     "start_time": "2023-03-17T22:20:40.888513Z"
    },
    "id": "LiDkv-Utx38i",
    "outputId": "d3931981-93e2-4257-8e93-cd858be9f6e9",
    "scrolled": true
   },
   "outputs": [
    {
     "name": "stdout",
     "output_type": "stream",
     "text": [
      "              precision    recall  f1-score   support\n",
      "\n",
      "          -1       0.53      0.67      0.59       338\n",
      "           0       0.32      0.45      0.37       717\n",
      "           1       0.91      0.82      0.86      3885\n",
      "\n",
      "    accuracy                           0.75      4940\n",
      "   macro avg       0.59      0.64      0.61      4940\n",
      "weighted avg       0.80      0.75      0.77      4940\n",
      "\n"
     ]
    }
   ],
   "source": [
    "# classification report\n",
    "from sklearn.metrics import classification_report\n",
    "print(classification_report(y_test_lr, y_pred_lr))"
   ]
  },
  {
   "cell_type": "code",
   "execution_count": null,
   "metadata": {
    "ExecuteTime": {
     "end_time": "2023-03-17T22:28:21.316764Z",
     "start_time": "2023-03-17T22:28:21.258986Z"
    },
    "id": "E_Qif6-kx38i",
    "outputId": "e6ab0bec-58ca-41de-88ff-ad865ca7e780"
   },
   "outputs": [
    {
     "data": {
      "text/html": [
       "\n",
       "    <style>\n",
       "    table.eli5-weights tr:hover {\n",
       "        filter: brightness(85%);\n",
       "    }\n",
       "</style>\n",
       "\n",
       "\n",
       "\n",
       "    \n",
       "\n",
       "    \n",
       "\n",
       "    \n",
       "\n",
       "    \n",
       "\n",
       "    \n",
       "\n",
       "    \n",
       "\n",
       "\n",
       "    \n",
       "\n",
       "    \n",
       "\n",
       "    \n",
       "\n",
       "    \n",
       "        \n",
       "\n",
       "    \n",
       "\n",
       "        \n",
       "\n",
       "        \n",
       "    \n",
       "        \n",
       "        \n",
       "    \n",
       "        <p style=\"margin-bottom: 0.5em; margin-top: 0em\">\n",
       "            <b>\n",
       "    \n",
       "        y=0\n",
       "    \n",
       "</b>\n",
       "\n",
       "    \n",
       "    (probability <b>0.583</b>, score <b>0.687</b>)\n",
       "\n",
       "top features\n",
       "        </p>\n",
       "    \n",
       "    <table class=\"eli5-weights\"\n",
       "           style=\"border-collapse: collapse; border: none; margin-top: 0em; table-layout: auto; margin-bottom: 2em;\">\n",
       "        <thead>\n",
       "        <tr style=\"border: none;\">\n",
       "            \n",
       "                <th style=\"padding: 0 1em 0 0.5em; text-align: right; border: none;\" title=\"Feature contribution already accounts for the feature value (for linear models, contribution = weight * feature value), and the sum of feature contributions is equal to the score or, for some classifiers, to the probability. Feature values are shown if &quot;show_feature_values&quot; is True.\">\n",
       "                    Contribution<sup>?</sup>\n",
       "                </th>\n",
       "            \n",
       "            <th style=\"padding: 0 0.5em 0 0.5em; text-align: left; border: none;\">Feature</th>\n",
       "            \n",
       "        </tr>\n",
       "        </thead>\n",
       "        <tbody>\n",
       "        \n",
       "            <tr style=\"background-color: hsl(120, 100.00%, 80.00%); border: none;\">\n",
       "    <td style=\"padding: 0 1em 0 0.5em; text-align: right; border: none;\">\n",
       "        +0.926\n",
       "    </td>\n",
       "    <td style=\"padding: 0 0.5em 0 0.5em; text-align: left; border: none;\">\n",
       "        Highlighted in text (sum)\n",
       "    </td>\n",
       "    \n",
       "</tr>\n",
       "        \n",
       "        \n",
       "\n",
       "        \n",
       "        \n",
       "            <tr style=\"background-color: hsl(0, 100.00%, 92.25%); border: none;\">\n",
       "    <td style=\"padding: 0 1em 0 0.5em; text-align: right; border: none;\">\n",
       "        -0.239\n",
       "    </td>\n",
       "    <td style=\"padding: 0 0.5em 0 0.5em; text-align: left; border: none;\">\n",
       "        &lt;BIAS&gt;\n",
       "    </td>\n",
       "    \n",
       "</tr>\n",
       "        \n",
       "\n",
       "        </tbody>\n",
       "    </table>\n",
       "\n",
       "    \n",
       "\n",
       "\n",
       "\n",
       "    <p style=\"margin-bottom: 2.5em; margin-top:-0.5em;\">\n",
       "        <span style=\"background-color: hsl(120, 100.00%, 79.51%); opacity: 0.88\" title=\"0.045\">周三</span><span style=\"opacity: 0.80\"> 去 的 ， 盐 酥 鸡 </span><span style=\"background-color: hsl(120, 100.00%, 61.79%); opacity: 0.99\" title=\"0.109\">特价</span><span style=\"opacity: 0.80\"> </span><span style=\"background-color: hsl(0, 100.00%, 79.89%); opacity: 0.87\" title=\"-0.044\">五块</span><span style=\"opacity: 0.80\"> ， </span><span style=\"background-color: hsl(0, 100.00%, 92.36%); opacity: 0.82\" title=\"-0.011\">上菜</span><span style=\"opacity: 0.80\"> 上 的 </span><span style=\"background-color: hsl(120, 100.00%, 90.41%); opacity: 0.83\" title=\"0.015\">很快</span><span style=\"opacity: 0.80\"> ， 盐 酥 鸡 </span><span style=\"background-color: hsl(0, 100.00%, 91.58%); opacity: 0.82\" title=\"-0.013\">一端</span><span style=\"opacity: 0.80\"> </span><span style=\"background-color: hsl(0, 100.00%, 65.91%); opacity: 0.96\" title=\"-0.092\">上来</span><span style=\"opacity: 0.80\"> 就是 凉 的 ， </span><span style=\"background-color: hsl(120, 100.00%, 82.61%); opacity: 0.86\" title=\"0.035\">里面</span><span style=\"opacity: 0.80\"> </span><span style=\"background-color: hsl(120, 100.00%, 95.42%); opacity: 0.81\" title=\"0.005\">搭配</span><span style=\"opacity: 0.80\"> 的 </span><span style=\"background-color: hsl(120, 100.00%, 94.24%); opacity: 0.81\" title=\"0.007\">薯条</span><span style=\"opacity: 0.80\"> 也 是 面 的 ， </span><span style=\"background-color: hsl(0, 100.00%, 81.02%); opacity: 0.87\" title=\"-0.040\">一看</span><span style=\"opacity: 0.80\"> 就是 因为 </span><span style=\"background-color: hsl(120, 100.00%, 61.79%); opacity: 0.99\" title=\"0.109\">特价</span><span style=\"opacity: 0.80\"> </span><span style=\"background-color: hsl(0, 100.00%, 72.59%); opacity: 0.92\" title=\"-0.068\">提前</span><span style=\"opacity: 0.80\"> 很 </span><span style=\"background-color: hsl(120, 100.00%, 92.64%); opacity: 0.82\" title=\"0.010\">早就</span><span style=\"opacity: 0.80\"> 做 出来 的 ， </span><span style=\"background-color: hsl(0, 100.00%, 67.42%); opacity: 0.95\" title=\"-0.087\">直接</span><span style=\"opacity: 0.80\"> 盛 出来 </span><span style=\"background-color: hsl(120, 100.00%, 67.67%); opacity: 0.95\" title=\"0.086\">端上来</span><span style=\"opacity: 0.80\"> 了 ， </span><span style=\"background-color: hsl(0, 100.00%, 83.40%); opacity: 0.86\" title=\"-0.033\">鸭血</span><span style=\"opacity: 0.80\"> </span><span style=\"background-color: hsl(120, 100.00%, 78.02%); opacity: 0.89\" title=\"0.049\">粉丝汤</span><span style=\"opacity: 0.80\"> 就 更 </span><span style=\"background-color: hsl(0, 100.00%, 73.76%); opacity: 0.91\" title=\"-0.064\">不用说</span><span style=\"opacity: 0.80\"> 了 ， </span><span style=\"background-color: hsl(0, 100.00%, 81.05%); opacity: 0.87\" title=\"-0.040\">一点</span><span style=\"opacity: 0.80\"> 都 不 </span><span style=\"background-color: hsl(0, 100.00%, 88.45%); opacity: 0.83\" title=\"-0.020\">正宗</span><span style=\"opacity: 0.80\"> ， </span><span style=\"background-color: hsl(120, 100.00%, 82.24%); opacity: 0.86\" title=\"0.036\">粉丝</span><span style=\"opacity: 0.80\"> 都 成 坨 了 ， 而且 又 油 又 腻 。 </span><span style=\"background-color: hsl(120, 100.00%, 67.83%); opacity: 0.95\" title=\"0.085\">蓝莓</span><span style=\"opacity: 0.80\"> </span><span style=\"background-color: hsl(120, 100.00%, 89.47%); opacity: 0.83\" title=\"0.017\">土豆泥</span><span style=\"opacity: 0.80\"> </span><span style=\"background-color: hsl(120, 100.00%, 80.62%); opacity: 0.87\" title=\"0.041\">味道</span><span style=\"opacity: 0.80\"> 还 可以 ， 和 猫 </span><span style=\"background-color: hsl(120, 100.00%, 69.43%); opacity: 0.94\" title=\"0.079\">师傅</span><span style=\"opacity: 0.80\"> 家 的 一个 </span><span style=\"background-color: hsl(120, 100.00%, 80.62%); opacity: 0.87\" title=\"0.041\">味道</span><span style=\"opacity: 0.80\"> ， </span><span style=\"background-color: hsl(0, 100.00%, 94.49%); opacity: 0.81\" title=\"-0.007\">宫保鸡</span><span style=\"opacity: 0.80\"> 丁 和 灌 </span><span style=\"background-color: hsl(0, 100.00%, 85.64%); opacity: 0.85\" title=\"-0.027\">汤包</span><span style=\"opacity: 0.80\"> </span><span style=\"background-color: hsl(120, 100.00%, 80.62%); opacity: 0.87\" title=\"0.041\">味道</span><span style=\"opacity: 0.80\"> 都 </span><span style=\"background-color: hsl(120, 100.00%, 84.07%); opacity: 0.85\" title=\"0.031\">不错</span><span style=\"opacity: 0.80\"> 吃 </span><span style=\"background-color: hsl(120, 100.00%, 82.40%); opacity: 0.86\" title=\"0.036\">起来</span><span style=\"opacity: 0.80\"> </span><span style=\"background-color: hsl(120, 100.00%, 72.00%); opacity: 0.92\" title=\"0.070\">口感</span><span style=\"opacity: 0.80\"> </span><span style=\"background-color: hsl(120, 100.00%, 60.00%); opacity: 1.00\" title=\"0.116\">比较</span><span style=\"opacity: 0.80\"> 好 ， 炸 </span><span style=\"background-color: hsl(120, 100.00%, 63.63%); opacity: 0.97\" title=\"0.101\">春卷</span><span style=\"opacity: 0.80\"> </span><span style=\"background-color: hsl(120, 100.00%, 82.61%); opacity: 0.86\" title=\"0.035\">里面</span><span style=\"opacity: 0.80\"> 放 的 都 是 </span><span style=\"background-color: hsl(120, 100.00%, 91.92%); opacity: 0.82\" title=\"0.012\">韭黄</span><span style=\"opacity: 0.80\"> 和 </span><span style=\"background-color: hsl(120, 100.00%, 85.75%); opacity: 0.85\" title=\"0.027\">大葱</span><span style=\"opacity: 0.80\"> ， </span><span style=\"background-color: hsl(120, 100.00%, 95.05%); opacity: 0.81\" title=\"0.006\">真心</span><span style=\"opacity: 0.80\"> 不 </span><span style=\"background-color: hsl(0, 100.00%, 82.71%); opacity: 0.86\" title=\"-0.035\">好吃</span><span style=\"opacity: 0.80\"> ， </span><span style=\"background-color: hsl(120, 100.00%, 90.05%); opacity: 0.83\" title=\"0.016\">一顿饭</span><span style=\"opacity: 0.80\"> 吃 </span><span style=\"background-color: hsl(120, 100.00%, 72.62%); opacity: 0.92\" title=\"0.068\">下来</span><span style=\"opacity: 0.80\"> </span><span style=\"background-color: hsl(120, 100.00%, 77.14%); opacity: 0.89\" title=\"0.052\">感觉</span><span style=\"opacity: 0.80\"> </span><span style=\"background-color: hsl(0, 100.00%, 88.14%); opacity: 0.84\" title=\"-0.020\">真的</span><span style=\"opacity: 0.80\"> 太 一般 了 ， </span><span style=\"background-color: hsl(120, 100.00%, 99.23%); opacity: 0.80\" title=\"0.000\">结账</span><span style=\"opacity: 0.80\"> 的 时候 说 </span><span style=\"background-color: hsl(120, 100.00%, 84.14%); opacity: 0.85\" title=\"0.031\">打包</span><span style=\"opacity: 0.80\"> ， </span><span style=\"background-color: hsl(0, 100.00%, 81.62%); opacity: 0.87\" title=\"-0.038\">餐盒</span><span style=\"opacity: 0.80\"> 还要 </span><span style=\"background-color: hsl(120, 100.00%, 67.98%); opacity: 0.95\" title=\"0.085\">收费</span><span style=\"opacity: 0.80\"> </span><span style=\"background-color: hsl(120, 100.00%, 83.23%); opacity: 0.86\" title=\"0.034\">一块</span><span style=\"opacity: 0.80\"> 一个 ， 而且 </span><span style=\"background-color: hsl(120, 100.00%, 77.78%); opacity: 0.89\" title=\"0.050\">不能</span><span style=\"opacity: 0.80\"> </span><span style=\"background-color: hsl(120, 100.00%, 82.59%); opacity: 0.86\" title=\"0.035\">开发票</span><span style=\"opacity: 0.80\"> ， </span><span style=\"background-color: hsl(120, 100.00%, 80.27%); opacity: 0.87\" title=\"0.042\">难道</span><span style=\"opacity: 0.80\"> 此 </span><span style=\"background-color: hsl(0, 100.00%, 83.49%); opacity: 0.86\" title=\"-0.033\">餐厅</span><span style=\"opacity: 0.80\"> 不 </span><span style=\"background-color: hsl(0, 100.00%, 84.47%); opacity: 0.85\" title=\"-0.030\">知道</span><span style=\"opacity: 0.80\"> </span><span style=\"background-color: hsl(0, 100.00%, 81.68%); opacity: 0.87\" title=\"-0.038\">现在</span><span style=\"opacity: 0.80\"> 不 给 </span><span style=\"background-color: hsl(120, 100.00%, 82.59%); opacity: 0.86\" title=\"0.035\">开发票</span><span style=\"opacity: 0.80\"> 是 可以 </span><span style=\"background-color: hsl(0, 100.00%, 84.26%); opacity: 0.85\" title=\"-0.031\">投诉</span><span style=\"opacity: 0.80\"> 你们 的 么 ？</span>\n",
       "    </p>\n",
       "\n",
       "\n",
       "    \n",
       "\n",
       "    \n",
       "\n",
       "    \n",
       "\n",
       "    \n",
       "\n",
       "\n",
       "    \n",
       "\n",
       "    \n",
       "\n",
       "    \n",
       "\n",
       "    \n",
       "\n",
       "    \n",
       "\n",
       "    \n",
       "\n",
       "\n",
       "    \n",
       "\n",
       "    \n",
       "\n",
       "    \n",
       "\n",
       "    \n",
       "\n",
       "    \n",
       "\n",
       "    \n",
       "\n",
       "\n",
       "\n"
      ],
      "text/plain": [
       "<IPython.core.display.HTML object>"
      ]
     },
     "execution_count": 197,
     "metadata": {},
     "output_type": "execute_result"
    }
   ],
   "source": [
    "lr_explain(model_lr, data_test['review'][536])"
   ]
  },
  {
   "cell_type": "code",
   "execution_count": null,
   "metadata": {
    "ExecuteTime": {
     "end_time": "2023-03-17T22:22:00.375351Z",
     "start_time": "2023-03-17T22:22:00.328099Z"
    },
    "id": "xWFSNhDlx38i",
    "outputId": "9be5b9cf-e35e-486c-aa66-001e72384dbc",
    "scrolled": true
   },
   "outputs": [
    {
     "data": {
      "text/html": [
       "\n",
       "    <style>\n",
       "    table.eli5-weights tr:hover {\n",
       "        filter: brightness(85%);\n",
       "    }\n",
       "</style>\n",
       "\n",
       "\n",
       "\n",
       "    \n",
       "\n",
       "    \n",
       "\n",
       "    \n",
       "\n",
       "    \n",
       "\n",
       "    \n",
       "\n",
       "    \n",
       "\n",
       "\n",
       "    \n",
       "\n",
       "    \n",
       "\n",
       "    \n",
       "\n",
       "    \n",
       "        \n",
       "\n",
       "    \n",
       "\n",
       "        \n",
       "\n",
       "        \n",
       "    \n",
       "        \n",
       "        \n",
       "    \n",
       "        <p style=\"margin-bottom: 0.5em; margin-top: 0em\">\n",
       "            <b>\n",
       "    \n",
       "        y=1\n",
       "    \n",
       "</b>\n",
       "\n",
       "    \n",
       "    (probability <b>0.926</b>, score <b>2.149</b>)\n",
       "\n",
       "top features\n",
       "        </p>\n",
       "    \n",
       "    <table class=\"eli5-weights\"\n",
       "           style=\"border-collapse: collapse; border: none; margin-top: 0em; table-layout: auto; margin-bottom: 2em;\">\n",
       "        <thead>\n",
       "        <tr style=\"border: none;\">\n",
       "            \n",
       "                <th style=\"padding: 0 1em 0 0.5em; text-align: right; border: none;\" title=\"Feature contribution already accounts for the feature value (for linear models, contribution = weight * feature value), and the sum of feature contributions is equal to the score or, for some classifiers, to the probability. Feature values are shown if &quot;show_feature_values&quot; is True.\">\n",
       "                    Contribution<sup>?</sup>\n",
       "                </th>\n",
       "            \n",
       "            <th style=\"padding: 0 0.5em 0 0.5em; text-align: left; border: none;\">Feature</th>\n",
       "            \n",
       "        </tr>\n",
       "        </thead>\n",
       "        <tbody>\n",
       "        \n",
       "            <tr style=\"background-color: hsl(120, 100.00%, 80.00%); border: none;\">\n",
       "    <td style=\"padding: 0 1em 0 0.5em; text-align: right; border: none;\">\n",
       "        +1.601\n",
       "    </td>\n",
       "    <td style=\"padding: 0 0.5em 0 0.5em; text-align: left; border: none;\">\n",
       "        Highlighted in text (sum)\n",
       "    </td>\n",
       "    \n",
       "</tr>\n",
       "        \n",
       "            <tr style=\"background-color: hsl(120, 100.00%, 90.56%); border: none;\">\n",
       "    <td style=\"padding: 0 1em 0 0.5em; text-align: right; border: none;\">\n",
       "        +0.548\n",
       "    </td>\n",
       "    <td style=\"padding: 0 0.5em 0 0.5em; text-align: left; border: none;\">\n",
       "        &lt;BIAS&gt;\n",
       "    </td>\n",
       "    \n",
       "</tr>\n",
       "        \n",
       "        \n",
       "\n",
       "        \n",
       "        \n",
       "\n",
       "        </tbody>\n",
       "    </table>\n",
       "\n",
       "    \n",
       "\n",
       "\n",
       "\n",
       "    <p style=\"margin-bottom: 2.5em; margin-top:-0.5em;\">\n",
       "        <span style=\"opacity: 0.80\">很 </span><span style=\"background-color: hsl(120, 100.00%, 60.00%); opacity: 1.00\" title=\"0.760\">好吃</span><span style=\"opacity: 0.80\"> ， </span><span style=\"background-color: hsl(120, 100.00%, 91.16%); opacity: 0.82\" title=\"0.088\">环境</span><span style=\"opacity: 0.80\"> 好 ， 所有 </span><span style=\"background-color: hsl(0, 100.00%, 80.90%); opacity: 0.87\" title=\"-0.264\">员工</span><span style=\"opacity: 0.80\"> 的 </span><span style=\"background-color: hsl(0, 100.00%, 84.27%); opacity: 0.85\" title=\"-0.200\">态度</span><span style=\"opacity: 0.80\"> 都 很 好 ， </span><span style=\"background-color: hsl(0, 100.00%, 81.17%); opacity: 0.87\" title=\"-0.259\">上菜</span><span style=\"opacity: 0.80\"> 快 ， </span><span style=\"background-color: hsl(0, 100.00%, 76.03%); opacity: 0.90\" title=\"-0.366\">服务</span><span style=\"opacity: 0.80\"> 也 很 好 ， </span><span style=\"background-color: hsl(0, 100.00%, 83.10%); opacity: 0.86\" title=\"-0.222\">味道</span><span style=\"opacity: 0.80\"> </span><span style=\"background-color: hsl(120, 100.00%, 60.00%); opacity: 1.00\" title=\"0.760\">好吃</span><span style=\"opacity: 0.80\"> ， 都 是 用 蒸馏水 煮 的 ， </span><span style=\"background-color: hsl(120, 100.00%, 68.30%); opacity: 0.94\" title=\"0.545\">推荐</span><span style=\"opacity: 0.80\"> ， 超 </span><span style=\"background-color: hsl(120, 100.00%, 60.00%); opacity: 1.00\" title=\"0.760\">好吃</span>\n",
       "    </p>\n",
       "\n",
       "\n",
       "    \n",
       "\n",
       "    \n",
       "\n",
       "    \n",
       "\n",
       "    \n",
       "\n",
       "\n",
       "    \n",
       "\n",
       "    \n",
       "\n",
       "    \n",
       "\n",
       "    \n",
       "\n",
       "    \n",
       "\n",
       "    \n",
       "\n",
       "\n",
       "    \n",
       "\n",
       "    \n",
       "\n",
       "    \n",
       "\n",
       "    \n",
       "\n",
       "    \n",
       "\n",
       "    \n",
       "\n",
       "\n",
       "\n"
      ],
      "text/plain": [
       "<IPython.core.display.HTML object>"
      ]
     },
     "execution_count": 190,
     "metadata": {},
     "output_type": "execute_result"
    }
   ],
   "source": [
    "lr_explain(model_lr_oversamp, test1) "
   ]
  },
  {
   "cell_type": "code",
   "execution_count": null,
   "metadata": {
    "ExecuteTime": {
     "end_time": "2023-03-17T22:22:01.133437Z",
     "start_time": "2023-03-17T22:22:01.080919Z"
    },
    "id": "2N4BmEZex38i",
    "outputId": "a253dbdf-aa72-4262-9b63-82d9ac16835f"
   },
   "outputs": [
    {
     "data": {
      "text/html": [
       "\n",
       "    <style>\n",
       "    table.eli5-weights tr:hover {\n",
       "        filter: brightness(85%);\n",
       "    }\n",
       "</style>\n",
       "\n",
       "\n",
       "\n",
       "    \n",
       "\n",
       "    \n",
       "\n",
       "    \n",
       "\n",
       "    \n",
       "\n",
       "    \n",
       "\n",
       "    \n",
       "\n",
       "\n",
       "    \n",
       "\n",
       "    \n",
       "\n",
       "    \n",
       "\n",
       "    \n",
       "        \n",
       "\n",
       "    \n",
       "\n",
       "    \n",
       "        \n",
       "    \n",
       "        \n",
       "        \n",
       "    \n",
       "        <p style=\"margin-bottom: 0.5em; margin-top: 0em\">\n",
       "            <b>\n",
       "    \n",
       "        y=0\n",
       "    \n",
       "</b>\n",
       "\n",
       "    \n",
       "    (probability <b>0.680</b>, score <b>0.992</b>)\n",
       "\n",
       "top features\n",
       "        </p>\n",
       "    \n",
       "    <table class=\"eli5-weights\"\n",
       "           style=\"border-collapse: collapse; border: none; margin-top: 0em; table-layout: auto; margin-bottom: 2em;\">\n",
       "        <thead>\n",
       "        <tr style=\"border: none;\">\n",
       "            \n",
       "                <th style=\"padding: 0 1em 0 0.5em; text-align: right; border: none;\" title=\"Feature contribution already accounts for the feature value (for linear models, contribution = weight * feature value), and the sum of feature contributions is equal to the score or, for some classifiers, to the probability. Feature values are shown if &quot;show_feature_values&quot; is True.\">\n",
       "                    Contribution<sup>?</sup>\n",
       "                </th>\n",
       "            \n",
       "            <th style=\"padding: 0 0.5em 0 0.5em; text-align: left; border: none;\">Feature</th>\n",
       "            \n",
       "        </tr>\n",
       "        </thead>\n",
       "        <tbody>\n",
       "        \n",
       "            <tr style=\"background-color: hsl(120, 100.00%, 84.47%); border: none;\">\n",
       "    <td style=\"padding: 0 1em 0 0.5em; text-align: right; border: none;\">\n",
       "        +0.924\n",
       "    </td>\n",
       "    <td style=\"padding: 0 0.5em 0 0.5em; text-align: left; border: none;\">\n",
       "        Highlighted in text (sum)\n",
       "    </td>\n",
       "    \n",
       "</tr>\n",
       "        \n",
       "            <tr style=\"background-color: hsl(120, 100.00%, 97.51%); border: none;\">\n",
       "    <td style=\"padding: 0 1em 0 0.5em; text-align: right; border: none;\">\n",
       "        +0.068\n",
       "    </td>\n",
       "    <td style=\"padding: 0 0.5em 0 0.5em; text-align: left; border: none;\">\n",
       "        &lt;BIAS&gt;\n",
       "    </td>\n",
       "    \n",
       "</tr>\n",
       "        \n",
       "        \n",
       "\n",
       "        \n",
       "        \n",
       "\n",
       "        </tbody>\n",
       "    </table>\n",
       "\n",
       "    \n",
       "\n",
       "\n",
       "\n",
       "    <p style=\"margin-bottom: 2.5em; margin-top:-0.5em;\">\n",
       "        <span style=\"background-color: hsl(0, 100.00%, 83.00%); opacity: 0.86\" title=\"-0.363\">糯米</span><span style=\"opacity: 0.80\"> </span><span style=\"background-color: hsl(0, 100.00%, 94.57%); opacity: 0.81\" title=\"-0.071\">外皮</span><span style=\"opacity: 0.80\"> 不绵滑 ， </span><span style=\"background-color: hsl(120, 100.00%, 79.57%); opacity: 0.88\" title=\"0.472\">豆沙</span><span style=\"opacity: 0.80\"> 馅 粗躁 ， </span><span style=\"background-color: hsl(120, 100.00%, 94.30%); opacity: 0.81\" title=\"0.076\">没有</span><span style=\"opacity: 0.80\"> 香 </span><span style=\"background-color: hsl(120, 100.00%, 85.56%); opacity: 0.85\" title=\"0.287\">甜味</span><span style=\"opacity: 0.80\"> 。 </span><span style=\"background-color: hsl(0, 100.00%, 90.15%); opacity: 0.83\" title=\"-0.166\">12</span><span style=\"opacity: 0.80\"> 元 </span><span style=\"background-color: hsl(120, 100.00%, 81.59%); opacity: 0.87\" title=\"0.407\">一碗</span><span style=\"opacity: 0.80\"> </span><span style=\"background-color: hsl(120, 100.00%, 85.72%); opacity: 0.85\" title=\"0.283\">不值</span><span style=\"opacity: 0.80\"> 。</span>\n",
       "    </p>\n",
       "\n",
       "    \n",
       "        \n",
       "    \n",
       "        \n",
       "        \n",
       "    \n",
       "        <p style=\"margin-bottom: 0.5em; margin-top: 0em\">\n",
       "            <b>\n",
       "    \n",
       "        y=-1\n",
       "    \n",
       "</b>\n",
       "\n",
       "    \n",
       "    (probability <b>0.204</b>, score <b>-0.212</b>)\n",
       "\n",
       "top features\n",
       "        </p>\n",
       "    \n",
       "    <table class=\"eli5-weights\"\n",
       "           style=\"border-collapse: collapse; border: none; margin-top: 0em; table-layout: auto; margin-bottom: 2em;\">\n",
       "        <thead>\n",
       "        <tr style=\"border: none;\">\n",
       "            \n",
       "                <th style=\"padding: 0 1em 0 0.5em; text-align: right; border: none;\" title=\"Feature contribution already accounts for the feature value (for linear models, contribution = weight * feature value), and the sum of feature contributions is equal to the score or, for some classifiers, to the probability. Feature values are shown if &quot;show_feature_values&quot; is True.\">\n",
       "                    Contribution<sup>?</sup>\n",
       "                </th>\n",
       "            \n",
       "            <th style=\"padding: 0 0.5em 0 0.5em; text-align: left; border: none;\">Feature</th>\n",
       "            \n",
       "        </tr>\n",
       "        </thead>\n",
       "        <tbody>\n",
       "        \n",
       "            <tr style=\"background-color: hsl(120, 100.00%, 91.32%); border: none;\">\n",
       "    <td style=\"padding: 0 1em 0 0.5em; text-align: right; border: none;\">\n",
       "        +0.403\n",
       "    </td>\n",
       "    <td style=\"padding: 0 0.5em 0 0.5em; text-align: left; border: none;\">\n",
       "        Highlighted in text (sum)\n",
       "    </td>\n",
       "    \n",
       "</tr>\n",
       "        \n",
       "        \n",
       "\n",
       "        \n",
       "        \n",
       "            <tr style=\"background-color: hsl(0, 100.00%, 88.33%); border: none;\">\n",
       "    <td style=\"padding: 0 1em 0 0.5em; text-align: right; border: none;\">\n",
       "        -0.615\n",
       "    </td>\n",
       "    <td style=\"padding: 0 0.5em 0 0.5em; text-align: left; border: none;\">\n",
       "        &lt;BIAS&gt;\n",
       "    </td>\n",
       "    \n",
       "</tr>\n",
       "        \n",
       "\n",
       "        </tbody>\n",
       "    </table>\n",
       "\n",
       "    \n",
       "\n",
       "\n",
       "\n",
       "    <p style=\"margin-bottom: 2.5em; margin-top:-0.5em;\">\n",
       "        <span style=\"background-color: hsl(120, 100.00%, 90.47%); opacity: 0.83\" title=\"0.159\">糯米</span><span style=\"opacity: 0.80\"> </span><span style=\"background-color: hsl(0, 100.00%, 86.68%); opacity: 0.84\" title=\"-0.256\">外皮</span><span style=\"opacity: 0.80\"> 不绵滑 ， </span><span style=\"background-color: hsl(0, 100.00%, 81.75%); opacity: 0.87\" title=\"-0.402\">豆沙</span><span style=\"opacity: 0.80\"> 馅 粗躁 ， </span><span style=\"background-color: hsl(120, 100.00%, 82.42%); opacity: 0.86\" title=\"0.381\">没有</span><span style=\"opacity: 0.80\"> 香 </span><span style=\"background-color: hsl(0, 100.00%, 81.38%); opacity: 0.87\" title=\"-0.413\">甜味</span><span style=\"opacity: 0.80\"> 。 </span><span style=\"background-color: hsl(120, 100.00%, 92.43%); opacity: 0.82\" title=\"0.114\">12</span><span style=\"opacity: 0.80\"> 元 </span><span style=\"background-color: hsl(0, 100.00%, 91.77%); opacity: 0.82\" title=\"-0.129\">一碗</span><span style=\"opacity: 0.80\"> </span><span style=\"background-color: hsl(120, 100.00%, 66.68%); opacity: 0.95\" title=\"0.949\">不值</span><span style=\"opacity: 0.80\"> 。</span>\n",
       "    </p>\n",
       "\n",
       "    \n",
       "        \n",
       "    \n",
       "        \n",
       "        \n",
       "    \n",
       "        <p style=\"margin-bottom: 0.5em; margin-top: 0em\">\n",
       "            <b>\n",
       "    \n",
       "        y=1\n",
       "    \n",
       "</b>\n",
       "\n",
       "    \n",
       "    (probability <b>0.116</b>, score <b>-0.780</b>)\n",
       "\n",
       "top features\n",
       "        </p>\n",
       "    \n",
       "    <table class=\"eli5-weights\"\n",
       "           style=\"border-collapse: collapse; border: none; margin-top: 0em; table-layout: auto; margin-bottom: 2em;\">\n",
       "        <thead>\n",
       "        <tr style=\"border: none;\">\n",
       "            \n",
       "                <th style=\"padding: 0 1em 0 0.5em; text-align: right; border: none;\" title=\"Feature contribution already accounts for the feature value (for linear models, contribution = weight * feature value), and the sum of feature contributions is equal to the score or, for some classifiers, to the probability. Feature values are shown if &quot;show_feature_values&quot; is True.\">\n",
       "                    Contribution<sup>?</sup>\n",
       "                </th>\n",
       "            \n",
       "            <th style=\"padding: 0 0.5em 0 0.5em; text-align: left; border: none;\">Feature</th>\n",
       "            \n",
       "        </tr>\n",
       "        </thead>\n",
       "        <tbody>\n",
       "        \n",
       "            <tr style=\"background-color: hsl(120, 100.00%, 89.24%); border: none;\">\n",
       "    <td style=\"padding: 0 1em 0 0.5em; text-align: right; border: none;\">\n",
       "        +0.548\n",
       "    </td>\n",
       "    <td style=\"padding: 0 0.5em 0 0.5em; text-align: left; border: none;\">\n",
       "        &lt;BIAS&gt;\n",
       "    </td>\n",
       "    \n",
       "</tr>\n",
       "        \n",
       "        \n",
       "\n",
       "        \n",
       "        \n",
       "            <tr style=\"background-color: hsl(0, 100.00%, 80.00%); border: none;\">\n",
       "    <td style=\"padding: 0 1em 0 0.5em; text-align: right; border: none;\">\n",
       "        -1.327\n",
       "    </td>\n",
       "    <td style=\"padding: 0 0.5em 0 0.5em; text-align: left; border: none;\">\n",
       "        Highlighted in text (sum)\n",
       "    </td>\n",
       "    \n",
       "</tr>\n",
       "        \n",
       "\n",
       "        </tbody>\n",
       "    </table>\n",
       "\n",
       "    \n",
       "\n",
       "\n",
       "\n",
       "    <p style=\"margin-bottom: 2.5em; margin-top:-0.5em;\">\n",
       "        <span style=\"background-color: hsl(120, 100.00%, 88.63%); opacity: 0.83\" title=\"0.204\">糯米</span><span style=\"opacity: 0.80\"> </span><span style=\"background-color: hsl(120, 100.00%, 84.19%); opacity: 0.85\" title=\"0.327\">外皮</span><span style=\"opacity: 0.80\"> 不绵滑 ， </span><span style=\"background-color: hsl(0, 100.00%, 94.61%); opacity: 0.81\" title=\"-0.070\">豆沙</span><span style=\"opacity: 0.80\"> 馅 粗躁 ， </span><span style=\"background-color: hsl(0, 100.00%, 80.03%); opacity: 0.87\" title=\"-0.457\">没有</span><span style=\"opacity: 0.80\"> 香 </span><span style=\"background-color: hsl(120, 100.00%, 91.90%); opacity: 0.82\" title=\"0.126\">甜味</span><span style=\"opacity: 0.80\"> 。 </span><span style=\"background-color: hsl(120, 100.00%, 95.63%); opacity: 0.81\" title=\"0.052\">12</span><span style=\"opacity: 0.80\"> 元 </span><span style=\"background-color: hsl(0, 100.00%, 85.90%); opacity: 0.85\" title=\"-0.278\">一碗</span><span style=\"opacity: 0.80\"> </span><span style=\"background-color: hsl(0, 100.00%, 60.00%); opacity: 1.00\" title=\"-1.232\">不值</span><span style=\"opacity: 0.80\"> 。</span>\n",
       "    </p>\n",
       "\n",
       "    \n",
       "\n",
       "\n",
       "    \n",
       "\n",
       "    \n",
       "\n",
       "    \n",
       "\n",
       "\n",
       "    \n",
       "\n",
       "    \n",
       "\n",
       "    \n",
       "\n",
       "    \n",
       "\n",
       "    \n",
       "\n",
       "    \n",
       "\n",
       "\n",
       "    \n",
       "\n",
       "    \n",
       "\n",
       "    \n",
       "\n",
       "    \n",
       "\n",
       "    \n",
       "\n",
       "    \n",
       "\n",
       "\n",
       "\n"
      ],
      "text/plain": [
       "<IPython.core.display.HTML object>"
      ]
     },
     "execution_count": 191,
     "metadata": {},
     "output_type": "execute_result"
    }
   ],
   "source": [
    "lr_explain(model_lr_oversamp, test2, top_targets=3)  # 感觉这句比之前的好"
   ]
  },
  {
   "cell_type": "code",
   "execution_count": null,
   "metadata": {
    "ExecuteTime": {
     "end_time": "2023-03-17T22:28:29.887600Z",
     "start_time": "2023-03-17T22:28:29.797424Z"
    },
    "id": "yv08anJNx38j",
    "outputId": "565f1eff-dc3e-4abc-e94c-9f253f558801"
   },
   "outputs": [
    {
     "data": {
      "text/html": [
       "\n",
       "    <style>\n",
       "    table.eli5-weights tr:hover {\n",
       "        filter: brightness(85%);\n",
       "    }\n",
       "</style>\n",
       "\n",
       "\n",
       "\n",
       "    \n",
       "\n",
       "    \n",
       "\n",
       "    \n",
       "\n",
       "    \n",
       "\n",
       "    \n",
       "\n",
       "    \n",
       "\n",
       "\n",
       "    \n",
       "\n",
       "    \n",
       "\n",
       "    \n",
       "\n",
       "    \n",
       "        \n",
       "\n",
       "    \n",
       "\n",
       "        \n",
       "\n",
       "        \n",
       "    \n",
       "        \n",
       "        \n",
       "    \n",
       "        <p style=\"margin-bottom: 0.5em; margin-top: 0em\">\n",
       "            <b>\n",
       "    \n",
       "        y=1\n",
       "    \n",
       "</b>\n",
       "\n",
       "    \n",
       "    (probability <b>0.670</b>, score <b>1.108</b>)\n",
       "\n",
       "top features\n",
       "        </p>\n",
       "    \n",
       "    <table class=\"eli5-weights\"\n",
       "           style=\"border-collapse: collapse; border: none; margin-top: 0em; table-layout: auto; margin-bottom: 2em;\">\n",
       "        <thead>\n",
       "        <tr style=\"border: none;\">\n",
       "            \n",
       "                <th style=\"padding: 0 1em 0 0.5em; text-align: right; border: none;\" title=\"Feature contribution already accounts for the feature value (for linear models, contribution = weight * feature value), and the sum of feature contributions is equal to the score or, for some classifiers, to the probability. Feature values are shown if &quot;show_feature_values&quot; is True.\">\n",
       "                    Contribution<sup>?</sup>\n",
       "                </th>\n",
       "            \n",
       "            <th style=\"padding: 0 0.5em 0 0.5em; text-align: left; border: none;\">Feature</th>\n",
       "            \n",
       "        </tr>\n",
       "        </thead>\n",
       "        <tbody>\n",
       "        \n",
       "            <tr style=\"background-color: hsl(120, 100.00%, 80.00%); border: none;\">\n",
       "    <td style=\"padding: 0 1em 0 0.5em; text-align: right; border: none;\">\n",
       "        +1.219\n",
       "    </td>\n",
       "    <td style=\"padding: 0 0.5em 0 0.5em; text-align: left; border: none;\">\n",
       "        &lt;BIAS&gt;\n",
       "    </td>\n",
       "    \n",
       "</tr>\n",
       "        \n",
       "        \n",
       "\n",
       "        \n",
       "        \n",
       "            <tr style=\"background-color: hsl(0, 100.00%, 96.26%); border: none;\">\n",
       "    <td style=\"padding: 0 1em 0 0.5em; text-align: right; border: none;\">\n",
       "        -0.111\n",
       "    </td>\n",
       "    <td style=\"padding: 0 0.5em 0 0.5em; text-align: left; border: none;\">\n",
       "        Highlighted in text (sum)\n",
       "    </td>\n",
       "    \n",
       "</tr>\n",
       "        \n",
       "\n",
       "        </tbody>\n",
       "    </table>\n",
       "\n",
       "    \n",
       "\n",
       "\n",
       "\n",
       "    <p style=\"margin-bottom: 2.5em; margin-top:-0.5em;\">\n",
       "        <span style=\"background-color: hsl(120, 100.00%, 98.60%); opacity: 0.80\" title=\"0.002\">昨儿</span><span style=\"opacity: 0.80\"> </span><span style=\"background-color: hsl(120, 100.00%, 98.24%); opacity: 0.80\" title=\"0.002\">晚上</span><span style=\"opacity: 0.80\"> 来 </span><span style=\"background-color: hsl(120, 100.00%, 89.88%); opacity: 0.83\" title=\"0.026\">凯德</span><span style=\"opacity: 0.80\"> </span><span style=\"background-color: hsl(0, 100.00%, 91.79%); opacity: 0.82\" title=\"-0.020\">1818</span><span style=\"opacity: 0.80\"> 的 </span><span style=\"background-color: hsl(0, 100.00%, 90.82%); opacity: 0.82\" title=\"-0.023\">绿茶</span><span style=\"opacity: 0.80\"> </span><span style=\"background-color: hsl(0, 100.00%, 91.40%); opacity: 0.82\" title=\"-0.021\">吃饭</span><span style=\"opacity: 0.80\"> ， 点 了 </span><span style=\"background-color: hsl(120, 100.00%, 83.55%); opacity: 0.86\" title=\"0.053\">以下</span><span style=\"opacity: 0.80\"> </span><span style=\"background-color: hsl(0, 100.00%, 96.42%); opacity: 0.81\" title=\"-0.006\">10</span><span style=\"opacity: 0.80\"> 个 菜 ， 这 </span><span style=\"background-color: hsl(0, 100.00%, 97.02%); opacity: 0.80\" title=\"-0.005\">里面</span><span style=\"opacity: 0.80\"> 有 </span><span style=\"background-color: hsl(0, 100.00%, 92.96%); opacity: 0.82\" title=\"-0.016\">好几个</span><span style=\"opacity: 0.80\"> 都 是 </span><span style=\"background-color: hsl(120, 100.00%, 85.94%); opacity: 0.84\" title=\"0.042\">推荐</span><span style=\"opacity: 0.80\"> </span><span style=\"background-color: hsl(0, 100.00%, 96.85%); opacity: 0.81\" title=\"-0.005\">菜品</span><span style=\"opacity: 0.80\"> ， 咱 </span><span style=\"background-color: hsl(0, 100.00%, 95.89%); opacity: 0.81\" title=\"-0.007\">挨个</span><span style=\"opacity: 0.80\"> 说 啊 ～     </span><span style=\"background-color: hsl(0, 100.00%, 97.48%); opacity: 0.80\" title=\"-0.004\">第一张</span><span style=\"opacity: 0.80\">   “ </span><span style=\"background-color: hsl(0, 100.00%, 97.86%); opacity: 0.80\" title=\"-0.003\">客家</span><span style=\"opacity: 0.80\"> </span><span style=\"background-color: hsl(0, 100.00%, 91.57%); opacity: 0.82\" title=\"-0.020\">茄子</span><span style=\"opacity: 0.80\"> 煲 ” ： 一个 字 ： 咸 、 俩 字 ： 很 咸 、 仨 字 ： </span><span style=\"background-color: hsl(120, 100.00%, 84.34%); opacity: 0.85\" title=\"0.049\">非常</span><span style=\"opacity: 0.80\"> 咸 、 </span><span style=\"background-color: hsl(0, 100.00%, 96.39%); opacity: 0.81\" title=\"-0.006\">四个</span><span style=\"opacity: 0.80\"> 字 ： 咸 （ hou ) 死 我 了 ...   ...   我 很 </span><span style=\"background-color: hsl(0, 100.00%, 83.00%); opacity: 0.86\" title=\"-0.055\">怀疑</span><span style=\"opacity: 0.80\"> </span><span style=\"background-color: hsl(0, 100.00%, 86.58%); opacity: 0.84\" title=\"-0.039\">是不是</span><span style=\"opacity: 0.80\"> </span><span style=\"background-color: hsl(0, 100.00%, 90.53%); opacity: 0.83\" title=\"-0.024\">师傅</span><span style=\"opacity: 0.80\"> 在 放 </span><span style=\"background-color: hsl(0, 100.00%, 93.59%); opacity: 0.81\" title=\"-0.014\">酱油</span><span style=\"opacity: 0.80\"> 的 时候 </span><span style=\"background-color: hsl(120, 100.00%, 97.47%); opacity: 0.80\" title=\"0.004\">手抖</span><span style=\"opacity: 0.80\"> 了   然后 </span><span style=\"background-color: hsl(0, 100.00%, 94.87%); opacity: 0.81\" title=\"-0.010\">整锅</span><span style=\"opacity: 0.80\"> 煲 就是 </span><span style=\"background-color: hsl(120, 100.00%, 98.50%); opacity: 0.80\" title=\"0.002\">一锅</span><span style=\"opacity: 0.80\"> </span><span style=\"background-color: hsl(120, 100.00%, 96.53%); opacity: 0.81\" title=\"0.006\">酱色</span><span style=\"opacity: 0.80\"> 。 </span><span style=\"background-color: hsl(0, 100.00%, 97.02%); opacity: 0.80\" title=\"-0.005\">里面</span><span style=\"opacity: 0.80\"> 的 </span><span style=\"background-color: hsl(0, 100.00%, 96.87%); opacity: 0.81\" title=\"-0.005\">咸鱼</span><span style=\"opacity: 0.80\"> 粒 很 </span><span style=\"background-color: hsl(0, 100.00%, 94.28%); opacity: 0.81\" title=\"-0.012\">显然</span><span style=\"opacity: 0.80\"> </span><span style=\"background-color: hsl(0, 100.00%, 85.35%); opacity: 0.85\" title=\"-0.045\">没有</span><span style=\"opacity: 0.80\"> 经过 任何 </span><span style=\"background-color: hsl(0, 100.00%, 93.98%); opacity: 0.81\" title=\"-0.013\">处理</span><span style=\"opacity: 0.80\"> （ 泡 </span><span style=\"background-color: hsl(120, 100.00%, 94.26%); opacity: 0.81\" title=\"0.012\">一下</span><span style=\"opacity: 0.80\"> 水 </span><span style=\"background-color: hsl(0, 100.00%, 93.00%); opacity: 0.82\" title=\"-0.016\">去掉</span><span style=\"opacity: 0.80\"> </span><span style=\"background-color: hsl(120, 100.00%, 98.19%); opacity: 0.80\" title=\"0.002\">部分</span><span style=\"opacity: 0.80\"> </span><span style=\"background-color: hsl(0, 100.00%, 92.16%); opacity: 0.82\" title=\"-0.018\">盐分</span><span style=\"opacity: 0.80\"> 等 ） ， 再加之 菜 本身 很 咸 </span><span style=\"background-color: hsl(0, 100.00%, 99.42%); opacity: 0.80\" title=\"-0.000\">根本无法</span><span style=\"opacity: 0.80\"> </span><span style=\"background-color: hsl(120, 100.00%, 86.42%); opacity: 0.84\" title=\"0.040\">入口</span><span style=\"opacity: 0.80\"> ， </span><span style=\"background-color: hsl(0, 100.00%, 94.87%); opacity: 0.81\" title=\"-0.010\">整锅</span><span style=\"opacity: 0.80\"> 煲 </span><span style=\"background-color: hsl(0, 100.00%, 95.58%); opacity: 0.81\" title=\"-0.008\">基本</span><span style=\"opacity: 0.80\"> 没 动 ； </span><span style=\"background-color: hsl(0, 100.00%, 95.25%); opacity: 0.81\" title=\"-0.009\">第二张</span><span style=\"opacity: 0.80\">   “ </span><span style=\"background-color: hsl(0, 100.00%, 95.46%); opacity: 0.81\" title=\"-0.008\">鱼头</span><span style=\"opacity: 0.80\"> </span><span style=\"background-color: hsl(120, 100.00%, 95.36%); opacity: 0.81\" title=\"0.009\">诱惑</span><span style=\"opacity: 0.80\">   ” ： 这 </span><span style=\"background-color: hsl(0, 100.00%, 93.72%); opacity: 0.81\" title=\"-0.013\">道菜</span><span style=\"opacity: 0.80\"> 是 翔 哥点 的   还 </span><span style=\"background-color: hsl(120, 100.00%, 81.10%); opacity: 0.87\" title=\"0.064\">不错</span><span style=\"opacity: 0.80\">   首先 </span><span style=\"background-color: hsl(0, 100.00%, 95.46%); opacity: 0.81\" title=\"-0.008\">鱼头</span><span style=\"opacity: 0.80\"> 很 </span><span style=\"background-color: hsl(120, 100.00%, 93.71%); opacity: 0.81\" title=\"0.013\">新鲜</span><span style=\"opacity: 0.80\">   其次 </span><span style=\"background-color: hsl(0, 100.00%, 95.46%); opacity: 0.81\" title=\"-0.008\">鱼头</span><span style=\"opacity: 0.80\"> 蒸 的 </span><span style=\"background-color: hsl(0, 100.00%, 89.39%); opacity: 0.83\" title=\"-0.028\">火候</span><span style=\"opacity: 0.80\"> </span><span style=\"background-color: hsl(120, 100.00%, 90.16%); opacity: 0.83\" title=\"0.025\">刚好</span><span style=\"opacity: 0.80\">   既 </span><span style=\"background-color: hsl(120, 100.00%, 91.60%); opacity: 0.82\" title=\"0.020\">入味</span><span style=\"opacity: 0.80\"> 还 不 老 ， </span><span style=\"background-color: hsl(120, 100.00%, 88.79%); opacity: 0.83\" title=\"0.030\">建议</span><span style=\"opacity: 0.80\"> 除了 </span><span style=\"background-color: hsl(120, 100.00%, 89.71%); opacity: 0.83\" title=\"0.027\">小米</span><span style=\"opacity: 0.80\"> 辣 再 </span><span style=\"background-color: hsl(120, 100.00%, 91.17%); opacity: 0.82\" title=\"0.022\">加上</span><span style=\"opacity: 0.80\"> 点泡椒 ， 这样 </span><span style=\"background-color: hsl(120, 100.00%, 93.12%); opacity: 0.82\" title=\"0.015\">无论是</span><span style=\"opacity: 0.80\"> </span><span style=\"background-color: hsl(120, 100.00%, 92.93%); opacity: 0.82\" title=\"0.016\">颜色</span><span style=\"opacity: 0.80\"> 和 </span><span style=\"background-color: hsl(120, 100.00%, 98.15%); opacity: 0.80\" title=\"0.002\">口味</span><span style=\"opacity: 0.80\"> 上 都 会 更 棒 的 ！ 这 </span><span style=\"background-color: hsl(0, 100.00%, 93.72%); opacity: 0.81\" title=\"-0.013\">道菜</span><span style=\"opacity: 0.80\"> </span><span style=\"background-color: hsl(0, 100.00%, 95.58%); opacity: 0.81\" title=\"-0.008\">基本</span><span style=\"opacity: 0.80\"> </span><span style=\"background-color: hsl(120, 100.00%, 97.59%); opacity: 0.80\" title=\"0.003\">消灭</span><span style=\"opacity: 0.80\"> ；   </span><span style=\"background-color: hsl(120, 100.00%, 95.75%); opacity: 0.81\" title=\"0.008\">第三张</span><span style=\"opacity: 0.80\"> ： “ </span><span style=\"background-color: hsl(120, 100.00%, 91.68%); opacity: 0.82\" title=\"0.020\">小锅</span><span style=\"opacity: 0.80\"> </span><span style=\"background-color: hsl(0, 100.00%, 91.62%); opacity: 0.82\" title=\"-0.020\">土豆</span><span style=\"opacity: 0.80\"> ” ： </span><span style=\"background-color: hsl(120, 100.00%, 95.69%); opacity: 0.81\" title=\"0.008\">厚片</span><span style=\"opacity: 0.80\"> 的 </span><span style=\"background-color: hsl(0, 100.00%, 91.62%); opacity: 0.82\" title=\"-0.020\">土豆</span><span style=\"opacity: 0.80\"> </span><span style=\"background-color: hsl(120, 100.00%, 95.39%); opacity: 0.81\" title=\"0.009\">挂满</span><span style=\"opacity: 0.80\"> </span><span style=\"background-color: hsl(120, 100.00%, 91.56%); opacity: 0.82\" title=\"0.020\">酱汁</span><span style=\"opacity: 0.80\"> ， </span><span style=\"background-color: hsl(120, 100.00%, 90.10%); opacity: 0.83\" title=\"0.025\">炉子</span><span style=\"opacity: 0.80\"> 在 </span><span style=\"background-color: hsl(0, 100.00%, 98.63%); opacity: 0.80\" title=\"-0.002\">下面</span><span style=\"opacity: 0.80\"> </span><span style=\"background-color: hsl(120, 100.00%, 85.12%); opacity: 0.85\" title=\"0.046\">慢慢</span><span style=\"opacity: 0.80\"> </span><span style=\"background-color: hsl(0, 100.00%, 86.93%); opacity: 0.84\" title=\"-0.038\">加热</span><span style=\"opacity: 0.80\"> ， </span><span style=\"background-color: hsl(0, 100.00%, 91.73%); opacity: 0.82\" title=\"-0.020\">后来</span><span style=\"opacity: 0.80\"> 加 </span><span style=\"background-color: hsl(0, 100.00%, 93.66%); opacity: 0.81\" title=\"-0.013\">一片</span><span style=\"opacity: 0.80\"> </span><span style=\"background-color: hsl(120, 100.00%, 96.63%); opacity: 0.81\" title=\"0.005\">放到</span><span style=\"opacity: 0.80\"> </span><span style=\"background-color: hsl(0, 100.00%, 99.76%); opacity: 0.80\" title=\"-0.000\">嘴里</span><span style=\"opacity: 0.80\"> ， </span><span style=\"background-color: hsl(0, 100.00%, 91.22%); opacity: 0.82\" title=\"-0.021\">几乎</span><span style=\"opacity: 0.80\"> 是 </span><span style=\"background-color: hsl(120, 100.00%, 86.42%); opacity: 0.84\" title=\"0.040\">入口</span><span style=\"opacity: 0.80\"> 即 化 、 </span><span style=\"background-color: hsl(120, 100.00%, 96.36%); opacity: 0.81\" title=\"0.006\">口感</span><span style=\"opacity: 0.80\"> </span><span style=\"background-color: hsl(0, 100.00%, 91.39%); opacity: 0.82\" title=\"-0.021\">绵软</span><span style=\"opacity: 0.80\"> ， 也 是 </span><span style=\"background-color: hsl(0, 100.00%, 95.53%); opacity: 0.81\" title=\"-0.008\">一道</span><span style=\"opacity: 0.80\"> </span><span style=\"background-color: hsl(120, 100.00%, 81.10%); opacity: 0.87\" title=\"0.064\">不错</span><span style=\"opacity: 0.80\"> 的 下 </span><span style=\"background-color: hsl(120, 100.00%, 97.79%); opacity: 0.80\" title=\"0.003\">饭菜</span><span style=\"opacity: 0.80\"> ； 第四张 ： “ </span><span style=\"background-color: hsl(120, 100.00%, 93.79%); opacity: 0.81\" title=\"0.013\">农家</span><span style=\"opacity: 0.80\"> </span><span style=\"background-color: hsl(120, 100.00%, 90.24%); opacity: 0.83\" title=\"0.025\">小菜</span><span style=\"opacity: 0.80\"> ” </span><span style=\"background-color: hsl(120, 100.00%, 97.68%); opacity: 0.80\" title=\"0.003\">其实</span><span style=\"opacity: 0.80\"> 就是 少 了 </span><span style=\"background-color: hsl(0, 100.00%, 91.53%); opacity: 0.82\" title=\"-0.020\">橄榄</span><span style=\"opacity: 0.80\"> 菜 和 </span><span style=\"background-color: hsl(0, 100.00%, 99.54%); opacity: 0.80\" title=\"-0.000\">肉末</span><span style=\"opacity: 0.80\"> 的 </span><span style=\"background-color: hsl(120, 100.00%, 90.24%); opacity: 0.83\" title=\"0.025\">豆角</span><span style=\"opacity: 0.80\"> 粒 ， </span><span style=\"background-color: hsl(0, 100.00%, 94.43%); opacity: 0.81\" title=\"-0.011\">味道</span><span style=\"opacity: 0.80\"> 还 可以 ， 如果 把 </span><span style=\"background-color: hsl(120, 100.00%, 90.24%); opacity: 0.83\" title=\"0.025\">豆角</span><span style=\"opacity: 0.80\"> 再 煸 的 干 </span><span style=\"background-color: hsl(0, 100.00%, 94.06%); opacity: 0.81\" title=\"-0.012\">一点</span><span style=\"opacity: 0.80\"> （ </span><span style=\"background-color: hsl(0, 100.00%, 96.57%); opacity: 0.81\" title=\"-0.006\">表皮</span><span style=\"opacity: 0.80\"> 起皱 ） </span><span style=\"background-color: hsl(120, 100.00%, 96.36%); opacity: 0.81\" title=\"0.006\">口感</span><span style=\"opacity: 0.80\"> 会 </span><span style=\"background-color: hsl(120, 100.00%, 83.78%); opacity: 0.86\" title=\"0.052\">更好</span><span style=\"opacity: 0.80\"> ； </span><span style=\"background-color: hsl(120, 100.00%, 92.83%); opacity: 0.82\" title=\"0.016\">第五</span><span style=\"opacity: 0.80\"> 张 “ </span><span style=\"background-color: hsl(0, 100.00%, 93.66%); opacity: 0.81\" title=\"-0.013\">菜心</span><span style=\"opacity: 0.80\"> </span><span style=\"background-color: hsl(0, 100.00%, 95.09%); opacity: 0.81\" title=\"-0.009\">金钩</span><span style=\"opacity: 0.80\"> </span><span style=\"background-color: hsl(0, 100.00%, 96.48%); opacity: 0.81\" title=\"-0.006\">豆腐</span><span style=\"opacity: 0.80\"> ”   和 没 上 图 的 “ </span><span style=\"background-color: hsl(120, 100.00%, 94.85%); opacity: 0.81\" title=\"0.010\">老乡</span><span style=\"opacity: 0.80\"> </span><span style=\"background-color: hsl(120, 100.00%, 92.61%); opacity: 0.82\" title=\"0.017\">浓汤</span><span style=\"opacity: 0.80\"> ” </span><span style=\"background-color: hsl(120, 100.00%, 90.99%); opacity: 0.82\" title=\"0.022\">一起</span><span style=\"opacity: 0.80\"> 说 了 ， </span><span style=\"background-color: hsl(120, 100.00%, 95.95%); opacity: 0.81\" title=\"0.007\">两道</span><span style=\"opacity: 0.80\"> </span><span style=\"background-color: hsl(0, 100.00%, 97.87%); opacity: 0.80\" title=\"-0.003\">分不清</span><span style=\"opacity: 0.80\"> 是 汤 、 羹 还是 菜 的 </span><span style=\"background-color: hsl(120, 100.00%, 87.99%); opacity: 0.84\" title=\"0.034\">东东</span><span style=\"opacity: 0.80\"> ， 都 是 </span><span style=\"background-color: hsl(120, 100.00%, 85.94%); opacity: 0.84\" title=\"0.042\">推荐</span><span style=\"opacity: 0.80\"> 菜   </span><span style=\"background-color: hsl(0, 100.00%, 97.87%); opacity: 0.80\" title=\"-0.003\">分不清</span><span style=\"opacity: 0.80\"> 也 </span><span style=\"background-color: hsl(0, 100.00%, 88.73%); opacity: 0.83\" title=\"-0.031\">无所谓</span><span style=\"opacity: 0.80\"> ， </span><span style=\"background-color: hsl(0, 100.00%, 92.51%); opacity: 0.82\" title=\"-0.017\">重点</span><span style=\"opacity: 0.80\"> 是 </span><span style=\"background-color: hsl(0, 100.00%, 93.51%); opacity: 0.81\" title=\"-0.014\">上菜</span><span style=\"opacity: 0.80\"> 的 时候 都 不是 热 的   都 是 温 的   “ </span><span style=\"background-color: hsl(0, 100.00%, 93.66%); opacity: 0.81\" title=\"-0.013\">菜心</span><span style=\"opacity: 0.80\"> ” </span><span style=\"background-color: hsl(0, 100.00%, 97.02%); opacity: 0.80\" title=\"-0.005\">里面</span><span style=\"opacity: 0.80\"> 有 </span><span style=\"background-color: hsl(120, 100.00%, 94.65%); opacity: 0.81\" title=\"0.011\">蛋黄</span><span style=\"opacity: 0.80\"> 、 “ </span><span style=\"background-color: hsl(120, 100.00%, 92.61%); opacity: 0.82\" title=\"0.017\">浓汤</span><span style=\"opacity: 0.80\"> ” </span><span style=\"background-color: hsl(0, 100.00%, 97.02%); opacity: 0.80\" title=\"-0.005\">里面</span><span style=\"opacity: 0.80\"> 有 </span><span style=\"background-color: hsl(120, 100.00%, 97.05%); opacity: 0.80\" title=\"0.005\">猪肚</span><span style=\"opacity: 0.80\"> ， 这 </span><span style=\"background-color: hsl(0, 100.00%, 96.74%); opacity: 0.81\" title=\"-0.005\">两种</span><span style=\"opacity: 0.80\"> </span><span style=\"background-color: hsl(120, 100.00%, 92.98%); opacity: 0.82\" title=\"0.016\">食材</span><span style=\"opacity: 0.80\"> </span><span style=\"background-color: hsl(0, 100.00%, 99.36%); opacity: 0.80\" title=\"-0.001\">变冷</span><span style=\"opacity: 0.80\"> 后 都 会 有 </span><span style=\"background-color: hsl(0, 100.00%, 86.38%); opacity: 0.84\" title=\"-0.040\">腥味</span><span style=\"opacity: 0.80\"> 且 </span><span style=\"background-color: hsl(120, 100.00%, 96.36%); opacity: 0.81\" title=\"0.006\">口感</span><span style=\"opacity: 0.80\"> </span><span style=\"background-color: hsl(0, 100.00%, 80.83%); opacity: 0.87\" title=\"-0.066\">不好</span><span style=\"opacity: 0.80\"> ， 加之 </span><span style=\"background-color: hsl(0, 100.00%, 89.72%); opacity: 0.83\" title=\"-0.027\">一碗</span><span style=\"opacity: 0.80\"> 有 淀粉类 的 羹   </span><span style=\"background-color: hsl(0, 100.00%, 83.65%); opacity: 0.86\" title=\"-0.052\">温温的</span><span style=\"opacity: 0.80\"> </span><span style=\"background-color: hsl(0, 100.00%, 90.24%); opacity: 0.83\" title=\"-0.025\">很难</span><span style=\"opacity: 0.80\"> 喝 ， </span><span style=\"background-color: hsl(120, 100.00%, 88.79%); opacity: 0.83\" title=\"0.030\">建议</span><span style=\"opacity: 0.80\"> </span><span style=\"background-color: hsl(0, 100.00%, 86.99%); opacity: 0.84\" title=\"-0.038\">出品</span><span style=\"opacity: 0.80\"> 后 马上传 </span><span style=\"background-color: hsl(0, 100.00%, 98.15%); opacity: 0.80\" title=\"-0.002\">菜到</span><span style=\"opacity: 0.80\"> </span><span style=\"background-color: hsl(0, 100.00%, 88.68%); opacity: 0.83\" title=\"-0.031\">客人</span><span style=\"opacity: 0.80\"> </span><span style=\"background-color: hsl(0, 100.00%, 93.51%); opacity: 0.81\" title=\"-0.014\">面前</span><span style=\"opacity: 0.80\"> ， </span><span style=\"background-color: hsl(120, 100.00%, 98.15%); opacity: 0.80\" title=\"0.002\">口味</span><span style=\"opacity: 0.80\"> 上 冷 了 就 都 不 </span><span style=\"background-color: hsl(120, 100.00%, 76.94%); opacity: 0.89\" title=\"0.085\">美味</span><span style=\"opacity: 0.80\"> 了 ； </span><span style=\"background-color: hsl(120, 100.00%, 98.11%); opacity: 0.80\" title=\"0.002\">第六</span><span style=\"opacity: 0.80\"> 张 ： “ </span><span style=\"background-color: hsl(120, 100.00%, 90.39%); opacity: 0.83\" title=\"0.024\">麻酱</span><span style=\"opacity: 0.80\"> </span><span style=\"background-color: hsl(0, 100.00%, 95.57%); opacity: 0.81\" title=\"-0.008\">油麦</span><span style=\"opacity: 0.80\"> 菜 ” </span><span style=\"background-color: hsl(120, 100.00%, 90.98%); opacity: 0.82\" title=\"0.022\">很多</span><span style=\"opacity: 0.80\"> </span><span style=\"background-color: hsl(120, 100.00%, 95.84%); opacity: 0.81\" title=\"0.007\">地方</span><span style=\"opacity: 0.80\"> 也 叫 “ </span><span style=\"background-color: hsl(120, 100.00%, 90.39%); opacity: 0.83\" title=\"0.024\">麻酱</span><span style=\"opacity: 0.80\"> </span><span style=\"background-color: hsl(120, 100.00%, 95.90%); opacity: 0.81\" title=\"0.007\">凤尾</span><span style=\"opacity: 0.80\"> ”   </span><span style=\"background-color: hsl(120, 100.00%, 90.39%); opacity: 0.83\" title=\"0.024\">麻酱</span><span style=\"opacity: 0.80\"> 用 的 </span><span style=\"background-color: hsl(0, 100.00%, 88.74%); opacity: 0.83\" title=\"-0.031\">像是</span><span style=\"opacity: 0.80\"> </span><span style=\"background-color: hsl(120, 100.00%, 90.39%); opacity: 0.83\" title=\"0.024\">麻酱</span><span style=\"opacity: 0.80\"> 和 </span><span style=\"background-color: hsl(120, 100.00%, 89.07%); opacity: 0.83\" title=\"0.029\">花生酱</span><span style=\"opacity: 0.80\"> </span><span style=\"background-color: hsl(120, 100.00%, 83.93%); opacity: 0.85\" title=\"0.051\">混合</span><span style=\"opacity: 0.80\"> 的 </span><span style=\"background-color: hsl(0, 100.00%, 93.08%); opacity: 0.82\" title=\"-0.015\">甜口</span><span style=\"opacity: 0.80\"> 的 </span><span style=\"background-color: hsl(120, 100.00%, 93.45%); opacity: 0.82\" title=\"0.014\">酱料</span><span style=\"opacity: 0.80\"> ， </span><span style=\"background-color: hsl(0, 100.00%, 92.51%); opacity: 0.82\" title=\"-0.017\">重点</span><span style=\"opacity: 0.80\"> 是 </span><span style=\"background-color: hsl(0, 100.00%, 85.35%); opacity: 0.85\" title=\"-0.045\">没有</span><span style=\"opacity: 0.80\"> </span><span style=\"background-color: hsl(0, 100.00%, 86.29%); opacity: 0.84\" title=\"-0.041\">稀释</span><span style=\"opacity: 0.80\"> ！ </span><span style=\"background-color: hsl(0, 100.00%, 89.66%); opacity: 0.83\" title=\"-0.027\">整个</span><span style=\"opacity: 0.80\"> </span><span style=\"background-color: hsl(0, 100.00%, 93.01%); opacity: 0.82\" title=\"-0.016\">一坨</span><span style=\"opacity: 0.80\"> 粘 在 </span><span style=\"background-color: hsl(0, 100.00%, 95.57%); opacity: 0.81\" title=\"-0.008\">油麦</span><span style=\"opacity: 0.80\"> 菜 上   </span><span style=\"background-color: hsl(0, 100.00%, 78.20%); opacity: 0.88\" title=\"-0.079\">根本</span><span style=\"opacity: 0.80\"> 拌 </span><span style=\"background-color: hsl(0, 100.00%, 89.86%); opacity: 0.83\" title=\"-0.026\">不开</span><span style=\"opacity: 0.80\">   </span><span style=\"background-color: hsl(0, 100.00%, 91.03%); opacity: 0.82\" title=\"-0.022\">相比</span><span style=\"opacity: 0.80\"> </span><span style=\"background-color: hsl(0, 100.00%, 93.08%); opacity: 0.82\" title=\"-0.015\">甜口</span><span style=\"opacity: 0.80\"> 的 </span><span style=\"background-color: hsl(120, 100.00%, 90.39%); opacity: 0.83\" title=\"0.024\">麻酱</span><span style=\"opacity: 0.80\"> 我 更 </span><span style=\"background-color: hsl(120, 100.00%, 80.14%); opacity: 0.87\" title=\"0.069\">喜欢</span><span style=\"opacity: 0.80\"> </span><span style=\"background-color: hsl(0, 100.00%, 94.90%); opacity: 0.81\" title=\"-0.010\">热干面</span><span style=\"opacity: 0.80\"> </span><span style=\"background-color: hsl(0, 100.00%, 93.89%); opacity: 0.81\" title=\"-0.013\">那种</span><span style=\"opacity: 0.80\"> </span><span style=\"background-color: hsl(120, 100.00%, 90.30%); opacity: 0.83\" title=\"0.025\">咸口</span><span style=\"opacity: 0.80\"> 的 、 稀 </span><span style=\"background-color: hsl(120, 100.00%, 94.22%); opacity: 0.81\" title=\"0.012\">点儿</span><span style=\"opacity: 0.80\"> 的 ； 第七 张 “ </span><span style=\"background-color: hsl(120, 100.00%, 93.75%); opacity: 0.81\" title=\"0.013\">面包</span><span style=\"opacity: 0.80\"> </span><span style=\"background-color: hsl(120, 100.00%, 95.36%); opacity: 0.81\" title=\"0.009\">诱惑</span><span style=\"opacity: 0.80\"> ” ： </span><span style=\"background-color: hsl(0, 100.00%, 98.13%); opacity: 0.80\" title=\"-0.002\">这道</span><span style=\"opacity: 0.80\"> 是 敬菜 ， </span><span style=\"background-color: hsl(120, 100.00%, 98.15%); opacity: 0.80\" title=\"0.002\">口味</span><span style=\"opacity: 0.80\"> 还 </span><span style=\"background-color: hsl(120, 100.00%, 81.10%); opacity: 0.87\" title=\"0.064\">不错</span><span style=\"opacity: 0.80\"> ， </span><span style=\"background-color: hsl(0, 100.00%, 95.91%); opacity: 0.81\" title=\"-0.007\">冰淇淋</span><span style=\"opacity: 0.80\"> 也 很 </span><span style=\"background-color: hsl(120, 100.00%, 82.91%); opacity: 0.86\" title=\"0.056\">好吃</span><span style=\"opacity: 0.80\">   就是 </span><span style=\"background-color: hsl(0, 100.00%, 88.57%); opacity: 0.83\" title=\"-0.031\">卖相</span><span style=\"opacity: 0.80\"> 太 一般 了   既然 要 </span><span style=\"background-color: hsl(0, 100.00%, 94.99%); opacity: 0.81\" title=\"-0.010\">推广</span><span style=\"opacity: 0.80\">   </span><span style=\"background-color: hsl(0, 100.00%, 97.81%); opacity: 0.80\" title=\"-0.003\">至少</span><span style=\"opacity: 0.80\"> 要 给 </span><span style=\"background-color: hsl(120, 100.00%, 94.22%); opacity: 0.81\" title=\"0.012\">点儿</span><span style=\"opacity: 0.80\"> </span><span style=\"background-color: hsl(120, 100.00%, 95.47%); opacity: 0.81\" title=\"0.008\">装饰</span><span style=\"opacity: 0.80\"> ， </span><span style=\"background-color: hsl(120, 100.00%, 88.47%); opacity: 0.83\" title=\"0.032\">不用</span><span style=\"opacity: 0.80\"> 太 </span><span style=\"background-color: hsl(0, 100.00%, 88.32%); opacity: 0.83\" title=\"-0.032\">复杂</span><span style=\"opacity: 0.80\">   拉个 </span><span style=\"background-color: hsl(120, 100.00%, 85.09%); opacity: 0.85\" title=\"0.046\">巧克力</span><span style=\"opacity: 0.80\"> 线条 、 给 个 </span><span style=\"background-color: hsl(0, 100.00%, 94.55%); opacity: 0.81\" title=\"-0.011\">蛋卷</span><span style=\"opacity: 0.80\"> 、 </span><span style=\"background-color: hsl(120, 100.00%, 92.43%); opacity: 0.82\" title=\"0.017\">水果</span><span style=\"opacity: 0.80\"> 粒 </span><span style=\"background-color: hsl(120, 100.00%, 89.07%); opacity: 0.83\" title=\"0.029\">稍稍</span><span style=\"opacity: 0.80\"> </span><span style=\"background-color: hsl(0, 100.00%, 94.78%); opacity: 0.81\" title=\"-0.010\">点缀</span><span style=\"opacity: 0.80\"> </span><span style=\"background-color: hsl(120, 100.00%, 94.26%); opacity: 0.81\" title=\"0.012\">一下</span><span style=\"opacity: 0.80\"> 就 会 </span><span style=\"background-color: hsl(120, 100.00%, 88.62%); opacity: 0.83\" title=\"0.031\">好看</span><span style=\"opacity: 0.80\"> </span><span style=\"background-color: hsl(120, 100.00%, 90.98%); opacity: 0.82\" title=\"0.022\">很多</span><span style=\"opacity: 0.80\">   </span><span style=\"background-color: hsl(120, 100.00%, 93.75%); opacity: 0.81\" title=\"0.013\">面包</span><span style=\"opacity: 0.80\"> 本身 </span><span style=\"background-color: hsl(120, 100.00%, 96.36%); opacity: 0.81\" title=\"0.006\">口感</span><span style=\"opacity: 0.80\"> 和 </span><span style=\"background-color: hsl(0, 100.00%, 95.91%); opacity: 0.81\" title=\"-0.007\">冰淇淋</span><span style=\"opacity: 0.80\"> 都 很 </span><span style=\"background-color: hsl(120, 100.00%, 82.91%); opacity: 0.86\" title=\"0.056\">好吃</span><span style=\"opacity: 0.80\">   比 </span><span style=\"background-color: hsl(120, 100.00%, 90.98%); opacity: 0.82\" title=\"0.022\">很多</span><span style=\"opacity: 0.80\"> </span><span style=\"background-color: hsl(0, 100.00%, 98.73%); opacity: 0.80\" title=\"-0.001\">外面</span><span style=\"opacity: 0.80\"> </span><span style=\"background-color: hsl(120, 100.00%, 95.47%); opacity: 0.81\" title=\"0.008\">装饰</span><span style=\"opacity: 0.80\"> 的 </span><span style=\"background-color: hsl(0, 100.00%, 93.89%); opacity: 0.81\" title=\"-0.013\">那种</span><span style=\"opacity: 0.80\"> </span><span style=\"background-color: hsl(120, 100.00%, 86.16%); opacity: 0.84\" title=\"0.041\">美美</span><span style=\"opacity: 0.80\"> 的 </span><span style=\"background-color: hsl(120, 100.00%, 82.91%); opacity: 0.86\" title=\"0.056\">好吃</span><span style=\"opacity: 0.80\"> 多 了   就 差 了 </span><span style=\"background-color: hsl(0, 100.00%, 94.06%); opacity: 0.81\" title=\"-0.012\">一点</span><span style=\"opacity: 0.80\"> </span><span style=\"background-color: hsl(120, 100.00%, 95.47%); opacity: 0.81\" title=\"0.008\">装饰</span><span style=\"opacity: 0.80\"> ； 第八 张 “ </span><span style=\"background-color: hsl(0, 100.00%, 90.82%); opacity: 0.82\" title=\"-0.023\">绿茶</span><span style=\"opacity: 0.80\"> </span><span style=\"background-color: hsl(0, 100.00%, 91.07%); opacity: 0.82\" title=\"-0.022\">烤鸡</span><span style=\"opacity: 0.80\"> ” </span><span style=\"background-color: hsl(120, 100.00%, 90.98%); opacity: 0.82\" title=\"0.022\">很多</span><span style=\"opacity: 0.80\"> </span><span style=\"background-color: hsl(120, 100.00%, 90.91%); opacity: 0.82\" title=\"0.023\">人点</span><span style=\"opacity: 0.80\"> 这 </span><span style=\"background-color: hsl(0, 100.00%, 93.72%); opacity: 0.81\" title=\"-0.013\">道菜</span><span style=\"opacity: 0.80\"> ， </span><span style=\"background-color: hsl(0, 100.00%, 91.03%); opacity: 0.82\" title=\"-0.022\">相比</span><span style=\"opacity: 0.80\"> 前 </span><span style=\"background-color: hsl(0, 100.00%, 96.86%); opacity: 0.81\" title=\"-0.005\">几道</span><span style=\"opacity: 0.80\"> 的 </span><span style=\"background-color: hsl(120, 100.00%, 88.85%); opacity: 0.83\" title=\"0.030\">重口</span><span style=\"opacity: 0.80\"> ， </span><span style=\"background-color: hsl(0, 100.00%, 91.07%); opacity: 0.82\" title=\"-0.022\">烤鸡</span><span style=\"opacity: 0.80\"> </span><span style=\"background-color: hsl(0, 100.00%, 96.36%); opacity: 0.81\" title=\"-0.006\">显得</span><span style=\"opacity: 0.80\"> 淡 了 一些 。 </span><span style=\"background-color: hsl(120, 100.00%, 98.41%); opacity: 0.80\" title=\"0.002\">鸡皮</span><span style=\"opacity: 0.80\"> 的 </span><span style=\"background-color: hsl(120, 100.00%, 95.34%); opacity: 0.81\" title=\"0.009\">保护</span><span style=\"opacity: 0.80\"> </span><span style=\"background-color: hsl(0, 100.00%, 95.58%); opacity: 0.81\" title=\"-0.008\">基本</span><span style=\"opacity: 0.80\"> </span><span style=\"background-color: hsl(0, 100.00%, 85.35%); opacity: 0.85\" title=\"-0.045\">没有</span><span style=\"opacity: 0.80\">   所以 </span><span style=\"background-color: hsl(0, 100.00%, 89.66%); opacity: 0.83\" title=\"-0.027\">整个</span><span style=\"opacity: 0.80\"> </span><span style=\"background-color: hsl(0, 100.00%, 95.92%); opacity: 0.81\" title=\"-0.007\">鸡肉</span><span style=\"opacity: 0.80\"> 又 干 有 柴 、 也 挂不住 </span><span style=\"background-color: hsl(120, 100.00%, 89.14%); opacity: 0.83\" title=\"0.029\">调味料</span><span style=\"opacity: 0.80\"> 、 </span><span style=\"background-color: hsl(120, 100.00%, 78.82%); opacity: 0.88\" title=\"0.076\">下次</span><span style=\"opacity: 0.80\"> 有 </span><span style=\"background-color: hsl(120, 100.00%, 82.97%); opacity: 0.86\" title=\"0.055\">机会</span><span style=\"opacity: 0.80\"> </span><span style=\"background-color: hsl(0, 100.00%, 94.01%); opacity: 0.81\" title=\"-0.012\">点个</span><span style=\"opacity: 0.80\"> </span><span style=\"background-color: hsl(120, 100.00%, 88.52%); opacity: 0.83\" title=\"0.032\">整只</span><span style=\"opacity: 0.80\"> 的 </span><span style=\"background-color: hsl(0, 100.00%, 94.16%); opacity: 0.81\" title=\"-0.012\">或许</span><span style=\"opacity: 0.80\"> 会 好 </span><span style=\"background-color: hsl(0, 100.00%, 94.06%); opacity: 0.81\" title=\"-0.012\">一点</span><span style=\"opacity: 0.80\"> ； </span><span style=\"background-color: hsl(0, 100.00%, 99.63%); opacity: 0.80\" title=\"-0.000\">最后</span><span style=\"opacity: 0.80\"> 还有 未上 图 的 </span><span style=\"background-color: hsl(0, 100.00%, 90.82%); opacity: 0.82\" title=\"-0.023\">绿茶</span><span style=\"opacity: 0.80\"> 饼 和 </span><span style=\"background-color: hsl(120, 100.00%, 98.28%); opacity: 0.80\" title=\"0.002\">糖醋</span><span style=\"opacity: 0.80\"> </span><span style=\"background-color: hsl(120, 100.00%, 90.55%); opacity: 0.83\" title=\"0.024\">里脊</span><span style=\"opacity: 0.80\"> ， </span><span style=\"background-color: hsl(0, 100.00%, 90.82%); opacity: 0.82\" title=\"-0.023\">绿茶</span><span style=\"opacity: 0.80\"> 饼 还 </span><span style=\"background-color: hsl(120, 100.00%, 81.10%); opacity: 0.87\" title=\"0.064\">不错</span><span style=\"opacity: 0.80\">   可以 </span><span style=\"background-color: hsl(120, 100.00%, 90.41%); opacity: 0.83\" title=\"0.024\">一试</span><span style=\"opacity: 0.80\">   只要 </span><span style=\"background-color: hsl(0, 100.00%, 89.39%); opacity: 0.83\" title=\"-0.028\">火候</span><span style=\"opacity: 0.80\"> </span><span style=\"background-color: hsl(120, 100.00%, 85.09%); opacity: 0.85\" title=\"0.046\">控制</span><span style=\"opacity: 0.80\"> 的 好 不炸过 </span><span style=\"background-color: hsl(0, 100.00%, 95.58%); opacity: 0.81\" title=\"-0.008\">基本</span><span style=\"opacity: 0.80\"> 没 </span><span style=\"background-color: hsl(0, 100.00%, 81.35%); opacity: 0.87\" title=\"-0.063\">问题</span><span style=\"opacity: 0.80\"> ， </span><span style=\"background-color: hsl(0, 100.00%, 97.02%); opacity: 0.80\" title=\"-0.005\">里面</span><span style=\"opacity: 0.80\"> 糯 糯 的 </span><span style=\"background-color: hsl(120, 100.00%, 98.17%); opacity: 0.80\" title=\"0.002\">馅儿</span><span style=\"opacity: 0.80\"> 很 </span><span style=\"background-color: hsl(120, 100.00%, 82.91%); opacity: 0.86\" title=\"0.056\">好吃</span><span style=\"opacity: 0.80\"> ； “ </span><span style=\"background-color: hsl(120, 100.00%, 98.28%); opacity: 0.80\" title=\"0.002\">糖醋</span><span style=\"opacity: 0.80\"> </span><span style=\"background-color: hsl(120, 100.00%, 90.55%); opacity: 0.83\" title=\"0.024\">里脊</span><span style=\"opacity: 0.80\"> ”   这 是 我 吃 过 最 </span><span style=\"background-color: hsl(0, 100.00%, 60.00%); opacity: 1.00\" title=\"-0.187\">难吃</span><span style=\"opacity: 0.80\"> 的 </span><span style=\"background-color: hsl(0, 100.00%, 96.27%); opacity: 0.81\" title=\"-0.006\">版本</span><span style=\"opacity: 0.80\"> ， </span><span style=\"background-color: hsl(0, 100.00%, 85.35%); opacity: 0.85\" title=\"-0.045\">没有</span><span style=\"opacity: 0.80\"> 之一 ！ </span><span style=\"background-color: hsl(120, 100.00%, 92.31%); opacity: 0.82\" title=\"0.018\">上次</span><span style=\"opacity: 0.80\"> 有 </span><span style=\"background-color: hsl(120, 100.00%, 97.11%); opacity: 0.80\" title=\"0.004\">一小</span><span style=\"opacity: 0.80\"> 哥吐 了 </span><span style=\"background-color: hsl(0, 100.00%, 96.98%); opacity: 0.80\" title=\"-0.005\">一通</span><span style=\"opacity: 0.80\"> 槽   我 还 想 就 一个 </span><span style=\"background-color: hsl(120, 100.00%, 98.28%); opacity: 0.80\" title=\"0.002\">糖醋</span><span style=\"opacity: 0.80\"> </span><span style=\"background-color: hsl(120, 100.00%, 90.55%); opacity: 0.83\" title=\"0.024\">里脊</span><span style=\"opacity: 0.80\"> 也 不是 啥 难菜   不至于 吧   这次 就 抱 着 </span><span style=\"background-color: hsl(120, 100.00%, 94.09%); opacity: 0.81\" title=\"0.012\">猎奇</span><span style=\"opacity: 0.80\"> 的 </span><span style=\"background-color: hsl(120, 100.00%, 94.57%); opacity: 0.81\" title=\"0.011\">心里</span><span style=\"opacity: 0.80\"> 点 了 一个   </span><span style=\"background-color: hsl(0, 100.00%, 95.35%); opacity: 0.81\" title=\"-0.009\">菜刚</span><span style=\"opacity: 0.80\"> </span><span style=\"background-color: hsl(0, 100.00%, 90.24%); opacity: 0.83\" title=\"-0.025\">上来</span><span style=\"opacity: 0.80\"> 我 就 </span><span style=\"background-color: hsl(0, 100.00%, 88.97%); opacity: 0.83\" title=\"-0.030\">后悔</span><span style=\"opacity: 0.80\"> 了 --- </span><span style=\"background-color: hsl(0, 100.00%, 97.83%); opacity: 0.80\" title=\"-0.003\">老抽</span><span style=\"opacity: 0.80\"> 色 （ shai ） 的 、 </span><span style=\"background-color: hsl(0, 100.00%, 98.73%); opacity: 0.80\" title=\"-0.001\">外面</span><span style=\"opacity: 0.80\"> </span><span style=\"background-color: hsl(0, 100.00%, 96.50%); opacity: 0.81\" title=\"-0.006\">一圈</span><span style=\"opacity: 0.80\"> </span><span style=\"background-color: hsl(0, 100.00%, 86.25%); opacity: 0.84\" title=\"-0.041\">淀粉</span><span style=\"opacity: 0.80\"> （ 粉 </span><span style=\"background-color: hsl(120, 100.00%, 93.28%); opacity: 0.82\" title=\"0.015\">面子</span><span style=\"opacity: 0.80\"> ） </span><span style=\"background-color: hsl(0, 100.00%, 95.58%); opacity: 0.81\" title=\"-0.008\">基本</span><span style=\"opacity: 0.80\"> 没 吃 着 肉 ， 糊哒 哒 粘成 一 坨   </span><span style=\"background-color: hsl(0, 100.00%, 89.34%); opacity: 0.83\" title=\"-0.028\">看起来</span><span style=\"opacity: 0.80\"> 和 那个 </span><span style=\"background-color: hsl(0, 100.00%, 91.57%); opacity: 0.82\" title=\"-0.020\">茄子</span><span style=\"opacity: 0.80\"> 煲 </span><span style=\"background-color: hsl(0, 100.00%, 80.56%); opacity: 0.87\" title=\"-0.067\">没什么</span><span style=\"opacity: 0.80\"> 太 大 </span><span style=\"background-color: hsl(0, 100.00%, 96.29%); opacity: 0.81\" title=\"-0.006\">区别</span><span style=\"opacity: 0.80\"> 。 </span><span style=\"background-color: hsl(120, 100.00%, 88.79%); opacity: 0.83\" title=\"0.030\">建议</span><span style=\"opacity: 0.80\"> 找 一个 做 </span><span style=\"background-color: hsl(120, 100.00%, 98.28%); opacity: 0.80\" title=\"0.002\">糖醋</span><span style=\"opacity: 0.80\"> </span><span style=\"background-color: hsl(120, 100.00%, 90.55%); opacity: 0.83\" title=\"0.024\">里脊</span><span style=\"opacity: 0.80\"> 的 店 吃 </span><span style=\"background-color: hsl(0, 100.00%, 92.36%); opacity: 0.82\" title=\"-0.018\">一次</span><span style=\"opacity: 0.80\">   </span><span style=\"background-color: hsl(0, 100.00%, 97.77%); opacity: 0.80\" title=\"-0.003\">看一看</span><span style=\"opacity: 0.80\">   就 上 个 浆   </span><span style=\"background-color: hsl(0, 100.00%, 96.25%); opacity: 0.81\" title=\"-0.006\">过个</span><span style=\"opacity: 0.80\"> 油   浇个 </span><span style=\"background-color: hsl(0, 100.00%, 97.61%); opacity: 0.80\" title=\"-0.003\">汁儿</span><span style=\"opacity: 0.80\"> 的 </span><span style=\"background-color: hsl(0, 100.00%, 90.19%); opacity: 0.83\" title=\"-0.025\">事情</span><span style=\"opacity: 0.80\">   没 那么 难     </span><span style=\"background-color: hsl(0, 100.00%, 99.10%); opacity: 0.80\" title=\"-0.001\">肉类</span><span style=\"opacity: 0.80\"> 的 </span><span style=\"background-color: hsl(0, 100.00%, 96.85%); opacity: 0.81\" title=\"-0.005\">菜品</span><span style=\"opacity: 0.80\"> </span><span style=\"background-color: hsl(0, 100.00%, 91.39%); opacity: 0.82\" title=\"-0.021\">价格</span><span style=\"opacity: 0.80\"> 可以 </span><span style=\"background-color: hsl(120, 100.00%, 87.93%); opacity: 0.84\" title=\"0.034\">适当</span><span style=\"opacity: 0.80\"> 调 高 一些   我 宁可 多 花点儿钱 吃 肉 也 </span><span style=\"background-color: hsl(0, 100.00%, 72.64%); opacity: 0.92\" title=\"-0.109\">不想</span><span style=\"opacity: 0.80\"> 吃 这 一 坨 坨 粉 </span><span style=\"background-color: hsl(120, 100.00%, 93.28%); opacity: 0.82\" title=\"0.015\">面子</span><span style=\"opacity: 0.80\"> 。   </span><span style=\"background-color: hsl(120, 100.00%, 98.50%); opacity: 0.80\" title=\"0.002\">总体而言</span><span style=\"opacity: 0.80\"> </span><span style=\"background-color: hsl(120, 100.00%, 96.93%); opacity: 0.81\" title=\"0.005\">环境</span><span style=\"opacity: 0.80\"> 还 </span><span style=\"background-color: hsl(120, 100.00%, 81.10%); opacity: 0.87\" title=\"0.064\">不错</span><span style=\"opacity: 0.80\">   </span><span style=\"background-color: hsl(0, 100.00%, 91.39%); opacity: 0.82\" title=\"-0.021\">价格</span><span style=\"opacity: 0.80\"> 很 </span><span style=\"background-color: hsl(120, 100.00%, 94.40%); opacity: 0.81\" title=\"0.011\">平民</span><span style=\"opacity: 0.80\">   </span><span style=\"background-color: hsl(0, 100.00%, 90.74%); opacity: 0.82\" title=\"-0.023\">服务</span><span style=\"opacity: 0.80\"> </span><span style=\"background-color: hsl(0, 100.00%, 90.04%); opacity: 0.83\" title=\"-0.026\">中规中矩</span><span style=\"opacity: 0.80\">   但是 </span><span style=\"background-color: hsl(0, 100.00%, 96.85%); opacity: 0.81\" title=\"-0.005\">菜品</span><span style=\"opacity: 0.80\"> </span><span style=\"background-color: hsl(0, 100.00%, 84.24%); opacity: 0.85\" title=\"-0.050\">质量</span><span style=\"opacity: 0.80\"> 很 是 </span><span style=\"background-color: hsl(0, 100.00%, 89.92%); opacity: 0.83\" title=\"-0.026\">有待</span><span style=\"opacity: 0.80\"> </span><span style=\"background-color: hsl(0, 100.00%, 86.98%); opacity: 0.84\" title=\"-0.038\">提高</span><span style=\"opacity: 0.80\"> 。 看 </span><span style=\"background-color: hsl(120, 100.00%, 99.27%); opacity: 0.80\" title=\"0.001\">墙上</span><span style=\"opacity: 0.80\"> 的 </span><span style=\"background-color: hsl(120, 100.00%, 84.05%); opacity: 0.85\" title=\"0.050\">照片</span><span style=\"opacity: 0.80\"> （ 不 </span><span style=\"background-color: hsl(0, 100.00%, 86.34%); opacity: 0.84\" title=\"-0.040\">知道</span><span style=\"opacity: 0.80\"> </span><span style=\"background-color: hsl(120, 100.00%, 91.40%); opacity: 0.82\" title=\"0.021\">老板</span><span style=\"opacity: 0.80\"> </span><span style=\"background-color: hsl(0, 100.00%, 86.58%); opacity: 0.84\" title=\"-0.039\">是不是</span><span style=\"opacity: 0.80\"> 做 </span><span style=\"background-color: hsl(0, 100.00%, 96.34%); opacity: 0.81\" title=\"-0.006\">青旅</span><span style=\"opacity: 0.80\"> </span><span style=\"background-color: hsl(120, 100.00%, 93.56%); opacity: 0.81\" title=\"0.014\">起家</span><span style=\"opacity: 0.80\"> 的 ） </span><span style=\"background-color: hsl(0, 100.00%, 96.85%); opacity: 0.81\" title=\"-0.005\">菜品</span><span style=\"opacity: 0.80\"> </span><span style=\"background-color: hsl(0, 100.00%, 78.86%); opacity: 0.88\" title=\"-0.075\">不会</span><span style=\"opacity: 0.80\"> 因为 </span><span style=\"background-color: hsl(0, 100.00%, 97.65%); opacity: 0.80\" title=\"-0.003\">价格低</span><span style=\"opacity: 0.80\"> 而 有销路   </span><span style=\"background-color: hsl(0, 100.00%, 84.55%); opacity: 0.85\" title=\"-0.048\">只会</span><span style=\"opacity: 0.80\"> 因为 </span><span style=\"background-color: hsl(0, 100.00%, 84.24%); opacity: 0.85\" title=\"-0.050\">质量</span><span style=\"opacity: 0.80\"> 好 才 </span><span style=\"background-color: hsl(0, 100.00%, 99.20%); opacity: 0.80\" title=\"-0.001\">畅销</span><span style=\"opacity: 0.80\"> （ </span><span style=\"background-color: hsl(0, 100.00%, 91.03%); opacity: 0.82\" title=\"-0.022\">相比</span><span style=\"opacity: 0.80\"> </span><span style=\"background-color: hsl(0, 100.00%, 99.80%); opacity: 0.80\" title=\"-0.000\">低价</span><span style=\"opacity: 0.80\">   </span><span style=\"background-color: hsl(120, 100.00%, 94.84%); opacity: 0.81\" title=\"0.010\">现在</span><span style=\"opacity: 0.80\"> 的 人们 更 </span><span style=\"background-color: hsl(120, 100.00%, 80.14%); opacity: 0.87\" title=\"0.069\">喜欢</span><span style=\"opacity: 0.80\"> </span><span style=\"background-color: hsl(0, 100.00%, 84.24%); opacity: 0.85\" title=\"-0.050\">质量</span><span style=\"opacity: 0.80\"> 好 而 有 </span><span style=\"background-color: hsl(120, 100.00%, 92.12%); opacity: 0.82\" title=\"0.018\">保障</span><span style=\"opacity: 0.80\"> 的 </span><span style=\"background-color: hsl(120, 100.00%, 89.21%); opacity: 0.83\" title=\"0.029\">食品</span><span style=\"opacity: 0.80\">   </span><span style=\"background-color: hsl(0, 100.00%, 91.39%); opacity: 0.82\" title=\"-0.021\">价格</span><span style=\"opacity: 0.80\"> 好 </span><span style=\"background-color: hsl(0, 100.00%, 94.06%); opacity: 0.81\" title=\"-0.012\">一点</span><span style=\"opacity: 0.80\"> 反而 是 </span><span style=\"background-color: hsl(120, 100.00%, 90.19%); opacity: 0.83\" title=\"0.025\">保证</span><span style=\"opacity: 0.80\"> ）   </span><span style=\"background-color: hsl(120, 100.00%, 93.64%); opacity: 0.81\" title=\"0.014\">希望</span><span style=\"opacity: 0.80\"> </span><span style=\"background-color: hsl(0, 100.00%, 89.46%); opacity: 0.83\" title=\"-0.028\">越做越</span><span style=\"opacity: 0.80\"> 好 。 </span><span style=\"background-color: hsl(0, 100.00%, 95.80%); opacity: 0.81\" title=\"-0.007\">地址</span><span style=\"opacity: 0.80\"> 在 </span><span style=\"background-color: hsl(120, 100.00%, 89.88%); opacity: 0.83\" title=\"0.026\">凯德</span><span style=\"opacity: 0.80\"> </span><span style=\"background-color: hsl(0, 100.00%, 91.79%); opacity: 0.82\" title=\"-0.020\">1818</span><span style=\"opacity: 0.80\">     5 楼手 </span><span style=\"background-color: hsl(120, 100.00%, 93.57%); opacity: 0.81\" title=\"0.014\">扶梯</span><span style=\"opacity: 0.80\"> 旁 。</span>\n",
       "    </p>\n",
       "\n",
       "\n",
       "    \n",
       "\n",
       "    \n",
       "\n",
       "    \n",
       "\n",
       "    \n",
       "\n",
       "\n",
       "    \n",
       "\n",
       "    \n",
       "\n",
       "    \n",
       "\n",
       "    \n",
       "\n",
       "    \n",
       "\n",
       "    \n",
       "\n",
       "\n",
       "    \n",
       "\n",
       "    \n",
       "\n",
       "    \n",
       "\n",
       "    \n",
       "\n",
       "    \n",
       "\n",
       "    \n",
       "\n",
       "\n",
       "\n"
      ],
      "text/plain": [
       "<IPython.core.display.HTML object>"
      ]
     },
     "execution_count": 198,
     "metadata": {},
     "output_type": "execute_result"
    }
   ],
   "source": [
    "lr_explain(model_lr, test3)  # 这都能给4星"
   ]
  },
  {
   "cell_type": "markdown",
   "metadata": {
    "id": "Mtv7SuHT376_"
   },
   "source": [
    "## Bert"
   ]
  },
  {
   "cell_type": "markdown",
   "metadata": {
    "id": "VqEPU0RF0Wpr"
   },
   "source": [
    "### Sentences length"
   ]
  },
  {
   "cell_type": "code",
   "execution_count": null,
   "metadata": {
    "ExecuteTime": {
     "end_time": "2023-03-17T22:07:48.576757Z",
     "start_time": "2023-03-17T22:07:45.742745Z"
    },
    "colab": {
     "base_uri": "https://localhost:8080/",
     "height": 747
    },
    "id": "UyZgCpK0ys8d",
    "outputId": "0ae8c818-0843-4063-e55b-ea350b2ed8e6"
   },
   "outputs": [
    {
     "data": {
      "text/plain": [
       "<function matplotlib.pyplot.show(close=None, block=None)>"
      ]
     },
     "execution_count": 6,
     "metadata": {},
     "output_type": "execute_result"
    },
    {
     "data": {
      "image/png": "[encoded data removed]",
      "text/plain": [
       "<Figure size 720x864 with 1 Axes>"
      ]
     },
     "metadata": {
      "needs_background": "light"
     },
     "output_type": "display_data"
    }
   ],
   "source": [
    "data_train['length'] = data_train['review'].apply(lambda x: len(x))\n",
    "len_train = data_train.groupby('length').count()\n",
    "\n",
    "data_val['length'] = data_val['review'].apply(lambda x: len(x))\n",
    "len_val = data_val.groupby('length').count()\n",
    "\n",
    "data_test['length'] = data_test['review'].apply(lambda x: len(x))\n",
    "len_test = data_test.groupby('length').count()\n",
    "\n",
    "sent_length = len_train.index.tolist() + len_val.index.tolist() + len_test.index.tolist()\n",
    "sent_freq = len_train['review'].tolist() + len_val['review'].tolist() + len_test['review'].tolist()\n",
    "\n",
    "# 绘制句子长度及出现频数统计图\n",
    "plt.figure(figsize=(10,12))\n",
    "plt.bar(sent_length, sent_freq,2)\n",
    "plt.title(\"Frequency of Sentence Length\")\n",
    "plt.xlabel(\"Length\")\n",
    "plt.ylabel(\"Frequency\")\n",
    "plt.savefig(\"./sentence_length.png\")\n",
    "plt.show"
   ]
  },
  {
   "cell_type": "markdown",
   "metadata": {
    "id": "zwNPEf6Ox38j"
   },
   "source": [
    "For a GPU with 12GB of RAM, the following maxima apply:\n",
    "\n",
    "        sequence len=64, max_batch_size=64\n",
    "        sequence len=128, max_batch_size=32\n",
    "        sequence len=256, max_batch_size=16\n",
    "        sequence len=320, max_batch_size=14\n",
    "        sequence len=384, max_batch_size=12\n",
    "        sequence len=512, max_batch_size=6"
   ]
  },
  {
   "cell_type": "markdown",
   "metadata": {
    "id": "Vu3p9CpR0hlb"
   },
   "source": [
    "### Data Preparation and Tokenization"
   ]
  },
  {
   "cell_type": "code",
   "execution_count": 7,
   "metadata": {
    "ExecuteTime": {
     "end_time": "2023-03-17T22:41:43.790073Z",
     "start_time": "2023-03-17T22:41:21.423795Z"
    },
    "colab": {
     "base_uri": "https://localhost:8080/",
     "height": 520
    },
    "id": "b3_1ddo2377O",
    "outputId": "ce21a817-bcb2-4099-bd97-ff3ee78e261b"
   },
   "outputs": [
    {
     "name": "stdout",
     "output_type": "stream",
     "text": [
      "['-1', '0', '1']\n",
      "    -1    0    1\n",
      "0  0.0  0.0  1.0\n",
      "1  0.0  0.0  1.0\n",
      "2  0.0  0.0  1.0\n",
      "3  0.0  0.0  1.0\n",
      "4  0.0  0.0  1.0\n",
      "['-1', '0', '1']\n",
      "    -1    0    1\n",
      "0  0.0  0.0  1.0\n",
      "1  0.0  1.0  0.0\n",
      "2  0.0  0.0  1.0\n",
      "3  0.0  0.0  1.0\n",
      "4  0.0  0.0  1.0\n",
      "downloading pretrained BERT model (chinese_L-12_H-768_A-12.zip)...\n",
      "[██████████████████████████████████████████████████]\n",
      "extracting pretrained BERT model...\n",
      "done.\n",
      "\n",
      "cleanup downloaded zip...\n",
      "done.\n",
      "\n",
      "preprocessing train...\n",
      "language: zh-cn\n"
     ]
    },
    {
     "data": {
      "text/html": [
       "\n",
       "<style>\n",
       "    /* Turns off some styling */\n",
       "    progress {\n",
       "        /* gets rid of default border in Firefox and Opera. */\n",
       "        border: none;\n",
       "        /* Needs to be in here for Safari polyfill so background images work as expected. */\n",
       "        background-size: auto;\n",
       "    }\n",
       "    progress:not([value]), progress:not([value])::-webkit-progress-bar {\n",
       "        background: repeating-linear-gradient(45deg, #7e7e7e, #7e7e7e 10px, #5c5c5c 10px, #5c5c5c 20px);\n",
       "    }\n",
       "    .progress-bar-interrupted, .progress-bar-interrupted::-webkit-progress-bar {\n",
       "        background: #F44336;\n",
       "    }\n",
       "</style>\n"
      ],
      "text/plain": [
       "<IPython.core.display.HTML object>"
      ]
     },
     "metadata": {},
     "output_type": "display_data"
    },
    {
     "data": {
      "text/html": [
       "done."
      ],
      "text/plain": [
       "<IPython.core.display.HTML object>"
      ]
     },
     "metadata": {},
     "output_type": "display_data"
    },
    {
     "name": "stdout",
     "output_type": "stream",
     "text": [
      "Is Multi-Label? False\n",
      "preprocessing test...\n",
      "language: zh-cn\n"
     ]
    },
    {
     "data": {
      "text/html": [
       "\n",
       "<style>\n",
       "    /* Turns off some styling */\n",
       "    progress {\n",
       "        /* gets rid of default border in Firefox and Opera. */\n",
       "        border: none;\n",
       "        /* Needs to be in here for Safari polyfill so background images work as expected. */\n",
       "        background-size: auto;\n",
       "    }\n",
       "    progress:not([value]), progress:not([value])::-webkit-progress-bar {\n",
       "        background: repeating-linear-gradient(45deg, #7e7e7e, #7e7e7e 10px, #5c5c5c 10px, #5c5c5c 20px);\n",
       "    }\n",
       "    .progress-bar-interrupted, .progress-bar-interrupted::-webkit-progress-bar {\n",
       "        background: #F44336;\n",
       "    }\n",
       "</style>\n"
      ],
      "text/plain": [
       "<IPython.core.display.HTML object>"
      ]
     },
     "metadata": {},
     "output_type": "display_data"
    },
    {
     "data": {
      "text/html": [
       "done."
      ],
      "text/plain": [
       "<IPython.core.display.HTML object>"
      ]
     },
     "metadata": {},
     "output_type": "display_data"
    }
   ],
   "source": [
    "(X_train_bert, y_train_bert), (X_val_bert, y_val_bert), preproc_bert = text.texts_from_df(train_df=data_train,\n",
    "                                                                   text_column = 'review',\n",
    "                                                                   label_columns = 'sentiment',\n",
    "                                                                   val_df = data_val,\n",
    "                                                                   maxlen = 256,  # 如果显存不会炸的话就用512吧\n",
    "                                                                   preprocess_mode = 'bert')"
   ]
  },
  {
   "cell_type": "markdown",
   "metadata": {
    "id": "e78OxtWH0urK"
   },
   "source": [
    "### Train"
   ]
  },
  {
   "cell_type": "code",
   "execution_count": 8,
   "metadata": {
    "ExecuteTime": {
     "end_time": "2023-03-17T22:41:47.191757Z",
     "start_time": "2023-03-17T22:41:44.046044Z"
    },
    "colab": {
     "base_uri": "https://localhost:8080/"
    },
    "id": "Zhh6GxJW377c",
    "outputId": "afb9372b-fb2c-4eb6-8ecb-e3381eaf3454"
   },
   "outputs": [
    {
     "name": "stdout",
     "output_type": "stream",
     "text": [
      "Is Multi-Label? False\n",
      "maxlen is 256\n"
     ]
    },
    {
     "name": "stderr",
     "output_type": "stream",
     "text": [
      "/usr/local/lib/python3.9/dist-packages/keras/initializers/initializers_v2.py:120: UserWarning: The initializer GlorotNormal is unseeded and being called multiple times, which will return identical values  each time (even if the initializer is unseeded). Please update your code to provide a seed to the initializer, or avoid using the same initalizer instance more than once.\n",
      "  warnings.warn(\n"
     ]
    },
    {
     "name": "stdout",
     "output_type": "stream",
     "text": [
      "done.\n"
     ]
    }
   ],
   "source": [
    "model_bert = text.text_classifier(name = 'bert',\n",
    "                             train_data = (X_train_bert, y_train_bert),\n",
    "                             preproc = preproc_bert)"
   ]
  },
  {
   "cell_type": "code",
   "execution_count": null,
   "metadata": {
    "ExecuteTime": {
     "end_time": "2023-03-17T22:42:35.554762Z",
     "start_time": "2023-03-17T22:42:33.994039Z"
    },
    "id": "M7tzxRgr377f"
   },
   "outputs": [],
   "source": [
    "# load weights if needed\n",
    "'''\n",
    "model_bert.load_weights('bert/bert-meituan-rate/tmp/weights-02.hdf5')\n",
    "learner_bert = ktrain.get_learner(model=model_bert, train_data=(X_train_bert, y_train_bert),\n",
    "                   val_data = (X_val_bert, y_val_bert),\n",
    "                   batch_size = 12)\n",
    "predictor_bert = ktrain.get_predictor(learner_bert.model, preproc_bert)\n",
    "'''"
   ]
  },
  {
   "cell_type": "code",
   "execution_count": 12,
   "metadata": {
    "ExecuteTime": {
     "end_time": "2023-03-17T22:41:49.548108Z",
     "start_time": "2023-03-17T22:41:48.349348Z"
    },
    "id": "iYpJ_Dw4377i"
   },
   "outputs": [],
   "source": [
    "learner_bert = ktrain.get_learner(model=model_bert, train_data=(X_train_bert, y_train_bert),\n",
    "                   val_data = (X_val_bert, y_val_bert),\n",
    "                   batch_size = 18)"
   ]
  },
  {
   "cell_type": "code",
   "execution_count": 13,
   "metadata": {
    "colab": {
     "base_uri": "https://localhost:8080/",
     "height": 509
    },
    "id": "zZTddAu7377m",
    "outputId": "83e4d701-1c2f-4089-82fa-e4497065db35"
   },
   "outputs": [
    {
     "name": "stdout",
     "output_type": "stream",
     "text": [
      "simulating training for different learning rates... this may take a few moments...\n",
      "Epoch 1/2\n",
      "2048/2048 [==============================] - 2191s 1s/step - loss: 0.6070 - accuracy: 0.7717\n",
      "Epoch 2/2\n",
      "2048/2048 [==============================] - 966s 471ms/step - loss: 2.7314 - accuracy: 0.7094\n",
      "\n",
      "\n",
      "done.\n",
      "Visually inspect loss plot and select learning rate associated with falling loss\n",
      "Three possible suggestions for LR from plot:\n",
      "\tLongest valley (red): 5.42E-06\n",
      "\tMin numerical gradient (purple): 1.34E-07\n",
      "\tMin loss divided by 10 (omitted from plot): 2.45E-05\n"
     ]
    },
    {
     "data": {
      "image/png": "[encoded data removed]",
      "text/plain": [
       "<Figure size 432x288 with 1 Axes>"
      ]
     },
     "metadata": {
      "needs_background": "light"
     },
     "output_type": "display_data"
    }
   ],
   "source": [
    "# 自动寻找lr\n",
    "# https://www.pyimagesearch.com/2019/08/05/keras-learning-rate-finder/\n",
    "learner_bert.lr_find(show_plot=True, suggest=True, max_epochs = 2)"
   ]
  },
  {
   "cell_type": "code",
   "execution_count": null,
   "metadata": {
    "id": "b4IWxvTc377o",
    "scrolled": false
   },
   "outputs": [],
   "source": [
    "learner_bert.autofit(lr = 5.42E-06, checkpoint_folder='/content/drive/MyDrive/Colab Notebooks/bert/bert-meituan-rate-bert/tmp')\n",
    "predictor_bert = ktrain.get_predictor(learner_bert.model, preproc_bert)\n",
    "predictor_bert.save('/content/drive/MyDrive/Colab Notebooks/bert/bert-meituan-rate-bert')"
   ]
  },
  {
   "cell_type": "markdown",
   "metadata": {
    "id": "wSE0geHEx38l"
   },
   "source": [
    "### Evaluation for Bert Model"
   ]
  },
  {
   "cell_type": "code",
   "execution_count": null,
   "metadata": {
    "ExecuteTime": {
     "end_time": "2023-03-17T22:44:33.575071Z",
     "start_time": "2023-03-17T22:42:55.771942Z"
    },
    "id": "8U7bRpaKx38l"
   },
   "outputs": [],
   "source": [
    "X_test_bert = data_test['review']\n",
    "y_test_bert = data_test['sentiment']\n",
    "y_pred_bert=predictor_bert.predict(X_test_bert.values)"
   ]
  },
  {
   "cell_type": "code",
   "execution_count": null,
   "metadata": {
    "ExecuteTime": {
     "end_time": "2023-03-17T22:44:33.886752Z",
     "start_time": "2023-03-17T22:44:33.826704Z"
    },
    "id": "6M7w55lDx38l"
   },
   "outputs": [],
   "source": [
    "# classification report\n",
    "from sklearn.metrics import classification_report\n",
    "print(classification_report(y_test_bert, y_pred_bert))"
   ]
  },
  {
   "cell_type": "code",
   "execution_count": null,
   "metadata": {
    "ExecuteTime": {
     "end_time": "2023-03-17T22:44:34.152773Z",
     "start_time": "2023-03-17T22:44:34.137886Z"
    },
    "id": "L1TPCFN2x38l"
   },
   "outputs": [],
   "source": [
    "# Confusion Matrix\n",
    "from sklearn.metrics import confusion_matrix\n",
    "confusion_matrix(y_test_bert, y_pred_bert)"
   ]
  },
  {
   "cell_type": "code",
   "execution_count": null,
   "metadata": {
    "ExecuteTime": {
     "end_time": "2023-03-17T22:44:34.453420Z",
     "start_time": "2023-03-17T22:44:34.424405Z"
    },
    "id": "OQBZucPDx38m"
   },
   "outputs": [],
   "source": [
    "# F1\n",
    "from sklearn.metrics import f1_score\n",
    "f1_score(y_test_bert, y_pred_bert, average=None)"
   ]
  },
  {
   "cell_type": "code",
   "execution_count": null,
   "metadata": {
    "ExecuteTime": {
     "end_time": "2023-03-17T22:44:34.722599Z",
     "start_time": "2023-03-17T22:44:34.708579Z"
    },
    "id": "-wjwGcnrx38m",
    "outputId": "86fe96ca-0dcb-4812-c968-2f71d004e55f"
   },
   "outputs": [
    {
     "data": {
      "text/plain": [
       "review       周三去的，盐酥鸡特价五块，上菜上的很快，盐酥鸡一端上来就是凉的，里面搭配的薯条也是面的，一看...\n",
       "star                                                       3.0\n",
       "sentiment                                                    0\n",
       "length                                                     238\n",
       "Name: 536, dtype: object"
      ]
     },
     "execution_count": 214,
     "metadata": {},
     "output_type": "execute_result"
    }
   ],
   "source": [
    "data_test.iloc[536]"
   ]
  },
  {
   "cell_type": "code",
   "execution_count": null,
   "metadata": {
    "ExecuteTime": {
     "end_time": "2023-03-17T22:45:51.870994Z",
     "start_time": "2023-03-17T22:44:59.931873Z"
    },
    "id": "vD6FTl7Hx38m"
   },
   "outputs": [],
   "source": [
    "predictor_bert.explain(data_test['review'][536])"
   ]
  },
  {
   "cell_type": "code",
   "execution_count": null,
   "metadata": {
    "ExecuteTime": {
     "end_time": "2023-03-17T22:46:18.755616Z",
     "start_time": "2023-03-17T22:46:18.735603Z"
    },
    "id": "fn0f5xuzx38m"
   },
   "outputs": [],
   "source": [
    "#从大众点评网找两条评论来测试一下\n",
    "test1 = '很好吃，环境好，所有员工的态度都很好，上菜快，服务也很好，味道好吃，都是用蒸馏水煮的，推荐，超好吃' #5星好评\n",
    "test2 = '糯米外皮不绵滑，豆沙馅粗躁，没有香甜味。12元一碗不值。' #1星差评\n",
    "# 4星，搅屎棍\n",
    "test3 = '昨儿晚上来凯德1818的绿茶吃饭，点了以下10个菜，这里面有好几个都是推荐菜品，咱挨个说啊～  第一张 “客家茄子煲”：一个字：咸、俩字：很咸、仨字：非常咸、四个字：咸（hou)死我了... ... 我很怀疑是不是师傅在放酱油的时候手抖了 然后整锅煲就是一锅酱色。里面的咸鱼粒很显然没有经过任何处理（泡一下水去掉部分盐分等），再加之菜本身很咸根本无法入口，整锅煲基本没动；第二张 “鱼头诱惑 ”：这道菜是翔哥点的 还不错 首先鱼头很新鲜 其次鱼头蒸的火候刚好 既入味还不老，建议除了小米辣再加上点泡椒，这样无论是颜色和口味上都会更棒的！这道菜基本消灭； 第三张：“小锅土豆”：厚片的土豆挂满酱汁，炉子在下面慢慢加热，后来加一片放到嘴里，几乎是入口即化、口感绵软，也是一道不错的下饭菜；第四张：“农家小菜”其实就是少了橄榄菜和肉末的豆角粒，味道还可以，如果把豆角再煸的干一点（表皮起皱）口感会更好；第五张“菜心金钩豆腐” 和没上图的“老乡浓汤”一起说了，两道分不清是汤、羹还是菜的东东，都是推荐菜 分不清也无所谓，重点是上菜的时候都不是热的 都是温的 “菜心”里面有蛋黄、“浓汤”里面有猪肚，这两种食材变冷后都会有腥味且口感不好，加之一碗有淀粉类的羹 温温的很难喝，建议出品后马上传菜到客人面前，口味上冷了就都不美味了；第六张：“麻酱油麦菜”很多地方也叫“麻酱凤尾” 麻酱用的像是麻酱和花生酱混合的甜口的酱料，重点是没有稀释！整个一坨粘在油麦菜上 根本拌不开 相比甜口的麻酱我更喜欢热干面那种咸口的、稀点儿的；第七张“面包诱惑”：这道是敬菜，口味还不错，冰淇淋也很好吃 就是卖相太一般了 既然要推广 至少要给点儿装饰，不用太复杂 拉个巧克力线条、给个蛋卷、水果粒稍稍点缀一下就会好看很多 面包本身口感和冰淇淋都很好吃 比很多外面装饰的那种美美的好吃多了 就差了一点装饰；第八张“绿茶烤鸡”很多人点这道菜，相比前几道的重口，烤鸡显得淡了一些。鸡皮的保护基本没有 所以整个鸡肉又干有柴、也挂不住调味料、下次有机会点个整只的或许会好一点；最后还有未上图的绿茶饼和糖醋里脊，绿茶饼还不错 可以一试 只要火候控制的好不炸过基本没问题，里面糯糯的馅儿很好吃；“糖醋里脊” 这是我吃过最难吃的版本，没有之一！上次有一小哥吐了一通槽 我还想就一个糖醋里脊也不是啥难菜 不至于吧 这次就抱着猎奇的心里点了一个 菜刚上来我就后悔了---老抽色（shai）的、外面一圈淀粉（粉面子）基本没吃着肉，糊哒哒粘成一坨 看起来和那个茄子煲没什么太大区别。建议找一个做糖醋里脊的店吃一次 看一看 就上个浆 过个油 浇个汁儿的事情 没那么难  肉类的菜品价格可以适当调高一些 我宁可多花点儿钱吃肉也不想吃这一坨坨粉面子。 总体而言环境还不错 价格很平民 服务中规中矩 但是菜品质量很是有待提高。看墙上的照片（不知道老板是不是做青旅起家的）菜品不会因为价格低而有销路 只会因为质量好才畅销（相比低价 现在的人们更喜欢质量好而有保障的食品 价格好一点反而是保证） 希望越做越好。地址在凯德1818  5楼手扶梯旁。'"
   ]
  },
  {
   "cell_type": "code",
   "execution_count": null,
   "metadata": {
    "ExecuteTime": {
     "end_time": "2023-03-17T22:47:09.980523Z",
     "start_time": "2023-03-17T22:46:19.452756Z"
    },
    "id": "A5qSS5Bxx38n",
    "scrolled": true
   },
   "outputs": [],
   "source": [
    "predictor_bert.explain(test1)"
   ]
  },
  {
   "cell_type": "code",
   "execution_count": null,
   "metadata": {
    "ExecuteTime": {
     "end_time": "2023-03-17T22:48:07.839479Z",
     "start_time": "2023-03-17T22:47:10.276601Z"
    },
    "id": "gCemPOHTx38n"
   },
   "outputs": [],
   "source": [
    "predictor_bert.explain(test2)"
   ]
  },
  {
   "cell_type": "code",
   "execution_count": null,
   "metadata": {
    "ExecuteTime": {
     "end_time": "2023-03-17T22:49:19.678844Z",
     "start_time": "2023-03-17T22:48:08.151735Z"
    },
    "id": "rWAXw5hm7kR1"
   },
   "outputs": [],
   "source": [
    "predictor_bert.explain(test3)"
   ]
  }
 ],
 "metadata": {
  "accelerator": "GPU",
  "colab": {
   "collapsed_sections": [
    "VqEPU0RF0Wpr",
    "Vu3p9CpR0hlb"
   ],
   "provenance": [],
   "toc_visible": true
  },
  "gpuClass": "standard",
  "kernelspec": {
   "display_name": "Python 3 (ipykernel)",
   "language": "python",
   "name": "python3"
  },
  "language_info": {
   "codemirror_mode": {
    "name": "ipython",
    "version": 3
   },
   "file_extension": ".py",
   "mimetype": "text/x-python",
   "name": "python",
   "nbconvert_exporter": "python",
   "pygments_lexer": "ipython3",
   "version": "3.9.13"
  },
  "nbTranslate": {
   "displayLangs": [
    "*"
   ],
   "hotkey": "alt-t",
   "langInMainMenu": true,
   "sourceLang": "en",
   "targetLang": "zh-cn",
   "useGoogleTranslate": true
  },
  "toc": {
   "base_numbering": 1,
   "nav_menu": {},
   "number_sections": false,
   "sideBar": true,
   "skip_h1_title": false,
   "title_cell": "Table of Contents",
   "title_sidebar": "Contents",
   "toc_cell": false,
   "toc_position": {
    "height": "528px",
    "left": "276px",
    "top": "215.143px",
    "width": "279.429px"
   },
   "toc_section_display": true,
   "toc_window_display": true
  },
  "varInspector": {
   "cols": {
    "lenName": 16,
    "lenType": 16,
    "lenVar": 40
   },
   "kernels_config": {
    "python": {
     "delete_cmd_postfix": "",
     "delete_cmd_prefix": "del ",
     "library": "var_list.py",
     "varRefreshCmd": "print(var_dic_list())"
    },
    "r": {
     "delete_cmd_postfix": ") ",
     "delete_cmd_prefix": "rm(",
     "library": "var_list.r",
     "varRefreshCmd": "cat(var_dic_list()) "
    }
   },
   "types_to_exclude": [
    "module",
    "function",
    "builtin_function_or_method",
    "instance",
    "_Feature"
   ],
   "window_display": false
  }
 },
 "nbformat": 4,
 "nbformat_minor": 1
}
